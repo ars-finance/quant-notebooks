{
 "cells": [
  {
   "cell_type": "code",
   "execution_count": 2900,
   "id": "initial_id",
   "metadata": {
    "collapsed": true,
    "ExecuteTime": {
     "end_time": "2024-01-02T18:23:24.366618Z",
     "start_time": "2024-01-02T18:23:24.348196Z"
    }
   },
   "outputs": [],
   "source": [
    "import yfinance as yf\n",
    "import pandas as pd\n",
    "import numpy as np\n",
    "import talib as ta\n",
    "import json\n",
    "import plotly.express as px\n",
    "from typing import Callable, Any"
   ]
  },
  {
   "cell_type": "code",
   "execution_count": 2901,
   "outputs": [],
   "source": [
    "ticker = \"PETR4.SA\" \n",
    "start_train, end_train = (\"2012-01-01\", \"2017-12-31\")\n",
    "start_test, end_test = (\"2018-01-01\", \"2023-12-31\")"
   ],
   "metadata": {
    "collapsed": false,
    "ExecuteTime": {
     "end_time": "2024-01-02T18:23:24.369515Z",
     "start_time": "2024-01-02T18:23:24.351121Z"
    }
   },
   "id": "4ebd829a796fe7d1"
  },
  {
   "cell_type": "code",
   "execution_count": 2902,
   "outputs": [
    {
     "name": "stdout",
     "output_type": "stream",
     "text": [
      "[*********************100%%**********************]  1 of 1 completed\n"
     ]
    }
   ],
   "source": [
    "df = yf.download(ticker, start_train, end_test)\n",
    "df[\"Returns\"] = df[\"Adj Close\"].pct_change(1)\n",
    "df[\"Adj Low\"] = df[\"Low\"] - (df[\"Close\"]-df[\"Adj Close\"])\n",
    "df[\"Adj High\"] = df[\"High\"] - (df[\"Close\"]-df[\"Adj Close\"])\n",
    "df[\"Adj Open\"] = df[\"Open\"] - (df[\"Close\"]-df[\"Adj Close\"])"
   ],
   "metadata": {
    "collapsed": false,
    "ExecuteTime": {
     "end_time": "2024-01-02T18:23:24.402489Z",
     "start_time": "2024-01-02T18:23:24.355915Z"
    }
   },
   "id": "27e863a3f8dc1fb4"
  },
  {
   "cell_type": "code",
   "execution_count": 2903,
   "outputs": [],
   "source": [
    "df.dropna(axis = 0, inplace = True) "
   ],
   "metadata": {
    "collapsed": false,
    "ExecuteTime": {
     "end_time": "2024-01-02T18:23:24.402551Z",
     "start_time": "2024-01-02T18:23:24.392424Z"
    }
   },
   "id": "8bb952b530befc80"
  },
  {
   "cell_type": "code",
   "execution_count": 2904,
   "outputs": [
    {
     "data": {
      "text/plain": "              Open         High          Low        Close    Adj Close  \\\ncount  2976.000000  2976.000000  2976.000000  2976.000000  2976.000000   \nmean     20.777134    21.097218    20.440948    20.760880     9.167708   \nstd       7.334761     7.412367     7.262621     7.346574     6.799977   \nmin       4.200000     4.270000     4.120000     4.200000     1.434108   \n25%      15.472500    15.680000    15.140000    15.417500     5.188794   \n50%      20.350000    20.675000    20.010000    20.340000     6.806663   \n75%      26.690001    27.020000    26.260000    26.700001    10.271133   \nmax      38.689999    38.860001    37.919998    38.520000    37.360001   \n\n             Volume      Returns      Adj Low     Adj High     Adj Open  \ncount  2.976000e+03  2976.000000  2976.000000  2976.000000  2976.000000  \nmean   5.554666e+07     0.001031     8.847775     9.504045     9.183961  \nstd    3.598575e+07     0.029927     6.728131     6.854326     6.788709  \nmin    0.000000e+00    -0.296978     1.150445     1.484351     1.210445  \n25%    3.319585e+07    -0.014302     4.938126     5.444204     5.186740  \n50%    4.876155e+07     0.000809     6.517498     7.148605     6.848084  \n75%    6.890132e+07     0.016009     9.921966    10.703922    10.331441  \nmax    6.989506e+08     0.222222    37.130001    37.459522    37.320000  ",
      "text/html": "<div>\n<style scoped>\n    .dataframe tbody tr th:only-of-type {\n        vertical-align: middle;\n    }\n\n    .dataframe tbody tr th {\n        vertical-align: top;\n    }\n\n    .dataframe thead th {\n        text-align: right;\n    }\n</style>\n<table border=\"1\" class=\"dataframe\">\n  <thead>\n    <tr style=\"text-align: right;\">\n      <th></th>\n      <th>Open</th>\n      <th>High</th>\n      <th>Low</th>\n      <th>Close</th>\n      <th>Adj Close</th>\n      <th>Volume</th>\n      <th>Returns</th>\n      <th>Adj Low</th>\n      <th>Adj High</th>\n      <th>Adj Open</th>\n    </tr>\n  </thead>\n  <tbody>\n    <tr>\n      <th>count</th>\n      <td>2976.000000</td>\n      <td>2976.000000</td>\n      <td>2976.000000</td>\n      <td>2976.000000</td>\n      <td>2976.000000</td>\n      <td>2.976000e+03</td>\n      <td>2976.000000</td>\n      <td>2976.000000</td>\n      <td>2976.000000</td>\n      <td>2976.000000</td>\n    </tr>\n    <tr>\n      <th>mean</th>\n      <td>20.777134</td>\n      <td>21.097218</td>\n      <td>20.440948</td>\n      <td>20.760880</td>\n      <td>9.167708</td>\n      <td>5.554666e+07</td>\n      <td>0.001031</td>\n      <td>8.847775</td>\n      <td>9.504045</td>\n      <td>9.183961</td>\n    </tr>\n    <tr>\n      <th>std</th>\n      <td>7.334761</td>\n      <td>7.412367</td>\n      <td>7.262621</td>\n      <td>7.346574</td>\n      <td>6.799977</td>\n      <td>3.598575e+07</td>\n      <td>0.029927</td>\n      <td>6.728131</td>\n      <td>6.854326</td>\n      <td>6.788709</td>\n    </tr>\n    <tr>\n      <th>min</th>\n      <td>4.200000</td>\n      <td>4.270000</td>\n      <td>4.120000</td>\n      <td>4.200000</td>\n      <td>1.434108</td>\n      <td>0.000000e+00</td>\n      <td>-0.296978</td>\n      <td>1.150445</td>\n      <td>1.484351</td>\n      <td>1.210445</td>\n    </tr>\n    <tr>\n      <th>25%</th>\n      <td>15.472500</td>\n      <td>15.680000</td>\n      <td>15.140000</td>\n      <td>15.417500</td>\n      <td>5.188794</td>\n      <td>3.319585e+07</td>\n      <td>-0.014302</td>\n      <td>4.938126</td>\n      <td>5.444204</td>\n      <td>5.186740</td>\n    </tr>\n    <tr>\n      <th>50%</th>\n      <td>20.350000</td>\n      <td>20.675000</td>\n      <td>20.010000</td>\n      <td>20.340000</td>\n      <td>6.806663</td>\n      <td>4.876155e+07</td>\n      <td>0.000809</td>\n      <td>6.517498</td>\n      <td>7.148605</td>\n      <td>6.848084</td>\n    </tr>\n    <tr>\n      <th>75%</th>\n      <td>26.690001</td>\n      <td>27.020000</td>\n      <td>26.260000</td>\n      <td>26.700001</td>\n      <td>10.271133</td>\n      <td>6.890132e+07</td>\n      <td>0.016009</td>\n      <td>9.921966</td>\n      <td>10.703922</td>\n      <td>10.331441</td>\n    </tr>\n    <tr>\n      <th>max</th>\n      <td>38.689999</td>\n      <td>38.860001</td>\n      <td>37.919998</td>\n      <td>38.520000</td>\n      <td>37.360001</td>\n      <td>6.989506e+08</td>\n      <td>0.222222</td>\n      <td>37.130001</td>\n      <td>37.459522</td>\n      <td>37.320000</td>\n    </tr>\n  </tbody>\n</table>\n</div>"
     },
     "execution_count": 2904,
     "metadata": {},
     "output_type": "execute_result"
    }
   ],
   "source": [
    "df.describe()"
   ],
   "metadata": {
    "collapsed": false,
    "ExecuteTime": {
     "end_time": "2024-01-02T18:23:24.433679Z",
     "start_time": "2024-01-02T18:23:24.398394Z"
    }
   },
   "id": "bc569eeeed00a4cb"
  },
  {
   "cell_type": "code",
   "execution_count": 2905,
   "outputs": [],
   "source": [
    "df[\"Target\"] = df[\"Returns\"].shift(-1)\n",
    "df[\"Target_cat\"] = np.where(df[\"Target\"] > 0, 1, 0)"
   ],
   "metadata": {
    "collapsed": false,
    "ExecuteTime": {
     "end_time": "2024-01-02T18:23:24.433800Z",
     "start_time": "2024-01-02T18:23:24.417481Z"
    }
   },
   "id": "15acb71275bf173f"
  },
  {
   "cell_type": "code",
   "execution_count": 2906,
   "outputs": [],
   "source": [
    "df[\"Vol\"] = df[\"Returns\"].rolling(20).std()"
   ],
   "metadata": {
    "collapsed": false,
    "ExecuteTime": {
     "end_time": "2024-01-02T18:23:24.449892Z",
     "start_time": "2024-01-02T18:23:24.421593Z"
    }
   },
   "id": "e067bcf73eeb768e"
  },
  {
   "cell_type": "code",
   "execution_count": 2907,
   "outputs": [
    {
     "data": {
      "text/plain": "                 Open       High        Low      Close  Adj Close    Volume  \\\nDate                                                                          \n2023-12-21  36.669998  36.680000  36.070000  36.389999  36.389999  30511900   \n2023-12-22  36.500000  36.799999  36.369999  36.740002  36.740002  31234700   \n2023-12-26  36.860001  37.369999  36.830002  37.330002  37.330002  23466800   \n2023-12-27  37.320000  37.430000  37.130001  37.360001  37.360001  19588500   \n2023-12-28  37.230000  37.360001  37.040001  37.240002  37.240002  21421900   \n\n             Returns    Adj Low   Adj High   Adj Open    Target  Target_cat  \\\nDate                                                                          \n2023-12-21  0.000275  36.070000  36.680000  36.669998  0.009618           1   \n2023-12-22  0.009618  36.369999  36.799999  36.500000  0.016059           1   \n2023-12-26  0.016059  36.830002  37.369999  36.860001  0.000804           1   \n2023-12-27  0.000804  37.130001  37.430000  37.320000 -0.003212           0   \n2023-12-28 -0.003212  37.040001  37.360001  37.230000       NaN           0   \n\n                 Vol  \nDate                  \n2023-12-21  0.015541  \n2023-12-22  0.015637  \n2023-12-26  0.015819  \n2023-12-27  0.015575  \n2023-12-28  0.015343  ",
      "text/html": "<div>\n<style scoped>\n    .dataframe tbody tr th:only-of-type {\n        vertical-align: middle;\n    }\n\n    .dataframe tbody tr th {\n        vertical-align: top;\n    }\n\n    .dataframe thead th {\n        text-align: right;\n    }\n</style>\n<table border=\"1\" class=\"dataframe\">\n  <thead>\n    <tr style=\"text-align: right;\">\n      <th></th>\n      <th>Open</th>\n      <th>High</th>\n      <th>Low</th>\n      <th>Close</th>\n      <th>Adj Close</th>\n      <th>Volume</th>\n      <th>Returns</th>\n      <th>Adj Low</th>\n      <th>Adj High</th>\n      <th>Adj Open</th>\n      <th>Target</th>\n      <th>Target_cat</th>\n      <th>Vol</th>\n    </tr>\n    <tr>\n      <th>Date</th>\n      <th></th>\n      <th></th>\n      <th></th>\n      <th></th>\n      <th></th>\n      <th></th>\n      <th></th>\n      <th></th>\n      <th></th>\n      <th></th>\n      <th></th>\n      <th></th>\n      <th></th>\n    </tr>\n  </thead>\n  <tbody>\n    <tr>\n      <th>2023-12-21</th>\n      <td>36.669998</td>\n      <td>36.680000</td>\n      <td>36.070000</td>\n      <td>36.389999</td>\n      <td>36.389999</td>\n      <td>30511900</td>\n      <td>0.000275</td>\n      <td>36.070000</td>\n      <td>36.680000</td>\n      <td>36.669998</td>\n      <td>0.009618</td>\n      <td>1</td>\n      <td>0.015541</td>\n    </tr>\n    <tr>\n      <th>2023-12-22</th>\n      <td>36.500000</td>\n      <td>36.799999</td>\n      <td>36.369999</td>\n      <td>36.740002</td>\n      <td>36.740002</td>\n      <td>31234700</td>\n      <td>0.009618</td>\n      <td>36.369999</td>\n      <td>36.799999</td>\n      <td>36.500000</td>\n      <td>0.016059</td>\n      <td>1</td>\n      <td>0.015637</td>\n    </tr>\n    <tr>\n      <th>2023-12-26</th>\n      <td>36.860001</td>\n      <td>37.369999</td>\n      <td>36.830002</td>\n      <td>37.330002</td>\n      <td>37.330002</td>\n      <td>23466800</td>\n      <td>0.016059</td>\n      <td>36.830002</td>\n      <td>37.369999</td>\n      <td>36.860001</td>\n      <td>0.000804</td>\n      <td>1</td>\n      <td>0.015819</td>\n    </tr>\n    <tr>\n      <th>2023-12-27</th>\n      <td>37.320000</td>\n      <td>37.430000</td>\n      <td>37.130001</td>\n      <td>37.360001</td>\n      <td>37.360001</td>\n      <td>19588500</td>\n      <td>0.000804</td>\n      <td>37.130001</td>\n      <td>37.430000</td>\n      <td>37.320000</td>\n      <td>-0.003212</td>\n      <td>0</td>\n      <td>0.015575</td>\n    </tr>\n    <tr>\n      <th>2023-12-28</th>\n      <td>37.230000</td>\n      <td>37.360001</td>\n      <td>37.040001</td>\n      <td>37.240002</td>\n      <td>37.240002</td>\n      <td>21421900</td>\n      <td>-0.003212</td>\n      <td>37.040001</td>\n      <td>37.360001</td>\n      <td>37.230000</td>\n      <td>NaN</td>\n      <td>0</td>\n      <td>0.015343</td>\n    </tr>\n  </tbody>\n</table>\n</div>"
     },
     "execution_count": 2907,
     "metadata": {},
     "output_type": "execute_result"
    }
   ],
   "source": [
    "df.tail()"
   ],
   "metadata": {
    "collapsed": false,
    "ExecuteTime": {
     "end_time": "2024-01-02T18:23:24.450228Z",
     "start_time": "2024-01-02T18:23:24.428215Z"
    }
   },
   "id": "175b8bc60c72f70f"
  },
  {
   "cell_type": "code",
   "execution_count": 2908,
   "outputs": [
    {
     "name": "stdout",
     "output_type": "stream",
     "text": [
      "{\n",
      "    \"Cycle Indicators\": [\n",
      "        \"HT_DCPERIOD\",\n",
      "        \"HT_DCPHASE\",\n",
      "        \"HT_PHASOR\",\n",
      "        \"HT_SINE\",\n",
      "        \"HT_TRENDMODE\"\n",
      "    ],\n",
      "    \"Math Operators\": [\n",
      "        \"ADD\",\n",
      "        \"DIV\",\n",
      "        \"MAX\",\n",
      "        \"MAXINDEX\",\n",
      "        \"MIN\",\n",
      "        \"MININDEX\",\n",
      "        \"MINMAX\",\n",
      "        \"MINMAXINDEX\",\n",
      "        \"MULT\",\n",
      "        \"SUB\",\n",
      "        \"SUM\"\n",
      "    ],\n",
      "    \"Math Transform\": [\n",
      "        \"ACOS\",\n",
      "        \"ASIN\",\n",
      "        \"ATAN\",\n",
      "        \"CEIL\",\n",
      "        \"COS\",\n",
      "        \"COSH\",\n",
      "        \"EXP\",\n",
      "        \"FLOOR\",\n",
      "        \"LN\",\n",
      "        \"LOG10\",\n",
      "        \"SIN\",\n",
      "        \"SINH\",\n",
      "        \"SQRT\",\n",
      "        \"TAN\",\n",
      "        \"TANH\"\n",
      "    ],\n",
      "    \"Momentum Indicators\": [\n",
      "        \"ADX\",\n",
      "        \"ADXR\",\n",
      "        \"APO\",\n",
      "        \"AROON\",\n",
      "        \"AROONOSC\",\n",
      "        \"BOP\",\n",
      "        \"CCI\",\n",
      "        \"CMO\",\n",
      "        \"DX\",\n",
      "        \"MACD\",\n",
      "        \"MACDEXT\",\n",
      "        \"MACDFIX\",\n",
      "        \"MFI\",\n",
      "        \"MINUS_DI\",\n",
      "        \"MINUS_DM\",\n",
      "        \"MOM\",\n",
      "        \"PLUS_DI\",\n",
      "        \"PLUS_DM\",\n",
      "        \"PPO\",\n",
      "        \"ROC\",\n",
      "        \"ROCP\",\n",
      "        \"ROCR\",\n",
      "        \"ROCR100\",\n",
      "        \"RSI\",\n",
      "        \"STOCH\",\n",
      "        \"STOCHF\",\n",
      "        \"STOCHRSI\",\n",
      "        \"TRIX\",\n",
      "        \"ULTOSC\",\n",
      "        \"WILLR\"\n",
      "    ],\n",
      "    \"Overlap Studies\": [\n",
      "        \"BBANDS\",\n",
      "        \"DEMA\",\n",
      "        \"EMA\",\n",
      "        \"HT_TRENDLINE\",\n",
      "        \"KAMA\",\n",
      "        \"MA\",\n",
      "        \"MAMA\",\n",
      "        \"MAVP\",\n",
      "        \"MIDPOINT\",\n",
      "        \"MIDPRICE\",\n",
      "        \"SAR\",\n",
      "        \"SAREXT\",\n",
      "        \"SMA\",\n",
      "        \"T3\",\n",
      "        \"TEMA\",\n",
      "        \"TRIMA\",\n",
      "        \"WMA\"\n",
      "    ],\n",
      "    \"Pattern Recognition\": [\n",
      "        \"CDL2CROWS\",\n",
      "        \"CDL3BLACKCROWS\",\n",
      "        \"CDL3INSIDE\",\n",
      "        \"CDL3LINESTRIKE\",\n",
      "        \"CDL3OUTSIDE\",\n",
      "        \"CDL3STARSINSOUTH\",\n",
      "        \"CDL3WHITESOLDIERS\",\n",
      "        \"CDLABANDONEDBABY\",\n",
      "        \"CDLADVANCEBLOCK\",\n",
      "        \"CDLBELTHOLD\",\n",
      "        \"CDLBREAKAWAY\",\n",
      "        \"CDLCLOSINGMARUBOZU\",\n",
      "        \"CDLCONCEALBABYSWALL\",\n",
      "        \"CDLCOUNTERATTACK\",\n",
      "        \"CDLDARKCLOUDCOVER\",\n",
      "        \"CDLDOJI\",\n",
      "        \"CDLDOJISTAR\",\n",
      "        \"CDLDRAGONFLYDOJI\",\n",
      "        \"CDLENGULFING\",\n",
      "        \"CDLEVENINGDOJISTAR\",\n",
      "        \"CDLEVENINGSTAR\",\n",
      "        \"CDLGAPSIDESIDEWHITE\",\n",
      "        \"CDLGRAVESTONEDOJI\",\n",
      "        \"CDLHAMMER\",\n",
      "        \"CDLHANGINGMAN\",\n",
      "        \"CDLHARAMI\",\n",
      "        \"CDLHARAMICROSS\",\n",
      "        \"CDLHIGHWAVE\",\n",
      "        \"CDLHIKKAKE\",\n",
      "        \"CDLHIKKAKEMOD\",\n",
      "        \"CDLHOMINGPIGEON\",\n",
      "        \"CDLIDENTICAL3CROWS\",\n",
      "        \"CDLINNECK\",\n",
      "        \"CDLINVERTEDHAMMER\",\n",
      "        \"CDLKICKING\",\n",
      "        \"CDLKICKINGBYLENGTH\",\n",
      "        \"CDLLADDERBOTTOM\",\n",
      "        \"CDLLONGLEGGEDDOJI\",\n",
      "        \"CDLLONGLINE\",\n",
      "        \"CDLMARUBOZU\",\n",
      "        \"CDLMATCHINGLOW\",\n",
      "        \"CDLMATHOLD\",\n",
      "        \"CDLMORNINGDOJISTAR\",\n",
      "        \"CDLMORNINGSTAR\",\n",
      "        \"CDLONNECK\",\n",
      "        \"CDLPIERCING\",\n",
      "        \"CDLRICKSHAWMAN\",\n",
      "        \"CDLRISEFALL3METHODS\",\n",
      "        \"CDLSEPARATINGLINES\",\n",
      "        \"CDLSHOOTINGSTAR\",\n",
      "        \"CDLSHORTLINE\",\n",
      "        \"CDLSPINNINGTOP\",\n",
      "        \"CDLSTALLEDPATTERN\",\n",
      "        \"CDLSTICKSANDWICH\",\n",
      "        \"CDLTAKURI\",\n",
      "        \"CDLTASUKIGAP\",\n",
      "        \"CDLTHRUSTING\",\n",
      "        \"CDLTRISTAR\",\n",
      "        \"CDLUNIQUE3RIVER\",\n",
      "        \"CDLUPSIDEGAP2CROWS\",\n",
      "        \"CDLXSIDEGAP3METHODS\"\n",
      "    ],\n",
      "    \"Price Transform\": [\n",
      "        \"AVGPRICE\",\n",
      "        \"MEDPRICE\",\n",
      "        \"TYPPRICE\",\n",
      "        \"WCLPRICE\"\n",
      "    ],\n",
      "    \"Statistic Functions\": [\n",
      "        \"BETA\",\n",
      "        \"CORREL\",\n",
      "        \"LINEARREG\",\n",
      "        \"LINEARREG_ANGLE\",\n",
      "        \"LINEARREG_INTERCEPT\",\n",
      "        \"LINEARREG_SLOPE\",\n",
      "        \"STDDEV\",\n",
      "        \"TSF\",\n",
      "        \"VAR\"\n",
      "    ],\n",
      "    \"Volatility Indicators\": [\n",
      "        \"ATR\",\n",
      "        \"NATR\",\n",
      "        \"TRANGE\"\n",
      "    ],\n",
      "    \"Volume Indicators\": [\n",
      "        \"AD\",\n",
      "        \"ADOSC\",\n",
      "        \"OBV\"\n",
      "    ]\n",
      "}\n"
     ]
    }
   ],
   "source": [
    "print(json.dumps(ta.get_function_groups(), sort_keys = True, indent = 4))"
   ],
   "metadata": {
    "collapsed": false,
    "ExecuteTime": {
     "end_time": "2024-01-02T18:23:24.456012Z",
     "start_time": "2024-01-02T18:23:24.430952Z"
    }
   },
   "id": "612359d5aad3132d"
  },
  {
   "cell_type": "code",
   "execution_count": 2909,
   "outputs": [],
   "source": [
    "def apply_pattern(df: pd.DataFrame, pattern: Callable[[Any, Any, Any, Any], Any]) -> None:\n",
    "    name = pattern.__name__\n",
    "    df[name] = pattern(df[\"Adj Open\"], df[\"Adj High\"], df[\"Adj Low\"], df[\"Adj Close\"])\n",
    "    df[name] = np.where(df[name] == 100, 1, np.where(df[name] == -100, -1, 0))"
   ],
   "metadata": {
    "collapsed": false,
    "ExecuteTime": {
     "end_time": "2024-01-02T18:23:24.457158Z",
     "start_time": "2024-01-02T18:23:24.434665Z"
    }
   },
   "id": "ee67fae1d94777bf"
  },
  {
   "cell_type": "code",
   "execution_count": 2910,
   "outputs": [],
   "source": [
    "patterns = [ta.CDLDOJISTAR, ta.CDLHARAMI, ta.CDLCLOSINGMARUBOZU, ta.CDLENGULFING, ta.CDLHAMMER]\n",
    "pattern_names = [pattern.__name__ for pattern in patterns]"
   ],
   "metadata": {
    "collapsed": false,
    "ExecuteTime": {
     "end_time": "2024-01-02T18:23:24.457777Z",
     "start_time": "2024-01-02T18:23:24.437123Z"
    }
   },
   "id": "cf1475faf458334c"
  },
  {
   "cell_type": "code",
   "execution_count": 2911,
   "outputs": [],
   "source": [
    "for pattern in patterns:\n",
    "    apply_pattern(df, pattern)"
   ],
   "metadata": {
    "collapsed": false,
    "ExecuteTime": {
     "end_time": "2024-01-02T18:23:24.475475Z",
     "start_time": "2024-01-02T18:23:24.439696Z"
    }
   },
   "id": "e2ef02ae33237c39"
  },
  {
   "cell_type": "code",
   "execution_count": 2912,
   "outputs": [],
   "source": [
    "features = pattern_names + [\"Vol\"]"
   ],
   "metadata": {
    "collapsed": false,
    "ExecuteTime": {
     "end_time": "2024-01-02T18:23:24.487876Z",
     "start_time": "2024-01-02T18:23:24.444422Z"
    }
   },
   "id": "6f0b77d888feea09"
  },
  {
   "cell_type": "code",
   "execution_count": 2913,
   "outputs": [
    {
     "data": {
      "application/vnd.plotly.v1+json": {
       "data": [
        {
         "hovertemplate": "x=%{x}<br>y=%{y}<extra></extra>",
         "legendgroup": "",
         "marker": {
          "color": "#636efa",
          "symbol": "circle"
         },
         "mode": "markers",
         "name": "",
         "orientation": "v",
         "showlegend": false,
         "x": [
          0.7118637657083315,
          5.2206521195732325,
          -0.1667500487215534,
          -1.8023705286377534,
          -3.04692197226506,
          0.6748676368743434,
          1.2542723106727438,
          1.7650097695631528,
          0.7850192455787219,
          -0.5235956948944631,
          -1.0138319370799787,
          -1.7848954191025168,
          -5.691972165598081,
          1.067263853527467,
          2.7194972899211356,
          -2.1258108782731377,
          -1.612914851105729,
          3.418807353684916,
          -2.500006303596325,
          -4.7619326585114035,
          -5.066072943348288,
          16.28317904910592,
          12.033219064572286,
          -1.540258443218634,
          1.5738654960952392,
          0.3395674699484985,
          1.0596396298581334,
          0.6088994523174129,
          1.3071727724956794,
          -1.050185624702693,
          -13.708629008329986,
          0.5478162400357922,
          0.9538738568863669,
          1.2830614014296193,
          -1.4017089057376086,
          0.4577533325662575,
          0.48883516196776,
          8.461577351134286,
          -1.0801623719969733,
          -0.18632542286028952,
          -3.7383170214785655,
          0.1725542885950171,
          0.17737546446396912,
          0.19972843970479381,
          0.7650953634721791,
          1.1206863431840963,
          -0.9835968933348149,
          1.0374559845111708,
          0.37814383235268423,
          2.1673096746101406,
          -1.7676757997135528,
          -0.3518057102218086,
          2.125008500672987,
          -0.22876154499950063,
          -0.43961708522936016,
          0.08172879162675617
         ],
         "xaxis": "x",
         "y": [
          -0.5405352402482411,
          0.0,
          -4.064612549072299,
          -2.8419040136234197,
          1.194233126847677,
          -0.12187324928002452,
          2.30857749399791,
          0.43359937112958935,
          -0.7789046938274535,
          2.894768698316552,
          -2.467430362605494,
          -1.530361355485621,
          -1.7159632959597548,
          1.055949376011145,
          -5.294986709055715,
          2.258890605414954,
          -1.7486334627820344,
          3.305772315512945,
          -5.413126042890914,
          8.809529311565601,
          -1.8561643541564976,
          9.893434280150792,
          0.24689410474703077,
          0.6016666787101999,
          7.747310697281673,
          0.25380191895612025,
          3.0799263942286714,
          -1.4122293221654258,
          3.5842329428568576,
          0.1384115779564432,
          -1.394444280565743,
          6.2901966055255,
          0.5118208297174576,
          3.4548893245680334,
          0.4489292888326224,
          -1.2267662125375223,
          -7.574700876863638,
          -1.0960832272443266,
          -1.4367753188585852,
          3.1264654692890304,
          0.4854360078465181,
          -1.8518553647799973,
          -0.49576825270180036,
          2.990032278840693,
          -5.761510888150189,
          1.5771628585215414,
          6.843274640219099,
          -2.5302680473975436,
          -3.8698670076250496,
          1.7819358497245918,
          -0.34276354040430057,
          1.5887100516659869,
          0.32639095587072564,
          1.277428795716462,
          -3.974100053652607,
          -1.0342961203517964
         ],
         "yaxis": "y",
         "type": "scatter"
        },
        {
         "hovertemplate": "<b>OLS trendline</b><br>y = 0.203597 * x + 0.23478<br>R<sup>2</sup>=0.055431<br><br>x=%{x}<br>y=%{y} <b>(trend)</b><extra></extra>",
         "legendgroup": "",
         "marker": {
          "color": "#636efa",
          "symbol": "circle"
         },
         "mode": "lines",
         "name": "",
         "showlegend": false,
         "x": [
          -13.708629008329986,
          -5.691972165598081,
          -5.066072943348288,
          -4.7619326585114035,
          -3.7383170214785655,
          -3.04692197226506,
          -2.500006303596325,
          -2.1258108782731377,
          -1.8023705286377534,
          -1.7848954191025168,
          -1.7676757997135528,
          -1.612914851105729,
          -1.540258443218634,
          -1.4017089057376086,
          -1.0801623719969733,
          -1.050185624702693,
          -1.0138319370799787,
          -0.9835968933348149,
          -0.5235956948944631,
          -0.43961708522936016,
          -0.3518057102218086,
          -0.22876154499950063,
          -0.18632542286028952,
          -0.1667500487215534,
          0.08172879162675617,
          0.1725542885950171,
          0.17737546446396912,
          0.19972843970479381,
          0.3395674699484985,
          0.37814383235268423,
          0.4577533325662575,
          0.48883516196776,
          0.5478162400357922,
          0.6088994523174129,
          0.6748676368743434,
          0.7118637657083315,
          0.7650953634721791,
          0.7850192455787219,
          0.9538738568863669,
          1.0374559845111708,
          1.0596396298581334,
          1.067263853527467,
          1.1206863431840963,
          1.2542723106727438,
          1.2830614014296193,
          1.3071727724956794,
          1.5738654960952392,
          1.7650097695631528,
          2.125008500672987,
          2.1673096746101406,
          2.7194972899211356,
          3.418807353684916,
          5.2206521195732325,
          8.461577351134286,
          12.033219064572286,
          16.28317904910592
         ],
         "xaxis": "x",
         "y": [
          -2.556252147428535,
          -0.9240871744277069,
          -0.7966561508445091,
          -0.7347341889185335,
          -0.5263294110471153,
          -0.3855636524559182,
          -0.27421342066999116,
          -0.19802846249464248,
          -0.13217707083770389,
          -0.12861919599756713,
          -0.12511333811111489,
          -0.09360451785581353,
          -0.07881191211706451,
          -0.0506036818612048,
          0.014862135106763057,
          0.02096530228705467,
          0.028366793549712735,
          0.03452254903808001,
          0.12817728047559152,
          0.14527504926694973,
          0.1631531564792231,
          0.18820454392760236,
          0.19684439885770338,
          0.20082988066507276,
          0.2514193555178058,
          0.2699111280503158,
          0.2708927036043592,
          0.27544369586287226,
          0.3039144626051342,
          0.3117684831447538,
          0.3279767156181818,
          0.3343048738817993,
          0.34631322743627974,
          0.35874956860445933,
          0.3721804740652429,
          0.3797127642460565,
          0.3905505425159086,
          0.39460697939956785,
          0.42898522303810804,
          0.4460022693897641,
          0.4505187866386734,
          0.45207105350795973,
          0.46294769673949604,
          0.4901453604659998,
          0.49600672468049967,
          0.5009157205471155,
          0.5552134821393476,
          0.5941298277013842,
          0.6674243856161248,
          0.6760367655360203,
          0.7884603483232226,
          0.930837577850894,
          1.2976872474028702,
          1.9575289678158303,
          2.684703476484907,
          3.5499813547191317
         ],
         "yaxis": "y",
         "type": "scatter"
        }
       ],
       "layout": {
        "template": {
         "data": {
          "histogram2dcontour": [
           {
            "type": "histogram2dcontour",
            "colorbar": {
             "outlinewidth": 0,
             "ticks": ""
            },
            "colorscale": [
             [
              0.0,
              "#0d0887"
             ],
             [
              0.1111111111111111,
              "#46039f"
             ],
             [
              0.2222222222222222,
              "#7201a8"
             ],
             [
              0.3333333333333333,
              "#9c179e"
             ],
             [
              0.4444444444444444,
              "#bd3786"
             ],
             [
              0.5555555555555556,
              "#d8576b"
             ],
             [
              0.6666666666666666,
              "#ed7953"
             ],
             [
              0.7777777777777778,
              "#fb9f3a"
             ],
             [
              0.8888888888888888,
              "#fdca26"
             ],
             [
              1.0,
              "#f0f921"
             ]
            ]
           }
          ],
          "choropleth": [
           {
            "type": "choropleth",
            "colorbar": {
             "outlinewidth": 0,
             "ticks": ""
            }
           }
          ],
          "histogram2d": [
           {
            "type": "histogram2d",
            "colorbar": {
             "outlinewidth": 0,
             "ticks": ""
            },
            "colorscale": [
             [
              0.0,
              "#0d0887"
             ],
             [
              0.1111111111111111,
              "#46039f"
             ],
             [
              0.2222222222222222,
              "#7201a8"
             ],
             [
              0.3333333333333333,
              "#9c179e"
             ],
             [
              0.4444444444444444,
              "#bd3786"
             ],
             [
              0.5555555555555556,
              "#d8576b"
             ],
             [
              0.6666666666666666,
              "#ed7953"
             ],
             [
              0.7777777777777778,
              "#fb9f3a"
             ],
             [
              0.8888888888888888,
              "#fdca26"
             ],
             [
              1.0,
              "#f0f921"
             ]
            ]
           }
          ],
          "heatmap": [
           {
            "type": "heatmap",
            "colorbar": {
             "outlinewidth": 0,
             "ticks": ""
            },
            "colorscale": [
             [
              0.0,
              "#0d0887"
             ],
             [
              0.1111111111111111,
              "#46039f"
             ],
             [
              0.2222222222222222,
              "#7201a8"
             ],
             [
              0.3333333333333333,
              "#9c179e"
             ],
             [
              0.4444444444444444,
              "#bd3786"
             ],
             [
              0.5555555555555556,
              "#d8576b"
             ],
             [
              0.6666666666666666,
              "#ed7953"
             ],
             [
              0.7777777777777778,
              "#fb9f3a"
             ],
             [
              0.8888888888888888,
              "#fdca26"
             ],
             [
              1.0,
              "#f0f921"
             ]
            ]
           }
          ],
          "heatmapgl": [
           {
            "type": "heatmapgl",
            "colorbar": {
             "outlinewidth": 0,
             "ticks": ""
            },
            "colorscale": [
             [
              0.0,
              "#0d0887"
             ],
             [
              0.1111111111111111,
              "#46039f"
             ],
             [
              0.2222222222222222,
              "#7201a8"
             ],
             [
              0.3333333333333333,
              "#9c179e"
             ],
             [
              0.4444444444444444,
              "#bd3786"
             ],
             [
              0.5555555555555556,
              "#d8576b"
             ],
             [
              0.6666666666666666,
              "#ed7953"
             ],
             [
              0.7777777777777778,
              "#fb9f3a"
             ],
             [
              0.8888888888888888,
              "#fdca26"
             ],
             [
              1.0,
              "#f0f921"
             ]
            ]
           }
          ],
          "contourcarpet": [
           {
            "type": "contourcarpet",
            "colorbar": {
             "outlinewidth": 0,
             "ticks": ""
            }
           }
          ],
          "contour": [
           {
            "type": "contour",
            "colorbar": {
             "outlinewidth": 0,
             "ticks": ""
            },
            "colorscale": [
             [
              0.0,
              "#0d0887"
             ],
             [
              0.1111111111111111,
              "#46039f"
             ],
             [
              0.2222222222222222,
              "#7201a8"
             ],
             [
              0.3333333333333333,
              "#9c179e"
             ],
             [
              0.4444444444444444,
              "#bd3786"
             ],
             [
              0.5555555555555556,
              "#d8576b"
             ],
             [
              0.6666666666666666,
              "#ed7953"
             ],
             [
              0.7777777777777778,
              "#fb9f3a"
             ],
             [
              0.8888888888888888,
              "#fdca26"
             ],
             [
              1.0,
              "#f0f921"
             ]
            ]
           }
          ],
          "surface": [
           {
            "type": "surface",
            "colorbar": {
             "outlinewidth": 0,
             "ticks": ""
            },
            "colorscale": [
             [
              0.0,
              "#0d0887"
             ],
             [
              0.1111111111111111,
              "#46039f"
             ],
             [
              0.2222222222222222,
              "#7201a8"
             ],
             [
              0.3333333333333333,
              "#9c179e"
             ],
             [
              0.4444444444444444,
              "#bd3786"
             ],
             [
              0.5555555555555556,
              "#d8576b"
             ],
             [
              0.6666666666666666,
              "#ed7953"
             ],
             [
              0.7777777777777778,
              "#fb9f3a"
             ],
             [
              0.8888888888888888,
              "#fdca26"
             ],
             [
              1.0,
              "#f0f921"
             ]
            ]
           }
          ],
          "mesh3d": [
           {
            "type": "mesh3d",
            "colorbar": {
             "outlinewidth": 0,
             "ticks": ""
            }
           }
          ],
          "scatter": [
           {
            "fillpattern": {
             "fillmode": "overlay",
             "size": 10,
             "solidity": 0.2
            },
            "type": "scatter"
           }
          ],
          "parcoords": [
           {
            "type": "parcoords",
            "line": {
             "colorbar": {
              "outlinewidth": 0,
              "ticks": ""
             }
            }
           }
          ],
          "scatterpolargl": [
           {
            "type": "scatterpolargl",
            "marker": {
             "colorbar": {
              "outlinewidth": 0,
              "ticks": ""
             }
            }
           }
          ],
          "bar": [
           {
            "error_x": {
             "color": "#2a3f5f"
            },
            "error_y": {
             "color": "#2a3f5f"
            },
            "marker": {
             "line": {
              "color": "#E5ECF6",
              "width": 0.5
             },
             "pattern": {
              "fillmode": "overlay",
              "size": 10,
              "solidity": 0.2
             }
            },
            "type": "bar"
           }
          ],
          "scattergeo": [
           {
            "type": "scattergeo",
            "marker": {
             "colorbar": {
              "outlinewidth": 0,
              "ticks": ""
             }
            }
           }
          ],
          "scatterpolar": [
           {
            "type": "scatterpolar",
            "marker": {
             "colorbar": {
              "outlinewidth": 0,
              "ticks": ""
             }
            }
           }
          ],
          "histogram": [
           {
            "marker": {
             "pattern": {
              "fillmode": "overlay",
              "size": 10,
              "solidity": 0.2
             }
            },
            "type": "histogram"
           }
          ],
          "scattergl": [
           {
            "type": "scattergl",
            "marker": {
             "colorbar": {
              "outlinewidth": 0,
              "ticks": ""
             }
            }
           }
          ],
          "scatter3d": [
           {
            "type": "scatter3d",
            "line": {
             "colorbar": {
              "outlinewidth": 0,
              "ticks": ""
             }
            },
            "marker": {
             "colorbar": {
              "outlinewidth": 0,
              "ticks": ""
             }
            }
           }
          ],
          "scattermapbox": [
           {
            "type": "scattermapbox",
            "marker": {
             "colorbar": {
              "outlinewidth": 0,
              "ticks": ""
             }
            }
           }
          ],
          "scatterternary": [
           {
            "type": "scatterternary",
            "marker": {
             "colorbar": {
              "outlinewidth": 0,
              "ticks": ""
             }
            }
           }
          ],
          "scattercarpet": [
           {
            "type": "scattercarpet",
            "marker": {
             "colorbar": {
              "outlinewidth": 0,
              "ticks": ""
             }
            }
           }
          ],
          "carpet": [
           {
            "aaxis": {
             "endlinecolor": "#2a3f5f",
             "gridcolor": "white",
             "linecolor": "white",
             "minorgridcolor": "white",
             "startlinecolor": "#2a3f5f"
            },
            "baxis": {
             "endlinecolor": "#2a3f5f",
             "gridcolor": "white",
             "linecolor": "white",
             "minorgridcolor": "white",
             "startlinecolor": "#2a3f5f"
            },
            "type": "carpet"
           }
          ],
          "table": [
           {
            "cells": {
             "fill": {
              "color": "#EBF0F8"
             },
             "line": {
              "color": "white"
             }
            },
            "header": {
             "fill": {
              "color": "#C8D4E3"
             },
             "line": {
              "color": "white"
             }
            },
            "type": "table"
           }
          ],
          "barpolar": [
           {
            "marker": {
             "line": {
              "color": "#E5ECF6",
              "width": 0.5
             },
             "pattern": {
              "fillmode": "overlay",
              "size": 10,
              "solidity": 0.2
             }
            },
            "type": "barpolar"
           }
          ],
          "pie": [
           {
            "automargin": true,
            "type": "pie"
           }
          ]
         },
         "layout": {
          "autotypenumbers": "strict",
          "colorway": [
           "#636efa",
           "#EF553B",
           "#00cc96",
           "#ab63fa",
           "#FFA15A",
           "#19d3f3",
           "#FF6692",
           "#B6E880",
           "#FF97FF",
           "#FECB52"
          ],
          "font": {
           "color": "#2a3f5f"
          },
          "hovermode": "closest",
          "hoverlabel": {
           "align": "left"
          },
          "paper_bgcolor": "white",
          "plot_bgcolor": "#E5ECF6",
          "polar": {
           "bgcolor": "#E5ECF6",
           "angularaxis": {
            "gridcolor": "white",
            "linecolor": "white",
            "ticks": ""
           },
           "radialaxis": {
            "gridcolor": "white",
            "linecolor": "white",
            "ticks": ""
           }
          },
          "ternary": {
           "bgcolor": "#E5ECF6",
           "aaxis": {
            "gridcolor": "white",
            "linecolor": "white",
            "ticks": ""
           },
           "baxis": {
            "gridcolor": "white",
            "linecolor": "white",
            "ticks": ""
           },
           "caxis": {
            "gridcolor": "white",
            "linecolor": "white",
            "ticks": ""
           }
          },
          "coloraxis": {
           "colorbar": {
            "outlinewidth": 0,
            "ticks": ""
           }
          },
          "colorscale": {
           "sequential": [
            [
             0.0,
             "#0d0887"
            ],
            [
             0.1111111111111111,
             "#46039f"
            ],
            [
             0.2222222222222222,
             "#7201a8"
            ],
            [
             0.3333333333333333,
             "#9c179e"
            ],
            [
             0.4444444444444444,
             "#bd3786"
            ],
            [
             0.5555555555555556,
             "#d8576b"
            ],
            [
             0.6666666666666666,
             "#ed7953"
            ],
            [
             0.7777777777777778,
             "#fb9f3a"
            ],
            [
             0.8888888888888888,
             "#fdca26"
            ],
            [
             1.0,
             "#f0f921"
            ]
           ],
           "sequentialminus": [
            [
             0.0,
             "#0d0887"
            ],
            [
             0.1111111111111111,
             "#46039f"
            ],
            [
             0.2222222222222222,
             "#7201a8"
            ],
            [
             0.3333333333333333,
             "#9c179e"
            ],
            [
             0.4444444444444444,
             "#bd3786"
            ],
            [
             0.5555555555555556,
             "#d8576b"
            ],
            [
             0.6666666666666666,
             "#ed7953"
            ],
            [
             0.7777777777777778,
             "#fb9f3a"
            ],
            [
             0.8888888888888888,
             "#fdca26"
            ],
            [
             1.0,
             "#f0f921"
            ]
           ],
           "diverging": [
            [
             0,
             "#8e0152"
            ],
            [
             0.1,
             "#c51b7d"
            ],
            [
             0.2,
             "#de77ae"
            ],
            [
             0.3,
             "#f1b6da"
            ],
            [
             0.4,
             "#fde0ef"
            ],
            [
             0.5,
             "#f7f7f7"
            ],
            [
             0.6,
             "#e6f5d0"
            ],
            [
             0.7,
             "#b8e186"
            ],
            [
             0.8,
             "#7fbc41"
            ],
            [
             0.9,
             "#4d9221"
            ],
            [
             1,
             "#276419"
            ]
           ]
          },
          "xaxis": {
           "gridcolor": "white",
           "linecolor": "white",
           "ticks": "",
           "title": {
            "standoff": 15
           },
           "zerolinecolor": "white",
           "automargin": true,
           "zerolinewidth": 2
          },
          "yaxis": {
           "gridcolor": "white",
           "linecolor": "white",
           "ticks": "",
           "title": {
            "standoff": 15
           },
           "zerolinecolor": "white",
           "automargin": true,
           "zerolinewidth": 2
          },
          "scene": {
           "xaxis": {
            "backgroundcolor": "#E5ECF6",
            "gridcolor": "white",
            "linecolor": "white",
            "showbackground": true,
            "ticks": "",
            "zerolinecolor": "white",
            "gridwidth": 2
           },
           "yaxis": {
            "backgroundcolor": "#E5ECF6",
            "gridcolor": "white",
            "linecolor": "white",
            "showbackground": true,
            "ticks": "",
            "zerolinecolor": "white",
            "gridwidth": 2
           },
           "zaxis": {
            "backgroundcolor": "#E5ECF6",
            "gridcolor": "white",
            "linecolor": "white",
            "showbackground": true,
            "ticks": "",
            "zerolinecolor": "white",
            "gridwidth": 2
           }
          },
          "shapedefaults": {
           "line": {
            "color": "#2a3f5f"
           }
          },
          "annotationdefaults": {
           "arrowcolor": "#2a3f5f",
           "arrowhead": 0,
           "arrowwidth": 1
          },
          "geo": {
           "bgcolor": "white",
           "landcolor": "#E5ECF6",
           "subunitcolor": "white",
           "showland": true,
           "showlakes": true,
           "lakecolor": "white"
          },
          "title": {
           "x": 0.05
          },
          "mapbox": {
           "style": "light"
          }
         }
        },
        "xaxis": {
         "anchor": "y",
         "domain": [
          0.0,
          1.0
         ],
         "title": {
          "text": "Doji Returns"
         }
        },
        "yaxis": {
         "anchor": "x",
         "domain": [
          0.0,
          1.0
         ],
         "title": {
          "text": "Target"
         }
        },
        "legend": {
         "tracegroupgap": 0
        },
        "margin": {
         "t": 60
        },
        "title": {
         "font": {
          "color": "black"
         },
         "text": "Doji Star x Target Returns"
        },
        "font": {
         "color": "Black",
         "size": 15
        },
        "height": 600,
        "width": 700,
        "showlegend": true
       },
       "config": {
        "plotlyServerURL": "https://plot.ly"
       }
      },
      "text/html": "<div>                            <div id=\"c01d0bd2-d556-427d-a3d8-73f25917ca40\" class=\"plotly-graph-div\" style=\"height:600px; width:700px;\"></div>            <script type=\"text/javascript\">                require([\"plotly\"], function(Plotly) {                    window.PLOTLYENV=window.PLOTLYENV || {};                                    if (document.getElementById(\"c01d0bd2-d556-427d-a3d8-73f25917ca40\")) {                    Plotly.newPlot(                        \"c01d0bd2-d556-427d-a3d8-73f25917ca40\",                        [{\"hovertemplate\":\"x=%{x}\\u003cbr\\u003ey=%{y}\\u003cextra\\u003e\\u003c\\u002fextra\\u003e\",\"legendgroup\":\"\",\"marker\":{\"color\":\"#636efa\",\"symbol\":\"circle\"},\"mode\":\"markers\",\"name\":\"\",\"orientation\":\"v\",\"showlegend\":false,\"x\":[0.7118637657083315,5.2206521195732325,-0.1667500487215534,-1.8023705286377534,-3.04692197226506,0.6748676368743434,1.2542723106727438,1.7650097695631528,0.7850192455787219,-0.5235956948944631,-1.0138319370799787,-1.7848954191025168,-5.691972165598081,1.067263853527467,2.7194972899211356,-2.1258108782731377,-1.612914851105729,3.418807353684916,-2.500006303596325,-4.7619326585114035,-5.066072943348288,16.28317904910592,12.033219064572286,-1.540258443218634,1.5738654960952392,0.3395674699484985,1.0596396298581334,0.6088994523174129,1.3071727724956794,-1.050185624702693,-13.708629008329986,0.5478162400357922,0.9538738568863669,1.2830614014296193,-1.4017089057376086,0.4577533325662575,0.48883516196776,8.461577351134286,-1.0801623719969733,-0.18632542286028952,-3.7383170214785655,0.1725542885950171,0.17737546446396912,0.19972843970479381,0.7650953634721791,1.1206863431840963,-0.9835968933348149,1.0374559845111708,0.37814383235268423,2.1673096746101406,-1.7676757997135528,-0.3518057102218086,2.125008500672987,-0.22876154499950063,-0.43961708522936016,0.08172879162675617],\"xaxis\":\"x\",\"y\":[-0.5405352402482411,0.0,-4.064612549072299,-2.8419040136234197,1.194233126847677,-0.12187324928002452,2.30857749399791,0.43359937112958935,-0.7789046938274535,2.894768698316552,-2.467430362605494,-1.530361355485621,-1.7159632959597548,1.055949376011145,-5.294986709055715,2.258890605414954,-1.7486334627820344,3.305772315512945,-5.413126042890914,8.809529311565601,-1.8561643541564976,9.893434280150792,0.24689410474703077,0.6016666787101999,7.747310697281673,0.25380191895612025,3.0799263942286714,-1.4122293221654258,3.5842329428568576,0.1384115779564432,-1.394444280565743,6.2901966055255,0.5118208297174576,3.4548893245680334,0.4489292888326224,-1.2267662125375223,-7.574700876863638,-1.0960832272443266,-1.4367753188585852,3.1264654692890304,0.4854360078465181,-1.8518553647799973,-0.49576825270180036,2.990032278840693,-5.761510888150189,1.5771628585215414,6.843274640219099,-2.5302680473975436,-3.8698670076250496,1.7819358497245918,-0.34276354040430057,1.5887100516659869,0.32639095587072564,1.277428795716462,-3.974100053652607,-1.0342961203517964],\"yaxis\":\"y\",\"type\":\"scatter\"},{\"hovertemplate\":\"\\u003cb\\u003eOLS trendline\\u003c\\u002fb\\u003e\\u003cbr\\u003ey = 0.203597 * x + 0.23478\\u003cbr\\u003eR\\u003csup\\u003e2\\u003c\\u002fsup\\u003e=0.055431\\u003cbr\\u003e\\u003cbr\\u003ex=%{x}\\u003cbr\\u003ey=%{y} \\u003cb\\u003e(trend)\\u003c\\u002fb\\u003e\\u003cextra\\u003e\\u003c\\u002fextra\\u003e\",\"legendgroup\":\"\",\"marker\":{\"color\":\"#636efa\",\"symbol\":\"circle\"},\"mode\":\"lines\",\"name\":\"\",\"showlegend\":false,\"x\":[-13.708629008329986,-5.691972165598081,-5.066072943348288,-4.7619326585114035,-3.7383170214785655,-3.04692197226506,-2.500006303596325,-2.1258108782731377,-1.8023705286377534,-1.7848954191025168,-1.7676757997135528,-1.612914851105729,-1.540258443218634,-1.4017089057376086,-1.0801623719969733,-1.050185624702693,-1.0138319370799787,-0.9835968933348149,-0.5235956948944631,-0.43961708522936016,-0.3518057102218086,-0.22876154499950063,-0.18632542286028952,-0.1667500487215534,0.08172879162675617,0.1725542885950171,0.17737546446396912,0.19972843970479381,0.3395674699484985,0.37814383235268423,0.4577533325662575,0.48883516196776,0.5478162400357922,0.6088994523174129,0.6748676368743434,0.7118637657083315,0.7650953634721791,0.7850192455787219,0.9538738568863669,1.0374559845111708,1.0596396298581334,1.067263853527467,1.1206863431840963,1.2542723106727438,1.2830614014296193,1.3071727724956794,1.5738654960952392,1.7650097695631528,2.125008500672987,2.1673096746101406,2.7194972899211356,3.418807353684916,5.2206521195732325,8.461577351134286,12.033219064572286,16.28317904910592],\"xaxis\":\"x\",\"y\":[-2.556252147428535,-0.9240871744277069,-0.7966561508445091,-0.7347341889185335,-0.5263294110471153,-0.3855636524559182,-0.27421342066999116,-0.19802846249464248,-0.13217707083770389,-0.12861919599756713,-0.12511333811111489,-0.09360451785581353,-0.07881191211706451,-0.0506036818612048,0.014862135106763057,0.02096530228705467,0.028366793549712735,0.03452254903808001,0.12817728047559152,0.14527504926694973,0.1631531564792231,0.18820454392760236,0.19684439885770338,0.20082988066507276,0.2514193555178058,0.2699111280503158,0.2708927036043592,0.27544369586287226,0.3039144626051342,0.3117684831447538,0.3279767156181818,0.3343048738817993,0.34631322743627974,0.35874956860445933,0.3721804740652429,0.3797127642460565,0.3905505425159086,0.39460697939956785,0.42898522303810804,0.4460022693897641,0.4505187866386734,0.45207105350795973,0.46294769673949604,0.4901453604659998,0.49600672468049967,0.5009157205471155,0.5552134821393476,0.5941298277013842,0.6674243856161248,0.6760367655360203,0.7884603483232226,0.930837577850894,1.2976872474028702,1.9575289678158303,2.684703476484907,3.5499813547191317],\"yaxis\":\"y\",\"type\":\"scatter\"}],                        {\"template\":{\"data\":{\"histogram2dcontour\":[{\"type\":\"histogram2dcontour\",\"colorbar\":{\"outlinewidth\":0,\"ticks\":\"\"},\"colorscale\":[[0.0,\"#0d0887\"],[0.1111111111111111,\"#46039f\"],[0.2222222222222222,\"#7201a8\"],[0.3333333333333333,\"#9c179e\"],[0.4444444444444444,\"#bd3786\"],[0.5555555555555556,\"#d8576b\"],[0.6666666666666666,\"#ed7953\"],[0.7777777777777778,\"#fb9f3a\"],[0.8888888888888888,\"#fdca26\"],[1.0,\"#f0f921\"]]}],\"choropleth\":[{\"type\":\"choropleth\",\"colorbar\":{\"outlinewidth\":0,\"ticks\":\"\"}}],\"histogram2d\":[{\"type\":\"histogram2d\",\"colorbar\":{\"outlinewidth\":0,\"ticks\":\"\"},\"colorscale\":[[0.0,\"#0d0887\"],[0.1111111111111111,\"#46039f\"],[0.2222222222222222,\"#7201a8\"],[0.3333333333333333,\"#9c179e\"],[0.4444444444444444,\"#bd3786\"],[0.5555555555555556,\"#d8576b\"],[0.6666666666666666,\"#ed7953\"],[0.7777777777777778,\"#fb9f3a\"],[0.8888888888888888,\"#fdca26\"],[1.0,\"#f0f921\"]]}],\"heatmap\":[{\"type\":\"heatmap\",\"colorbar\":{\"outlinewidth\":0,\"ticks\":\"\"},\"colorscale\":[[0.0,\"#0d0887\"],[0.1111111111111111,\"#46039f\"],[0.2222222222222222,\"#7201a8\"],[0.3333333333333333,\"#9c179e\"],[0.4444444444444444,\"#bd3786\"],[0.5555555555555556,\"#d8576b\"],[0.6666666666666666,\"#ed7953\"],[0.7777777777777778,\"#fb9f3a\"],[0.8888888888888888,\"#fdca26\"],[1.0,\"#f0f921\"]]}],\"heatmapgl\":[{\"type\":\"heatmapgl\",\"colorbar\":{\"outlinewidth\":0,\"ticks\":\"\"},\"colorscale\":[[0.0,\"#0d0887\"],[0.1111111111111111,\"#46039f\"],[0.2222222222222222,\"#7201a8\"],[0.3333333333333333,\"#9c179e\"],[0.4444444444444444,\"#bd3786\"],[0.5555555555555556,\"#d8576b\"],[0.6666666666666666,\"#ed7953\"],[0.7777777777777778,\"#fb9f3a\"],[0.8888888888888888,\"#fdca26\"],[1.0,\"#f0f921\"]]}],\"contourcarpet\":[{\"type\":\"contourcarpet\",\"colorbar\":{\"outlinewidth\":0,\"ticks\":\"\"}}],\"contour\":[{\"type\":\"contour\",\"colorbar\":{\"outlinewidth\":0,\"ticks\":\"\"},\"colorscale\":[[0.0,\"#0d0887\"],[0.1111111111111111,\"#46039f\"],[0.2222222222222222,\"#7201a8\"],[0.3333333333333333,\"#9c179e\"],[0.4444444444444444,\"#bd3786\"],[0.5555555555555556,\"#d8576b\"],[0.6666666666666666,\"#ed7953\"],[0.7777777777777778,\"#fb9f3a\"],[0.8888888888888888,\"#fdca26\"],[1.0,\"#f0f921\"]]}],\"surface\":[{\"type\":\"surface\",\"colorbar\":{\"outlinewidth\":0,\"ticks\":\"\"},\"colorscale\":[[0.0,\"#0d0887\"],[0.1111111111111111,\"#46039f\"],[0.2222222222222222,\"#7201a8\"],[0.3333333333333333,\"#9c179e\"],[0.4444444444444444,\"#bd3786\"],[0.5555555555555556,\"#d8576b\"],[0.6666666666666666,\"#ed7953\"],[0.7777777777777778,\"#fb9f3a\"],[0.8888888888888888,\"#fdca26\"],[1.0,\"#f0f921\"]]}],\"mesh3d\":[{\"type\":\"mesh3d\",\"colorbar\":{\"outlinewidth\":0,\"ticks\":\"\"}}],\"scatter\":[{\"fillpattern\":{\"fillmode\":\"overlay\",\"size\":10,\"solidity\":0.2},\"type\":\"scatter\"}],\"parcoords\":[{\"type\":\"parcoords\",\"line\":{\"colorbar\":{\"outlinewidth\":0,\"ticks\":\"\"}}}],\"scatterpolargl\":[{\"type\":\"scatterpolargl\",\"marker\":{\"colorbar\":{\"outlinewidth\":0,\"ticks\":\"\"}}}],\"bar\":[{\"error_x\":{\"color\":\"#2a3f5f\"},\"error_y\":{\"color\":\"#2a3f5f\"},\"marker\":{\"line\":{\"color\":\"#E5ECF6\",\"width\":0.5},\"pattern\":{\"fillmode\":\"overlay\",\"size\":10,\"solidity\":0.2}},\"type\":\"bar\"}],\"scattergeo\":[{\"type\":\"scattergeo\",\"marker\":{\"colorbar\":{\"outlinewidth\":0,\"ticks\":\"\"}}}],\"scatterpolar\":[{\"type\":\"scatterpolar\",\"marker\":{\"colorbar\":{\"outlinewidth\":0,\"ticks\":\"\"}}}],\"histogram\":[{\"marker\":{\"pattern\":{\"fillmode\":\"overlay\",\"size\":10,\"solidity\":0.2}},\"type\":\"histogram\"}],\"scattergl\":[{\"type\":\"scattergl\",\"marker\":{\"colorbar\":{\"outlinewidth\":0,\"ticks\":\"\"}}}],\"scatter3d\":[{\"type\":\"scatter3d\",\"line\":{\"colorbar\":{\"outlinewidth\":0,\"ticks\":\"\"}},\"marker\":{\"colorbar\":{\"outlinewidth\":0,\"ticks\":\"\"}}}],\"scattermapbox\":[{\"type\":\"scattermapbox\",\"marker\":{\"colorbar\":{\"outlinewidth\":0,\"ticks\":\"\"}}}],\"scatterternary\":[{\"type\":\"scatterternary\",\"marker\":{\"colorbar\":{\"outlinewidth\":0,\"ticks\":\"\"}}}],\"scattercarpet\":[{\"type\":\"scattercarpet\",\"marker\":{\"colorbar\":{\"outlinewidth\":0,\"ticks\":\"\"}}}],\"carpet\":[{\"aaxis\":{\"endlinecolor\":\"#2a3f5f\",\"gridcolor\":\"white\",\"linecolor\":\"white\",\"minorgridcolor\":\"white\",\"startlinecolor\":\"#2a3f5f\"},\"baxis\":{\"endlinecolor\":\"#2a3f5f\",\"gridcolor\":\"white\",\"linecolor\":\"white\",\"minorgridcolor\":\"white\",\"startlinecolor\":\"#2a3f5f\"},\"type\":\"carpet\"}],\"table\":[{\"cells\":{\"fill\":{\"color\":\"#EBF0F8\"},\"line\":{\"color\":\"white\"}},\"header\":{\"fill\":{\"color\":\"#C8D4E3\"},\"line\":{\"color\":\"white\"}},\"type\":\"table\"}],\"barpolar\":[{\"marker\":{\"line\":{\"color\":\"#E5ECF6\",\"width\":0.5},\"pattern\":{\"fillmode\":\"overlay\",\"size\":10,\"solidity\":0.2}},\"type\":\"barpolar\"}],\"pie\":[{\"automargin\":true,\"type\":\"pie\"}]},\"layout\":{\"autotypenumbers\":\"strict\",\"colorway\":[\"#636efa\",\"#EF553B\",\"#00cc96\",\"#ab63fa\",\"#FFA15A\",\"#19d3f3\",\"#FF6692\",\"#B6E880\",\"#FF97FF\",\"#FECB52\"],\"font\":{\"color\":\"#2a3f5f\"},\"hovermode\":\"closest\",\"hoverlabel\":{\"align\":\"left\"},\"paper_bgcolor\":\"white\",\"plot_bgcolor\":\"#E5ECF6\",\"polar\":{\"bgcolor\":\"#E5ECF6\",\"angularaxis\":{\"gridcolor\":\"white\",\"linecolor\":\"white\",\"ticks\":\"\"},\"radialaxis\":{\"gridcolor\":\"white\",\"linecolor\":\"white\",\"ticks\":\"\"}},\"ternary\":{\"bgcolor\":\"#E5ECF6\",\"aaxis\":{\"gridcolor\":\"white\",\"linecolor\":\"white\",\"ticks\":\"\"},\"baxis\":{\"gridcolor\":\"white\",\"linecolor\":\"white\",\"ticks\":\"\"},\"caxis\":{\"gridcolor\":\"white\",\"linecolor\":\"white\",\"ticks\":\"\"}},\"coloraxis\":{\"colorbar\":{\"outlinewidth\":0,\"ticks\":\"\"}},\"colorscale\":{\"sequential\":[[0.0,\"#0d0887\"],[0.1111111111111111,\"#46039f\"],[0.2222222222222222,\"#7201a8\"],[0.3333333333333333,\"#9c179e\"],[0.4444444444444444,\"#bd3786\"],[0.5555555555555556,\"#d8576b\"],[0.6666666666666666,\"#ed7953\"],[0.7777777777777778,\"#fb9f3a\"],[0.8888888888888888,\"#fdca26\"],[1.0,\"#f0f921\"]],\"sequentialminus\":[[0.0,\"#0d0887\"],[0.1111111111111111,\"#46039f\"],[0.2222222222222222,\"#7201a8\"],[0.3333333333333333,\"#9c179e\"],[0.4444444444444444,\"#bd3786\"],[0.5555555555555556,\"#d8576b\"],[0.6666666666666666,\"#ed7953\"],[0.7777777777777778,\"#fb9f3a\"],[0.8888888888888888,\"#fdca26\"],[1.0,\"#f0f921\"]],\"diverging\":[[0,\"#8e0152\"],[0.1,\"#c51b7d\"],[0.2,\"#de77ae\"],[0.3,\"#f1b6da\"],[0.4,\"#fde0ef\"],[0.5,\"#f7f7f7\"],[0.6,\"#e6f5d0\"],[0.7,\"#b8e186\"],[0.8,\"#7fbc41\"],[0.9,\"#4d9221\"],[1,\"#276419\"]]},\"xaxis\":{\"gridcolor\":\"white\",\"linecolor\":\"white\",\"ticks\":\"\",\"title\":{\"standoff\":15},\"zerolinecolor\":\"white\",\"automargin\":true,\"zerolinewidth\":2},\"yaxis\":{\"gridcolor\":\"white\",\"linecolor\":\"white\",\"ticks\":\"\",\"title\":{\"standoff\":15},\"zerolinecolor\":\"white\",\"automargin\":true,\"zerolinewidth\":2},\"scene\":{\"xaxis\":{\"backgroundcolor\":\"#E5ECF6\",\"gridcolor\":\"white\",\"linecolor\":\"white\",\"showbackground\":true,\"ticks\":\"\",\"zerolinecolor\":\"white\",\"gridwidth\":2},\"yaxis\":{\"backgroundcolor\":\"#E5ECF6\",\"gridcolor\":\"white\",\"linecolor\":\"white\",\"showbackground\":true,\"ticks\":\"\",\"zerolinecolor\":\"white\",\"gridwidth\":2},\"zaxis\":{\"backgroundcolor\":\"#E5ECF6\",\"gridcolor\":\"white\",\"linecolor\":\"white\",\"showbackground\":true,\"ticks\":\"\",\"zerolinecolor\":\"white\",\"gridwidth\":2}},\"shapedefaults\":{\"line\":{\"color\":\"#2a3f5f\"}},\"annotationdefaults\":{\"arrowcolor\":\"#2a3f5f\",\"arrowhead\":0,\"arrowwidth\":1},\"geo\":{\"bgcolor\":\"white\",\"landcolor\":\"#E5ECF6\",\"subunitcolor\":\"white\",\"showland\":true,\"showlakes\":true,\"lakecolor\":\"white\"},\"title\":{\"x\":0.05},\"mapbox\":{\"style\":\"light\"}}},\"xaxis\":{\"anchor\":\"y\",\"domain\":[0.0,1.0],\"title\":{\"text\":\"Doji Returns\"}},\"yaxis\":{\"anchor\":\"x\",\"domain\":[0.0,1.0],\"title\":{\"text\":\"Target\"}},\"legend\":{\"tracegroupgap\":0},\"margin\":{\"t\":60},\"title\":{\"font\":{\"color\":\"black\"},\"text\":\"Doji Star x Target Returns\"},\"font\":{\"color\":\"Black\",\"size\":15},\"height\":600,\"width\":700,\"showlegend\":true},                        {\"responsive\": true}                    ).then(function(){\n                            \nvar gd = document.getElementById('c01d0bd2-d556-427d-a3d8-73f25917ca40');\nvar x = new MutationObserver(function (mutations, observer) {{\n        var display = window.getComputedStyle(gd).display;\n        if (!display || display === 'none') {{\n            console.log([gd, 'removed!']);\n            Plotly.purge(gd);\n            observer.disconnect();\n        }}\n}});\n\n// Listen for the removal of the full notebook cells\nvar notebookContainer = gd.closest('#notebook-container');\nif (notebookContainer) {{\n    x.observe(notebookContainer, {childList: true});\n}}\n\n// Listen for the clearing of the current output cell\nvar outputEl = gd.closest('.output');\nif (outputEl) {{\n    x.observe(outputEl, {childList: true});\n}}\n\n                        })                };                });            </script>        </div>"
     },
     "metadata": {},
     "output_type": "display_data"
    }
   ],
   "source": [
    "fig = px.scatter(x = df[df[\"CDLDOJISTAR\"] != 0][\"Returns\"]*100\n",
    "                 , y = df[df[\"CDLDOJISTAR\"] != 0][\"Target\"]*100 , trendline = \"ols\")\n",
    "\n",
    "fig.update_layout(height = 600, width = 700\n",
    "                  , title_text = \"Doji Star x Target Returns\"\n",
    "                  , font_color = \"blue\"\n",
    "                  , title_font_color = \"black\"\n",
    "                  , xaxis_title = \"Doji Returns\"\n",
    "                  , yaxis_title = \"Target\"\n",
    "                  , font = dict(size = 15, color = \"Black\")\n",
    "                  , showlegend = True\n",
    "                 )\n",
    "\n",
    "fig.show()"
   ],
   "metadata": {
    "collapsed": false,
    "ExecuteTime": {
     "end_time": "2024-01-02T18:23:24.517439Z",
     "start_time": "2024-01-02T18:23:24.449370Z"
    }
   },
   "id": "463ee4bd828decfe"
  },
  {
   "cell_type": "code",
   "execution_count": 2914,
   "outputs": [],
   "source": [
    "filtered_dfs = []\n",
    "\n",
    "for pattern in pattern_names:\n",
    "    filtered_df = df[df[pattern] != 0].dropna()\n",
    "    filtered_dfs.append(filtered_df)\n",
    "\n",
    "df_patterns = pd.concat(filtered_dfs).dropna()\n",
    "\n",
    "target = \"Target_cat\"\n",
    "columns_to_keep = [target, \"Target\"] + features\n",
    "df_patterns = df_patterns[columns_to_keep].sort_index()"
   ],
   "metadata": {
    "collapsed": false,
    "ExecuteTime": {
     "end_time": "2024-01-02T18:23:24.518033Z",
     "start_time": "2024-01-02T18:23:24.482284Z"
    }
   },
   "id": "fef707b6aee6d450"
  },
  {
   "cell_type": "code",
   "execution_count": 2915,
   "outputs": [
    {
     "data": {
      "text/plain": "            Target_cat    Target  CDLDOJISTAR  CDLHARAMI  CDLCLOSINGMARUBOZU  \\\nDate                                                                           \n2012-02-07           0 -0.006641            0          0                   1   \n2012-02-10           0  0.000000            0          0                  -1   \n2012-02-10           0  0.000000            0          0                  -1   \n2012-02-14           0 -0.004740            0          0                   0   \n2012-02-16           1  0.007119            0          0                   1   \n\n            CDLENGULFING  CDLHAMMER       Vol  \nDate                                           \n2012-02-07             0          0  0.015522  \n2012-02-10            -1          0  0.024439  \n2012-02-10            -1          0  0.024439  \n2012-02-14            -1          0  0.023886  \n2012-02-16             0          0  0.024143  ",
      "text/html": "<div>\n<style scoped>\n    .dataframe tbody tr th:only-of-type {\n        vertical-align: middle;\n    }\n\n    .dataframe tbody tr th {\n        vertical-align: top;\n    }\n\n    .dataframe thead th {\n        text-align: right;\n    }\n</style>\n<table border=\"1\" class=\"dataframe\">\n  <thead>\n    <tr style=\"text-align: right;\">\n      <th></th>\n      <th>Target_cat</th>\n      <th>Target</th>\n      <th>CDLDOJISTAR</th>\n      <th>CDLHARAMI</th>\n      <th>CDLCLOSINGMARUBOZU</th>\n      <th>CDLENGULFING</th>\n      <th>CDLHAMMER</th>\n      <th>Vol</th>\n    </tr>\n    <tr>\n      <th>Date</th>\n      <th></th>\n      <th></th>\n      <th></th>\n      <th></th>\n      <th></th>\n      <th></th>\n      <th></th>\n      <th></th>\n    </tr>\n  </thead>\n  <tbody>\n    <tr>\n      <th>2012-02-07</th>\n      <td>0</td>\n      <td>-0.006641</td>\n      <td>0</td>\n      <td>0</td>\n      <td>1</td>\n      <td>0</td>\n      <td>0</td>\n      <td>0.015522</td>\n    </tr>\n    <tr>\n      <th>2012-02-10</th>\n      <td>0</td>\n      <td>0.000000</td>\n      <td>0</td>\n      <td>0</td>\n      <td>-1</td>\n      <td>-1</td>\n      <td>0</td>\n      <td>0.024439</td>\n    </tr>\n    <tr>\n      <th>2012-02-10</th>\n      <td>0</td>\n      <td>0.000000</td>\n      <td>0</td>\n      <td>0</td>\n      <td>-1</td>\n      <td>-1</td>\n      <td>0</td>\n      <td>0.024439</td>\n    </tr>\n    <tr>\n      <th>2012-02-14</th>\n      <td>0</td>\n      <td>-0.004740</td>\n      <td>0</td>\n      <td>0</td>\n      <td>0</td>\n      <td>-1</td>\n      <td>0</td>\n      <td>0.023886</td>\n    </tr>\n    <tr>\n      <th>2012-02-16</th>\n      <td>1</td>\n      <td>0.007119</td>\n      <td>0</td>\n      <td>0</td>\n      <td>1</td>\n      <td>0</td>\n      <td>0</td>\n      <td>0.024143</td>\n    </tr>\n  </tbody>\n</table>\n</div>"
     },
     "execution_count": 2915,
     "metadata": {},
     "output_type": "execute_result"
    }
   ],
   "source": [
    "df_patterns.head()"
   ],
   "metadata": {
    "collapsed": false,
    "ExecuteTime": {
     "end_time": "2024-01-02T18:23:24.518220Z",
     "start_time": "2024-01-02T18:23:24.497936Z"
    }
   },
   "id": "35bf17227e03083b"
  },
  {
   "cell_type": "code",
   "execution_count": 2916,
   "outputs": [],
   "source": [
    "# Filter data based on periods\n",
    "df_train = df_patterns.loc[start_train:end_train]\n",
    "df_test = df_patterns.loc[start_test:end_test]\n",
    "\n",
    "columns_to_drop = [target, \"Target\"]\n",
    "\n",
    "# Separate features (x) and target (y) for training and testing\n",
    "x_train, y_train = df_train.drop(columns_to_drop, axis=1), df_train[target]\n",
    "x_test, y_test = df_test.drop(columns_to_drop, axis=1), df_test[target]"
   ],
   "metadata": {
    "collapsed": false,
    "ExecuteTime": {
     "end_time": "2024-01-02T18:23:24.518248Z",
     "start_time": "2024-01-02T18:23:24.501208Z"
    }
   },
   "id": "a13fb8bdd04c9983"
  },
  {
   "cell_type": "code",
   "execution_count": 2917,
   "outputs": [
    {
     "name": "stdout",
     "output_type": "stream",
     "text": [
      "(584, 6)\n",
      "(567, 6)\n"
     ]
    }
   ],
   "source": [
    "print(x_train.shape)\n",
    "print(x_test.shape)"
   ],
   "metadata": {
    "collapsed": false,
    "ExecuteTime": {
     "end_time": "2024-01-02T18:23:24.518342Z",
     "start_time": "2024-01-02T18:23:24.505212Z"
    }
   },
   "id": "7eb2f18b87ddb40a"
  },
  {
   "cell_type": "code",
   "execution_count": 2918,
   "outputs": [
    {
     "data": {
      "text/plain": "0.5485008818342152"
     },
     "execution_count": 2918,
     "metadata": {},
     "output_type": "execute_result"
    }
   ],
   "source": [
    "from sklearn.ensemble import GradientBoostingClassifier\n",
    "classifier = GradientBoostingClassifier(random_state=42, n_estimators=50, learning_rate=0.1, max_depth=1, loss=\"exponential\")\n",
    "\n",
    "model = classifier.fit(x_train, y_train)\n",
    "model.score(x_test, y_test)"
   ],
   "metadata": {
    "collapsed": false,
    "ExecuteTime": {
     "end_time": "2024-01-02T18:23:24.597634Z",
     "start_time": "2024-01-02T18:23:24.510649Z"
    }
   },
   "id": "8209147cce48a4e9"
  },
  {
   "cell_type": "code",
   "execution_count": 2919,
   "outputs": [],
   "source": [
    "# Define operational cost\n",
    "op_cost = 0.0001 \n",
    "\n",
    "#0.1% - R$2 reais em R$20000, assumindo operação completa - C/V\n",
    "#Cada ponto de um mini contrato de índice: R$0.20 - Assumindo então o indice em média de 100k pontos\n",
    "\n",
    "# Make predictions on the entire dataset\n",
    "y_pred_all = model.predict(df_patterns.drop(columns_to_drop, axis=1))\n",
    "df_patterns[\"Predicted\"] = np.where(y_pred_all == 1, 1, -1)\n",
    "df_patterns[\"Signal\"] = np.sign(df_patterns[\"Predicted\"])\n",
    "df_patterns[\"Model_Returns\"] = df_patterns[\"Signal\"] * df_patterns[\"Target\"] - op_cost"
   ],
   "metadata": {
    "collapsed": false,
    "ExecuteTime": {
     "end_time": "2024-01-02T18:23:24.599600Z",
     "start_time": "2024-01-02T18:23:24.529814Z"
    }
   },
   "id": "39b3d0fd26f68719"
  },
  {
   "cell_type": "code",
   "execution_count": 2920,
   "outputs": [],
   "source": [
    "df_patterns.index.name = \"Date\"\n",
    "df_patterns.reset_index(inplace=True)\n",
    "\n",
    "df_patterns[\"Date\"] = pd.to_datetime(df_patterns[\"Date\"])\n",
    "\n",
    "df_patterns[\"train_test\"] = np.where(df_patterns[\"Date\"] > end_train, \"Test\", \"Train\")"
   ],
   "metadata": {
    "collapsed": false,
    "ExecuteTime": {
     "end_time": "2024-01-02T18:23:24.615337Z",
     "start_time": "2024-01-02T18:23:24.536739Z"
    }
   },
   "id": "708e49c99169b99"
  },
  {
   "cell_type": "code",
   "execution_count": 2921,
   "outputs": [
    {
     "data": {
      "text/plain": "        Date  Target_cat    Target  CDLDOJISTAR  CDLHARAMI  \\\n0 2012-02-07           0 -0.006641            0          0   \n1 2012-02-10           0  0.000000            0          0   \n2 2012-02-10           0  0.000000            0          0   \n3 2012-02-14           0 -0.004740            0          0   \n4 2012-02-16           1  0.007119            0          0   \n\n   CDLCLOSINGMARUBOZU  CDLENGULFING  CDLHAMMER       Vol  Predicted  Signal  \\\n0                   1             0          0  0.015522         -1      -1   \n1                  -1            -1          0  0.024439          1       1   \n2                  -1            -1          0  0.024439          1       1   \n3                   0            -1          0  0.023886          1       1   \n4                   1             0          0  0.024143          1       1   \n\n   Model_Returns train_test  \n0       0.006541      Train  \n1      -0.000100      Train  \n2      -0.000100      Train  \n3      -0.004840      Train  \n4       0.007019      Train  ",
      "text/html": "<div>\n<style scoped>\n    .dataframe tbody tr th:only-of-type {\n        vertical-align: middle;\n    }\n\n    .dataframe tbody tr th {\n        vertical-align: top;\n    }\n\n    .dataframe thead th {\n        text-align: right;\n    }\n</style>\n<table border=\"1\" class=\"dataframe\">\n  <thead>\n    <tr style=\"text-align: right;\">\n      <th></th>\n      <th>Date</th>\n      <th>Target_cat</th>\n      <th>Target</th>\n      <th>CDLDOJISTAR</th>\n      <th>CDLHARAMI</th>\n      <th>CDLCLOSINGMARUBOZU</th>\n      <th>CDLENGULFING</th>\n      <th>CDLHAMMER</th>\n      <th>Vol</th>\n      <th>Predicted</th>\n      <th>Signal</th>\n      <th>Model_Returns</th>\n      <th>train_test</th>\n    </tr>\n  </thead>\n  <tbody>\n    <tr>\n      <th>0</th>\n      <td>2012-02-07</td>\n      <td>0</td>\n      <td>-0.006641</td>\n      <td>0</td>\n      <td>0</td>\n      <td>1</td>\n      <td>0</td>\n      <td>0</td>\n      <td>0.015522</td>\n      <td>-1</td>\n      <td>-1</td>\n      <td>0.006541</td>\n      <td>Train</td>\n    </tr>\n    <tr>\n      <th>1</th>\n      <td>2012-02-10</td>\n      <td>0</td>\n      <td>0.000000</td>\n      <td>0</td>\n      <td>0</td>\n      <td>-1</td>\n      <td>-1</td>\n      <td>0</td>\n      <td>0.024439</td>\n      <td>1</td>\n      <td>1</td>\n      <td>-0.000100</td>\n      <td>Train</td>\n    </tr>\n    <tr>\n      <th>2</th>\n      <td>2012-02-10</td>\n      <td>0</td>\n      <td>0.000000</td>\n      <td>0</td>\n      <td>0</td>\n      <td>-1</td>\n      <td>-1</td>\n      <td>0</td>\n      <td>0.024439</td>\n      <td>1</td>\n      <td>1</td>\n      <td>-0.000100</td>\n      <td>Train</td>\n    </tr>\n    <tr>\n      <th>3</th>\n      <td>2012-02-14</td>\n      <td>0</td>\n      <td>-0.004740</td>\n      <td>0</td>\n      <td>0</td>\n      <td>0</td>\n      <td>-1</td>\n      <td>0</td>\n      <td>0.023886</td>\n      <td>1</td>\n      <td>1</td>\n      <td>-0.004840</td>\n      <td>Train</td>\n    </tr>\n    <tr>\n      <th>4</th>\n      <td>2012-02-16</td>\n      <td>1</td>\n      <td>0.007119</td>\n      <td>0</td>\n      <td>0</td>\n      <td>1</td>\n      <td>0</td>\n      <td>0</td>\n      <td>0.024143</td>\n      <td>1</td>\n      <td>1</td>\n      <td>0.007019</td>\n      <td>Train</td>\n    </tr>\n  </tbody>\n</table>\n</div>"
     },
     "execution_count": 2921,
     "metadata": {},
     "output_type": "execute_result"
    }
   ],
   "source": [
    "df_patterns.head()"
   ],
   "metadata": {
    "collapsed": false,
    "ExecuteTime": {
     "end_time": "2024-01-02T18:23:24.615641Z",
     "start_time": "2024-01-02T18:23:24.542762Z"
    }
   },
   "id": "d68fb568e133f793"
  },
  {
   "cell_type": "code",
   "execution_count": 2922,
   "outputs": [
    {
     "data": {
      "application/vnd.plotly.v1+json": {
       "data": [
        {
         "hovertemplate": "train_test=Train<br>Date=%{x}<br>Cumulative Returns (%)=%{y}<extra></extra>",
         "legendgroup": "Train",
         "line": {
          "color": "#636efa",
          "dash": "solid",
          "shape": "linear"
         },
         "marker": {
          "symbol": "circle"
         },
         "mode": "lines",
         "name": "Train",
         "orientation": "v",
         "showlegend": true,
         "x": [
          "2012-02-07T00:00:00",
          "2012-02-10T00:00:00",
          "2012-02-10T00:00:00",
          "2012-02-14T00:00:00",
          "2012-02-16T00:00:00",
          "2012-02-17T00:00:00",
          "2012-03-09T00:00:00",
          "2012-03-13T00:00:00",
          "2012-03-13T00:00:00",
          "2012-03-15T00:00:00",
          "2012-03-27T00:00:00",
          "2012-04-03T00:00:00",
          "2012-04-04T00:00:00",
          "2012-04-11T00:00:00",
          "2012-04-12T00:00:00",
          "2012-04-17T00:00:00",
          "2012-04-23T00:00:00",
          "2012-04-30T00:00:00",
          "2012-05-02T00:00:00",
          "2012-05-10T00:00:00",
          "2012-05-15T00:00:00",
          "2012-05-16T00:00:00",
          "2012-05-17T00:00:00",
          "2012-05-17T00:00:00",
          "2012-05-22T00:00:00",
          "2012-05-31T00:00:00",
          "2012-05-31T00:00:00",
          "2012-06-01T00:00:00",
          "2012-06-05T00:00:00",
          "2012-06-06T00:00:00",
          "2012-06-08T00:00:00",
          "2012-06-11T00:00:00",
          "2012-06-13T00:00:00",
          "2012-06-14T00:00:00",
          "2012-06-15T00:00:00",
          "2012-06-21T00:00:00",
          "2012-06-21T00:00:00",
          "2012-06-25T00:00:00",
          "2012-06-25T00:00:00",
          "2012-06-26T00:00:00",
          "2012-07-04T00:00:00",
          "2012-07-10T00:00:00",
          "2012-07-11T00:00:00",
          "2012-07-13T00:00:00",
          "2012-07-17T00:00:00",
          "2012-07-25T00:00:00",
          "2012-07-27T00:00:00",
          "2012-07-30T00:00:00",
          "2012-07-31T00:00:00",
          "2012-08-02T00:00:00",
          "2012-08-08T00:00:00",
          "2012-08-09T00:00:00",
          "2012-08-14T00:00:00",
          "2012-08-21T00:00:00",
          "2012-09-19T00:00:00",
          "2012-09-21T00:00:00",
          "2012-10-03T00:00:00",
          "2012-10-05T00:00:00",
          "2012-10-09T00:00:00",
          "2012-10-19T00:00:00",
          "2012-10-25T00:00:00",
          "2012-10-29T00:00:00",
          "2012-10-31T00:00:00",
          "2012-10-31T00:00:00",
          "2012-11-01T00:00:00",
          "2012-11-05T00:00:00",
          "2012-11-14T00:00:00",
          "2012-11-19T00:00:00",
          "2012-11-21T00:00:00",
          "2012-11-22T00:00:00",
          "2012-11-23T00:00:00",
          "2012-11-23T00:00:00",
          "2012-11-30T00:00:00",
          "2012-12-11T00:00:00",
          "2012-12-14T00:00:00",
          "2012-12-26T00:00:00",
          "2012-12-28T00:00:00",
          "2013-01-03T00:00:00",
          "2013-01-07T00:00:00",
          "2013-01-08T00:00:00",
          "2013-01-09T00:00:00",
          "2013-01-14T00:00:00",
          "2013-01-14T00:00:00",
          "2013-01-15T00:00:00",
          "2013-01-18T00:00:00",
          "2013-01-22T00:00:00",
          "2013-01-30T00:00:00",
          "2013-02-28T00:00:00",
          "2013-03-04T00:00:00",
          "2013-03-05T00:00:00",
          "2013-03-11T00:00:00",
          "2013-03-14T00:00:00",
          "2013-04-01T00:00:00",
          "2013-04-01T00:00:00",
          "2013-04-02T00:00:00",
          "2013-04-03T00:00:00",
          "2013-04-04T00:00:00",
          "2013-04-08T00:00:00",
          "2013-04-12T00:00:00",
          "2013-04-15T00:00:00",
          "2013-04-22T00:00:00",
          "2013-04-30T00:00:00",
          "2013-05-10T00:00:00",
          "2013-05-20T00:00:00",
          "2013-05-22T00:00:00",
          "2013-05-23T00:00:00",
          "2013-06-06T00:00:00",
          "2013-06-11T00:00:00",
          "2013-06-19T00:00:00",
          "2013-06-20T00:00:00",
          "2013-06-21T00:00:00",
          "2013-06-24T00:00:00",
          "2013-07-22T00:00:00",
          "2013-07-23T00:00:00",
          "2013-07-25T00:00:00",
          "2013-07-29T00:00:00",
          "2013-08-01T00:00:00",
          "2013-08-08T00:00:00",
          "2013-08-14T00:00:00",
          "2013-08-16T00:00:00",
          "2013-08-20T00:00:00",
          "2013-08-27T00:00:00",
          "2013-09-06T00:00:00",
          "2013-09-09T00:00:00",
          "2013-09-09T00:00:00",
          "2013-09-16T00:00:00",
          "2013-09-18T00:00:00",
          "2013-09-24T00:00:00",
          "2013-09-24T00:00:00",
          "2013-09-30T00:00:00",
          "2013-10-01T00:00:00",
          "2013-10-04T00:00:00",
          "2013-10-07T00:00:00",
          "2013-10-08T00:00:00",
          "2013-10-10T00:00:00",
          "2013-10-14T00:00:00",
          "2013-10-21T00:00:00",
          "2013-10-22T00:00:00",
          "2013-10-28T00:00:00",
          "2013-10-29T00:00:00",
          "2013-10-30T00:00:00",
          "2013-11-06T00:00:00",
          "2013-11-07T00:00:00",
          "2013-11-08T00:00:00",
          "2013-11-11T00:00:00",
          "2013-11-13T00:00:00",
          "2013-11-14T00:00:00",
          "2013-11-18T00:00:00",
          "2013-11-25T00:00:00",
          "2013-11-26T00:00:00",
          "2013-12-02T00:00:00",
          "2013-12-06T00:00:00",
          "2013-12-09T00:00:00",
          "2013-12-12T00:00:00",
          "2013-12-17T00:00:00",
          "2013-12-17T00:00:00",
          "2013-12-18T00:00:00",
          "2013-12-19T00:00:00",
          "2013-12-23T00:00:00",
          "2013-12-26T00:00:00",
          "2013-12-26T00:00:00",
          "2013-12-27T00:00:00",
          "2013-12-27T00:00:00",
          "2014-01-06T00:00:00",
          "2014-01-08T00:00:00",
          "2014-01-15T00:00:00",
          "2014-01-16T00:00:00",
          "2014-01-20T00:00:00",
          "2014-01-21T00:00:00",
          "2014-01-27T00:00:00",
          "2014-01-28T00:00:00",
          "2014-02-03T00:00:00",
          "2014-02-04T00:00:00",
          "2014-02-05T00:00:00",
          "2014-02-18T00:00:00",
          "2014-02-24T00:00:00",
          "2014-02-26T00:00:00",
          "2014-02-28T00:00:00",
          "2014-03-05T00:00:00",
          "2014-03-06T00:00:00",
          "2014-03-07T00:00:00",
          "2014-03-13T00:00:00",
          "2014-03-14T00:00:00",
          "2014-03-17T00:00:00",
          "2014-03-27T00:00:00",
          "2014-03-27T00:00:00",
          "2014-04-07T00:00:00",
          "2014-04-07T00:00:00",
          "2014-04-11T00:00:00",
          "2014-04-23T00:00:00",
          "2014-04-25T00:00:00",
          "2014-04-28T00:00:00",
          "2014-04-29T00:00:00",
          "2014-05-02T00:00:00",
          "2014-05-02T00:00:00",
          "2014-05-06T00:00:00",
          "2014-05-12T00:00:00",
          "2014-05-14T00:00:00",
          "2014-05-19T00:00:00",
          "2014-05-19T00:00:00",
          "2014-05-21T00:00:00",
          "2014-05-27T00:00:00",
          "2014-05-29T00:00:00",
          "2014-06-05T00:00:00",
          "2014-06-06T00:00:00",
          "2014-06-10T00:00:00",
          "2014-06-18T00:00:00",
          "2014-06-20T00:00:00",
          "2014-06-23T00:00:00",
          "2014-06-23T00:00:00",
          "2014-07-03T00:00:00",
          "2014-07-03T00:00:00",
          "2014-07-04T00:00:00",
          "2014-07-07T00:00:00",
          "2014-07-10T00:00:00",
          "2014-07-17T00:00:00",
          "2014-07-23T00:00:00",
          "2014-07-24T00:00:00",
          "2014-07-25T00:00:00",
          "2014-07-28T00:00:00",
          "2014-07-31T00:00:00",
          "2014-08-01T00:00:00",
          "2014-08-04T00:00:00",
          "2014-08-04T00:00:00",
          "2014-08-08T00:00:00",
          "2014-08-11T00:00:00",
          "2014-08-15T00:00:00",
          "2014-08-15T00:00:00",
          "2014-08-19T00:00:00",
          "2014-08-19T00:00:00",
          "2014-08-22T00:00:00",
          "2014-08-25T00:00:00",
          "2014-08-25T00:00:00",
          "2014-08-27T00:00:00",
          "2014-09-02T00:00:00",
          "2014-09-08T00:00:00",
          "2014-09-09T00:00:00",
          "2014-09-12T00:00:00",
          "2014-09-18T00:00:00",
          "2014-09-19T00:00:00",
          "2014-09-22T00:00:00",
          "2014-09-25T00:00:00",
          "2014-09-29T00:00:00",
          "2014-10-01T00:00:00",
          "2014-10-02T00:00:00",
          "2014-10-03T00:00:00",
          "2014-10-09T00:00:00",
          "2014-10-14T00:00:00",
          "2014-10-20T00:00:00",
          "2014-10-21T00:00:00",
          "2014-10-22T00:00:00",
          "2014-10-27T00:00:00",
          "2014-10-29T00:00:00",
          "2014-10-29T00:00:00",
          "2014-10-30T00:00:00",
          "2014-10-31T00:00:00",
          "2014-10-31T00:00:00",
          "2014-11-03T00:00:00",
          "2014-11-06T00:00:00",
          "2014-11-10T00:00:00",
          "2014-11-10T00:00:00",
          "2014-11-13T00:00:00",
          "2014-11-13T00:00:00",
          "2014-11-27T00:00:00",
          "2014-11-28T00:00:00",
          "2014-12-15T00:00:00",
          "2014-12-17T00:00:00",
          "2014-12-22T00:00:00",
          "2014-12-22T00:00:00",
          "2015-01-02T00:00:00",
          "2015-01-05T00:00:00",
          "2015-01-07T00:00:00",
          "2015-01-12T00:00:00",
          "2015-01-21T00:00:00",
          "2015-01-30T00:00:00",
          "2015-02-02T00:00:00",
          "2015-02-03T00:00:00",
          "2015-02-09T00:00:00",
          "2015-02-23T00:00:00",
          "2015-02-24T00:00:00",
          "2015-02-25T00:00:00",
          "2015-03-02T00:00:00",
          "2015-03-09T00:00:00",
          "2015-03-09T00:00:00",
          "2015-03-10T00:00:00",
          "2015-03-11T00:00:00",
          "2015-03-12T00:00:00",
          "2015-03-12T00:00:00",
          "2015-03-17T00:00:00",
          "2015-03-26T00:00:00",
          "2015-03-26T00:00:00",
          "2015-04-02T00:00:00",
          "2015-04-07T00:00:00",
          "2015-04-09T00:00:00",
          "2015-04-15T00:00:00",
          "2015-04-15T00:00:00",
          "2015-04-24T00:00:00",
          "2015-04-27T00:00:00",
          "2015-04-27T00:00:00",
          "2015-04-28T00:00:00",
          "2015-05-04T00:00:00",
          "2015-05-11T00:00:00",
          "2015-05-21T00:00:00",
          "2015-05-26T00:00:00",
          "2015-05-27T00:00:00",
          "2015-05-29T00:00:00",
          "2015-06-01T00:00:00",
          "2015-06-02T00:00:00",
          "2015-06-09T00:00:00",
          "2015-06-11T00:00:00",
          "2015-06-17T00:00:00",
          "2015-06-23T00:00:00",
          "2015-06-25T00:00:00",
          "2015-06-26T00:00:00",
          "2015-07-02T00:00:00",
          "2015-07-03T00:00:00",
          "2015-07-06T00:00:00",
          "2015-07-13T00:00:00",
          "2015-07-17T00:00:00",
          "2015-07-17T00:00:00",
          "2015-07-20T00:00:00",
          "2015-07-27T00:00:00",
          "2015-07-31T00:00:00",
          "2015-08-03T00:00:00",
          "2015-08-04T00:00:00",
          "2015-08-05T00:00:00",
          "2015-08-05T00:00:00",
          "2015-08-06T00:00:00",
          "2015-08-07T00:00:00",
          "2015-08-10T00:00:00",
          "2015-08-13T00:00:00",
          "2015-08-13T00:00:00",
          "2015-08-14T00:00:00",
          "2015-08-17T00:00:00",
          "2015-08-21T00:00:00",
          "2015-08-21T00:00:00",
          "2015-08-25T00:00:00",
          "2015-08-26T00:00:00",
          "2015-08-26T00:00:00",
          "2015-08-27T00:00:00",
          "2015-09-01T00:00:00",
          "2015-09-02T00:00:00",
          "2015-09-09T00:00:00",
          "2015-09-11T00:00:00",
          "2015-09-14T00:00:00",
          "2015-09-17T00:00:00",
          "2015-09-21T00:00:00",
          "2015-09-28T00:00:00",
          "2015-09-29T00:00:00",
          "2015-10-01T00:00:00",
          "2015-10-06T00:00:00",
          "2015-10-07T00:00:00",
          "2015-10-08T00:00:00",
          "2015-10-16T00:00:00",
          "2015-10-21T00:00:00",
          "2015-10-21T00:00:00",
          "2015-10-28T00:00:00",
          "2015-11-03T00:00:00",
          "2015-11-06T00:00:00",
          "2015-11-09T00:00:00",
          "2015-11-12T00:00:00",
          "2015-11-16T00:00:00",
          "2015-11-23T00:00:00",
          "2015-11-24T00:00:00",
          "2015-11-25T00:00:00",
          "2015-11-26T00:00:00",
          "2015-11-27T00:00:00",
          "2015-12-08T00:00:00",
          "2015-12-09T00:00:00",
          "2015-12-10T00:00:00",
          "2015-12-14T00:00:00",
          "2015-12-17T00:00:00",
          "2015-12-17T00:00:00",
          "2015-12-18T00:00:00",
          "2015-12-21T00:00:00",
          "2015-12-21T00:00:00",
          "2015-12-22T00:00:00",
          "2015-12-28T00:00:00",
          "2015-12-29T00:00:00",
          "2016-01-12T00:00:00",
          "2016-01-13T00:00:00",
          "2016-01-14T00:00:00",
          "2016-01-18T00:00:00",
          "2016-01-19T00:00:00",
          "2016-01-20T00:00:00",
          "2016-01-22T00:00:00",
          "2016-01-26T00:00:00",
          "2016-01-27T00:00:00",
          "2016-01-29T00:00:00",
          "2016-02-02T00:00:00",
          "2016-02-03T00:00:00",
          "2016-02-05T00:00:00",
          "2016-02-10T00:00:00",
          "2016-02-16T00:00:00",
          "2016-02-17T00:00:00",
          "2016-02-22T00:00:00",
          "2016-02-22T00:00:00",
          "2016-02-23T00:00:00",
          "2016-02-29T00:00:00",
          "2016-03-02T00:00:00",
          "2016-03-03T00:00:00",
          "2016-03-10T00:00:00",
          "2016-03-14T00:00:00",
          "2016-03-14T00:00:00",
          "2016-03-16T00:00:00",
          "2016-03-17T00:00:00",
          "2016-03-23T00:00:00",
          "2016-03-28T00:00:00",
          "2016-03-31T00:00:00",
          "2016-04-11T00:00:00",
          "2016-04-14T00:00:00",
          "2016-04-19T00:00:00",
          "2016-04-25T00:00:00",
          "2016-04-28T00:00:00",
          "2016-05-02T00:00:00",
          "2016-05-10T00:00:00",
          "2016-05-12T00:00:00",
          "2016-05-19T00:00:00",
          "2016-05-19T00:00:00",
          "2016-05-27T00:00:00",
          "2016-05-31T00:00:00",
          "2016-06-06T00:00:00",
          "2016-06-08T00:00:00",
          "2016-06-14T00:00:00",
          "2016-06-16T00:00:00",
          "2016-06-21T00:00:00",
          "2016-06-21T00:00:00",
          "2016-06-22T00:00:00",
          "2016-06-23T00:00:00",
          "2016-06-27T00:00:00",
          "2016-06-28T00:00:00",
          "2016-07-01T00:00:00",
          "2016-07-06T00:00:00",
          "2016-07-11T00:00:00",
          "2016-07-11T00:00:00",
          "2016-07-13T00:00:00",
          "2016-07-20T00:00:00",
          "2016-07-22T00:00:00",
          "2016-07-26T00:00:00",
          "2016-07-27T00:00:00",
          "2016-08-01T00:00:00",
          "2016-08-01T00:00:00",
          "2016-08-02T00:00:00",
          "2016-08-03T00:00:00",
          "2016-08-05T00:00:00",
          "2016-08-05T00:00:00",
          "2016-08-10T00:00:00",
          "2016-08-11T00:00:00",
          "2016-08-15T00:00:00",
          "2016-08-17T00:00:00",
          "2016-08-31T00:00:00",
          "2016-09-01T00:00:00",
          "2016-09-02T00:00:00",
          "2016-09-06T00:00:00",
          "2016-09-09T00:00:00",
          "2016-09-09T00:00:00",
          "2016-09-12T00:00:00",
          "2016-09-14T00:00:00",
          "2016-09-15T00:00:00",
          "2016-09-19T00:00:00",
          "2016-09-20T00:00:00",
          "2016-09-28T00:00:00",
          "2016-09-29T00:00:00",
          "2016-09-30T00:00:00",
          "2016-10-03T00:00:00",
          "2016-10-06T00:00:00",
          "2016-10-07T00:00:00",
          "2016-10-17T00:00:00",
          "2016-10-20T00:00:00",
          "2016-10-31T00:00:00",
          "2016-11-03T00:00:00",
          "2016-11-07T00:00:00",
          "2016-11-10T00:00:00",
          "2016-11-11T00:00:00",
          "2016-11-17T00:00:00",
          "2016-11-29T00:00:00",
          "2016-11-30T00:00:00",
          "2016-12-01T00:00:00",
          "2016-12-06T00:00:00",
          "2016-12-06T00:00:00",
          "2016-12-14T00:00:00",
          "2016-12-15T00:00:00",
          "2016-12-19T00:00:00",
          "2016-12-22T00:00:00",
          "2016-12-28T00:00:00",
          "2016-12-28T00:00:00",
          "2016-12-29T00:00:00",
          "2017-01-09T00:00:00",
          "2017-01-12T00:00:00",
          "2017-01-20T00:00:00",
          "2017-01-23T00:00:00",
          "2017-01-26T00:00:00",
          "2017-01-30T00:00:00",
          "2017-01-31T00:00:00",
          "2017-02-03T00:00:00",
          "2017-02-03T00:00:00",
          "2017-02-06T00:00:00",
          "2017-02-07T00:00:00",
          "2017-02-08T00:00:00",
          "2017-02-10T00:00:00",
          "2017-02-10T00:00:00",
          "2017-02-17T00:00:00",
          "2017-03-01T00:00:00",
          "2017-03-02T00:00:00",
          "2017-03-08T00:00:00",
          "2017-03-08T00:00:00",
          "2017-03-13T00:00:00",
          "2017-03-14T00:00:00",
          "2017-03-14T00:00:00",
          "2017-03-15T00:00:00",
          "2017-03-16T00:00:00",
          "2017-03-22T00:00:00",
          "2017-03-23T00:00:00",
          "2017-03-27T00:00:00",
          "2017-03-28T00:00:00",
          "2017-04-11T00:00:00",
          "2017-04-13T00:00:00",
          "2017-04-13T00:00:00",
          "2017-04-20T00:00:00",
          "2017-04-20T00:00:00",
          "2017-04-25T00:00:00",
          "2017-04-25T00:00:00",
          "2017-05-04T00:00:00",
          "2017-05-04T00:00:00",
          "2017-05-05T00:00:00",
          "2017-05-10T00:00:00",
          "2017-05-10T00:00:00",
          "2017-05-16T00:00:00",
          "2017-05-24T00:00:00",
          "2017-05-30T00:00:00",
          "2017-05-30T00:00:00",
          "2017-05-31T00:00:00",
          "2017-06-01T00:00:00",
          "2017-06-02T00:00:00",
          "2017-06-14T00:00:00",
          "2017-06-16T00:00:00",
          "2017-06-19T00:00:00",
          "2017-06-22T00:00:00",
          "2017-07-18T00:00:00",
          "2017-07-19T00:00:00",
          "2017-07-21T00:00:00",
          "2017-07-24T00:00:00",
          "2017-08-03T00:00:00",
          "2017-08-04T00:00:00",
          "2017-08-07T00:00:00",
          "2017-08-08T00:00:00",
          "2017-08-10T00:00:00",
          "2017-08-11T00:00:00",
          "2017-08-16T00:00:00",
          "2017-08-18T00:00:00",
          "2017-08-18T00:00:00",
          "2017-08-22T00:00:00",
          "2017-08-30T00:00:00",
          "2017-08-30T00:00:00",
          "2017-09-04T00:00:00",
          "2017-09-06T00:00:00",
          "2017-09-06T00:00:00",
          "2017-09-08T00:00:00",
          "2017-09-08T00:00:00",
          "2017-09-20T00:00:00",
          "2017-09-26T00:00:00",
          "2017-09-26T00:00:00",
          "2017-09-28T00:00:00",
          "2017-09-29T00:00:00",
          "2017-10-02T00:00:00",
          "2017-10-03T00:00:00",
          "2017-10-09T00:00:00",
          "2017-10-19T00:00:00",
          "2017-10-24T00:00:00",
          "2017-10-24T00:00:00",
          "2017-10-25T00:00:00",
          "2017-10-27T00:00:00",
          "2017-11-06T00:00:00",
          "2017-11-06T00:00:00",
          "2017-11-07T00:00:00",
          "2017-11-08T00:00:00",
          "2017-11-13T00:00:00",
          "2017-11-21T00:00:00",
          "2017-11-29T00:00:00",
          "2017-12-07T00:00:00",
          "2017-12-12T00:00:00",
          "2017-12-21T00:00:00",
          "2017-12-22T00:00:00",
          "2017-12-26T00:00:00"
         ],
         "xaxis": "x",
         "y": [
          0.654059654224658,
          0.6440596542246579,
          0.6340596542246579,
          0.15010617697203793,
          0.8519699426803695,
          0.30143470243212844,
          -0.8895241569825761,
          0.7377916580797474,
          2.365107473142071,
          2.8918741719441425,
          1.1591931555836703,
          -2.3541135289703496,
          -1.2611966547072115,
          -4.362503314034365,
          -2.8277762267580995,
          -3.6718812610909763,
          -3.493896273948068,
          -3.5038962739480684,
          -4.030574439718259,
          -5.998407225796343,
          -1.6817519114747062,
          2.766515854623361,
          6.229108890331599,
          9.691701926039837,
          7.246394015603279,
          5.511355316143154,
          3.77631661668303,
          5.4152474019395935,
          6.947806493691953,
          5.8377277599011315,
          3.232414345598052,
          4.364341903271312,
          0.4918927830323369,
          2.573255839769809,
          2.563255839769809,
          4.006279147750082,
          5.449302455730354,
          6.5628980571538085,
          7.676493658577263,
          5.666478312436192,
          9.086553600852781,
          9.892235006340693,
          10.097969980022794,
          10.087969980022795,
          10.493573465661289,
          11.852001346068295,
          12.536072895380343,
          8.537931227307523,
          10.168906799551753,
          11.893586872908639,
          11.033718386183757,
          11.023718386183758,
          12.021376324330346,
          13.188383009433913,
          14.678143798080201,
          15.813469954172687,
          15.534847105706573,
          14.98552397315488,
          14.525499386555719,
          14.51549938655572,
          12.206648731634328,
          11.353561512243978,
          11.583971719319859,
          11.81438192639574,
          9.933887860543582,
          7.852330370182084,
          3.953440714752744,
          1.277484077030711,
          1.4285677408469304,
          4.2067855361924575,
          2.370987974964842,
          0.5351904137372264,
          2.347247131233894,
          1.6368877227875334,
          0.19196388555076555,
          -3.0583195993432257,
          -2.1974170199451226,
          -2.0603440167393896,
          -4.9587707107295875,
          -4.045721951342209,
          -3.293507454976166,
          -2.7964233628317943,
          -2.299339270687422,
          -2.2083881801621854,
          -3.1887794900102255,
          -3.0455626653362846,
          -3.7149250618071594,
          -5.47085877476997,
          -5.1172426143542555,
          -14.124836209886926,
          -15.13852387047142,
          -16.185322825591964,
          -18.025604861104448,
          -19.865886896616935,
          -18.180980217238897,
          -19.802122662396894,
          -19.30390328391709,
          -14.823406917518,
          -10.768794368445702,
          -13.506622768737545,
          -11.760345691654976,
          -10.973953618723813,
          -13.338670224877408,
          -13.101171382206328,
          -13.412367127746345,
          -12.264261633911195,
          -9.088250174823362,
          -6.8856281450335715,
          -8.697998673671325,
          -5.8660946600479065,
          -8.923016632312967,
          -10.127249759160643,
          -9.4623821222863,
          -9.594255371566325,
          -9.604255371566325,
          -10.933196244503517,
          -11.710618208620282,
          -14.303235323351727,
          -9.121511930868222,
          -8.850284600529626,
          -7.63435416956723,
          -9.30626754677612,
          -7.00769005277821,
          -6.08208959742633,
          -5.156489142074448,
          -4.732889770944859,
          -3.3672066604644626,
          -3.2173700701340318,
          -3.067533479803601,
          -1.4435223268668689,
          -2.0966217164052394,
          -1.8387925878959057,
          -0.18393818228621095,
          1.1168300530740158,
          1.3823406916389624,
          0.5513188284761661,
          2.289191315816307,
          1.0932189644228687,
          0.1279602351350575,
          1.3869915092139709,
          3.0812530812033447,
          1.062454056898015,
          -0.7475510952059412,
          1.5336941548539622,
          -1.1642254457759553,
          1.3834641376633157,
          6.21452852771599,
          4.66535056673195,
          -1.6314733792621299,
          -2.2179876344730216,
          -1.363937053525837,
          -0.09707218767062743,
          -0.9666834379396374,
          1.1585363753995357,
          1.3866333228607106,
          1.6147302703218858,
          4.039420411358741,
          2.0583963256489914,
          1.227770520681757,
          1.2768571907237094,
          1.3259438607656617,
          2.2019668044132525,
          3.0779897480608436,
          5.835736762641412,
          8.852283659227837,
          11.647745901752106,
          11.124564251933611,
          12.168580383870685,
          8.89914839825484,
          9.286224503769287,
          7.6151004578975225,
          9.337932252853236,
          7.48264398422355,
          10.220319298600513,
          10.848150789725796,
          8.631258798985007,
          11.102957373836217,
          8.885441551198765,
          9.928878422464033,
          9.099813557644714,
          6.7624835530557235,
          4.833851621240627,
          3.1806560970521702,
          6.352835098589425,
          6.920876248516613,
          7.488917398443802,
          4.623503366845299,
          1.7580893352467974,
          0.14216104372605579,
          0.6932554943785664,
          3.9895548980175453,
          4.764574143596267,
          3.9756694497688136,
          3.23121860935047,
          2.486767768932126,
          4.3407821882950515,
          3.942568962091491,
          2.5109980852330445,
          -1.066478604726859,
          -4.643955294686762,
          -3.393923525752174,
          -2.2032300238116984,
          -5.739236652535287,
          2.584099533104696,
          4.7799839187982975,
          5.894790068917414,
          4.305867419523704,
          2.1568341396154174,
          -1.4597099768533068,
          -5.0762540933220315,
          -5.200436214163465,
          -5.324618335004898,
          -6.363168805973002,
          -6.315446712174406,
          -5.607584786200223,
          -0.7096027997711682,
          -0.42327809094955227,
          0.45294580275061436,
          -1.2163823078889764,
          -3.85666124536507,
          -4.390256940259533,
          -1.5054882419429811,
          -0.748219206259155,
          0.009049829424671342,
          4.297352150830027,
          1.9536893643330122,
          3.6386349426651754,
          5.323580520997338,
          7.465676847909694,
          9.60777317482205,
          14.951479761918202,
          14.03402778667459,
          13.11657581143098,
          13.106575811430982,
          10.61287141141997,
          9.589039474339991,
          7.111609111734498,
          9.286338451422438,
          7.49144303231992,
          5.951081676834299,
          3.706976899036836,
          9.241349043721298,
          6.489387790436922,
          7.708184172540325,
          13.76756935475435,
          2.6404275076063675,
          -2.794116423376494,
          3.9088283561284647,
          -1.7931438094696162,
          -0.08718051350986127,
          6.525339940307965,
          10.027741622212107,
          12.157527811928858,
          14.287314001645612,
          20.98125354535242,
          18.157099470012383,
          15.332945394672349,
          15.524961455146634,
          14.021343441902246,
          14.154408688225306,
          14.287473934548366,
          11.336293537844865,
          8.385113141141362,
          3.9108059035877734,
          -0.14900221508336586,
          3.262620544242682,
          4.308569920253827,
          -0.9087595881981034,
          -6.126089096650034,
          -14.683082086302734,
          -17.964113401758063,
          -11.515067830618854,
          -8.697011128414115,
          -5.373682967263209,
          0.5199429337144068,
          13.93427314705636,
          13.422741490724471,
          8.199973328543912,
          12.400529276219055,
          17.4410455117467,
          19.239566162222555,
          20.821912392550047,
          16.327623291039195,
          11.833334189528342,
          14.405495333738225,
          11.306242173482213,
          9.761422845739348,
          8.216603517996484,
          12.044072650617412,
          12.355594449618769,
          12.667116248620125,
          12.844211839091113,
          9.629076542978108,
          11.60528132537568,
          14.29392906510942,
          16.98257680484316,
          11.677590095787444,
          13.664357424548285,
          15.651124753309126,
          16.032688600656304,
          20.66375282489424,
          20.36324857665625,
          17.31170870858722,
          18.512405390047963,
          19.379565256737845,
          19.612869298901174,
          23.810031528060154,
          23.10126657516455,
          23.706634895421193,
          23.085932053075336,
          25.43512710997164,
          27.35264834909798,
          32.18392344171794,
          29.448738961844782,
          24.66141062376,
          22.52559974548686,
          24.774490350901818,
          26.46085206325623,
          21.017003821972764,
          15.573155580689296,
          15.007083585770504,
          20.47080117278633,
          16.075652122861577,
          17.361762816162912,
          15.875380669566159,
          19.162107422252955,
          22.44883417493975,
          16.152546051391788,
          19.23853741304474,
          19.128455678579844,
          17.013232829333763,
          14.898009980087684,
          13.275095128981956,
          11.516461666199922,
          6.56671640440061,
          1.6169711426012991,
          5.173844922563331,
          14.880928719568065,
          24.5880125165728,
          25.699118060338744,
          28.36666260310191,
          27.67638085431129,
          22.66039168018149,
          23.43369280249591,
          22.516960647959905,
          19.199057575336866,
          14.668505935159825,
          16.98768268968893,
          26.841082094199642,
          37.51482067461871,
          34.086013320933795,
          37.38178563644674,
          36.80032614844928,
          36.79032614844928,
          40.26417908535149,
          43.738032022253705,
          39.45132264672425,
          34.72436582830982,
          35.86524633096029,
          32.06261179856143,
          27.962905961318583,
          28.73213795202414,
          33.92017197848918,
          26.85133008693642,
          27.09451008337448,
          23.044080662943944,
          23.955166598961753,
          31.23829742894937,
          33.84268039156198,
          31.148103172125808,
          34.05073233527624,
          31.54072603167991,
          29.030719728083586,
          23.607593685192676,
          25.856625648816657,
          28.105657612440638,
          30.157526004309986,
          29.99827882144045,
          30.13774908446679,
          25.42613188416275,
          33.38578567077827,
          24.236930978280725,
          21.31024676458092,
          16.364637742689226,
          17.934774872897354,
          13.16284221438595,
          21.962371525951554,
          21.295914561621544,
          23.765253225755288,
          28.17386677019016,
          33.50906860173688,
          28.43299565838859,
          30.27916001254509,
          35.67456499291719,
          37.58763990756498,
          39.958598390900235,
          42.32955687423549,
          43.33582207036878,
          46.63322661596906,
          62.906405665074985,
          53.002971384924194,
          51.2319367250225,
          40.54625767033249,
          29.860578615642474,
          41.88379768021476,
          42.12069178496179,
          42.49627897502711,
          43.078703251044914,
          43.67036992975512,
          35.913059232473444,
          41.689076196160904,
          40.32629819273929,
          43.960453893049426,
          43.95045389304942,
          40.10562876280828,
          40.48739119932512,
          37.10663056683659,
          36.426985865835725,
          35.74734116483486,
          37.559980704987616,
          39.29128486628283,
          41.172554289310625,
          38.9261191411783,
          41.44625534349564,
          46.73037033287617,
          48.71406781340701,
          50.697765293937856,
          54.22096555708789,
          49.86763861289727,
          54.64125152380894,
          57.89209972260709,
          58.391249464722314,
          59.01287438406586,
          56.20364752164624,
          53.39442065922662,
          56.20664977704462,
          56.450451696000734,
          57.194216631796735,
          54.06975201375297,
          53.451533160764185,
          54.419324013820614,
          55.38711486687704,
          60.13062406852405,
          61.04501789824717,
          63.26678792651379,
          65.48855795478042,
          70.14983931841128,
          69.31339456353327,
          70.76562451554325,
          71.69607683577837,
          72.85340059502752,
          77.22800058520914,
          79.13399017235872,
          80.8407431606513,
          84.08759241978828,
          87.33444167892527,
          80.58609455788597,
          83.62719499370573,
          81.02654669799146,
          84.46481591801847,
          85.64000096527879,
          82.59751176689693,
          83.62994996444621,
          86.56761279490068,
          86.91554197178652,
          87.96518160164466,
          91.03510799587333,
          94.1020535742654,
          95.27584223484844,
          99.95776991107134,
          99.07979936946548,
          98.08203240846487,
          88.45913288531635,
          88.37773351954765,
          89.97724364106567,
          99.1077520908263,
          95.59776548839697,
          98.1136835240648,
          96.30801469830203,
          94.50234587253925,
          95.23864365873345,
          94.62258607334165,
          94.54298527481423,
          96.17463242618588,
          96.77353187850329,
          97.3724313308207,
          98.77466065298613,
          99.74310506947447,
          98.34949144138876,
          98.40201052856297,
          98.07928940677387,
          96.9300457118573,
          98.13295864424079,
          98.12295864424078,
          100.59015190140144,
          103.05734515856209,
          101.30937881656672,
          104.02044282355791,
          104.34154032470168,
          104.58826848111708,
          104.83499663753248,
          106.81093727035251,
          109.44270431867824,
          110.82251164657848,
          110.4688696615594,
          110.11522767654031,
          115.53320793987913,
          120.01181689148959,
          124.49042584310004,
          121.02971070291414,
          117.00805801217646,
          116.33920330320086,
          115.66595832706363,
          116.96313109955932,
          120.53736404241617,
          120.32300855557314,
          121.73348045796486,
          123.14395236035658,
          124.21464187189724,
          125.28533138343789,
          122.90430940480593,
          120.52328742617395,
          124.9985533890444,
          129.47381935191484,
          128.54895665600833,
          129.14997060696734,
          129.7509845579264,
          129.16771236651095,
          126.95128919190626,
          123.94727245891157,
          120.94325572591688,
          119.85302374488673,
          121.63708755464002,
          122.62326063884395,
          122.61326063884394,
          122.5218366562059,
          126.01061708553387,
          126.91421579593849,
          129.1453111269377,
          130.1179097921345,
          131.6051685904296,
          128.95543565811704,
          129.62159439242595,
          130.7309847394129,
          130.27819968397276,
          130.04581732731398,
          131.85538264114348,
          132.84924827491838,
          132.22994082928093,
          134.13173427130698,
          136.033527713333,
          136.24106209213974,
          137.7180272406478,
          139.19499238915586,
          137.49126861829563,
          137.48126861829564,
          137.47126861829565,
          139.36473787407212,
          141.2582071298486,
          142.50845300173538,
          140.89178137316418,
          139.27510974459298,
          139.5258726791865,
          140.1694570106141,
          136.3932249755655,
          138.38570160315723,
          136.48773431317068,
          136.0443298093333,
          134.7623569839557,
          133.48038415857806,
          133.41056563538228,
          134.86856032527928,
          140.19417654138505,
          145.51979275749082,
          148.23708602816325,
          149.58402868065244,
          157.32643279915462,
          158.63716927079494,
          158.95333562866406,
          159.53309143891875,
          161.52438082517466,
          162.2079587008417,
          162.1979587008417,
          161.6870238311192
         ],
         "yaxis": "y",
         "type": "scatter"
        },
        {
         "hovertemplate": "train_test=Test<br>Date=%{x}<br>Cumulative Returns (%)=%{y}<extra></extra>",
         "legendgroup": "Test",
         "line": {
          "color": "#EF553B",
          "dash": "solid",
          "shape": "linear"
         },
         "marker": {
          "symbol": "circle"
         },
         "mode": "lines",
         "name": "Test",
         "orientation": "v",
         "showlegend": true,
         "x": [
          "2018-01-02T00:00:00",
          "2018-01-03T00:00:00",
          "2018-01-08T00:00:00",
          "2018-01-10T00:00:00",
          "2018-01-11T00:00:00",
          "2018-01-17T00:00:00",
          "2018-01-22T00:00:00",
          "2018-01-22T00:00:00",
          "2018-01-24T00:00:00",
          "2018-01-29T00:00:00",
          "2018-01-31T00:00:00",
          "2018-02-01T00:00:00",
          "2018-02-05T00:00:00",
          "2018-02-06T00:00:00",
          "2018-02-19T00:00:00",
          "2018-02-19T00:00:00",
          "2018-03-02T00:00:00",
          "2018-03-05T00:00:00",
          "2018-03-06T00:00:00",
          "2018-03-07T00:00:00",
          "2018-03-09T00:00:00",
          "2018-03-09T00:00:00",
          "2018-03-14T00:00:00",
          "2018-03-15T00:00:00",
          "2018-03-15T00:00:00",
          "2018-03-16T00:00:00",
          "2018-03-21T00:00:00",
          "2018-03-21T00:00:00",
          "2018-03-29T00:00:00",
          "2018-04-02T00:00:00",
          "2018-04-03T00:00:00",
          "2018-04-06T00:00:00",
          "2018-04-09T00:00:00",
          "2018-04-16T00:00:00",
          "2018-04-26T00:00:00",
          "2018-04-26T00:00:00",
          "2018-05-09T00:00:00",
          "2018-05-09T00:00:00",
          "2018-05-11T00:00:00",
          "2018-05-21T00:00:00",
          "2018-05-23T00:00:00",
          "2018-05-24T00:00:00",
          "2018-05-25T00:00:00",
          "2018-05-28T00:00:00",
          "2018-05-30T00:00:00",
          "2018-06-01T00:00:00",
          "2018-06-04T00:00:00",
          "2018-06-05T00:00:00",
          "2018-06-07T00:00:00",
          "2018-06-13T00:00:00",
          "2018-06-15T00:00:00",
          "2018-06-18T00:00:00",
          "2018-06-19T00:00:00",
          "2018-06-21T00:00:00",
          "2018-06-21T00:00:00",
          "2018-06-22T00:00:00",
          "2018-06-29T00:00:00",
          "2018-07-02T00:00:00",
          "2018-07-06T00:00:00",
          "2018-07-12T00:00:00",
          "2018-07-12T00:00:00",
          "2018-07-17T00:00:00",
          "2018-07-19T00:00:00",
          "2018-07-25T00:00:00",
          "2018-07-26T00:00:00",
          "2018-07-26T00:00:00",
          "2018-08-01T00:00:00",
          "2018-08-03T00:00:00",
          "2018-08-08T00:00:00",
          "2018-08-09T00:00:00",
          "2018-08-10T00:00:00",
          "2018-08-13T00:00:00",
          "2018-08-15T00:00:00",
          "2018-08-22T00:00:00",
          "2018-08-24T00:00:00",
          "2018-08-27T00:00:00",
          "2018-08-28T00:00:00",
          "2018-08-29T00:00:00",
          "2018-09-04T00:00:00",
          "2018-09-04T00:00:00",
          "2018-09-05T00:00:00",
          "2018-09-12T00:00:00",
          "2018-09-14T00:00:00",
          "2018-09-17T00:00:00",
          "2018-09-18T00:00:00",
          "2018-09-19T00:00:00",
          "2018-09-21T00:00:00",
          "2018-09-26T00:00:00",
          "2018-09-27T00:00:00",
          "2018-09-27T00:00:00",
          "2018-09-28T00:00:00",
          "2018-10-02T00:00:00",
          "2018-10-02T00:00:00",
          "2018-10-15T00:00:00",
          "2018-10-16T00:00:00",
          "2018-10-18T00:00:00",
          "2018-10-18T00:00:00",
          "2018-10-19T00:00:00",
          "2018-10-24T00:00:00",
          "2018-10-24T00:00:00",
          "2018-10-25T00:00:00",
          "2018-10-26T00:00:00",
          "2018-10-29T00:00:00",
          "2018-10-30T00:00:00",
          "2018-10-30T00:00:00",
          "2018-11-05T00:00:00",
          "2018-11-06T00:00:00",
          "2018-11-07T00:00:00",
          "2018-11-08T00:00:00",
          "2018-11-14T00:00:00",
          "2018-12-04T00:00:00",
          "2018-12-06T00:00:00",
          "2018-12-10T00:00:00",
          "2018-12-10T00:00:00",
          "2018-12-12T00:00:00",
          "2018-12-18T00:00:00",
          "2018-12-19T00:00:00",
          "2018-12-26T00:00:00",
          "2018-12-27T00:00:00",
          "2019-01-07T00:00:00",
          "2019-01-11T00:00:00",
          "2019-01-18T00:00:00",
          "2019-01-21T00:00:00",
          "2019-01-21T00:00:00",
          "2019-01-22T00:00:00",
          "2019-01-24T00:00:00",
          "2019-01-28T00:00:00",
          "2019-01-28T00:00:00",
          "2019-01-29T00:00:00",
          "2019-01-31T00:00:00",
          "2019-02-06T00:00:00",
          "2019-02-13T00:00:00",
          "2019-02-14T00:00:00",
          "2019-02-15T00:00:00",
          "2019-02-18T00:00:00",
          "2019-02-19T00:00:00",
          "2019-02-22T00:00:00",
          "2019-03-11T00:00:00",
          "2019-03-13T00:00:00",
          "2019-03-18T00:00:00",
          "2019-03-22T00:00:00",
          "2019-03-26T00:00:00",
          "2019-03-27T00:00:00",
          "2019-03-28T00:00:00",
          "2019-04-02T00:00:00",
          "2019-04-03T00:00:00",
          "2019-04-03T00:00:00",
          "2019-04-04T00:00:00",
          "2019-04-10T00:00:00",
          "2019-04-10T00:00:00",
          "2019-04-15T00:00:00",
          "2019-04-29T00:00:00",
          "2019-05-02T00:00:00",
          "2019-05-02T00:00:00",
          "2019-05-06T00:00:00",
          "2019-05-08T00:00:00",
          "2019-05-16T00:00:00",
          "2019-05-16T00:00:00",
          "2019-05-20T00:00:00",
          "2019-05-21T00:00:00",
          "2019-05-28T00:00:00",
          "2019-05-28T00:00:00",
          "2019-05-29T00:00:00",
          "2019-05-30T00:00:00",
          "2019-06-06T00:00:00",
          "2019-06-13T00:00:00",
          "2019-06-14T00:00:00",
          "2019-06-14T00:00:00",
          "2019-06-27T00:00:00",
          "2019-06-28T00:00:00",
          "2019-07-12T00:00:00",
          "2019-07-15T00:00:00",
          "2019-07-17T00:00:00",
          "2019-07-24T00:00:00",
          "2019-07-26T00:00:00",
          "2019-08-01T00:00:00",
          "2019-08-02T00:00:00",
          "2019-08-05T00:00:00",
          "2019-08-06T00:00:00",
          "2019-08-08T00:00:00",
          "2019-08-09T00:00:00",
          "2019-08-16T00:00:00",
          "2019-08-19T00:00:00",
          "2019-08-23T00:00:00",
          "2019-08-29T00:00:00",
          "2019-09-03T00:00:00",
          "2019-09-03T00:00:00",
          "2019-09-11T00:00:00",
          "2019-09-11T00:00:00",
          "2019-09-20T00:00:00",
          "2019-09-23T00:00:00",
          "2019-09-25T00:00:00",
          "2019-09-26T00:00:00",
          "2019-09-27T00:00:00",
          "2019-10-03T00:00:00",
          "2019-10-14T00:00:00",
          "2019-10-16T00:00:00",
          "2019-10-18T00:00:00",
          "2019-10-21T00:00:00",
          "2019-10-21T00:00:00",
          "2019-10-25T00:00:00",
          "2019-11-05T00:00:00",
          "2019-11-06T00:00:00",
          "2019-11-07T00:00:00",
          "2019-11-11T00:00:00",
          "2019-11-12T00:00:00",
          "2019-11-14T00:00:00",
          "2019-11-18T00:00:00",
          "2019-11-21T00:00:00",
          "2019-11-27T00:00:00",
          "2019-11-28T00:00:00",
          "2019-11-28T00:00:00",
          "2019-12-03T00:00:00",
          "2019-12-04T00:00:00",
          "2019-12-04T00:00:00",
          "2019-12-10T00:00:00",
          "2019-12-12T00:00:00",
          "2019-12-13T00:00:00",
          "2019-12-16T00:00:00",
          "2019-12-18T00:00:00",
          "2020-01-02T00:00:00",
          "2020-01-03T00:00:00",
          "2020-01-10T00:00:00",
          "2020-01-15T00:00:00",
          "2020-01-17T00:00:00",
          "2020-01-22T00:00:00",
          "2020-01-31T00:00:00",
          "2020-02-05T00:00:00",
          "2020-02-07T00:00:00",
          "2020-02-10T00:00:00",
          "2020-02-10T00:00:00",
          "2020-02-13T00:00:00",
          "2020-02-18T00:00:00",
          "2020-02-19T00:00:00",
          "2020-03-13T00:00:00",
          "2020-03-20T00:00:00",
          "2020-03-24T00:00:00",
          "2020-03-26T00:00:00",
          "2020-04-02T00:00:00",
          "2020-04-06T00:00:00",
          "2020-04-08T00:00:00",
          "2020-04-22T00:00:00",
          "2020-05-06T00:00:00",
          "2020-05-06T00:00:00",
          "2020-05-07T00:00:00",
          "2020-05-08T00:00:00",
          "2020-05-12T00:00:00",
          "2020-05-13T00:00:00",
          "2020-05-14T00:00:00",
          "2020-05-14T00:00:00",
          "2020-05-15T00:00:00",
          "2020-05-15T00:00:00",
          "2020-05-18T00:00:00",
          "2020-05-29T00:00:00",
          "2020-06-01T00:00:00",
          "2020-06-02T00:00:00",
          "2020-06-03T00:00:00",
          "2020-06-04T00:00:00",
          "2020-06-12T00:00:00",
          "2020-06-15T00:00:00",
          "2020-06-18T00:00:00",
          "2020-06-22T00:00:00",
          "2020-06-25T00:00:00",
          "2020-06-29T00:00:00",
          "2020-06-30T00:00:00",
          "2020-07-08T00:00:00",
          "2020-07-13T00:00:00",
          "2020-07-16T00:00:00",
          "2020-07-17T00:00:00",
          "2020-07-23T00:00:00",
          "2020-07-27T00:00:00",
          "2020-07-30T00:00:00",
          "2020-07-31T00:00:00",
          "2020-08-06T00:00:00",
          "2020-08-07T00:00:00",
          "2020-08-10T00:00:00",
          "2020-08-10T00:00:00",
          "2020-08-11T00:00:00",
          "2020-08-12T00:00:00",
          "2020-08-13T00:00:00",
          "2020-08-28T00:00:00",
          "2020-08-31T00:00:00",
          "2020-09-01T00:00:00",
          "2020-09-08T00:00:00",
          "2020-09-10T00:00:00",
          "2020-09-16T00:00:00",
          "2020-09-17T00:00:00",
          "2020-09-17T00:00:00",
          "2020-09-23T00:00:00",
          "2020-09-28T00:00:00",
          "2020-10-02T00:00:00",
          "2020-10-02T00:00:00",
          "2020-10-06T00:00:00",
          "2020-10-07T00:00:00",
          "2020-10-08T00:00:00",
          "2020-10-09T00:00:00",
          "2020-10-15T00:00:00",
          "2020-10-16T00:00:00",
          "2020-10-21T00:00:00",
          "2020-10-22T00:00:00",
          "2020-10-23T00:00:00",
          "2020-10-28T00:00:00",
          "2020-11-10T00:00:00",
          "2020-11-23T00:00:00",
          "2020-12-09T00:00:00",
          "2020-12-11T00:00:00",
          "2020-12-14T00:00:00",
          "2020-12-16T00:00:00",
          "2020-12-17T00:00:00",
          "2020-12-29T00:00:00",
          "2021-01-04T00:00:00",
          "2021-01-06T00:00:00",
          "2021-01-07T00:00:00",
          "2021-01-12T00:00:00",
          "2021-01-15T00:00:00",
          "2021-01-15T00:00:00",
          "2021-01-20T00:00:00",
          "2021-01-29T00:00:00",
          "2021-02-01T00:00:00",
          "2021-02-10T00:00:00",
          "2021-02-12T00:00:00",
          "2021-02-12T00:00:00",
          "2021-02-17T00:00:00",
          "2021-02-25T00:00:00",
          "2021-03-03T00:00:00",
          "2021-03-05T00:00:00",
          "2021-03-08T00:00:00",
          "2021-03-15T00:00:00",
          "2021-03-17T00:00:00",
          "2021-03-19T00:00:00",
          "2021-03-22T00:00:00",
          "2021-03-26T00:00:00",
          "2021-03-29T00:00:00",
          "2021-03-29T00:00:00",
          "2021-04-05T00:00:00",
          "2021-04-08T00:00:00",
          "2021-04-14T00:00:00",
          "2021-04-15T00:00:00",
          "2021-04-19T00:00:00",
          "2021-04-20T00:00:00",
          "2021-04-22T00:00:00",
          "2021-04-27T00:00:00",
          "2021-05-04T00:00:00",
          "2021-05-07T00:00:00",
          "2021-05-11T00:00:00",
          "2021-05-11T00:00:00",
          "2021-05-25T00:00:00",
          "2021-05-25T00:00:00",
          "2021-05-28T00:00:00",
          "2021-05-28T00:00:00",
          "2021-06-02T00:00:00",
          "2021-06-11T00:00:00",
          "2021-06-17T00:00:00",
          "2021-06-21T00:00:00",
          "2021-06-25T00:00:00",
          "2021-07-02T00:00:00",
          "2021-07-06T00:00:00",
          "2021-07-07T00:00:00",
          "2021-07-12T00:00:00",
          "2021-07-23T00:00:00",
          "2021-07-26T00:00:00",
          "2021-07-28T00:00:00",
          "2021-07-30T00:00:00",
          "2021-08-02T00:00:00",
          "2021-08-03T00:00:00",
          "2021-08-06T00:00:00",
          "2021-08-09T00:00:00",
          "2021-08-11T00:00:00",
          "2021-08-20T00:00:00",
          "2021-08-27T00:00:00",
          "2021-08-27T00:00:00",
          "2021-09-08T00:00:00",
          "2021-09-10T00:00:00",
          "2021-09-15T00:00:00",
          "2021-09-17T00:00:00",
          "2021-09-20T00:00:00",
          "2021-09-28T00:00:00",
          "2021-10-01T00:00:00",
          "2021-10-01T00:00:00",
          "2021-10-04T00:00:00",
          "2021-10-13T00:00:00",
          "2021-10-19T00:00:00",
          "2021-10-22T00:00:00",
          "2021-10-26T00:00:00",
          "2021-10-29T00:00:00",
          "2021-11-01T00:00:00",
          "2021-11-03T00:00:00",
          "2021-11-03T00:00:00",
          "2021-11-16T00:00:00",
          "2021-11-17T00:00:00",
          "2021-11-17T00:00:00",
          "2021-11-18T00:00:00",
          "2021-11-24T00:00:00",
          "2021-11-26T00:00:00",
          "2021-12-02T00:00:00",
          "2021-12-15T00:00:00",
          "2021-12-17T00:00:00",
          "2021-12-23T00:00:00",
          "2021-12-27T00:00:00",
          "2022-01-03T00:00:00",
          "2022-01-04T00:00:00",
          "2022-01-05T00:00:00",
          "2022-02-01T00:00:00",
          "2022-02-08T00:00:00",
          "2022-02-15T00:00:00",
          "2022-02-18T00:00:00",
          "2022-02-18T00:00:00",
          "2022-02-23T00:00:00",
          "2022-02-24T00:00:00",
          "2022-02-25T00:00:00",
          "2022-03-03T00:00:00",
          "2022-03-07T00:00:00",
          "2022-03-10T00:00:00",
          "2022-03-28T00:00:00",
          "2022-03-28T00:00:00",
          "2022-04-04T00:00:00",
          "2022-04-07T00:00:00",
          "2022-04-07T00:00:00",
          "2022-04-12T00:00:00",
          "2022-04-13T00:00:00",
          "2022-04-19T00:00:00",
          "2022-04-28T00:00:00",
          "2022-04-29T00:00:00",
          "2022-05-05T00:00:00",
          "2022-05-06T00:00:00",
          "2022-05-09T00:00:00",
          "2022-05-10T00:00:00",
          "2022-05-17T00:00:00",
          "2022-05-24T00:00:00",
          "2022-05-27T00:00:00",
          "2022-05-27T00:00:00",
          "2022-05-31T00:00:00",
          "2022-06-02T00:00:00",
          "2022-06-02T00:00:00",
          "2022-06-03T00:00:00",
          "2022-06-09T00:00:00",
          "2022-06-10T00:00:00",
          "2022-06-27T00:00:00",
          "2022-06-27T00:00:00",
          "2022-07-05T00:00:00",
          "2022-07-14T00:00:00",
          "2022-07-19T00:00:00",
          "2022-07-20T00:00:00",
          "2022-07-25T00:00:00",
          "2022-08-11T00:00:00",
          "2022-08-12T00:00:00",
          "2022-08-17T00:00:00",
          "2022-08-19T00:00:00",
          "2022-08-25T00:00:00",
          "2022-08-30T00:00:00",
          "2022-09-14T00:00:00",
          "2022-09-16T00:00:00",
          "2022-09-19T00:00:00",
          "2022-09-23T00:00:00",
          "2022-09-28T00:00:00",
          "2022-10-04T00:00:00",
          "2022-10-07T00:00:00",
          "2022-10-10T00:00:00",
          "2022-10-24T00:00:00",
          "2022-11-01T00:00:00",
          "2022-11-04T00:00:00",
          "2022-11-04T00:00:00",
          "2022-11-18T00:00:00",
          "2022-11-21T00:00:00",
          "2022-11-30T00:00:00",
          "2022-12-01T00:00:00",
          "2022-12-02T00:00:00",
          "2022-12-05T00:00:00",
          "2022-12-08T00:00:00",
          "2022-12-13T00:00:00",
          "2022-12-21T00:00:00",
          "2022-12-23T00:00:00",
          "2022-12-29T00:00:00",
          "2023-01-17T00:00:00",
          "2023-01-18T00:00:00",
          "2023-01-19T00:00:00",
          "2023-01-26T00:00:00",
          "2023-01-31T00:00:00",
          "2023-02-02T00:00:00",
          "2023-02-06T00:00:00",
          "2023-02-10T00:00:00",
          "2023-02-10T00:00:00",
          "2023-02-15T00:00:00",
          "2023-02-23T00:00:00",
          "2023-02-24T00:00:00",
          "2023-02-28T00:00:00",
          "2023-02-28T00:00:00",
          "2023-03-01T00:00:00",
          "2023-03-03T00:00:00",
          "2023-03-03T00:00:00",
          "2023-03-15T00:00:00",
          "2023-03-16T00:00:00",
          "2023-03-17T00:00:00",
          "2023-03-17T00:00:00",
          "2023-03-20T00:00:00",
          "2023-03-20T00:00:00",
          "2023-03-21T00:00:00",
          "2023-03-28T00:00:00",
          "2023-04-03T00:00:00",
          "2023-04-06T00:00:00",
          "2023-04-06T00:00:00",
          "2023-04-10T00:00:00",
          "2023-04-11T00:00:00",
          "2023-04-13T00:00:00",
          "2023-04-19T00:00:00",
          "2023-04-24T00:00:00",
          "2023-04-25T00:00:00",
          "2023-04-28T00:00:00",
          "2023-05-02T00:00:00",
          "2023-05-03T00:00:00",
          "2023-05-08T00:00:00",
          "2023-05-11T00:00:00",
          "2023-05-11T00:00:00",
          "2023-05-15T00:00:00",
          "2023-05-17T00:00:00",
          "2023-05-18T00:00:00",
          "2023-05-23T00:00:00",
          "2023-06-01T00:00:00",
          "2023-06-06T00:00:00",
          "2023-06-14T00:00:00",
          "2023-06-14T00:00:00",
          "2023-06-19T00:00:00",
          "2023-06-22T00:00:00",
          "2023-06-30T00:00:00",
          "2023-07-03T00:00:00",
          "2023-07-12T00:00:00",
          "2023-07-13T00:00:00",
          "2023-07-19T00:00:00",
          "2023-07-25T00:00:00",
          "2023-07-27T00:00:00",
          "2023-07-28T00:00:00",
          "2023-07-31T00:00:00",
          "2023-08-02T00:00:00",
          "2023-08-14T00:00:00",
          "2023-08-15T00:00:00",
          "2023-08-21T00:00:00",
          "2023-08-23T00:00:00",
          "2023-08-28T00:00:00",
          "2023-08-31T00:00:00",
          "2023-08-31T00:00:00",
          "2023-09-01T00:00:00",
          "2023-09-05T00:00:00",
          "2023-09-13T00:00:00",
          "2023-09-26T00:00:00",
          "2023-09-27T00:00:00",
          "2023-09-28T00:00:00",
          "2023-10-03T00:00:00",
          "2023-10-13T00:00:00",
          "2023-10-17T00:00:00",
          "2023-10-19T00:00:00",
          "2023-10-23T00:00:00",
          "2023-10-24T00:00:00",
          "2023-10-26T00:00:00",
          "2023-11-10T00:00:00",
          "2023-11-13T00:00:00",
          "2023-11-14T00:00:00",
          "2023-11-16T00:00:00",
          "2023-11-20T00:00:00",
          "2023-11-21T00:00:00",
          "2023-11-28T00:00:00",
          "2023-11-30T00:00:00",
          "2023-12-01T00:00:00",
          "2023-12-04T00:00:00",
          "2023-12-06T00:00:00",
          "2023-12-08T00:00:00",
          "2023-12-11T00:00:00",
          "2023-12-26T00:00:00"
         ],
         "xaxis": "x",
         "y": [
          160.77067274122047,
          160.5810357280684,
          160.57103572806838,
          157.882452573023,
          157.58260615932085,
          158.33513807378236,
          159.57038768509787,
          160.8056372964134,
          160.7956372964134,
          162.59923714602874,
          166.7516608840757,
          164.06132014612774,
          169.04084390724384,
          166.2794737550314,
          168.21459903163034,
          170.14972430822928,
          172.97559697724972,
          171.9710086890729,
          170.91082306437022,
          171.03923464232668,
          171.29720591319182,
          171.55517718405696,
          176.32623190055057,
          176.87934942612057,
          177.43246695169054,
          175.08930639293314,
          173.58270046373698,
          172.07609453454083,
          169.68401405397634,
          168.76490613675008,
          167.1614851605991,
          163.6270301293205,
          167.85474622636053,
          169.83315224803414,
          170.17669304635595,
          170.52023384467773,
          174.4246988049071,
          178.32916376513646,
          181.46384512729338,
          180.29385026057645,
          166.57522125224645,
          165.1707769716807,
          150.56480412268368,
          164.68845216401706,
          149.82070118036677,
          158.28843704934084,
          152.91618309078632,
          151.338986486883,
          148.09293608616272,
          147.62149850035976,
          144.47188912607984,
          150.80672213463257,
          155.91993234166418,
          155.97616549621293,
          156.03239865076165,
          159.92709784310628,
          158.2882585453536,
          158.44997028821425,
          157.38082708212443,
          158.26219076482715,
          159.14355444752988,
          157.82134888986823,
          162.64830507816615,
          165.39380604628627,
          167.23850649410184,
          169.0832069419174,
          167.0741810708065,
          166.73260409259956,
          167.71566180923529,
          164.01832657903293,
          166.30543814358143,
          166.2454137016377,
          165.71049251571236,
          163.52063564898444,
          165.7511240966309,
          163.81701920876205,
          168.9841091878041,
          166.38342889462947,
          166.90963075735175,
          167.43583262007402,
          168.70584024814391,
          167.42936388453157,
          170.66576415337244,
          175.03720084031488,
          173.6938825191216,
          173.13333825104286,
          172.42822581643398,
          178.70842242195948,
          176.97429744735408,
          175.24017247274867,
          174.80344139915113,
          179.0440926785537,
          183.28474395795632,
          187.0000182374238,
          188.03751857366785,
          188.88353979249544,
          189.72956101132303,
          192.07295587854102,
          194.55520461705274,
          197.03745335556445,
          201.89066098345924,
          197.60528732031628,
          203.5755899094072,
          204.92271753791286,
          206.26984516641852,
          202.81524744838157,
          199.53197652432445,
          195.9098342270472,
          196.33375973931612,
          199.11261715952193,
          199.9708040904775,
          200.69280936439324,
          200.04286947838298,
          199.39292959237272,
          199.6404602881727,
          200.766846883685,
          197.34109137620018,
          197.2849607684771,
          201.93577736858148,
          201.328397727086,
          200.75816463446478,
          201.2599854641822,
          199.68318352292295,
          198.10638158166367,
          199.29020093102974,
          196.26532546560472,
          198.67763299977267,
          201.0899405339406,
          202.065376753489,
          202.91539393520236,
          204.4746230044981,
          201.0097336799301,
          201.40790773113926,
          201.69596372377043,
          199.36906427262036,
          200.60085802381457,
          199.00590200069942,
          199.8967924713437,
          199.56652441191335,
          197.95596592027303,
          199.20523699792184,
          194.68948015888762,
          197.31296481186027,
          197.30296481186028,
          194.6418440581611,
          198.00873385595077,
          201.37562365374043,
          202.45451218527754,
          199.73429189644548,
          197.0140716076134,
          200.05070905611535,
          199.09076693924197,
          199.52969622807458,
          199.96862551690722,
          198.38971050814033,
          196.40670868811847,
          194.06191944433715,
          191.71713020055583,
          187.9062034208882,
          187.51726867403943,
          186.38782627887824,
          185.25838388371707,
          183.92764248869213,
          181.6231875776788,
          183.43967557868004,
          183.87118250557197,
          183.6763915288796,
          183.48160055218722,
          182.81057093638077,
          183.34782611312946,
          184.56459232566698,
          183.3125518108082,
          182.68838745641352,
          184.3602606903214,
          185.26840591176227,
          184.22981813286995,
          187.87743413520002,
          189.15901291346253,
          190.230906099863,
          190.48654997724805,
          192.87380406871705,
          193.36568379499263,
          193.3972725721197,
          192.06929625964108,
          192.0592962596411,
          194.6274191612987,
          197.1955420629563,
          197.892653629426,
          198.58976519589572,
          200.35755437900852,
          201.11172366801807,
          199.78496830938028,
          199.9193878548907,
          200.3070658072651,
          201.1571997638991,
          200.0853195486819,
          201.04201753405547,
          201.64795980605584,
          198.75715429128286,
          195.86634877650985,
          194.6597610424292,
          194.85211203144453,
          190.83670684448032,
          193.67460365575232,
          194.4218849814875,
          194.8116304969412,
          194.05076209464454,
          193.0091255974025,
          193.43463570679222,
          192.7427433441945,
          194.01957210743203,
          195.29640087066952,
          192.9399628849879,
          191.61505414064501,
          190.29014539630214,
          190.4115352915009,
          193.5981824345581,
          195.48945262945824,
          196.97554595759752,
          196.73633212765773,
          197.5406836069927,
          198.71296381108584,
          198.50472109858998,
          198.3932109242908,
          197.88069159998,
          196.64161508649903,
          197.58064852003326,
          200.35329343922595,
          199.6519693093957,
          198.44046953622973,
          197.22896976306376,
          198.22838717923278,
          195.52929266496503,
          197.58149119946535,
          182.57148867552536,
          178.39481975951358,
          186.4602834652639,
          178.87558258840025,
          177.76949936115594,
          181.75441217364684,
          178.8575672401638,
          180.04433608803555,
          180.96025125378944,
          181.8761664195433,
          187.829459937167,
          189.60516345665377,
          186.563171027136,
          185.47300865513904,
          184.02623333628046,
          182.57945801742187,
          190.67442723577307,
          198.7693964541243,
          199.51451343188427,
          199.45536013985574,
          204.70850864337154,
          205.0256235663939,
          204.8292981435336,
          207.94576361282262,
          208.4211996206691,
          211.6479218650819,
          211.03607773000928,
          214.36737917605012,
          211.42304039264687,
          210.90518501410628,
          211.63764785895097,
          209.3759720776585,
          212.7052932480006,
          212.78334750885855,
          212.77334750885854,
          213.47225374108234,
          215.18637626752,
          212.45947177917296,
          210.64765115590797,
          208.78579579112798,
          211.67180655826732,
          210.08398226061948,
          208.49615796297167,
          210.21925591611827,
          207.48352971496425,
          206.72922583478254,
          203.83545513768354,
          208.30239026618625,
          207.9863242449754,
          205.86494227225316,
          204.7699328855421,
          202.82711795764055,
          200.55977243851922,
          198.29242691939788,
          199.12275815668477,
          197.4826250606073,
          202.78283998792057,
          208.08305491523384,
          207.37060393901595,
          210.64508739516353,
          207.50393816053187,
          209.1606138784386,
          207.02404138791954,
          207.99696597360074,
          211.3599613056574,
          210.05437255503057,
          208.48870140768082,
          211.79955896448396,
          210.92300437471064,
          215.3751595117061,
          218.6316752868816,
          218.80303960934842,
          219.62576012394916,
          219.79313558841312,
          219.28736733571134,
          219.52497925004582,
          215.60628900458588,
          212.60625672574517,
          212.20916174183185,
          207.36729978787648,
          207.17949199205,
          206.9916841962235,
          204.64208518583874,
          207.7793461347137,
          211.87395803959035,
          212.87114140823533,
          216.90475127362444,
          220.93836113901358,
          219.84690523174578,
          215.7402928073614,
          210.86951880759472,
          216.62102969574494,
          218.93330709143447,
          217.3588367542294,
          213.86046991618164,
          211.8504681888127,
          208.77926854208607,
          210.3464314006076,
          210.33643140060758,
          210.32643140060756,
          210.23323532624653,
          210.0122667303602,
          211.9853749772311,
          212.5816918546069,
          214.46624471058536,
          213.9944331409448,
          213.90009802191727,
          217.52647882332846,
          221.6230900865858,
          222.92564703458626,
          221.44449478697842,
          219.9633425393706,
          220.92082349183468,
          221.87830444429878,
          221.4236946003032,
          220.96908475630764,
          223.2195835720389,
          222.57955977560485,
          221.89412608412002,
          221.36598181313784,
          221.52781488559467,
          222.64876254692237,
          224.01207811933693,
          225.99852836210147,
          225.37547886344825,
          228.09547269515699,
          229.2503939114968,
          228.87949767664998,
          230.72753060323095,
          232.38356245098677,
          234.49647084818776,
          233.78199335854234,
          234.09124714605193,
          235.58107228113508,
          237.15002784132534,
          236.47312451332726,
          235.7962211853292,
          237.90877460872207,
          241.41099059812512,
          240.527457082274,
          239.3943033276447,
          241.65610771375853,
          243.2410806007112,
          246.05249603661466,
          248.86391147251808,
          251.042182596334,
          251.20094124695146,
          252.94031994385685,
          259.77359458407597,
          259.5202216554111,
          262.6409934252328,
          258.5238427374702,
          255.34811696509058,
          252.17239119271096,
          249.63212314531341,
          249.47163159119347,
          249.31114003707356,
          247.64327359523054,
          252.03930754925162,
          255.5417678370079,
          256.942200107981,
          258.26325600404846,
          255.3901956681293,
          256.86272002506536,
          256.9570744450823,
          256.56893061272956,
          260.4287976203546,
          260.49005006761774,
          259.02552749465497,
          259.3925343194306,
          260.7680120196639,
          263.33376231439047,
          265.899512609117,
          268.3149982308919,
          270.1318965397695,
          268.15132424330125,
          268.1121085906986,
          270.1775923469458,
          266.5770962869233,
          268.7822680438249,
          270.9874398007265,
          270.0294171101637,
          270.51882812663047,
          271.0082391430972,
          273.12528662499864,
          272.0717598827983,
          271.58782265908957,
          271.64391404001395,
          270.6431536017199,
          273.9133794106838,
          271.1810589825024,
          272.04170914361686,
          275.5150603862416,
          273.8657209278657,
          275.2797595722213,
          273.2762943355295,
          271.2728290988377,
          271.1297699215817,
          272.8670925630108,
          274.6044152044398,
          274.66045571095725,
          273.2537128932401,
          271.9620839337321,
          273.20297930464744,
          274.4438746755628,
          273.14953372035245,
          274.8492534408622,
          274.8049884161698,
          274.2807658071462,
          275.28053602356704,
          282.6965330987521,
          282.7180641047589,
          284.72271956389557,
          286.8558045728426,
          287.9275318164209,
          290.38437334803797,
          290.18158245808104,
          291.763521236641,
          291.17788703992835,
          288.9968791405022,
          289.1235267067539,
          292.87506723855176,
          291.73511962389125,
          290.9732355986854,
          288.8610444002942,
          289.1524428741382,
          285.0788391432002,
          281.0052354122622,
          281.29486810222346,
          280.8533862863251,
          276.82988629403457,
          278.0703713304799,
          276.94110886283744,
          277.00918107300254,
          276.7166854042087,
          268.77358230287433,
          270.5455181525989,
          269.8189510350013,
          263.3599675064146,
          261.5866523137395,
          264.84749361640877,
          266.69149574970345,
          264.2814877228894,
          262.8905774706311,
          263.98171444583073,
          263.3510799456143,
          263.64047570968927,
          263.9298714737643,
          264.3312373524522,
          261.87302885657994,
          262.8282861516071,
          263.055999747635,
          263.2837133436629,
          260.6650162532557,
          261.66669024725655,
          262.6683642412574,
          262.3156007008531,
          263.3804142421597,
          260.9033714028502,
          258.4263285635407,
          260.46604558835134,
          262.505762613162,
          262.19661746685983,
          263.50073591344534,
          262.5924061713404,
          264.7074137481259,
          266.8224213249114,
          271.50437358659815,
          272.23481702384885,
          273.26207711921256,
          273.9310724249183,
          273.5166634549449,
          272.251583273305,
          268.19094692182006,
          267.82914121159826,
          269.4078512632642,
          269.72424221913496,
          272.9387856104824,
          276.15332900182983,
          278.63748557684727,
          279.2120457868135,
          279.0470786166471,
          280.5608831011723,
          281.36691523734373,
          278.43355098085266,
          276.0647500873844,
          273.6959491939162,
          274.1790424946146,
          270.0672962854663,
          271.91980569751263,
          272.1425150775107,
          273.7094779882447,
          271.7420021170981,
          271.6289128518984,
          271.61891285189836,
          272.86784109538814,
          268.32154669145456,
          266.67220557125415,
          267.9396343669706,
          268.6476501291335,
          270.841156761494,
          272.35452783132416,
          272.1894314474548,
          271.9629156716137,
          274.1132201162013,
          276.26352456078894,
          277.2955150227912,
          276.83600556940576,
          279.3691500133685,
          282.5271101099353,
          282.7198898133291,
          282.1583710324381,
          286.1224710860907,
          287.2150092779818,
          289.46144891366293,
          288.1734081477394,
          289.66270576519685,
          290.182243701284,
          289.44394756095613,
          292.2277248117819,
          293.59066075457184,
          291.83936741288386,
          295.09237070413417,
          294.04807458378235,
          294.4531796494216,
          295.48250253634177,
          296.14084472371746,
          298.26148212362307,
          297.7931611608289,
          297.5443497248447,
          297.9112736500076,
          298.7161711305755,
          298.625810086307
         ],
         "yaxis": "y",
         "type": "scatter"
        }
       ],
       "layout": {
        "template": {
         "data": {
          "histogram2dcontour": [
           {
            "type": "histogram2dcontour",
            "colorbar": {
             "outlinewidth": 0,
             "ticks": ""
            },
            "colorscale": [
             [
              0.0,
              "#0d0887"
             ],
             [
              0.1111111111111111,
              "#46039f"
             ],
             [
              0.2222222222222222,
              "#7201a8"
             ],
             [
              0.3333333333333333,
              "#9c179e"
             ],
             [
              0.4444444444444444,
              "#bd3786"
             ],
             [
              0.5555555555555556,
              "#d8576b"
             ],
             [
              0.6666666666666666,
              "#ed7953"
             ],
             [
              0.7777777777777778,
              "#fb9f3a"
             ],
             [
              0.8888888888888888,
              "#fdca26"
             ],
             [
              1.0,
              "#f0f921"
             ]
            ]
           }
          ],
          "choropleth": [
           {
            "type": "choropleth",
            "colorbar": {
             "outlinewidth": 0,
             "ticks": ""
            }
           }
          ],
          "histogram2d": [
           {
            "type": "histogram2d",
            "colorbar": {
             "outlinewidth": 0,
             "ticks": ""
            },
            "colorscale": [
             [
              0.0,
              "#0d0887"
             ],
             [
              0.1111111111111111,
              "#46039f"
             ],
             [
              0.2222222222222222,
              "#7201a8"
             ],
             [
              0.3333333333333333,
              "#9c179e"
             ],
             [
              0.4444444444444444,
              "#bd3786"
             ],
             [
              0.5555555555555556,
              "#d8576b"
             ],
             [
              0.6666666666666666,
              "#ed7953"
             ],
             [
              0.7777777777777778,
              "#fb9f3a"
             ],
             [
              0.8888888888888888,
              "#fdca26"
             ],
             [
              1.0,
              "#f0f921"
             ]
            ]
           }
          ],
          "heatmap": [
           {
            "type": "heatmap",
            "colorbar": {
             "outlinewidth": 0,
             "ticks": ""
            },
            "colorscale": [
             [
              0.0,
              "#0d0887"
             ],
             [
              0.1111111111111111,
              "#46039f"
             ],
             [
              0.2222222222222222,
              "#7201a8"
             ],
             [
              0.3333333333333333,
              "#9c179e"
             ],
             [
              0.4444444444444444,
              "#bd3786"
             ],
             [
              0.5555555555555556,
              "#d8576b"
             ],
             [
              0.6666666666666666,
              "#ed7953"
             ],
             [
              0.7777777777777778,
              "#fb9f3a"
             ],
             [
              0.8888888888888888,
              "#fdca26"
             ],
             [
              1.0,
              "#f0f921"
             ]
            ]
           }
          ],
          "heatmapgl": [
           {
            "type": "heatmapgl",
            "colorbar": {
             "outlinewidth": 0,
             "ticks": ""
            },
            "colorscale": [
             [
              0.0,
              "#0d0887"
             ],
             [
              0.1111111111111111,
              "#46039f"
             ],
             [
              0.2222222222222222,
              "#7201a8"
             ],
             [
              0.3333333333333333,
              "#9c179e"
             ],
             [
              0.4444444444444444,
              "#bd3786"
             ],
             [
              0.5555555555555556,
              "#d8576b"
             ],
             [
              0.6666666666666666,
              "#ed7953"
             ],
             [
              0.7777777777777778,
              "#fb9f3a"
             ],
             [
              0.8888888888888888,
              "#fdca26"
             ],
             [
              1.0,
              "#f0f921"
             ]
            ]
           }
          ],
          "contourcarpet": [
           {
            "type": "contourcarpet",
            "colorbar": {
             "outlinewidth": 0,
             "ticks": ""
            }
           }
          ],
          "contour": [
           {
            "type": "contour",
            "colorbar": {
             "outlinewidth": 0,
             "ticks": ""
            },
            "colorscale": [
             [
              0.0,
              "#0d0887"
             ],
             [
              0.1111111111111111,
              "#46039f"
             ],
             [
              0.2222222222222222,
              "#7201a8"
             ],
             [
              0.3333333333333333,
              "#9c179e"
             ],
             [
              0.4444444444444444,
              "#bd3786"
             ],
             [
              0.5555555555555556,
              "#d8576b"
             ],
             [
              0.6666666666666666,
              "#ed7953"
             ],
             [
              0.7777777777777778,
              "#fb9f3a"
             ],
             [
              0.8888888888888888,
              "#fdca26"
             ],
             [
              1.0,
              "#f0f921"
             ]
            ]
           }
          ],
          "surface": [
           {
            "type": "surface",
            "colorbar": {
             "outlinewidth": 0,
             "ticks": ""
            },
            "colorscale": [
             [
              0.0,
              "#0d0887"
             ],
             [
              0.1111111111111111,
              "#46039f"
             ],
             [
              0.2222222222222222,
              "#7201a8"
             ],
             [
              0.3333333333333333,
              "#9c179e"
             ],
             [
              0.4444444444444444,
              "#bd3786"
             ],
             [
              0.5555555555555556,
              "#d8576b"
             ],
             [
              0.6666666666666666,
              "#ed7953"
             ],
             [
              0.7777777777777778,
              "#fb9f3a"
             ],
             [
              0.8888888888888888,
              "#fdca26"
             ],
             [
              1.0,
              "#f0f921"
             ]
            ]
           }
          ],
          "mesh3d": [
           {
            "type": "mesh3d",
            "colorbar": {
             "outlinewidth": 0,
             "ticks": ""
            }
           }
          ],
          "scatter": [
           {
            "fillpattern": {
             "fillmode": "overlay",
             "size": 10,
             "solidity": 0.2
            },
            "type": "scatter"
           }
          ],
          "parcoords": [
           {
            "type": "parcoords",
            "line": {
             "colorbar": {
              "outlinewidth": 0,
              "ticks": ""
             }
            }
           }
          ],
          "scatterpolargl": [
           {
            "type": "scatterpolargl",
            "marker": {
             "colorbar": {
              "outlinewidth": 0,
              "ticks": ""
             }
            }
           }
          ],
          "bar": [
           {
            "error_x": {
             "color": "#2a3f5f"
            },
            "error_y": {
             "color": "#2a3f5f"
            },
            "marker": {
             "line": {
              "color": "#E5ECF6",
              "width": 0.5
             },
             "pattern": {
              "fillmode": "overlay",
              "size": 10,
              "solidity": 0.2
             }
            },
            "type": "bar"
           }
          ],
          "scattergeo": [
           {
            "type": "scattergeo",
            "marker": {
             "colorbar": {
              "outlinewidth": 0,
              "ticks": ""
             }
            }
           }
          ],
          "scatterpolar": [
           {
            "type": "scatterpolar",
            "marker": {
             "colorbar": {
              "outlinewidth": 0,
              "ticks": ""
             }
            }
           }
          ],
          "histogram": [
           {
            "marker": {
             "pattern": {
              "fillmode": "overlay",
              "size": 10,
              "solidity": 0.2
             }
            },
            "type": "histogram"
           }
          ],
          "scattergl": [
           {
            "type": "scattergl",
            "marker": {
             "colorbar": {
              "outlinewidth": 0,
              "ticks": ""
             }
            }
           }
          ],
          "scatter3d": [
           {
            "type": "scatter3d",
            "line": {
             "colorbar": {
              "outlinewidth": 0,
              "ticks": ""
             }
            },
            "marker": {
             "colorbar": {
              "outlinewidth": 0,
              "ticks": ""
             }
            }
           }
          ],
          "scattermapbox": [
           {
            "type": "scattermapbox",
            "marker": {
             "colorbar": {
              "outlinewidth": 0,
              "ticks": ""
             }
            }
           }
          ],
          "scatterternary": [
           {
            "type": "scatterternary",
            "marker": {
             "colorbar": {
              "outlinewidth": 0,
              "ticks": ""
             }
            }
           }
          ],
          "scattercarpet": [
           {
            "type": "scattercarpet",
            "marker": {
             "colorbar": {
              "outlinewidth": 0,
              "ticks": ""
             }
            }
           }
          ],
          "carpet": [
           {
            "aaxis": {
             "endlinecolor": "#2a3f5f",
             "gridcolor": "white",
             "linecolor": "white",
             "minorgridcolor": "white",
             "startlinecolor": "#2a3f5f"
            },
            "baxis": {
             "endlinecolor": "#2a3f5f",
             "gridcolor": "white",
             "linecolor": "white",
             "minorgridcolor": "white",
             "startlinecolor": "#2a3f5f"
            },
            "type": "carpet"
           }
          ],
          "table": [
           {
            "cells": {
             "fill": {
              "color": "#EBF0F8"
             },
             "line": {
              "color": "white"
             }
            },
            "header": {
             "fill": {
              "color": "#C8D4E3"
             },
             "line": {
              "color": "white"
             }
            },
            "type": "table"
           }
          ],
          "barpolar": [
           {
            "marker": {
             "line": {
              "color": "#E5ECF6",
              "width": 0.5
             },
             "pattern": {
              "fillmode": "overlay",
              "size": 10,
              "solidity": 0.2
             }
            },
            "type": "barpolar"
           }
          ],
          "pie": [
           {
            "automargin": true,
            "type": "pie"
           }
          ]
         },
         "layout": {
          "autotypenumbers": "strict",
          "colorway": [
           "#636efa",
           "#EF553B",
           "#00cc96",
           "#ab63fa",
           "#FFA15A",
           "#19d3f3",
           "#FF6692",
           "#B6E880",
           "#FF97FF",
           "#FECB52"
          ],
          "font": {
           "color": "#2a3f5f"
          },
          "hovermode": "closest",
          "hoverlabel": {
           "align": "left"
          },
          "paper_bgcolor": "white",
          "plot_bgcolor": "#E5ECF6",
          "polar": {
           "bgcolor": "#E5ECF6",
           "angularaxis": {
            "gridcolor": "white",
            "linecolor": "white",
            "ticks": ""
           },
           "radialaxis": {
            "gridcolor": "white",
            "linecolor": "white",
            "ticks": ""
           }
          },
          "ternary": {
           "bgcolor": "#E5ECF6",
           "aaxis": {
            "gridcolor": "white",
            "linecolor": "white",
            "ticks": ""
           },
           "baxis": {
            "gridcolor": "white",
            "linecolor": "white",
            "ticks": ""
           },
           "caxis": {
            "gridcolor": "white",
            "linecolor": "white",
            "ticks": ""
           }
          },
          "coloraxis": {
           "colorbar": {
            "outlinewidth": 0,
            "ticks": ""
           }
          },
          "colorscale": {
           "sequential": [
            [
             0.0,
             "#0d0887"
            ],
            [
             0.1111111111111111,
             "#46039f"
            ],
            [
             0.2222222222222222,
             "#7201a8"
            ],
            [
             0.3333333333333333,
             "#9c179e"
            ],
            [
             0.4444444444444444,
             "#bd3786"
            ],
            [
             0.5555555555555556,
             "#d8576b"
            ],
            [
             0.6666666666666666,
             "#ed7953"
            ],
            [
             0.7777777777777778,
             "#fb9f3a"
            ],
            [
             0.8888888888888888,
             "#fdca26"
            ],
            [
             1.0,
             "#f0f921"
            ]
           ],
           "sequentialminus": [
            [
             0.0,
             "#0d0887"
            ],
            [
             0.1111111111111111,
             "#46039f"
            ],
            [
             0.2222222222222222,
             "#7201a8"
            ],
            [
             0.3333333333333333,
             "#9c179e"
            ],
            [
             0.4444444444444444,
             "#bd3786"
            ],
            [
             0.5555555555555556,
             "#d8576b"
            ],
            [
             0.6666666666666666,
             "#ed7953"
            ],
            [
             0.7777777777777778,
             "#fb9f3a"
            ],
            [
             0.8888888888888888,
             "#fdca26"
            ],
            [
             1.0,
             "#f0f921"
            ]
           ],
           "diverging": [
            [
             0,
             "#8e0152"
            ],
            [
             0.1,
             "#c51b7d"
            ],
            [
             0.2,
             "#de77ae"
            ],
            [
             0.3,
             "#f1b6da"
            ],
            [
             0.4,
             "#fde0ef"
            ],
            [
             0.5,
             "#f7f7f7"
            ],
            [
             0.6,
             "#e6f5d0"
            ],
            [
             0.7,
             "#b8e186"
            ],
            [
             0.8,
             "#7fbc41"
            ],
            [
             0.9,
             "#4d9221"
            ],
            [
             1,
             "#276419"
            ]
           ]
          },
          "xaxis": {
           "gridcolor": "white",
           "linecolor": "white",
           "ticks": "",
           "title": {
            "standoff": 15
           },
           "zerolinecolor": "white",
           "automargin": true,
           "zerolinewidth": 2
          },
          "yaxis": {
           "gridcolor": "white",
           "linecolor": "white",
           "ticks": "",
           "title": {
            "standoff": 15
           },
           "zerolinecolor": "white",
           "automargin": true,
           "zerolinewidth": 2
          },
          "scene": {
           "xaxis": {
            "backgroundcolor": "#E5ECF6",
            "gridcolor": "white",
            "linecolor": "white",
            "showbackground": true,
            "ticks": "",
            "zerolinecolor": "white",
            "gridwidth": 2
           },
           "yaxis": {
            "backgroundcolor": "#E5ECF6",
            "gridcolor": "white",
            "linecolor": "white",
            "showbackground": true,
            "ticks": "",
            "zerolinecolor": "white",
            "gridwidth": 2
           },
           "zaxis": {
            "backgroundcolor": "#E5ECF6",
            "gridcolor": "white",
            "linecolor": "white",
            "showbackground": true,
            "ticks": "",
            "zerolinecolor": "white",
            "gridwidth": 2
           }
          },
          "shapedefaults": {
           "line": {
            "color": "#2a3f5f"
           }
          },
          "annotationdefaults": {
           "arrowcolor": "#2a3f5f",
           "arrowhead": 0,
           "arrowwidth": 1
          },
          "geo": {
           "bgcolor": "white",
           "landcolor": "#E5ECF6",
           "subunitcolor": "white",
           "showland": true,
           "showlakes": true,
           "lakecolor": "white"
          },
          "title": {
           "x": 0.05
          },
          "mapbox": {
           "style": "light"
          }
         }
        },
        "xaxis": {
         "anchor": "y",
         "domain": [
          0.0,
          1.0
         ],
         "title": {
          "text": "Date"
         }
        },
        "yaxis": {
         "anchor": "x",
         "domain": [
          0.0,
          1.0
         ],
         "title": {
          "text": "Cumulative Returns (%)"
         }
        },
        "legend": {
         "title": {
          "text": "train_test"
         },
         "tracegroupgap": 0
        },
        "title": {
         "text": "Candlestick Patterns - GradientBoostingClassifier - PETR4.SA"
        }
       },
       "config": {
        "plotlyServerURL": "https://plot.ly"
       }
      },
      "text/html": "<div>                            <div id=\"ca49834f-c599-4e04-b9bf-69dc809e0258\" class=\"plotly-graph-div\" style=\"height:525px; width:100%;\"></div>            <script type=\"text/javascript\">                require([\"plotly\"], function(Plotly) {                    window.PLOTLYENV=window.PLOTLYENV || {};                                    if (document.getElementById(\"ca49834f-c599-4e04-b9bf-69dc809e0258\")) {                    Plotly.newPlot(                        \"ca49834f-c599-4e04-b9bf-69dc809e0258\",                        [{\"hovertemplate\":\"train_test=Train\\u003cbr\\u003eDate=%{x}\\u003cbr\\u003eCumulative Returns (%)=%{y}\\u003cextra\\u003e\\u003c\\u002fextra\\u003e\",\"legendgroup\":\"Train\",\"line\":{\"color\":\"#636efa\",\"dash\":\"solid\",\"shape\":\"linear\"},\"marker\":{\"symbol\":\"circle\"},\"mode\":\"lines\",\"name\":\"Train\",\"orientation\":\"v\",\"showlegend\":true,\"x\":[\"2012-02-07T00:00:00\",\"2012-02-10T00:00:00\",\"2012-02-10T00:00:00\",\"2012-02-14T00:00:00\",\"2012-02-16T00:00:00\",\"2012-02-17T00:00:00\",\"2012-03-09T00:00:00\",\"2012-03-13T00:00:00\",\"2012-03-13T00:00:00\",\"2012-03-15T00:00:00\",\"2012-03-27T00:00:00\",\"2012-04-03T00:00:00\",\"2012-04-04T00:00:00\",\"2012-04-11T00:00:00\",\"2012-04-12T00:00:00\",\"2012-04-17T00:00:00\",\"2012-04-23T00:00:00\",\"2012-04-30T00:00:00\",\"2012-05-02T00:00:00\",\"2012-05-10T00:00:00\",\"2012-05-15T00:00:00\",\"2012-05-16T00:00:00\",\"2012-05-17T00:00:00\",\"2012-05-17T00:00:00\",\"2012-05-22T00:00:00\",\"2012-05-31T00:00:00\",\"2012-05-31T00:00:00\",\"2012-06-01T00:00:00\",\"2012-06-05T00:00:00\",\"2012-06-06T00:00:00\",\"2012-06-08T00:00:00\",\"2012-06-11T00:00:00\",\"2012-06-13T00:00:00\",\"2012-06-14T00:00:00\",\"2012-06-15T00:00:00\",\"2012-06-21T00:00:00\",\"2012-06-21T00:00:00\",\"2012-06-25T00:00:00\",\"2012-06-25T00:00:00\",\"2012-06-26T00:00:00\",\"2012-07-04T00:00:00\",\"2012-07-10T00:00:00\",\"2012-07-11T00:00:00\",\"2012-07-13T00:00:00\",\"2012-07-17T00:00:00\",\"2012-07-25T00:00:00\",\"2012-07-27T00:00:00\",\"2012-07-30T00:00:00\",\"2012-07-31T00:00:00\",\"2012-08-02T00:00:00\",\"2012-08-08T00:00:00\",\"2012-08-09T00:00:00\",\"2012-08-14T00:00:00\",\"2012-08-21T00:00:00\",\"2012-09-19T00:00:00\",\"2012-09-21T00:00:00\",\"2012-10-03T00:00:00\",\"2012-10-05T00:00:00\",\"2012-10-09T00:00:00\",\"2012-10-19T00:00:00\",\"2012-10-25T00:00:00\",\"2012-10-29T00:00:00\",\"2012-10-31T00:00:00\",\"2012-10-31T00:00:00\",\"2012-11-01T00:00:00\",\"2012-11-05T00:00:00\",\"2012-11-14T00:00:00\",\"2012-11-19T00:00:00\",\"2012-11-21T00:00:00\",\"2012-11-22T00:00:00\",\"2012-11-23T00:00:00\",\"2012-11-23T00:00:00\",\"2012-11-30T00:00:00\",\"2012-12-11T00:00:00\",\"2012-12-14T00:00:00\",\"2012-12-26T00:00:00\",\"2012-12-28T00:00:00\",\"2013-01-03T00:00:00\",\"2013-01-07T00:00:00\",\"2013-01-08T00:00:00\",\"2013-01-09T00:00:00\",\"2013-01-14T00:00:00\",\"2013-01-14T00:00:00\",\"2013-01-15T00:00:00\",\"2013-01-18T00:00:00\",\"2013-01-22T00:00:00\",\"2013-01-30T00:00:00\",\"2013-02-28T00:00:00\",\"2013-03-04T00:00:00\",\"2013-03-05T00:00:00\",\"2013-03-11T00:00:00\",\"2013-03-14T00:00:00\",\"2013-04-01T00:00:00\",\"2013-04-01T00:00:00\",\"2013-04-02T00:00:00\",\"2013-04-03T00:00:00\",\"2013-04-04T00:00:00\",\"2013-04-08T00:00:00\",\"2013-04-12T00:00:00\",\"2013-04-15T00:00:00\",\"2013-04-22T00:00:00\",\"2013-04-30T00:00:00\",\"2013-05-10T00:00:00\",\"2013-05-20T00:00:00\",\"2013-05-22T00:00:00\",\"2013-05-23T00:00:00\",\"2013-06-06T00:00:00\",\"2013-06-11T00:00:00\",\"2013-06-19T00:00:00\",\"2013-06-20T00:00:00\",\"2013-06-21T00:00:00\",\"2013-06-24T00:00:00\",\"2013-07-22T00:00:00\",\"2013-07-23T00:00:00\",\"2013-07-25T00:00:00\",\"2013-07-29T00:00:00\",\"2013-08-01T00:00:00\",\"2013-08-08T00:00:00\",\"2013-08-14T00:00:00\",\"2013-08-16T00:00:00\",\"2013-08-20T00:00:00\",\"2013-08-27T00:00:00\",\"2013-09-06T00:00:00\",\"2013-09-09T00:00:00\",\"2013-09-09T00:00:00\",\"2013-09-16T00:00:00\",\"2013-09-18T00:00:00\",\"2013-09-24T00:00:00\",\"2013-09-24T00:00:00\",\"2013-09-30T00:00:00\",\"2013-10-01T00:00:00\",\"2013-10-04T00:00:00\",\"2013-10-07T00:00:00\",\"2013-10-08T00:00:00\",\"2013-10-10T00:00:00\",\"2013-10-14T00:00:00\",\"2013-10-21T00:00:00\",\"2013-10-22T00:00:00\",\"2013-10-28T00:00:00\",\"2013-10-29T00:00:00\",\"2013-10-30T00:00:00\",\"2013-11-06T00:00:00\",\"2013-11-07T00:00:00\",\"2013-11-08T00:00:00\",\"2013-11-11T00:00:00\",\"2013-11-13T00:00:00\",\"2013-11-14T00:00:00\",\"2013-11-18T00:00:00\",\"2013-11-25T00:00:00\",\"2013-11-26T00:00:00\",\"2013-12-02T00:00:00\",\"2013-12-06T00:00:00\",\"2013-12-09T00:00:00\",\"2013-12-12T00:00:00\",\"2013-12-17T00:00:00\",\"2013-12-17T00:00:00\",\"2013-12-18T00:00:00\",\"2013-12-19T00:00:00\",\"2013-12-23T00:00:00\",\"2013-12-26T00:00:00\",\"2013-12-26T00:00:00\",\"2013-12-27T00:00:00\",\"2013-12-27T00:00:00\",\"2014-01-06T00:00:00\",\"2014-01-08T00:00:00\",\"2014-01-15T00:00:00\",\"2014-01-16T00:00:00\",\"2014-01-20T00:00:00\",\"2014-01-21T00:00:00\",\"2014-01-27T00:00:00\",\"2014-01-28T00:00:00\",\"2014-02-03T00:00:00\",\"2014-02-04T00:00:00\",\"2014-02-05T00:00:00\",\"2014-02-18T00:00:00\",\"2014-02-24T00:00:00\",\"2014-02-26T00:00:00\",\"2014-02-28T00:00:00\",\"2014-03-05T00:00:00\",\"2014-03-06T00:00:00\",\"2014-03-07T00:00:00\",\"2014-03-13T00:00:00\",\"2014-03-14T00:00:00\",\"2014-03-17T00:00:00\",\"2014-03-27T00:00:00\",\"2014-03-27T00:00:00\",\"2014-04-07T00:00:00\",\"2014-04-07T00:00:00\",\"2014-04-11T00:00:00\",\"2014-04-23T00:00:00\",\"2014-04-25T00:00:00\",\"2014-04-28T00:00:00\",\"2014-04-29T00:00:00\",\"2014-05-02T00:00:00\",\"2014-05-02T00:00:00\",\"2014-05-06T00:00:00\",\"2014-05-12T00:00:00\",\"2014-05-14T00:00:00\",\"2014-05-19T00:00:00\",\"2014-05-19T00:00:00\",\"2014-05-21T00:00:00\",\"2014-05-27T00:00:00\",\"2014-05-29T00:00:00\",\"2014-06-05T00:00:00\",\"2014-06-06T00:00:00\",\"2014-06-10T00:00:00\",\"2014-06-18T00:00:00\",\"2014-06-20T00:00:00\",\"2014-06-23T00:00:00\",\"2014-06-23T00:00:00\",\"2014-07-03T00:00:00\",\"2014-07-03T00:00:00\",\"2014-07-04T00:00:00\",\"2014-07-07T00:00:00\",\"2014-07-10T00:00:00\",\"2014-07-17T00:00:00\",\"2014-07-23T00:00:00\",\"2014-07-24T00:00:00\",\"2014-07-25T00:00:00\",\"2014-07-28T00:00:00\",\"2014-07-31T00:00:00\",\"2014-08-01T00:00:00\",\"2014-08-04T00:00:00\",\"2014-08-04T00:00:00\",\"2014-08-08T00:00:00\",\"2014-08-11T00:00:00\",\"2014-08-15T00:00:00\",\"2014-08-15T00:00:00\",\"2014-08-19T00:00:00\",\"2014-08-19T00:00:00\",\"2014-08-22T00:00:00\",\"2014-08-25T00:00:00\",\"2014-08-25T00:00:00\",\"2014-08-27T00:00:00\",\"2014-09-02T00:00:00\",\"2014-09-08T00:00:00\",\"2014-09-09T00:00:00\",\"2014-09-12T00:00:00\",\"2014-09-18T00:00:00\",\"2014-09-19T00:00:00\",\"2014-09-22T00:00:00\",\"2014-09-25T00:00:00\",\"2014-09-29T00:00:00\",\"2014-10-01T00:00:00\",\"2014-10-02T00:00:00\",\"2014-10-03T00:00:00\",\"2014-10-09T00:00:00\",\"2014-10-14T00:00:00\",\"2014-10-20T00:00:00\",\"2014-10-21T00:00:00\",\"2014-10-22T00:00:00\",\"2014-10-27T00:00:00\",\"2014-10-29T00:00:00\",\"2014-10-29T00:00:00\",\"2014-10-30T00:00:00\",\"2014-10-31T00:00:00\",\"2014-10-31T00:00:00\",\"2014-11-03T00:00:00\",\"2014-11-06T00:00:00\",\"2014-11-10T00:00:00\",\"2014-11-10T00:00:00\",\"2014-11-13T00:00:00\",\"2014-11-13T00:00:00\",\"2014-11-27T00:00:00\",\"2014-11-28T00:00:00\",\"2014-12-15T00:00:00\",\"2014-12-17T00:00:00\",\"2014-12-22T00:00:00\",\"2014-12-22T00:00:00\",\"2015-01-02T00:00:00\",\"2015-01-05T00:00:00\",\"2015-01-07T00:00:00\",\"2015-01-12T00:00:00\",\"2015-01-21T00:00:00\",\"2015-01-30T00:00:00\",\"2015-02-02T00:00:00\",\"2015-02-03T00:00:00\",\"2015-02-09T00:00:00\",\"2015-02-23T00:00:00\",\"2015-02-24T00:00:00\",\"2015-02-25T00:00:00\",\"2015-03-02T00:00:00\",\"2015-03-09T00:00:00\",\"2015-03-09T00:00:00\",\"2015-03-10T00:00:00\",\"2015-03-11T00:00:00\",\"2015-03-12T00:00:00\",\"2015-03-12T00:00:00\",\"2015-03-17T00:00:00\",\"2015-03-26T00:00:00\",\"2015-03-26T00:00:00\",\"2015-04-02T00:00:00\",\"2015-04-07T00:00:00\",\"2015-04-09T00:00:00\",\"2015-04-15T00:00:00\",\"2015-04-15T00:00:00\",\"2015-04-24T00:00:00\",\"2015-04-27T00:00:00\",\"2015-04-27T00:00:00\",\"2015-04-28T00:00:00\",\"2015-05-04T00:00:00\",\"2015-05-11T00:00:00\",\"2015-05-21T00:00:00\",\"2015-05-26T00:00:00\",\"2015-05-27T00:00:00\",\"2015-05-29T00:00:00\",\"2015-06-01T00:00:00\",\"2015-06-02T00:00:00\",\"2015-06-09T00:00:00\",\"2015-06-11T00:00:00\",\"2015-06-17T00:00:00\",\"2015-06-23T00:00:00\",\"2015-06-25T00:00:00\",\"2015-06-26T00:00:00\",\"2015-07-02T00:00:00\",\"2015-07-03T00:00:00\",\"2015-07-06T00:00:00\",\"2015-07-13T00:00:00\",\"2015-07-17T00:00:00\",\"2015-07-17T00:00:00\",\"2015-07-20T00:00:00\",\"2015-07-27T00:00:00\",\"2015-07-31T00:00:00\",\"2015-08-03T00:00:00\",\"2015-08-04T00:00:00\",\"2015-08-05T00:00:00\",\"2015-08-05T00:00:00\",\"2015-08-06T00:00:00\",\"2015-08-07T00:00:00\",\"2015-08-10T00:00:00\",\"2015-08-13T00:00:00\",\"2015-08-13T00:00:00\",\"2015-08-14T00:00:00\",\"2015-08-17T00:00:00\",\"2015-08-21T00:00:00\",\"2015-08-21T00:00:00\",\"2015-08-25T00:00:00\",\"2015-08-26T00:00:00\",\"2015-08-26T00:00:00\",\"2015-08-27T00:00:00\",\"2015-09-01T00:00:00\",\"2015-09-02T00:00:00\",\"2015-09-09T00:00:00\",\"2015-09-11T00:00:00\",\"2015-09-14T00:00:00\",\"2015-09-17T00:00:00\",\"2015-09-21T00:00:00\",\"2015-09-28T00:00:00\",\"2015-09-29T00:00:00\",\"2015-10-01T00:00:00\",\"2015-10-06T00:00:00\",\"2015-10-07T00:00:00\",\"2015-10-08T00:00:00\",\"2015-10-16T00:00:00\",\"2015-10-21T00:00:00\",\"2015-10-21T00:00:00\",\"2015-10-28T00:00:00\",\"2015-11-03T00:00:00\",\"2015-11-06T00:00:00\",\"2015-11-09T00:00:00\",\"2015-11-12T00:00:00\",\"2015-11-16T00:00:00\",\"2015-11-23T00:00:00\",\"2015-11-24T00:00:00\",\"2015-11-25T00:00:00\",\"2015-11-26T00:00:00\",\"2015-11-27T00:00:00\",\"2015-12-08T00:00:00\",\"2015-12-09T00:00:00\",\"2015-12-10T00:00:00\",\"2015-12-14T00:00:00\",\"2015-12-17T00:00:00\",\"2015-12-17T00:00:00\",\"2015-12-18T00:00:00\",\"2015-12-21T00:00:00\",\"2015-12-21T00:00:00\",\"2015-12-22T00:00:00\",\"2015-12-28T00:00:00\",\"2015-12-29T00:00:00\",\"2016-01-12T00:00:00\",\"2016-01-13T00:00:00\",\"2016-01-14T00:00:00\",\"2016-01-18T00:00:00\",\"2016-01-19T00:00:00\",\"2016-01-20T00:00:00\",\"2016-01-22T00:00:00\",\"2016-01-26T00:00:00\",\"2016-01-27T00:00:00\",\"2016-01-29T00:00:00\",\"2016-02-02T00:00:00\",\"2016-02-03T00:00:00\",\"2016-02-05T00:00:00\",\"2016-02-10T00:00:00\",\"2016-02-16T00:00:00\",\"2016-02-17T00:00:00\",\"2016-02-22T00:00:00\",\"2016-02-22T00:00:00\",\"2016-02-23T00:00:00\",\"2016-02-29T00:00:00\",\"2016-03-02T00:00:00\",\"2016-03-03T00:00:00\",\"2016-03-10T00:00:00\",\"2016-03-14T00:00:00\",\"2016-03-14T00:00:00\",\"2016-03-16T00:00:00\",\"2016-03-17T00:00:00\",\"2016-03-23T00:00:00\",\"2016-03-28T00:00:00\",\"2016-03-31T00:00:00\",\"2016-04-11T00:00:00\",\"2016-04-14T00:00:00\",\"2016-04-19T00:00:00\",\"2016-04-25T00:00:00\",\"2016-04-28T00:00:00\",\"2016-05-02T00:00:00\",\"2016-05-10T00:00:00\",\"2016-05-12T00:00:00\",\"2016-05-19T00:00:00\",\"2016-05-19T00:00:00\",\"2016-05-27T00:00:00\",\"2016-05-31T00:00:00\",\"2016-06-06T00:00:00\",\"2016-06-08T00:00:00\",\"2016-06-14T00:00:00\",\"2016-06-16T00:00:00\",\"2016-06-21T00:00:00\",\"2016-06-21T00:00:00\",\"2016-06-22T00:00:00\",\"2016-06-23T00:00:00\",\"2016-06-27T00:00:00\",\"2016-06-28T00:00:00\",\"2016-07-01T00:00:00\",\"2016-07-06T00:00:00\",\"2016-07-11T00:00:00\",\"2016-07-11T00:00:00\",\"2016-07-13T00:00:00\",\"2016-07-20T00:00:00\",\"2016-07-22T00:00:00\",\"2016-07-26T00:00:00\",\"2016-07-27T00:00:00\",\"2016-08-01T00:00:00\",\"2016-08-01T00:00:00\",\"2016-08-02T00:00:00\",\"2016-08-03T00:00:00\",\"2016-08-05T00:00:00\",\"2016-08-05T00:00:00\",\"2016-08-10T00:00:00\",\"2016-08-11T00:00:00\",\"2016-08-15T00:00:00\",\"2016-08-17T00:00:00\",\"2016-08-31T00:00:00\",\"2016-09-01T00:00:00\",\"2016-09-02T00:00:00\",\"2016-09-06T00:00:00\",\"2016-09-09T00:00:00\",\"2016-09-09T00:00:00\",\"2016-09-12T00:00:00\",\"2016-09-14T00:00:00\",\"2016-09-15T00:00:00\",\"2016-09-19T00:00:00\",\"2016-09-20T00:00:00\",\"2016-09-28T00:00:00\",\"2016-09-29T00:00:00\",\"2016-09-30T00:00:00\",\"2016-10-03T00:00:00\",\"2016-10-06T00:00:00\",\"2016-10-07T00:00:00\",\"2016-10-17T00:00:00\",\"2016-10-20T00:00:00\",\"2016-10-31T00:00:00\",\"2016-11-03T00:00:00\",\"2016-11-07T00:00:00\",\"2016-11-10T00:00:00\",\"2016-11-11T00:00:00\",\"2016-11-17T00:00:00\",\"2016-11-29T00:00:00\",\"2016-11-30T00:00:00\",\"2016-12-01T00:00:00\",\"2016-12-06T00:00:00\",\"2016-12-06T00:00:00\",\"2016-12-14T00:00:00\",\"2016-12-15T00:00:00\",\"2016-12-19T00:00:00\",\"2016-12-22T00:00:00\",\"2016-12-28T00:00:00\",\"2016-12-28T00:00:00\",\"2016-12-29T00:00:00\",\"2017-01-09T00:00:00\",\"2017-01-12T00:00:00\",\"2017-01-20T00:00:00\",\"2017-01-23T00:00:00\",\"2017-01-26T00:00:00\",\"2017-01-30T00:00:00\",\"2017-01-31T00:00:00\",\"2017-02-03T00:00:00\",\"2017-02-03T00:00:00\",\"2017-02-06T00:00:00\",\"2017-02-07T00:00:00\",\"2017-02-08T00:00:00\",\"2017-02-10T00:00:00\",\"2017-02-10T00:00:00\",\"2017-02-17T00:00:00\",\"2017-03-01T00:00:00\",\"2017-03-02T00:00:00\",\"2017-03-08T00:00:00\",\"2017-03-08T00:00:00\",\"2017-03-13T00:00:00\",\"2017-03-14T00:00:00\",\"2017-03-14T00:00:00\",\"2017-03-15T00:00:00\",\"2017-03-16T00:00:00\",\"2017-03-22T00:00:00\",\"2017-03-23T00:00:00\",\"2017-03-27T00:00:00\",\"2017-03-28T00:00:00\",\"2017-04-11T00:00:00\",\"2017-04-13T00:00:00\",\"2017-04-13T00:00:00\",\"2017-04-20T00:00:00\",\"2017-04-20T00:00:00\",\"2017-04-25T00:00:00\",\"2017-04-25T00:00:00\",\"2017-05-04T00:00:00\",\"2017-05-04T00:00:00\",\"2017-05-05T00:00:00\",\"2017-05-10T00:00:00\",\"2017-05-10T00:00:00\",\"2017-05-16T00:00:00\",\"2017-05-24T00:00:00\",\"2017-05-30T00:00:00\",\"2017-05-30T00:00:00\",\"2017-05-31T00:00:00\",\"2017-06-01T00:00:00\",\"2017-06-02T00:00:00\",\"2017-06-14T00:00:00\",\"2017-06-16T00:00:00\",\"2017-06-19T00:00:00\",\"2017-06-22T00:00:00\",\"2017-07-18T00:00:00\",\"2017-07-19T00:00:00\",\"2017-07-21T00:00:00\",\"2017-07-24T00:00:00\",\"2017-08-03T00:00:00\",\"2017-08-04T00:00:00\",\"2017-08-07T00:00:00\",\"2017-08-08T00:00:00\",\"2017-08-10T00:00:00\",\"2017-08-11T00:00:00\",\"2017-08-16T00:00:00\",\"2017-08-18T00:00:00\",\"2017-08-18T00:00:00\",\"2017-08-22T00:00:00\",\"2017-08-30T00:00:00\",\"2017-08-30T00:00:00\",\"2017-09-04T00:00:00\",\"2017-09-06T00:00:00\",\"2017-09-06T00:00:00\",\"2017-09-08T00:00:00\",\"2017-09-08T00:00:00\",\"2017-09-20T00:00:00\",\"2017-09-26T00:00:00\",\"2017-09-26T00:00:00\",\"2017-09-28T00:00:00\",\"2017-09-29T00:00:00\",\"2017-10-02T00:00:00\",\"2017-10-03T00:00:00\",\"2017-10-09T00:00:00\",\"2017-10-19T00:00:00\",\"2017-10-24T00:00:00\",\"2017-10-24T00:00:00\",\"2017-10-25T00:00:00\",\"2017-10-27T00:00:00\",\"2017-11-06T00:00:00\",\"2017-11-06T00:00:00\",\"2017-11-07T00:00:00\",\"2017-11-08T00:00:00\",\"2017-11-13T00:00:00\",\"2017-11-21T00:00:00\",\"2017-11-29T00:00:00\",\"2017-12-07T00:00:00\",\"2017-12-12T00:00:00\",\"2017-12-21T00:00:00\",\"2017-12-22T00:00:00\",\"2017-12-26T00:00:00\"],\"xaxis\":\"x\",\"y\":[0.654059654224658,0.6440596542246579,0.6340596542246579,0.15010617697203793,0.8519699426803695,0.30143470243212844,-0.8895241569825761,0.7377916580797474,2.365107473142071,2.8918741719441425,1.1591931555836703,-2.3541135289703496,-1.2611966547072115,-4.362503314034365,-2.8277762267580995,-3.6718812610909763,-3.493896273948068,-3.5038962739480684,-4.030574439718259,-5.998407225796343,-1.6817519114747062,2.766515854623361,6.229108890331599,9.691701926039837,7.246394015603279,5.511355316143154,3.77631661668303,5.4152474019395935,6.947806493691953,5.8377277599011315,3.232414345598052,4.364341903271312,0.4918927830323369,2.573255839769809,2.563255839769809,4.006279147750082,5.449302455730354,6.5628980571538085,7.676493658577263,5.666478312436192,9.086553600852781,9.892235006340693,10.097969980022794,10.087969980022795,10.493573465661289,11.852001346068295,12.536072895380343,8.537931227307523,10.168906799551753,11.893586872908639,11.033718386183757,11.023718386183758,12.021376324330346,13.188383009433913,14.678143798080201,15.813469954172687,15.534847105706573,14.98552397315488,14.525499386555719,14.51549938655572,12.206648731634328,11.353561512243978,11.583971719319859,11.81438192639574,9.933887860543582,7.852330370182084,3.953440714752744,1.277484077030711,1.4285677408469304,4.2067855361924575,2.370987974964842,0.5351904137372264,2.347247131233894,1.6368877227875334,0.19196388555076555,-3.0583195993432257,-2.1974170199451226,-2.0603440167393896,-4.9587707107295875,-4.045721951342209,-3.293507454976166,-2.7964233628317943,-2.299339270687422,-2.2083881801621854,-3.1887794900102255,-3.0455626653362846,-3.7149250618071594,-5.47085877476997,-5.1172426143542555,-14.124836209886926,-15.13852387047142,-16.185322825591964,-18.025604861104448,-19.865886896616935,-18.180980217238897,-19.802122662396894,-19.30390328391709,-14.823406917518,-10.768794368445702,-13.506622768737545,-11.760345691654976,-10.973953618723813,-13.338670224877408,-13.101171382206328,-13.412367127746345,-12.264261633911195,-9.088250174823362,-6.8856281450335715,-8.697998673671325,-5.8660946600479065,-8.923016632312967,-10.127249759160643,-9.4623821222863,-9.594255371566325,-9.604255371566325,-10.933196244503517,-11.710618208620282,-14.303235323351727,-9.121511930868222,-8.850284600529626,-7.63435416956723,-9.30626754677612,-7.00769005277821,-6.08208959742633,-5.156489142074448,-4.732889770944859,-3.3672066604644626,-3.2173700701340318,-3.067533479803601,-1.4435223268668689,-2.0966217164052394,-1.8387925878959057,-0.18393818228621095,1.1168300530740158,1.3823406916389624,0.5513188284761661,2.289191315816307,1.0932189644228687,0.1279602351350575,1.3869915092139709,3.0812530812033447,1.062454056898015,-0.7475510952059412,1.5336941548539622,-1.1642254457759553,1.3834641376633157,6.21452852771599,4.66535056673195,-1.6314733792621299,-2.2179876344730216,-1.363937053525837,-0.09707218767062743,-0.9666834379396374,1.1585363753995357,1.3866333228607106,1.6147302703218858,4.039420411358741,2.0583963256489914,1.227770520681757,1.2768571907237094,1.3259438607656617,2.2019668044132525,3.0779897480608436,5.835736762641412,8.852283659227837,11.647745901752106,11.124564251933611,12.168580383870685,8.89914839825484,9.286224503769287,7.6151004578975225,9.337932252853236,7.48264398422355,10.220319298600513,10.848150789725796,8.631258798985007,11.102957373836217,8.885441551198765,9.928878422464033,9.099813557644714,6.7624835530557235,4.833851621240627,3.1806560970521702,6.352835098589425,6.920876248516613,7.488917398443802,4.623503366845299,1.7580893352467974,0.14216104372605579,0.6932554943785664,3.9895548980175453,4.764574143596267,3.9756694497688136,3.23121860935047,2.486767768932126,4.3407821882950515,3.942568962091491,2.5109980852330445,-1.066478604726859,-4.643955294686762,-3.393923525752174,-2.2032300238116984,-5.739236652535287,2.584099533104696,4.7799839187982975,5.894790068917414,4.305867419523704,2.1568341396154174,-1.4597099768533068,-5.0762540933220315,-5.200436214163465,-5.324618335004898,-6.363168805973002,-6.315446712174406,-5.607584786200223,-0.7096027997711682,-0.42327809094955227,0.45294580275061436,-1.2163823078889764,-3.85666124536507,-4.390256940259533,-1.5054882419429811,-0.748219206259155,0.009049829424671342,4.297352150830027,1.9536893643330122,3.6386349426651754,5.323580520997338,7.465676847909694,9.60777317482205,14.951479761918202,14.03402778667459,13.11657581143098,13.106575811430982,10.61287141141997,9.589039474339991,7.111609111734498,9.286338451422438,7.49144303231992,5.951081676834299,3.706976899036836,9.241349043721298,6.489387790436922,7.708184172540325,13.76756935475435,2.6404275076063675,-2.794116423376494,3.9088283561284647,-1.7931438094696162,-0.08718051350986127,6.525339940307965,10.027741622212107,12.157527811928858,14.287314001645612,20.98125354535242,18.157099470012383,15.332945394672349,15.524961455146634,14.021343441902246,14.154408688225306,14.287473934548366,11.336293537844865,8.385113141141362,3.9108059035877734,-0.14900221508336586,3.262620544242682,4.308569920253827,-0.9087595881981034,-6.126089096650034,-14.683082086302734,-17.964113401758063,-11.515067830618854,-8.697011128414115,-5.373682967263209,0.5199429337144068,13.93427314705636,13.422741490724471,8.199973328543912,12.400529276219055,17.4410455117467,19.239566162222555,20.821912392550047,16.327623291039195,11.833334189528342,14.405495333738225,11.306242173482213,9.761422845739348,8.216603517996484,12.044072650617412,12.355594449618769,12.667116248620125,12.844211839091113,9.629076542978108,11.60528132537568,14.29392906510942,16.98257680484316,11.677590095787444,13.664357424548285,15.651124753309126,16.032688600656304,20.66375282489424,20.36324857665625,17.31170870858722,18.512405390047963,19.379565256737845,19.612869298901174,23.810031528060154,23.10126657516455,23.706634895421193,23.085932053075336,25.43512710997164,27.35264834909798,32.18392344171794,29.448738961844782,24.66141062376,22.52559974548686,24.774490350901818,26.46085206325623,21.017003821972764,15.573155580689296,15.007083585770504,20.47080117278633,16.075652122861577,17.361762816162912,15.875380669566159,19.162107422252955,22.44883417493975,16.152546051391788,19.23853741304474,19.128455678579844,17.013232829333763,14.898009980087684,13.275095128981956,11.516461666199922,6.56671640440061,1.6169711426012991,5.173844922563331,14.880928719568065,24.5880125165728,25.699118060338744,28.36666260310191,27.67638085431129,22.66039168018149,23.43369280249591,22.516960647959905,19.199057575336866,14.668505935159825,16.98768268968893,26.841082094199642,37.51482067461871,34.086013320933795,37.38178563644674,36.80032614844928,36.79032614844928,40.26417908535149,43.738032022253705,39.45132264672425,34.72436582830982,35.86524633096029,32.06261179856143,27.962905961318583,28.73213795202414,33.92017197848918,26.85133008693642,27.09451008337448,23.044080662943944,23.955166598961753,31.23829742894937,33.84268039156198,31.148103172125808,34.05073233527624,31.54072603167991,29.030719728083586,23.607593685192676,25.856625648816657,28.105657612440638,30.157526004309986,29.99827882144045,30.13774908446679,25.42613188416275,33.38578567077827,24.236930978280725,21.31024676458092,16.364637742689226,17.934774872897354,13.16284221438595,21.962371525951554,21.295914561621544,23.765253225755288,28.17386677019016,33.50906860173688,28.43299565838859,30.27916001254509,35.67456499291719,37.58763990756498,39.958598390900235,42.32955687423549,43.33582207036878,46.63322661596906,62.906405665074985,53.002971384924194,51.2319367250225,40.54625767033249,29.860578615642474,41.88379768021476,42.12069178496179,42.49627897502711,43.078703251044914,43.67036992975512,35.913059232473444,41.689076196160904,40.32629819273929,43.960453893049426,43.95045389304942,40.10562876280828,40.48739119932512,37.10663056683659,36.426985865835725,35.74734116483486,37.559980704987616,39.29128486628283,41.172554289310625,38.9261191411783,41.44625534349564,46.73037033287617,48.71406781340701,50.697765293937856,54.22096555708789,49.86763861289727,54.64125152380894,57.89209972260709,58.391249464722314,59.01287438406586,56.20364752164624,53.39442065922662,56.20664977704462,56.450451696000734,57.194216631796735,54.06975201375297,53.451533160764185,54.419324013820614,55.38711486687704,60.13062406852405,61.04501789824717,63.26678792651379,65.48855795478042,70.14983931841128,69.31339456353327,70.76562451554325,71.69607683577837,72.85340059502752,77.22800058520914,79.13399017235872,80.8407431606513,84.08759241978828,87.33444167892527,80.58609455788597,83.62719499370573,81.02654669799146,84.46481591801847,85.64000096527879,82.59751176689693,83.62994996444621,86.56761279490068,86.91554197178652,87.96518160164466,91.03510799587333,94.1020535742654,95.27584223484844,99.95776991107134,99.07979936946548,98.08203240846487,88.45913288531635,88.37773351954765,89.97724364106567,99.1077520908263,95.59776548839697,98.1136835240648,96.30801469830203,94.50234587253925,95.23864365873345,94.62258607334165,94.54298527481423,96.17463242618588,96.77353187850329,97.3724313308207,98.77466065298613,99.74310506947447,98.34949144138876,98.40201052856297,98.07928940677387,96.9300457118573,98.13295864424079,98.12295864424078,100.59015190140144,103.05734515856209,101.30937881656672,104.02044282355791,104.34154032470168,104.58826848111708,104.83499663753248,106.81093727035251,109.44270431867824,110.82251164657848,110.4688696615594,110.11522767654031,115.53320793987913,120.01181689148959,124.49042584310004,121.02971070291414,117.00805801217646,116.33920330320086,115.66595832706363,116.96313109955932,120.53736404241617,120.32300855557314,121.73348045796486,123.14395236035658,124.21464187189724,125.28533138343789,122.90430940480593,120.52328742617395,124.9985533890444,129.47381935191484,128.54895665600833,129.14997060696734,129.7509845579264,129.16771236651095,126.95128919190626,123.94727245891157,120.94325572591688,119.85302374488673,121.63708755464002,122.62326063884395,122.61326063884394,122.5218366562059,126.01061708553387,126.91421579593849,129.1453111269377,130.1179097921345,131.6051685904296,128.95543565811704,129.62159439242595,130.7309847394129,130.27819968397276,130.04581732731398,131.85538264114348,132.84924827491838,132.22994082928093,134.13173427130698,136.033527713333,136.24106209213974,137.7180272406478,139.19499238915586,137.49126861829563,137.48126861829564,137.47126861829565,139.36473787407212,141.2582071298486,142.50845300173538,140.89178137316418,139.27510974459298,139.5258726791865,140.1694570106141,136.3932249755655,138.38570160315723,136.48773431317068,136.0443298093333,134.7623569839557,133.48038415857806,133.41056563538228,134.86856032527928,140.19417654138505,145.51979275749082,148.23708602816325,149.58402868065244,157.32643279915462,158.63716927079494,158.95333562866406,159.53309143891875,161.52438082517466,162.2079587008417,162.1979587008417,161.6870238311192],\"yaxis\":\"y\",\"type\":\"scatter\"},{\"hovertemplate\":\"train_test=Test\\u003cbr\\u003eDate=%{x}\\u003cbr\\u003eCumulative Returns (%)=%{y}\\u003cextra\\u003e\\u003c\\u002fextra\\u003e\",\"legendgroup\":\"Test\",\"line\":{\"color\":\"#EF553B\",\"dash\":\"solid\",\"shape\":\"linear\"},\"marker\":{\"symbol\":\"circle\"},\"mode\":\"lines\",\"name\":\"Test\",\"orientation\":\"v\",\"showlegend\":true,\"x\":[\"2018-01-02T00:00:00\",\"2018-01-03T00:00:00\",\"2018-01-08T00:00:00\",\"2018-01-10T00:00:00\",\"2018-01-11T00:00:00\",\"2018-01-17T00:00:00\",\"2018-01-22T00:00:00\",\"2018-01-22T00:00:00\",\"2018-01-24T00:00:00\",\"2018-01-29T00:00:00\",\"2018-01-31T00:00:00\",\"2018-02-01T00:00:00\",\"2018-02-05T00:00:00\",\"2018-02-06T00:00:00\",\"2018-02-19T00:00:00\",\"2018-02-19T00:00:00\",\"2018-03-02T00:00:00\",\"2018-03-05T00:00:00\",\"2018-03-06T00:00:00\",\"2018-03-07T00:00:00\",\"2018-03-09T00:00:00\",\"2018-03-09T00:00:00\",\"2018-03-14T00:00:00\",\"2018-03-15T00:00:00\",\"2018-03-15T00:00:00\",\"2018-03-16T00:00:00\",\"2018-03-21T00:00:00\",\"2018-03-21T00:00:00\",\"2018-03-29T00:00:00\",\"2018-04-02T00:00:00\",\"2018-04-03T00:00:00\",\"2018-04-06T00:00:00\",\"2018-04-09T00:00:00\",\"2018-04-16T00:00:00\",\"2018-04-26T00:00:00\",\"2018-04-26T00:00:00\",\"2018-05-09T00:00:00\",\"2018-05-09T00:00:00\",\"2018-05-11T00:00:00\",\"2018-05-21T00:00:00\",\"2018-05-23T00:00:00\",\"2018-05-24T00:00:00\",\"2018-05-25T00:00:00\",\"2018-05-28T00:00:00\",\"2018-05-30T00:00:00\",\"2018-06-01T00:00:00\",\"2018-06-04T00:00:00\",\"2018-06-05T00:00:00\",\"2018-06-07T00:00:00\",\"2018-06-13T00:00:00\",\"2018-06-15T00:00:00\",\"2018-06-18T00:00:00\",\"2018-06-19T00:00:00\",\"2018-06-21T00:00:00\",\"2018-06-21T00:00:00\",\"2018-06-22T00:00:00\",\"2018-06-29T00:00:00\",\"2018-07-02T00:00:00\",\"2018-07-06T00:00:00\",\"2018-07-12T00:00:00\",\"2018-07-12T00:00:00\",\"2018-07-17T00:00:00\",\"2018-07-19T00:00:00\",\"2018-07-25T00:00:00\",\"2018-07-26T00:00:00\",\"2018-07-26T00:00:00\",\"2018-08-01T00:00:00\",\"2018-08-03T00:00:00\",\"2018-08-08T00:00:00\",\"2018-08-09T00:00:00\",\"2018-08-10T00:00:00\",\"2018-08-13T00:00:00\",\"2018-08-15T00:00:00\",\"2018-08-22T00:00:00\",\"2018-08-24T00:00:00\",\"2018-08-27T00:00:00\",\"2018-08-28T00:00:00\",\"2018-08-29T00:00:00\",\"2018-09-04T00:00:00\",\"2018-09-04T00:00:00\",\"2018-09-05T00:00:00\",\"2018-09-12T00:00:00\",\"2018-09-14T00:00:00\",\"2018-09-17T00:00:00\",\"2018-09-18T00:00:00\",\"2018-09-19T00:00:00\",\"2018-09-21T00:00:00\",\"2018-09-26T00:00:00\",\"2018-09-27T00:00:00\",\"2018-09-27T00:00:00\",\"2018-09-28T00:00:00\",\"2018-10-02T00:00:00\",\"2018-10-02T00:00:00\",\"2018-10-15T00:00:00\",\"2018-10-16T00:00:00\",\"2018-10-18T00:00:00\",\"2018-10-18T00:00:00\",\"2018-10-19T00:00:00\",\"2018-10-24T00:00:00\",\"2018-10-24T00:00:00\",\"2018-10-25T00:00:00\",\"2018-10-26T00:00:00\",\"2018-10-29T00:00:00\",\"2018-10-30T00:00:00\",\"2018-10-30T00:00:00\",\"2018-11-05T00:00:00\",\"2018-11-06T00:00:00\",\"2018-11-07T00:00:00\",\"2018-11-08T00:00:00\",\"2018-11-14T00:00:00\",\"2018-12-04T00:00:00\",\"2018-12-06T00:00:00\",\"2018-12-10T00:00:00\",\"2018-12-10T00:00:00\",\"2018-12-12T00:00:00\",\"2018-12-18T00:00:00\",\"2018-12-19T00:00:00\",\"2018-12-26T00:00:00\",\"2018-12-27T00:00:00\",\"2019-01-07T00:00:00\",\"2019-01-11T00:00:00\",\"2019-01-18T00:00:00\",\"2019-01-21T00:00:00\",\"2019-01-21T00:00:00\",\"2019-01-22T00:00:00\",\"2019-01-24T00:00:00\",\"2019-01-28T00:00:00\",\"2019-01-28T00:00:00\",\"2019-01-29T00:00:00\",\"2019-01-31T00:00:00\",\"2019-02-06T00:00:00\",\"2019-02-13T00:00:00\",\"2019-02-14T00:00:00\",\"2019-02-15T00:00:00\",\"2019-02-18T00:00:00\",\"2019-02-19T00:00:00\",\"2019-02-22T00:00:00\",\"2019-03-11T00:00:00\",\"2019-03-13T00:00:00\",\"2019-03-18T00:00:00\",\"2019-03-22T00:00:00\",\"2019-03-26T00:00:00\",\"2019-03-27T00:00:00\",\"2019-03-28T00:00:00\",\"2019-04-02T00:00:00\",\"2019-04-03T00:00:00\",\"2019-04-03T00:00:00\",\"2019-04-04T00:00:00\",\"2019-04-10T00:00:00\",\"2019-04-10T00:00:00\",\"2019-04-15T00:00:00\",\"2019-04-29T00:00:00\",\"2019-05-02T00:00:00\",\"2019-05-02T00:00:00\",\"2019-05-06T00:00:00\",\"2019-05-08T00:00:00\",\"2019-05-16T00:00:00\",\"2019-05-16T00:00:00\",\"2019-05-20T00:00:00\",\"2019-05-21T00:00:00\",\"2019-05-28T00:00:00\",\"2019-05-28T00:00:00\",\"2019-05-29T00:00:00\",\"2019-05-30T00:00:00\",\"2019-06-06T00:00:00\",\"2019-06-13T00:00:00\",\"2019-06-14T00:00:00\",\"2019-06-14T00:00:00\",\"2019-06-27T00:00:00\",\"2019-06-28T00:00:00\",\"2019-07-12T00:00:00\",\"2019-07-15T00:00:00\",\"2019-07-17T00:00:00\",\"2019-07-24T00:00:00\",\"2019-07-26T00:00:00\",\"2019-08-01T00:00:00\",\"2019-08-02T00:00:00\",\"2019-08-05T00:00:00\",\"2019-08-06T00:00:00\",\"2019-08-08T00:00:00\",\"2019-08-09T00:00:00\",\"2019-08-16T00:00:00\",\"2019-08-19T00:00:00\",\"2019-08-23T00:00:00\",\"2019-08-29T00:00:00\",\"2019-09-03T00:00:00\",\"2019-09-03T00:00:00\",\"2019-09-11T00:00:00\",\"2019-09-11T00:00:00\",\"2019-09-20T00:00:00\",\"2019-09-23T00:00:00\",\"2019-09-25T00:00:00\",\"2019-09-26T00:00:00\",\"2019-09-27T00:00:00\",\"2019-10-03T00:00:00\",\"2019-10-14T00:00:00\",\"2019-10-16T00:00:00\",\"2019-10-18T00:00:00\",\"2019-10-21T00:00:00\",\"2019-10-21T00:00:00\",\"2019-10-25T00:00:00\",\"2019-11-05T00:00:00\",\"2019-11-06T00:00:00\",\"2019-11-07T00:00:00\",\"2019-11-11T00:00:00\",\"2019-11-12T00:00:00\",\"2019-11-14T00:00:00\",\"2019-11-18T00:00:00\",\"2019-11-21T00:00:00\",\"2019-11-27T00:00:00\",\"2019-11-28T00:00:00\",\"2019-11-28T00:00:00\",\"2019-12-03T00:00:00\",\"2019-12-04T00:00:00\",\"2019-12-04T00:00:00\",\"2019-12-10T00:00:00\",\"2019-12-12T00:00:00\",\"2019-12-13T00:00:00\",\"2019-12-16T00:00:00\",\"2019-12-18T00:00:00\",\"2020-01-02T00:00:00\",\"2020-01-03T00:00:00\",\"2020-01-10T00:00:00\",\"2020-01-15T00:00:00\",\"2020-01-17T00:00:00\",\"2020-01-22T00:00:00\",\"2020-01-31T00:00:00\",\"2020-02-05T00:00:00\",\"2020-02-07T00:00:00\",\"2020-02-10T00:00:00\",\"2020-02-10T00:00:00\",\"2020-02-13T00:00:00\",\"2020-02-18T00:00:00\",\"2020-02-19T00:00:00\",\"2020-03-13T00:00:00\",\"2020-03-20T00:00:00\",\"2020-03-24T00:00:00\",\"2020-03-26T00:00:00\",\"2020-04-02T00:00:00\",\"2020-04-06T00:00:00\",\"2020-04-08T00:00:00\",\"2020-04-22T00:00:00\",\"2020-05-06T00:00:00\",\"2020-05-06T00:00:00\",\"2020-05-07T00:00:00\",\"2020-05-08T00:00:00\",\"2020-05-12T00:00:00\",\"2020-05-13T00:00:00\",\"2020-05-14T00:00:00\",\"2020-05-14T00:00:00\",\"2020-05-15T00:00:00\",\"2020-05-15T00:00:00\",\"2020-05-18T00:00:00\",\"2020-05-29T00:00:00\",\"2020-06-01T00:00:00\",\"2020-06-02T00:00:00\",\"2020-06-03T00:00:00\",\"2020-06-04T00:00:00\",\"2020-06-12T00:00:00\",\"2020-06-15T00:00:00\",\"2020-06-18T00:00:00\",\"2020-06-22T00:00:00\",\"2020-06-25T00:00:00\",\"2020-06-29T00:00:00\",\"2020-06-30T00:00:00\",\"2020-07-08T00:00:00\",\"2020-07-13T00:00:00\",\"2020-07-16T00:00:00\",\"2020-07-17T00:00:00\",\"2020-07-23T00:00:00\",\"2020-07-27T00:00:00\",\"2020-07-30T00:00:00\",\"2020-07-31T00:00:00\",\"2020-08-06T00:00:00\",\"2020-08-07T00:00:00\",\"2020-08-10T00:00:00\",\"2020-08-10T00:00:00\",\"2020-08-11T00:00:00\",\"2020-08-12T00:00:00\",\"2020-08-13T00:00:00\",\"2020-08-28T00:00:00\",\"2020-08-31T00:00:00\",\"2020-09-01T00:00:00\",\"2020-09-08T00:00:00\",\"2020-09-10T00:00:00\",\"2020-09-16T00:00:00\",\"2020-09-17T00:00:00\",\"2020-09-17T00:00:00\",\"2020-09-23T00:00:00\",\"2020-09-28T00:00:00\",\"2020-10-02T00:00:00\",\"2020-10-02T00:00:00\",\"2020-10-06T00:00:00\",\"2020-10-07T00:00:00\",\"2020-10-08T00:00:00\",\"2020-10-09T00:00:00\",\"2020-10-15T00:00:00\",\"2020-10-16T00:00:00\",\"2020-10-21T00:00:00\",\"2020-10-22T00:00:00\",\"2020-10-23T00:00:00\",\"2020-10-28T00:00:00\",\"2020-11-10T00:00:00\",\"2020-11-23T00:00:00\",\"2020-12-09T00:00:00\",\"2020-12-11T00:00:00\",\"2020-12-14T00:00:00\",\"2020-12-16T00:00:00\",\"2020-12-17T00:00:00\",\"2020-12-29T00:00:00\",\"2021-01-04T00:00:00\",\"2021-01-06T00:00:00\",\"2021-01-07T00:00:00\",\"2021-01-12T00:00:00\",\"2021-01-15T00:00:00\",\"2021-01-15T00:00:00\",\"2021-01-20T00:00:00\",\"2021-01-29T00:00:00\",\"2021-02-01T00:00:00\",\"2021-02-10T00:00:00\",\"2021-02-12T00:00:00\",\"2021-02-12T00:00:00\",\"2021-02-17T00:00:00\",\"2021-02-25T00:00:00\",\"2021-03-03T00:00:00\",\"2021-03-05T00:00:00\",\"2021-03-08T00:00:00\",\"2021-03-15T00:00:00\",\"2021-03-17T00:00:00\",\"2021-03-19T00:00:00\",\"2021-03-22T00:00:00\",\"2021-03-26T00:00:00\",\"2021-03-29T00:00:00\",\"2021-03-29T00:00:00\",\"2021-04-05T00:00:00\",\"2021-04-08T00:00:00\",\"2021-04-14T00:00:00\",\"2021-04-15T00:00:00\",\"2021-04-19T00:00:00\",\"2021-04-20T00:00:00\",\"2021-04-22T00:00:00\",\"2021-04-27T00:00:00\",\"2021-05-04T00:00:00\",\"2021-05-07T00:00:00\",\"2021-05-11T00:00:00\",\"2021-05-11T00:00:00\",\"2021-05-25T00:00:00\",\"2021-05-25T00:00:00\",\"2021-05-28T00:00:00\",\"2021-05-28T00:00:00\",\"2021-06-02T00:00:00\",\"2021-06-11T00:00:00\",\"2021-06-17T00:00:00\",\"2021-06-21T00:00:00\",\"2021-06-25T00:00:00\",\"2021-07-02T00:00:00\",\"2021-07-06T00:00:00\",\"2021-07-07T00:00:00\",\"2021-07-12T00:00:00\",\"2021-07-23T00:00:00\",\"2021-07-26T00:00:00\",\"2021-07-28T00:00:00\",\"2021-07-30T00:00:00\",\"2021-08-02T00:00:00\",\"2021-08-03T00:00:00\",\"2021-08-06T00:00:00\",\"2021-08-09T00:00:00\",\"2021-08-11T00:00:00\",\"2021-08-20T00:00:00\",\"2021-08-27T00:00:00\",\"2021-08-27T00:00:00\",\"2021-09-08T00:00:00\",\"2021-09-10T00:00:00\",\"2021-09-15T00:00:00\",\"2021-09-17T00:00:00\",\"2021-09-20T00:00:00\",\"2021-09-28T00:00:00\",\"2021-10-01T00:00:00\",\"2021-10-01T00:00:00\",\"2021-10-04T00:00:00\",\"2021-10-13T00:00:00\",\"2021-10-19T00:00:00\",\"2021-10-22T00:00:00\",\"2021-10-26T00:00:00\",\"2021-10-29T00:00:00\",\"2021-11-01T00:00:00\",\"2021-11-03T00:00:00\",\"2021-11-03T00:00:00\",\"2021-11-16T00:00:00\",\"2021-11-17T00:00:00\",\"2021-11-17T00:00:00\",\"2021-11-18T00:00:00\",\"2021-11-24T00:00:00\",\"2021-11-26T00:00:00\",\"2021-12-02T00:00:00\",\"2021-12-15T00:00:00\",\"2021-12-17T00:00:00\",\"2021-12-23T00:00:00\",\"2021-12-27T00:00:00\",\"2022-01-03T00:00:00\",\"2022-01-04T00:00:00\",\"2022-01-05T00:00:00\",\"2022-02-01T00:00:00\",\"2022-02-08T00:00:00\",\"2022-02-15T00:00:00\",\"2022-02-18T00:00:00\",\"2022-02-18T00:00:00\",\"2022-02-23T00:00:00\",\"2022-02-24T00:00:00\",\"2022-02-25T00:00:00\",\"2022-03-03T00:00:00\",\"2022-03-07T00:00:00\",\"2022-03-10T00:00:00\",\"2022-03-28T00:00:00\",\"2022-03-28T00:00:00\",\"2022-04-04T00:00:00\",\"2022-04-07T00:00:00\",\"2022-04-07T00:00:00\",\"2022-04-12T00:00:00\",\"2022-04-13T00:00:00\",\"2022-04-19T00:00:00\",\"2022-04-28T00:00:00\",\"2022-04-29T00:00:00\",\"2022-05-05T00:00:00\",\"2022-05-06T00:00:00\",\"2022-05-09T00:00:00\",\"2022-05-10T00:00:00\",\"2022-05-17T00:00:00\",\"2022-05-24T00:00:00\",\"2022-05-27T00:00:00\",\"2022-05-27T00:00:00\",\"2022-05-31T00:00:00\",\"2022-06-02T00:00:00\",\"2022-06-02T00:00:00\",\"2022-06-03T00:00:00\",\"2022-06-09T00:00:00\",\"2022-06-10T00:00:00\",\"2022-06-27T00:00:00\",\"2022-06-27T00:00:00\",\"2022-07-05T00:00:00\",\"2022-07-14T00:00:00\",\"2022-07-19T00:00:00\",\"2022-07-20T00:00:00\",\"2022-07-25T00:00:00\",\"2022-08-11T00:00:00\",\"2022-08-12T00:00:00\",\"2022-08-17T00:00:00\",\"2022-08-19T00:00:00\",\"2022-08-25T00:00:00\",\"2022-08-30T00:00:00\",\"2022-09-14T00:00:00\",\"2022-09-16T00:00:00\",\"2022-09-19T00:00:00\",\"2022-09-23T00:00:00\",\"2022-09-28T00:00:00\",\"2022-10-04T00:00:00\",\"2022-10-07T00:00:00\",\"2022-10-10T00:00:00\",\"2022-10-24T00:00:00\",\"2022-11-01T00:00:00\",\"2022-11-04T00:00:00\",\"2022-11-04T00:00:00\",\"2022-11-18T00:00:00\",\"2022-11-21T00:00:00\",\"2022-11-30T00:00:00\",\"2022-12-01T00:00:00\",\"2022-12-02T00:00:00\",\"2022-12-05T00:00:00\",\"2022-12-08T00:00:00\",\"2022-12-13T00:00:00\",\"2022-12-21T00:00:00\",\"2022-12-23T00:00:00\",\"2022-12-29T00:00:00\",\"2023-01-17T00:00:00\",\"2023-01-18T00:00:00\",\"2023-01-19T00:00:00\",\"2023-01-26T00:00:00\",\"2023-01-31T00:00:00\",\"2023-02-02T00:00:00\",\"2023-02-06T00:00:00\",\"2023-02-10T00:00:00\",\"2023-02-10T00:00:00\",\"2023-02-15T00:00:00\",\"2023-02-23T00:00:00\",\"2023-02-24T00:00:00\",\"2023-02-28T00:00:00\",\"2023-02-28T00:00:00\",\"2023-03-01T00:00:00\",\"2023-03-03T00:00:00\",\"2023-03-03T00:00:00\",\"2023-03-15T00:00:00\",\"2023-03-16T00:00:00\",\"2023-03-17T00:00:00\",\"2023-03-17T00:00:00\",\"2023-03-20T00:00:00\",\"2023-03-20T00:00:00\",\"2023-03-21T00:00:00\",\"2023-03-28T00:00:00\",\"2023-04-03T00:00:00\",\"2023-04-06T00:00:00\",\"2023-04-06T00:00:00\",\"2023-04-10T00:00:00\",\"2023-04-11T00:00:00\",\"2023-04-13T00:00:00\",\"2023-04-19T00:00:00\",\"2023-04-24T00:00:00\",\"2023-04-25T00:00:00\",\"2023-04-28T00:00:00\",\"2023-05-02T00:00:00\",\"2023-05-03T00:00:00\",\"2023-05-08T00:00:00\",\"2023-05-11T00:00:00\",\"2023-05-11T00:00:00\",\"2023-05-15T00:00:00\",\"2023-05-17T00:00:00\",\"2023-05-18T00:00:00\",\"2023-05-23T00:00:00\",\"2023-06-01T00:00:00\",\"2023-06-06T00:00:00\",\"2023-06-14T00:00:00\",\"2023-06-14T00:00:00\",\"2023-06-19T00:00:00\",\"2023-06-22T00:00:00\",\"2023-06-30T00:00:00\",\"2023-07-03T00:00:00\",\"2023-07-12T00:00:00\",\"2023-07-13T00:00:00\",\"2023-07-19T00:00:00\",\"2023-07-25T00:00:00\",\"2023-07-27T00:00:00\",\"2023-07-28T00:00:00\",\"2023-07-31T00:00:00\",\"2023-08-02T00:00:00\",\"2023-08-14T00:00:00\",\"2023-08-15T00:00:00\",\"2023-08-21T00:00:00\",\"2023-08-23T00:00:00\",\"2023-08-28T00:00:00\",\"2023-08-31T00:00:00\",\"2023-08-31T00:00:00\",\"2023-09-01T00:00:00\",\"2023-09-05T00:00:00\",\"2023-09-13T00:00:00\",\"2023-09-26T00:00:00\",\"2023-09-27T00:00:00\",\"2023-09-28T00:00:00\",\"2023-10-03T00:00:00\",\"2023-10-13T00:00:00\",\"2023-10-17T00:00:00\",\"2023-10-19T00:00:00\",\"2023-10-23T00:00:00\",\"2023-10-24T00:00:00\",\"2023-10-26T00:00:00\",\"2023-11-10T00:00:00\",\"2023-11-13T00:00:00\",\"2023-11-14T00:00:00\",\"2023-11-16T00:00:00\",\"2023-11-20T00:00:00\",\"2023-11-21T00:00:00\",\"2023-11-28T00:00:00\",\"2023-11-30T00:00:00\",\"2023-12-01T00:00:00\",\"2023-12-04T00:00:00\",\"2023-12-06T00:00:00\",\"2023-12-08T00:00:00\",\"2023-12-11T00:00:00\",\"2023-12-26T00:00:00\"],\"xaxis\":\"x\",\"y\":[160.77067274122047,160.5810357280684,160.57103572806838,157.882452573023,157.58260615932085,158.33513807378236,159.57038768509787,160.8056372964134,160.7956372964134,162.59923714602874,166.7516608840757,164.06132014612774,169.04084390724384,166.2794737550314,168.21459903163034,170.14972430822928,172.97559697724972,171.9710086890729,170.91082306437022,171.03923464232668,171.29720591319182,171.55517718405696,176.32623190055057,176.87934942612057,177.43246695169054,175.08930639293314,173.58270046373698,172.07609453454083,169.68401405397634,168.76490613675008,167.1614851605991,163.6270301293205,167.85474622636053,169.83315224803414,170.17669304635595,170.52023384467773,174.4246988049071,178.32916376513646,181.46384512729338,180.29385026057645,166.57522125224645,165.1707769716807,150.56480412268368,164.68845216401706,149.82070118036677,158.28843704934084,152.91618309078632,151.338986486883,148.09293608616272,147.62149850035976,144.47188912607984,150.80672213463257,155.91993234166418,155.97616549621293,156.03239865076165,159.92709784310628,158.2882585453536,158.44997028821425,157.38082708212443,158.26219076482715,159.14355444752988,157.82134888986823,162.64830507816615,165.39380604628627,167.23850649410184,169.0832069419174,167.0741810708065,166.73260409259956,167.71566180923529,164.01832657903293,166.30543814358143,166.2454137016377,165.71049251571236,163.52063564898444,165.7511240966309,163.81701920876205,168.9841091878041,166.38342889462947,166.90963075735175,167.43583262007402,168.70584024814391,167.42936388453157,170.66576415337244,175.03720084031488,173.6938825191216,173.13333825104286,172.42822581643398,178.70842242195948,176.97429744735408,175.24017247274867,174.80344139915113,179.0440926785537,183.28474395795632,187.0000182374238,188.03751857366785,188.88353979249544,189.72956101132303,192.07295587854102,194.55520461705274,197.03745335556445,201.89066098345924,197.60528732031628,203.5755899094072,204.92271753791286,206.26984516641852,202.81524744838157,199.53197652432445,195.9098342270472,196.33375973931612,199.11261715952193,199.9708040904775,200.69280936439324,200.04286947838298,199.39292959237272,199.6404602881727,200.766846883685,197.34109137620018,197.2849607684771,201.93577736858148,201.328397727086,200.75816463446478,201.2599854641822,199.68318352292295,198.10638158166367,199.29020093102974,196.26532546560472,198.67763299977267,201.0899405339406,202.065376753489,202.91539393520236,204.4746230044981,201.0097336799301,201.40790773113926,201.69596372377043,199.36906427262036,200.60085802381457,199.00590200069942,199.8967924713437,199.56652441191335,197.95596592027303,199.20523699792184,194.68948015888762,197.31296481186027,197.30296481186028,194.6418440581611,198.00873385595077,201.37562365374043,202.45451218527754,199.73429189644548,197.0140716076134,200.05070905611535,199.09076693924197,199.52969622807458,199.96862551690722,198.38971050814033,196.40670868811847,194.06191944433715,191.71713020055583,187.9062034208882,187.51726867403943,186.38782627887824,185.25838388371707,183.92764248869213,181.6231875776788,183.43967557868004,183.87118250557197,183.6763915288796,183.48160055218722,182.81057093638077,183.34782611312946,184.56459232566698,183.3125518108082,182.68838745641352,184.3602606903214,185.26840591176227,184.22981813286995,187.87743413520002,189.15901291346253,190.230906099863,190.48654997724805,192.87380406871705,193.36568379499263,193.3972725721197,192.06929625964108,192.0592962596411,194.6274191612987,197.1955420629563,197.892653629426,198.58976519589572,200.35755437900852,201.11172366801807,199.78496830938028,199.9193878548907,200.3070658072651,201.1571997638991,200.0853195486819,201.04201753405547,201.64795980605584,198.75715429128286,195.86634877650985,194.6597610424292,194.85211203144453,190.83670684448032,193.67460365575232,194.4218849814875,194.8116304969412,194.05076209464454,193.0091255974025,193.43463570679222,192.7427433441945,194.01957210743203,195.29640087066952,192.9399628849879,191.61505414064501,190.29014539630214,190.4115352915009,193.5981824345581,195.48945262945824,196.97554595759752,196.73633212765773,197.5406836069927,198.71296381108584,198.50472109858998,198.3932109242908,197.88069159998,196.64161508649903,197.58064852003326,200.35329343922595,199.6519693093957,198.44046953622973,197.22896976306376,198.22838717923278,195.52929266496503,197.58149119946535,182.57148867552536,178.39481975951358,186.4602834652639,178.87558258840025,177.76949936115594,181.75441217364684,178.8575672401638,180.04433608803555,180.96025125378944,181.8761664195433,187.829459937167,189.60516345665377,186.563171027136,185.47300865513904,184.02623333628046,182.57945801742187,190.67442723577307,198.7693964541243,199.51451343188427,199.45536013985574,204.70850864337154,205.0256235663939,204.8292981435336,207.94576361282262,208.4211996206691,211.6479218650819,211.03607773000928,214.36737917605012,211.42304039264687,210.90518501410628,211.63764785895097,209.3759720776585,212.7052932480006,212.78334750885855,212.77334750885854,213.47225374108234,215.18637626752,212.45947177917296,210.64765115590797,208.78579579112798,211.67180655826732,210.08398226061948,208.49615796297167,210.21925591611827,207.48352971496425,206.72922583478254,203.83545513768354,208.30239026618625,207.9863242449754,205.86494227225316,204.7699328855421,202.82711795764055,200.55977243851922,198.29242691939788,199.12275815668477,197.4826250606073,202.78283998792057,208.08305491523384,207.37060393901595,210.64508739516353,207.50393816053187,209.1606138784386,207.02404138791954,207.99696597360074,211.3599613056574,210.05437255503057,208.48870140768082,211.79955896448396,210.92300437471064,215.3751595117061,218.6316752868816,218.80303960934842,219.62576012394916,219.79313558841312,219.28736733571134,219.52497925004582,215.60628900458588,212.60625672574517,212.20916174183185,207.36729978787648,207.17949199205,206.9916841962235,204.64208518583874,207.7793461347137,211.87395803959035,212.87114140823533,216.90475127362444,220.93836113901358,219.84690523174578,215.7402928073614,210.86951880759472,216.62102969574494,218.93330709143447,217.3588367542294,213.86046991618164,211.8504681888127,208.77926854208607,210.3464314006076,210.33643140060758,210.32643140060756,210.23323532624653,210.0122667303602,211.9853749772311,212.5816918546069,214.46624471058536,213.9944331409448,213.90009802191727,217.52647882332846,221.6230900865858,222.92564703458626,221.44449478697842,219.9633425393706,220.92082349183468,221.87830444429878,221.4236946003032,220.96908475630764,223.2195835720389,222.57955977560485,221.89412608412002,221.36598181313784,221.52781488559467,222.64876254692237,224.01207811933693,225.99852836210147,225.37547886344825,228.09547269515699,229.2503939114968,228.87949767664998,230.72753060323095,232.38356245098677,234.49647084818776,233.78199335854234,234.09124714605193,235.58107228113508,237.15002784132534,236.47312451332726,235.7962211853292,237.90877460872207,241.41099059812512,240.527457082274,239.3943033276447,241.65610771375853,243.2410806007112,246.05249603661466,248.86391147251808,251.042182596334,251.20094124695146,252.94031994385685,259.77359458407597,259.5202216554111,262.6409934252328,258.5238427374702,255.34811696509058,252.17239119271096,249.63212314531341,249.47163159119347,249.31114003707356,247.64327359523054,252.03930754925162,255.5417678370079,256.942200107981,258.26325600404846,255.3901956681293,256.86272002506536,256.9570744450823,256.56893061272956,260.4287976203546,260.49005006761774,259.02552749465497,259.3925343194306,260.7680120196639,263.33376231439047,265.899512609117,268.3149982308919,270.1318965397695,268.15132424330125,268.1121085906986,270.1775923469458,266.5770962869233,268.7822680438249,270.9874398007265,270.0294171101637,270.51882812663047,271.0082391430972,273.12528662499864,272.0717598827983,271.58782265908957,271.64391404001395,270.6431536017199,273.9133794106838,271.1810589825024,272.04170914361686,275.5150603862416,273.8657209278657,275.2797595722213,273.2762943355295,271.2728290988377,271.1297699215817,272.8670925630108,274.6044152044398,274.66045571095725,273.2537128932401,271.9620839337321,273.20297930464744,274.4438746755628,273.14953372035245,274.8492534408622,274.8049884161698,274.2807658071462,275.28053602356704,282.6965330987521,282.7180641047589,284.72271956389557,286.8558045728426,287.9275318164209,290.38437334803797,290.18158245808104,291.763521236641,291.17788703992835,288.9968791405022,289.1235267067539,292.87506723855176,291.73511962389125,290.9732355986854,288.8610444002942,289.1524428741382,285.0788391432002,281.0052354122622,281.29486810222346,280.8533862863251,276.82988629403457,278.0703713304799,276.94110886283744,277.00918107300254,276.7166854042087,268.77358230287433,270.5455181525989,269.8189510350013,263.3599675064146,261.5866523137395,264.84749361640877,266.69149574970345,264.2814877228894,262.8905774706311,263.98171444583073,263.3510799456143,263.64047570968927,263.9298714737643,264.3312373524522,261.87302885657994,262.8282861516071,263.055999747635,263.2837133436629,260.6650162532557,261.66669024725655,262.6683642412574,262.3156007008531,263.3804142421597,260.9033714028502,258.4263285635407,260.46604558835134,262.505762613162,262.19661746685983,263.50073591344534,262.5924061713404,264.7074137481259,266.8224213249114,271.50437358659815,272.23481702384885,273.26207711921256,273.9310724249183,273.5166634549449,272.251583273305,268.19094692182006,267.82914121159826,269.4078512632642,269.72424221913496,272.9387856104824,276.15332900182983,278.63748557684727,279.2120457868135,279.0470786166471,280.5608831011723,281.36691523734373,278.43355098085266,276.0647500873844,273.6959491939162,274.1790424946146,270.0672962854663,271.91980569751263,272.1425150775107,273.7094779882447,271.7420021170981,271.6289128518984,271.61891285189836,272.86784109538814,268.32154669145456,266.67220557125415,267.9396343669706,268.6476501291335,270.841156761494,272.35452783132416,272.1894314474548,271.9629156716137,274.1132201162013,276.26352456078894,277.2955150227912,276.83600556940576,279.3691500133685,282.5271101099353,282.7198898133291,282.1583710324381,286.1224710860907,287.2150092779818,289.46144891366293,288.1734081477394,289.66270576519685,290.182243701284,289.44394756095613,292.2277248117819,293.59066075457184,291.83936741288386,295.09237070413417,294.04807458378235,294.4531796494216,295.48250253634177,296.14084472371746,298.26148212362307,297.7931611608289,297.5443497248447,297.9112736500076,298.7161711305755,298.625810086307],\"yaxis\":\"y\",\"type\":\"scatter\"}],                        {\"template\":{\"data\":{\"histogram2dcontour\":[{\"type\":\"histogram2dcontour\",\"colorbar\":{\"outlinewidth\":0,\"ticks\":\"\"},\"colorscale\":[[0.0,\"#0d0887\"],[0.1111111111111111,\"#46039f\"],[0.2222222222222222,\"#7201a8\"],[0.3333333333333333,\"#9c179e\"],[0.4444444444444444,\"#bd3786\"],[0.5555555555555556,\"#d8576b\"],[0.6666666666666666,\"#ed7953\"],[0.7777777777777778,\"#fb9f3a\"],[0.8888888888888888,\"#fdca26\"],[1.0,\"#f0f921\"]]}],\"choropleth\":[{\"type\":\"choropleth\",\"colorbar\":{\"outlinewidth\":0,\"ticks\":\"\"}}],\"histogram2d\":[{\"type\":\"histogram2d\",\"colorbar\":{\"outlinewidth\":0,\"ticks\":\"\"},\"colorscale\":[[0.0,\"#0d0887\"],[0.1111111111111111,\"#46039f\"],[0.2222222222222222,\"#7201a8\"],[0.3333333333333333,\"#9c179e\"],[0.4444444444444444,\"#bd3786\"],[0.5555555555555556,\"#d8576b\"],[0.6666666666666666,\"#ed7953\"],[0.7777777777777778,\"#fb9f3a\"],[0.8888888888888888,\"#fdca26\"],[1.0,\"#f0f921\"]]}],\"heatmap\":[{\"type\":\"heatmap\",\"colorbar\":{\"outlinewidth\":0,\"ticks\":\"\"},\"colorscale\":[[0.0,\"#0d0887\"],[0.1111111111111111,\"#46039f\"],[0.2222222222222222,\"#7201a8\"],[0.3333333333333333,\"#9c179e\"],[0.4444444444444444,\"#bd3786\"],[0.5555555555555556,\"#d8576b\"],[0.6666666666666666,\"#ed7953\"],[0.7777777777777778,\"#fb9f3a\"],[0.8888888888888888,\"#fdca26\"],[1.0,\"#f0f921\"]]}],\"heatmapgl\":[{\"type\":\"heatmapgl\",\"colorbar\":{\"outlinewidth\":0,\"ticks\":\"\"},\"colorscale\":[[0.0,\"#0d0887\"],[0.1111111111111111,\"#46039f\"],[0.2222222222222222,\"#7201a8\"],[0.3333333333333333,\"#9c179e\"],[0.4444444444444444,\"#bd3786\"],[0.5555555555555556,\"#d8576b\"],[0.6666666666666666,\"#ed7953\"],[0.7777777777777778,\"#fb9f3a\"],[0.8888888888888888,\"#fdca26\"],[1.0,\"#f0f921\"]]}],\"contourcarpet\":[{\"type\":\"contourcarpet\",\"colorbar\":{\"outlinewidth\":0,\"ticks\":\"\"}}],\"contour\":[{\"type\":\"contour\",\"colorbar\":{\"outlinewidth\":0,\"ticks\":\"\"},\"colorscale\":[[0.0,\"#0d0887\"],[0.1111111111111111,\"#46039f\"],[0.2222222222222222,\"#7201a8\"],[0.3333333333333333,\"#9c179e\"],[0.4444444444444444,\"#bd3786\"],[0.5555555555555556,\"#d8576b\"],[0.6666666666666666,\"#ed7953\"],[0.7777777777777778,\"#fb9f3a\"],[0.8888888888888888,\"#fdca26\"],[1.0,\"#f0f921\"]]}],\"surface\":[{\"type\":\"surface\",\"colorbar\":{\"outlinewidth\":0,\"ticks\":\"\"},\"colorscale\":[[0.0,\"#0d0887\"],[0.1111111111111111,\"#46039f\"],[0.2222222222222222,\"#7201a8\"],[0.3333333333333333,\"#9c179e\"],[0.4444444444444444,\"#bd3786\"],[0.5555555555555556,\"#d8576b\"],[0.6666666666666666,\"#ed7953\"],[0.7777777777777778,\"#fb9f3a\"],[0.8888888888888888,\"#fdca26\"],[1.0,\"#f0f921\"]]}],\"mesh3d\":[{\"type\":\"mesh3d\",\"colorbar\":{\"outlinewidth\":0,\"ticks\":\"\"}}],\"scatter\":[{\"fillpattern\":{\"fillmode\":\"overlay\",\"size\":10,\"solidity\":0.2},\"type\":\"scatter\"}],\"parcoords\":[{\"type\":\"parcoords\",\"line\":{\"colorbar\":{\"outlinewidth\":0,\"ticks\":\"\"}}}],\"scatterpolargl\":[{\"type\":\"scatterpolargl\",\"marker\":{\"colorbar\":{\"outlinewidth\":0,\"ticks\":\"\"}}}],\"bar\":[{\"error_x\":{\"color\":\"#2a3f5f\"},\"error_y\":{\"color\":\"#2a3f5f\"},\"marker\":{\"line\":{\"color\":\"#E5ECF6\",\"width\":0.5},\"pattern\":{\"fillmode\":\"overlay\",\"size\":10,\"solidity\":0.2}},\"type\":\"bar\"}],\"scattergeo\":[{\"type\":\"scattergeo\",\"marker\":{\"colorbar\":{\"outlinewidth\":0,\"ticks\":\"\"}}}],\"scatterpolar\":[{\"type\":\"scatterpolar\",\"marker\":{\"colorbar\":{\"outlinewidth\":0,\"ticks\":\"\"}}}],\"histogram\":[{\"marker\":{\"pattern\":{\"fillmode\":\"overlay\",\"size\":10,\"solidity\":0.2}},\"type\":\"histogram\"}],\"scattergl\":[{\"type\":\"scattergl\",\"marker\":{\"colorbar\":{\"outlinewidth\":0,\"ticks\":\"\"}}}],\"scatter3d\":[{\"type\":\"scatter3d\",\"line\":{\"colorbar\":{\"outlinewidth\":0,\"ticks\":\"\"}},\"marker\":{\"colorbar\":{\"outlinewidth\":0,\"ticks\":\"\"}}}],\"scattermapbox\":[{\"type\":\"scattermapbox\",\"marker\":{\"colorbar\":{\"outlinewidth\":0,\"ticks\":\"\"}}}],\"scatterternary\":[{\"type\":\"scatterternary\",\"marker\":{\"colorbar\":{\"outlinewidth\":0,\"ticks\":\"\"}}}],\"scattercarpet\":[{\"type\":\"scattercarpet\",\"marker\":{\"colorbar\":{\"outlinewidth\":0,\"ticks\":\"\"}}}],\"carpet\":[{\"aaxis\":{\"endlinecolor\":\"#2a3f5f\",\"gridcolor\":\"white\",\"linecolor\":\"white\",\"minorgridcolor\":\"white\",\"startlinecolor\":\"#2a3f5f\"},\"baxis\":{\"endlinecolor\":\"#2a3f5f\",\"gridcolor\":\"white\",\"linecolor\":\"white\",\"minorgridcolor\":\"white\",\"startlinecolor\":\"#2a3f5f\"},\"type\":\"carpet\"}],\"table\":[{\"cells\":{\"fill\":{\"color\":\"#EBF0F8\"},\"line\":{\"color\":\"white\"}},\"header\":{\"fill\":{\"color\":\"#C8D4E3\"},\"line\":{\"color\":\"white\"}},\"type\":\"table\"}],\"barpolar\":[{\"marker\":{\"line\":{\"color\":\"#E5ECF6\",\"width\":0.5},\"pattern\":{\"fillmode\":\"overlay\",\"size\":10,\"solidity\":0.2}},\"type\":\"barpolar\"}],\"pie\":[{\"automargin\":true,\"type\":\"pie\"}]},\"layout\":{\"autotypenumbers\":\"strict\",\"colorway\":[\"#636efa\",\"#EF553B\",\"#00cc96\",\"#ab63fa\",\"#FFA15A\",\"#19d3f3\",\"#FF6692\",\"#B6E880\",\"#FF97FF\",\"#FECB52\"],\"font\":{\"color\":\"#2a3f5f\"},\"hovermode\":\"closest\",\"hoverlabel\":{\"align\":\"left\"},\"paper_bgcolor\":\"white\",\"plot_bgcolor\":\"#E5ECF6\",\"polar\":{\"bgcolor\":\"#E5ECF6\",\"angularaxis\":{\"gridcolor\":\"white\",\"linecolor\":\"white\",\"ticks\":\"\"},\"radialaxis\":{\"gridcolor\":\"white\",\"linecolor\":\"white\",\"ticks\":\"\"}},\"ternary\":{\"bgcolor\":\"#E5ECF6\",\"aaxis\":{\"gridcolor\":\"white\",\"linecolor\":\"white\",\"ticks\":\"\"},\"baxis\":{\"gridcolor\":\"white\",\"linecolor\":\"white\",\"ticks\":\"\"},\"caxis\":{\"gridcolor\":\"white\",\"linecolor\":\"white\",\"ticks\":\"\"}},\"coloraxis\":{\"colorbar\":{\"outlinewidth\":0,\"ticks\":\"\"}},\"colorscale\":{\"sequential\":[[0.0,\"#0d0887\"],[0.1111111111111111,\"#46039f\"],[0.2222222222222222,\"#7201a8\"],[0.3333333333333333,\"#9c179e\"],[0.4444444444444444,\"#bd3786\"],[0.5555555555555556,\"#d8576b\"],[0.6666666666666666,\"#ed7953\"],[0.7777777777777778,\"#fb9f3a\"],[0.8888888888888888,\"#fdca26\"],[1.0,\"#f0f921\"]],\"sequentialminus\":[[0.0,\"#0d0887\"],[0.1111111111111111,\"#46039f\"],[0.2222222222222222,\"#7201a8\"],[0.3333333333333333,\"#9c179e\"],[0.4444444444444444,\"#bd3786\"],[0.5555555555555556,\"#d8576b\"],[0.6666666666666666,\"#ed7953\"],[0.7777777777777778,\"#fb9f3a\"],[0.8888888888888888,\"#fdca26\"],[1.0,\"#f0f921\"]],\"diverging\":[[0,\"#8e0152\"],[0.1,\"#c51b7d\"],[0.2,\"#de77ae\"],[0.3,\"#f1b6da\"],[0.4,\"#fde0ef\"],[0.5,\"#f7f7f7\"],[0.6,\"#e6f5d0\"],[0.7,\"#b8e186\"],[0.8,\"#7fbc41\"],[0.9,\"#4d9221\"],[1,\"#276419\"]]},\"xaxis\":{\"gridcolor\":\"white\",\"linecolor\":\"white\",\"ticks\":\"\",\"title\":{\"standoff\":15},\"zerolinecolor\":\"white\",\"automargin\":true,\"zerolinewidth\":2},\"yaxis\":{\"gridcolor\":\"white\",\"linecolor\":\"white\",\"ticks\":\"\",\"title\":{\"standoff\":15},\"zerolinecolor\":\"white\",\"automargin\":true,\"zerolinewidth\":2},\"scene\":{\"xaxis\":{\"backgroundcolor\":\"#E5ECF6\",\"gridcolor\":\"white\",\"linecolor\":\"white\",\"showbackground\":true,\"ticks\":\"\",\"zerolinecolor\":\"white\",\"gridwidth\":2},\"yaxis\":{\"backgroundcolor\":\"#E5ECF6\",\"gridcolor\":\"white\",\"linecolor\":\"white\",\"showbackground\":true,\"ticks\":\"\",\"zerolinecolor\":\"white\",\"gridwidth\":2},\"zaxis\":{\"backgroundcolor\":\"#E5ECF6\",\"gridcolor\":\"white\",\"linecolor\":\"white\",\"showbackground\":true,\"ticks\":\"\",\"zerolinecolor\":\"white\",\"gridwidth\":2}},\"shapedefaults\":{\"line\":{\"color\":\"#2a3f5f\"}},\"annotationdefaults\":{\"arrowcolor\":\"#2a3f5f\",\"arrowhead\":0,\"arrowwidth\":1},\"geo\":{\"bgcolor\":\"white\",\"landcolor\":\"#E5ECF6\",\"subunitcolor\":\"white\",\"showland\":true,\"showlakes\":true,\"lakecolor\":\"white\"},\"title\":{\"x\":0.05},\"mapbox\":{\"style\":\"light\"}}},\"xaxis\":{\"anchor\":\"y\",\"domain\":[0.0,1.0],\"title\":{\"text\":\"Date\"}},\"yaxis\":{\"anchor\":\"x\",\"domain\":[0.0,1.0],\"title\":{\"text\":\"Cumulative Returns (%)\"}},\"legend\":{\"title\":{\"text\":\"train_test\"},\"tracegroupgap\":0},\"title\":{\"text\":\"Candlestick Patterns - GradientBoostingClassifier - PETR4.SA\"}},                        {\"responsive\": true}                    ).then(function(){\n                            \nvar gd = document.getElementById('ca49834f-c599-4e04-b9bf-69dc809e0258');\nvar x = new MutationObserver(function (mutations, observer) {{\n        var display = window.getComputedStyle(gd).display;\n        if (!display || display === 'none') {{\n            console.log([gd, 'removed!']);\n            Plotly.purge(gd);\n            observer.disconnect();\n        }}\n}});\n\n// Listen for the removal of the full notebook cells\nvar notebookContainer = gd.closest('#notebook-container');\nif (notebookContainer) {{\n    x.observe(notebookContainer, {childList: true});\n}}\n\n// Listen for the clearing of the current output cell\nvar outputEl = gd.closest('.output');\nif (outputEl) {{\n    x.observe(outputEl, {childList: true});\n}}\n\n                        })                };                });            </script>        </div>"
     },
     "metadata": {},
     "output_type": "display_data"
    }
   ],
   "source": [
    "# Create a figure\n",
    "px.line(df_patterns, x=\"Date\", y=df_patterns[\"Model_Returns\"].cumsum()*100, color=\"train_test\",\n",
    "              labels={\"y\": \"Cumulative Returns (%)\"},\n",
    "              title=f\"Candlestick Patterns - {model.__class__.__name__} - {ticker}\",\n",
    "              line_shape=\"linear\", render_mode=\"svg\")\n"
   ],
   "metadata": {
    "collapsed": false,
    "ExecuteTime": {
     "end_time": "2024-01-02T18:23:24.666416Z",
     "start_time": "2024-01-02T18:23:24.547815Z"
    }
   },
   "id": "ef85af157117122f"
  }
 ],
 "metadata": {
  "kernelspec": {
   "display_name": "Python 3",
   "language": "python",
   "name": "python3"
  },
  "language_info": {
   "codemirror_mode": {
    "name": "ipython",
    "version": 2
   },
   "file_extension": ".py",
   "mimetype": "text/x-python",
   "name": "python",
   "nbconvert_exporter": "python",
   "pygments_lexer": "ipython2",
   "version": "2.7.6"
  }
 },
 "nbformat": 4,
 "nbformat_minor": 5
}
