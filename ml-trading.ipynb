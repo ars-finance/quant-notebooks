{
 "cells": [
  {
   "cell_type": "code",
   "execution_count": 24,
   "id": "initial_id",
   "metadata": {
    "collapsed": true,
    "ExecuteTime": {
     "end_time": "2024-01-02T18:31:35.195006Z",
     "start_time": "2024-01-02T18:31:35.152423Z"
    }
   },
   "outputs": [],
   "source": [
    "import yfinance as yf\n",
    "import pandas as pd\n",
    "import numpy as np\n",
    "import talib as ta\n",
    "import json\n",
    "import plotly.express as px\n",
    "from typing import Callable, Any"
   ]
  },
  {
   "cell_type": "code",
   "execution_count": 25,
   "outputs": [],
   "source": [
    "ticker = \"PETR4.SA\" \n",
    "start_train, end_train = (\"2012-01-01\", \"2017-12-31\")\n",
    "start_test, end_test = (\"2018-01-01\", \"2023-12-31\")"
   ],
   "metadata": {
    "collapsed": false,
    "ExecuteTime": {
     "end_time": "2024-01-02T18:31:35.209620Z",
     "start_time": "2024-01-02T18:31:35.152548Z"
    }
   },
   "id": "4ebd829a796fe7d1"
  },
  {
   "cell_type": "code",
   "execution_count": 26,
   "outputs": [
    {
     "name": "stdout",
     "output_type": "stream",
     "text": [
      "[*********************100%%**********************]  1 of 1 completed\n"
     ]
    }
   ],
   "source": [
    "df = yf.download(ticker, start_train, end_test)\n",
    "df[\"Returns\"] = df[\"Adj Close\"].pct_change(1)\n",
    "df[\"Adj Low\"] = df[\"Low\"] - (df[\"Close\"]-df[\"Adj Close\"])\n",
    "df[\"Adj High\"] = df[\"High\"] - (df[\"Close\"]-df[\"Adj Close\"])\n",
    "df[\"Adj Open\"] = df[\"Open\"] - (df[\"Close\"]-df[\"Adj Close\"])"
   ],
   "metadata": {
    "collapsed": false,
    "ExecuteTime": {
     "end_time": "2024-01-02T18:31:35.242719Z",
     "start_time": "2024-01-02T18:31:35.156051Z"
    }
   },
   "id": "27e863a3f8dc1fb4"
  },
  {
   "cell_type": "code",
   "execution_count": 27,
   "outputs": [],
   "source": [
    "df.dropna(axis = 0, inplace = True) "
   ],
   "metadata": {
    "collapsed": false,
    "ExecuteTime": {
     "end_time": "2024-01-02T18:31:35.242793Z",
     "start_time": "2024-01-02T18:31:35.191114Z"
    }
   },
   "id": "8bb952b530befc80"
  },
  {
   "cell_type": "code",
   "execution_count": 28,
   "outputs": [
    {
     "data": {
      "text/plain": "              Open         High          Low        Close    Adj Close  \\\ncount  2976.000000  2976.000000  2976.000000  2976.000000  2976.000000   \nmean     20.777134    21.097218    20.440948    20.760880     9.167708   \nstd       7.334761     7.412367     7.262621     7.346574     6.799977   \nmin       4.200000     4.270000     4.120000     4.200000     1.434107   \n25%      15.472500    15.680000    15.140000    15.417500     5.188794   \n50%      20.350000    20.675000    20.010000    20.340000     6.806663   \n75%      26.690001    27.020000    26.260000    26.700001    10.271132   \nmax      38.689999    38.860001    37.919998    38.520000    37.360001   \n\n             Volume      Returns      Adj Low     Adj High     Adj Open  \ncount  2.976000e+03  2976.000000  2976.000000  2976.000000  2976.000000  \nmean   5.554666e+07     0.001031     8.847775     9.504045     9.183961  \nstd    3.598575e+07     0.029927     6.728131     6.854326     6.788709  \nmin    0.000000e+00    -0.296978     1.150446     1.484351     1.210446  \n25%    3.319585e+07    -0.014302     4.938126     5.444204     5.186741  \n50%    4.876155e+07     0.000809     6.517498     7.148605     6.848084  \n75%    6.890132e+07     0.016009     9.921967    10.703921    10.331441  \nmax    6.989506e+08     0.222222    37.130001    37.459522    37.320000  ",
      "text/html": "<div>\n<style scoped>\n    .dataframe tbody tr th:only-of-type {\n        vertical-align: middle;\n    }\n\n    .dataframe tbody tr th {\n        vertical-align: top;\n    }\n\n    .dataframe thead th {\n        text-align: right;\n    }\n</style>\n<table border=\"1\" class=\"dataframe\">\n  <thead>\n    <tr style=\"text-align: right;\">\n      <th></th>\n      <th>Open</th>\n      <th>High</th>\n      <th>Low</th>\n      <th>Close</th>\n      <th>Adj Close</th>\n      <th>Volume</th>\n      <th>Returns</th>\n      <th>Adj Low</th>\n      <th>Adj High</th>\n      <th>Adj Open</th>\n    </tr>\n  </thead>\n  <tbody>\n    <tr>\n      <th>count</th>\n      <td>2976.000000</td>\n      <td>2976.000000</td>\n      <td>2976.000000</td>\n      <td>2976.000000</td>\n      <td>2976.000000</td>\n      <td>2.976000e+03</td>\n      <td>2976.000000</td>\n      <td>2976.000000</td>\n      <td>2976.000000</td>\n      <td>2976.000000</td>\n    </tr>\n    <tr>\n      <th>mean</th>\n      <td>20.777134</td>\n      <td>21.097218</td>\n      <td>20.440948</td>\n      <td>20.760880</td>\n      <td>9.167708</td>\n      <td>5.554666e+07</td>\n      <td>0.001031</td>\n      <td>8.847775</td>\n      <td>9.504045</td>\n      <td>9.183961</td>\n    </tr>\n    <tr>\n      <th>std</th>\n      <td>7.334761</td>\n      <td>7.412367</td>\n      <td>7.262621</td>\n      <td>7.346574</td>\n      <td>6.799977</td>\n      <td>3.598575e+07</td>\n      <td>0.029927</td>\n      <td>6.728131</td>\n      <td>6.854326</td>\n      <td>6.788709</td>\n    </tr>\n    <tr>\n      <th>min</th>\n      <td>4.200000</td>\n      <td>4.270000</td>\n      <td>4.120000</td>\n      <td>4.200000</td>\n      <td>1.434107</td>\n      <td>0.000000e+00</td>\n      <td>-0.296978</td>\n      <td>1.150446</td>\n      <td>1.484351</td>\n      <td>1.210446</td>\n    </tr>\n    <tr>\n      <th>25%</th>\n      <td>15.472500</td>\n      <td>15.680000</td>\n      <td>15.140000</td>\n      <td>15.417500</td>\n      <td>5.188794</td>\n      <td>3.319585e+07</td>\n      <td>-0.014302</td>\n      <td>4.938126</td>\n      <td>5.444204</td>\n      <td>5.186741</td>\n    </tr>\n    <tr>\n      <th>50%</th>\n      <td>20.350000</td>\n      <td>20.675000</td>\n      <td>20.010000</td>\n      <td>20.340000</td>\n      <td>6.806663</td>\n      <td>4.876155e+07</td>\n      <td>0.000809</td>\n      <td>6.517498</td>\n      <td>7.148605</td>\n      <td>6.848084</td>\n    </tr>\n    <tr>\n      <th>75%</th>\n      <td>26.690001</td>\n      <td>27.020000</td>\n      <td>26.260000</td>\n      <td>26.700001</td>\n      <td>10.271132</td>\n      <td>6.890132e+07</td>\n      <td>0.016009</td>\n      <td>9.921967</td>\n      <td>10.703921</td>\n      <td>10.331441</td>\n    </tr>\n    <tr>\n      <th>max</th>\n      <td>38.689999</td>\n      <td>38.860001</td>\n      <td>37.919998</td>\n      <td>38.520000</td>\n      <td>37.360001</td>\n      <td>6.989506e+08</td>\n      <td>0.222222</td>\n      <td>37.130001</td>\n      <td>37.459522</td>\n      <td>37.320000</td>\n    </tr>\n  </tbody>\n</table>\n</div>"
     },
     "execution_count": 28,
     "metadata": {},
     "output_type": "execute_result"
    }
   ],
   "source": [
    "df.describe()"
   ],
   "metadata": {
    "collapsed": false,
    "ExecuteTime": {
     "end_time": "2024-01-02T18:31:35.245574Z",
     "start_time": "2024-01-02T18:31:35.196796Z"
    }
   },
   "id": "bc569eeeed00a4cb"
  },
  {
   "cell_type": "code",
   "execution_count": 29,
   "outputs": [],
   "source": [
    "df[\"Target\"] = df[\"Returns\"].shift(-1)\n",
    "df[\"Target_cat\"] = np.where(df[\"Target\"] > 0, 1, 0)"
   ],
   "metadata": {
    "collapsed": false,
    "ExecuteTime": {
     "end_time": "2024-01-02T18:31:35.246406Z",
     "start_time": "2024-01-02T18:31:35.211008Z"
    }
   },
   "id": "15acb71275bf173f"
  },
  {
   "cell_type": "code",
   "execution_count": 30,
   "outputs": [],
   "source": [
    "df[\"Vol\"] = df[\"Returns\"].rolling(20).std()"
   ],
   "metadata": {
    "collapsed": false,
    "ExecuteTime": {
     "end_time": "2024-01-02T18:31:35.246450Z",
     "start_time": "2024-01-02T18:31:35.213507Z"
    }
   },
   "id": "e067bcf73eeb768e"
  },
  {
   "cell_type": "code",
   "execution_count": 31,
   "outputs": [
    {
     "data": {
      "text/plain": "                 Open       High        Low      Close  Adj Close    Volume  \\\nDate                                                                          \n2023-12-21  36.669998  36.680000  36.070000  36.389999  36.389999  30511900   \n2023-12-22  36.500000  36.799999  36.369999  36.740002  36.740002  31234700   \n2023-12-26  36.860001  37.369999  36.830002  37.330002  37.330002  23466800   \n2023-12-27  37.320000  37.430000  37.130001  37.360001  37.360001  19588500   \n2023-12-28  37.230000  37.360001  37.040001  37.240002  37.240002  21421900   \n\n             Returns    Adj Low   Adj High   Adj Open    Target  Target_cat  \\\nDate                                                                          \n2023-12-21  0.000275  36.070000  36.680000  36.669998  0.009618           1   \n2023-12-22  0.009618  36.369999  36.799999  36.500000  0.016059           1   \n2023-12-26  0.016059  36.830002  37.369999  36.860001  0.000804           1   \n2023-12-27  0.000804  37.130001  37.430000  37.320000 -0.003212           0   \n2023-12-28 -0.003212  37.040001  37.360001  37.230000       NaN           0   \n\n                 Vol  \nDate                  \n2023-12-21  0.015541  \n2023-12-22  0.015637  \n2023-12-26  0.015819  \n2023-12-27  0.015575  \n2023-12-28  0.015343  ",
      "text/html": "<div>\n<style scoped>\n    .dataframe tbody tr th:only-of-type {\n        vertical-align: middle;\n    }\n\n    .dataframe tbody tr th {\n        vertical-align: top;\n    }\n\n    .dataframe thead th {\n        text-align: right;\n    }\n</style>\n<table border=\"1\" class=\"dataframe\">\n  <thead>\n    <tr style=\"text-align: right;\">\n      <th></th>\n      <th>Open</th>\n      <th>High</th>\n      <th>Low</th>\n      <th>Close</th>\n      <th>Adj Close</th>\n      <th>Volume</th>\n      <th>Returns</th>\n      <th>Adj Low</th>\n      <th>Adj High</th>\n      <th>Adj Open</th>\n      <th>Target</th>\n      <th>Target_cat</th>\n      <th>Vol</th>\n    </tr>\n    <tr>\n      <th>Date</th>\n      <th></th>\n      <th></th>\n      <th></th>\n      <th></th>\n      <th></th>\n      <th></th>\n      <th></th>\n      <th></th>\n      <th></th>\n      <th></th>\n      <th></th>\n      <th></th>\n      <th></th>\n    </tr>\n  </thead>\n  <tbody>\n    <tr>\n      <th>2023-12-21</th>\n      <td>36.669998</td>\n      <td>36.680000</td>\n      <td>36.070000</td>\n      <td>36.389999</td>\n      <td>36.389999</td>\n      <td>30511900</td>\n      <td>0.000275</td>\n      <td>36.070000</td>\n      <td>36.680000</td>\n      <td>36.669998</td>\n      <td>0.009618</td>\n      <td>1</td>\n      <td>0.015541</td>\n    </tr>\n    <tr>\n      <th>2023-12-22</th>\n      <td>36.500000</td>\n      <td>36.799999</td>\n      <td>36.369999</td>\n      <td>36.740002</td>\n      <td>36.740002</td>\n      <td>31234700</td>\n      <td>0.009618</td>\n      <td>36.369999</td>\n      <td>36.799999</td>\n      <td>36.500000</td>\n      <td>0.016059</td>\n      <td>1</td>\n      <td>0.015637</td>\n    </tr>\n    <tr>\n      <th>2023-12-26</th>\n      <td>36.860001</td>\n      <td>37.369999</td>\n      <td>36.830002</td>\n      <td>37.330002</td>\n      <td>37.330002</td>\n      <td>23466800</td>\n      <td>0.016059</td>\n      <td>36.830002</td>\n      <td>37.369999</td>\n      <td>36.860001</td>\n      <td>0.000804</td>\n      <td>1</td>\n      <td>0.015819</td>\n    </tr>\n    <tr>\n      <th>2023-12-27</th>\n      <td>37.320000</td>\n      <td>37.430000</td>\n      <td>37.130001</td>\n      <td>37.360001</td>\n      <td>37.360001</td>\n      <td>19588500</td>\n      <td>0.000804</td>\n      <td>37.130001</td>\n      <td>37.430000</td>\n      <td>37.320000</td>\n      <td>-0.003212</td>\n      <td>0</td>\n      <td>0.015575</td>\n    </tr>\n    <tr>\n      <th>2023-12-28</th>\n      <td>37.230000</td>\n      <td>37.360001</td>\n      <td>37.040001</td>\n      <td>37.240002</td>\n      <td>37.240002</td>\n      <td>21421900</td>\n      <td>-0.003212</td>\n      <td>37.040001</td>\n      <td>37.360001</td>\n      <td>37.230000</td>\n      <td>NaN</td>\n      <td>0</td>\n      <td>0.015343</td>\n    </tr>\n  </tbody>\n</table>\n</div>"
     },
     "execution_count": 31,
     "metadata": {},
     "output_type": "execute_result"
    }
   ],
   "source": [
    "df.tail()"
   ],
   "metadata": {
    "collapsed": false,
    "ExecuteTime": {
     "end_time": "2024-01-02T18:31:35.255590Z",
     "start_time": "2024-01-02T18:31:35.220802Z"
    }
   },
   "id": "175b8bc60c72f70f"
  },
  {
   "cell_type": "code",
   "execution_count": 32,
   "outputs": [
    {
     "name": "stdout",
     "output_type": "stream",
     "text": [
      "{\n",
      "    \"Cycle Indicators\": [\n",
      "        \"HT_DCPERIOD\",\n",
      "        \"HT_DCPHASE\",\n",
      "        \"HT_PHASOR\",\n",
      "        \"HT_SINE\",\n",
      "        \"HT_TRENDMODE\"\n",
      "    ],\n",
      "    \"Math Operators\": [\n",
      "        \"ADD\",\n",
      "        \"DIV\",\n",
      "        \"MAX\",\n",
      "        \"MAXINDEX\",\n",
      "        \"MIN\",\n",
      "        \"MININDEX\",\n",
      "        \"MINMAX\",\n",
      "        \"MINMAXINDEX\",\n",
      "        \"MULT\",\n",
      "        \"SUB\",\n",
      "        \"SUM\"\n",
      "    ],\n",
      "    \"Math Transform\": [\n",
      "        \"ACOS\",\n",
      "        \"ASIN\",\n",
      "        \"ATAN\",\n",
      "        \"CEIL\",\n",
      "        \"COS\",\n",
      "        \"COSH\",\n",
      "        \"EXP\",\n",
      "        \"FLOOR\",\n",
      "        \"LN\",\n",
      "        \"LOG10\",\n",
      "        \"SIN\",\n",
      "        \"SINH\",\n",
      "        \"SQRT\",\n",
      "        \"TAN\",\n",
      "        \"TANH\"\n",
      "    ],\n",
      "    \"Momentum Indicators\": [\n",
      "        \"ADX\",\n",
      "        \"ADXR\",\n",
      "        \"APO\",\n",
      "        \"AROON\",\n",
      "        \"AROONOSC\",\n",
      "        \"BOP\",\n",
      "        \"CCI\",\n",
      "        \"CMO\",\n",
      "        \"DX\",\n",
      "        \"MACD\",\n",
      "        \"MACDEXT\",\n",
      "        \"MACDFIX\",\n",
      "        \"MFI\",\n",
      "        \"MINUS_DI\",\n",
      "        \"MINUS_DM\",\n",
      "        \"MOM\",\n",
      "        \"PLUS_DI\",\n",
      "        \"PLUS_DM\",\n",
      "        \"PPO\",\n",
      "        \"ROC\",\n",
      "        \"ROCP\",\n",
      "        \"ROCR\",\n",
      "        \"ROCR100\",\n",
      "        \"RSI\",\n",
      "        \"STOCH\",\n",
      "        \"STOCHF\",\n",
      "        \"STOCHRSI\",\n",
      "        \"TRIX\",\n",
      "        \"ULTOSC\",\n",
      "        \"WILLR\"\n",
      "    ],\n",
      "    \"Overlap Studies\": [\n",
      "        \"BBANDS\",\n",
      "        \"DEMA\",\n",
      "        \"EMA\",\n",
      "        \"HT_TRENDLINE\",\n",
      "        \"KAMA\",\n",
      "        \"MA\",\n",
      "        \"MAMA\",\n",
      "        \"MAVP\",\n",
      "        \"MIDPOINT\",\n",
      "        \"MIDPRICE\",\n",
      "        \"SAR\",\n",
      "        \"SAREXT\",\n",
      "        \"SMA\",\n",
      "        \"T3\",\n",
      "        \"TEMA\",\n",
      "        \"TRIMA\",\n",
      "        \"WMA\"\n",
      "    ],\n",
      "    \"Pattern Recognition\": [\n",
      "        \"CDL2CROWS\",\n",
      "        \"CDL3BLACKCROWS\",\n",
      "        \"CDL3INSIDE\",\n",
      "        \"CDL3LINESTRIKE\",\n",
      "        \"CDL3OUTSIDE\",\n",
      "        \"CDL3STARSINSOUTH\",\n",
      "        \"CDL3WHITESOLDIERS\",\n",
      "        \"CDLABANDONEDBABY\",\n",
      "        \"CDLADVANCEBLOCK\",\n",
      "        \"CDLBELTHOLD\",\n",
      "        \"CDLBREAKAWAY\",\n",
      "        \"CDLCLOSINGMARUBOZU\",\n",
      "        \"CDLCONCEALBABYSWALL\",\n",
      "        \"CDLCOUNTERATTACK\",\n",
      "        \"CDLDARKCLOUDCOVER\",\n",
      "        \"CDLDOJI\",\n",
      "        \"CDLDOJISTAR\",\n",
      "        \"CDLDRAGONFLYDOJI\",\n",
      "        \"CDLENGULFING\",\n",
      "        \"CDLEVENINGDOJISTAR\",\n",
      "        \"CDLEVENINGSTAR\",\n",
      "        \"CDLGAPSIDESIDEWHITE\",\n",
      "        \"CDLGRAVESTONEDOJI\",\n",
      "        \"CDLHAMMER\",\n",
      "        \"CDLHANGINGMAN\",\n",
      "        \"CDLHARAMI\",\n",
      "        \"CDLHARAMICROSS\",\n",
      "        \"CDLHIGHWAVE\",\n",
      "        \"CDLHIKKAKE\",\n",
      "        \"CDLHIKKAKEMOD\",\n",
      "        \"CDLHOMINGPIGEON\",\n",
      "        \"CDLIDENTICAL3CROWS\",\n",
      "        \"CDLINNECK\",\n",
      "        \"CDLINVERTEDHAMMER\",\n",
      "        \"CDLKICKING\",\n",
      "        \"CDLKICKINGBYLENGTH\",\n",
      "        \"CDLLADDERBOTTOM\",\n",
      "        \"CDLLONGLEGGEDDOJI\",\n",
      "        \"CDLLONGLINE\",\n",
      "        \"CDLMARUBOZU\",\n",
      "        \"CDLMATCHINGLOW\",\n",
      "        \"CDLMATHOLD\",\n",
      "        \"CDLMORNINGDOJISTAR\",\n",
      "        \"CDLMORNINGSTAR\",\n",
      "        \"CDLONNECK\",\n",
      "        \"CDLPIERCING\",\n",
      "        \"CDLRICKSHAWMAN\",\n",
      "        \"CDLRISEFALL3METHODS\",\n",
      "        \"CDLSEPARATINGLINES\",\n",
      "        \"CDLSHOOTINGSTAR\",\n",
      "        \"CDLSHORTLINE\",\n",
      "        \"CDLSPINNINGTOP\",\n",
      "        \"CDLSTALLEDPATTERN\",\n",
      "        \"CDLSTICKSANDWICH\",\n",
      "        \"CDLTAKURI\",\n",
      "        \"CDLTASUKIGAP\",\n",
      "        \"CDLTHRUSTING\",\n",
      "        \"CDLTRISTAR\",\n",
      "        \"CDLUNIQUE3RIVER\",\n",
      "        \"CDLUPSIDEGAP2CROWS\",\n",
      "        \"CDLXSIDEGAP3METHODS\"\n",
      "    ],\n",
      "    \"Price Transform\": [\n",
      "        \"AVGPRICE\",\n",
      "        \"MEDPRICE\",\n",
      "        \"TYPPRICE\",\n",
      "        \"WCLPRICE\"\n",
      "    ],\n",
      "    \"Statistic Functions\": [\n",
      "        \"BETA\",\n",
      "        \"CORREL\",\n",
      "        \"LINEARREG\",\n",
      "        \"LINEARREG_ANGLE\",\n",
      "        \"LINEARREG_INTERCEPT\",\n",
      "        \"LINEARREG_SLOPE\",\n",
      "        \"STDDEV\",\n",
      "        \"TSF\",\n",
      "        \"VAR\"\n",
      "    ],\n",
      "    \"Volatility Indicators\": [\n",
      "        \"ATR\",\n",
      "        \"NATR\",\n",
      "        \"TRANGE\"\n",
      "    ],\n",
      "    \"Volume Indicators\": [\n",
      "        \"AD\",\n",
      "        \"ADOSC\",\n",
      "        \"OBV\"\n",
      "    ]\n",
      "}\n"
     ]
    }
   ],
   "source": [
    "print(json.dumps(ta.get_function_groups(), sort_keys = True, indent = 4))"
   ],
   "metadata": {
    "collapsed": false,
    "ExecuteTime": {
     "end_time": "2024-01-02T18:31:35.255729Z",
     "start_time": "2024-01-02T18:31:35.224021Z"
    }
   },
   "id": "612359d5aad3132d"
  },
  {
   "cell_type": "code",
   "execution_count": 33,
   "outputs": [],
   "source": [
    "def apply_pattern(df: pd.DataFrame, pattern: Callable[[Any, Any, Any, Any], Any]) -> None:\n",
    "    name = pattern.__name__\n",
    "    df[name] = pattern(df[\"Adj Open\"], df[\"Adj High\"], df[\"Adj Low\"], df[\"Adj Close\"])\n",
    "    df[name] = np.where(df[name] == 100, 1, np.where(df[name] == -100, -1, 0))"
   ],
   "metadata": {
    "collapsed": false,
    "ExecuteTime": {
     "end_time": "2024-01-02T18:31:35.255775Z",
     "start_time": "2024-01-02T18:31:35.227347Z"
    }
   },
   "id": "ee67fae1d94777bf"
  },
  {
   "cell_type": "code",
   "execution_count": 34,
   "outputs": [],
   "source": [
    "patterns = [ta.CDLDOJISTAR, ta.CDLHARAMI, ta.CDLCLOSINGMARUBOZU, ta.CDLENGULFING, ta.CDLHAMMER]\n",
    "pattern_names = [pattern.__name__ for pattern in patterns]"
   ],
   "metadata": {
    "collapsed": false,
    "ExecuteTime": {
     "end_time": "2024-01-02T18:31:35.255798Z",
     "start_time": "2024-01-02T18:31:35.229886Z"
    }
   },
   "id": "cf1475faf458334c"
  },
  {
   "cell_type": "code",
   "execution_count": 35,
   "outputs": [],
   "source": [
    "for pattern in patterns:\n",
    "    apply_pattern(df, pattern)"
   ],
   "metadata": {
    "collapsed": false,
    "ExecuteTime": {
     "end_time": "2024-01-02T18:31:35.255820Z",
     "start_time": "2024-01-02T18:31:35.232590Z"
    }
   },
   "id": "e2ef02ae33237c39"
  },
  {
   "cell_type": "code",
   "execution_count": 36,
   "outputs": [],
   "source": [
    "features = pattern_names + [\"Vol\"]"
   ],
   "metadata": {
    "collapsed": false,
    "ExecuteTime": {
     "end_time": "2024-01-02T18:31:35.255842Z",
     "start_time": "2024-01-02T18:31:35.236264Z"
    }
   },
   "id": "6f0b77d888feea09"
  },
  {
   "cell_type": "code",
   "execution_count": 37,
   "outputs": [
    {
     "data": {
      "application/vnd.plotly.v1+json": {
       "data": [
        {
         "hovertemplate": "x=%{x}<br>y=%{y}<extra></extra>",
         "legendgroup": "",
         "marker": {
          "color": "#636efa",
          "symbol": "circle"
         },
         "mode": "markers",
         "name": "",
         "orientation": "v",
         "showlegend": false,
         "x": [
          0.7118961759179809,
          5.220677052228329,
          -0.16678376711117826,
          -1.8023362116968533,
          -3.0469304933329555,
          0.6748583166599653,
          1.2542978854755749,
          1.765042767200442,
          0.7850363099954016,
          -0.5235592141464518,
          -1.0138382420248226,
          -1.7848629734977917,
          -5.692002006517827,
          1.0672413387102342,
          2.7195195815609585,
          -2.1258813703974533,
          -1.6129447620288895,
          3.418824696312539,
          -2.5000067884896726,
          -4.761948868705234,
          -5.066110224207243,
          16.283212963374915,
          12.033208244849568,
          -1.5402912805293822,
          1.5738911221639285,
          0.3395555346912049,
          1.05958384622713,
          0.6089468674512322,
          1.3072238778845335,
          -1.0502175080250309,
          -13.708648618216712,
          0.5478233910327424,
          0.9539058818822221,
          1.283051125514123,
          -1.4016993135736344,
          0.45774390460786574,
          0.4888261585509257,
          8.461529749713815,
          -1.0801623719969733,
          -0.18628926235377818,
          -3.7383109674944626,
          0.1725654665627907,
          0.17734787399008578,
          0.19972845693205787,
          0.7650602915412641,
          1.1206751748514154,
          -0.9836225793390385,
          1.0374296882916356,
          0.3781583114686571,
          2.1673203442847955,
          -1.7676656230180332,
          -0.3518057102218086,
          2.125008500672987,
          -0.22876154499950063,
          -0.43961708522936016,
          0.08172879162675617
         ],
         "xaxis": "x",
         "y": [
          -0.5405479886627429,
          0.0,
          -4.0645878838731715,
          -2.841903512530397,
          1.1942236558841968,
          -0.12189137521201321,
          2.3085771068828365,
          0.43359119542893954,
          -0.7789214934454947,
          2.8947460101931943,
          -2.4674106981484423,
          -1.530374508215071,
          -1.71596343775412,
          1.0559568270965602,
          -5.295018399433127,
          2.258915693289665,
          -1.7486338631014453,
          3.305755555517087,
          -5.413097280207591,
          8.809573070622578,
          -1.856132253716225,
          9.893411973160205,
          0.24690272505025757,
          0.6016583773566397,
          7.747276763154787,
          0.25380188897035083,
          3.0799455424029842,
          -1.412247839550429,
          3.5842122038942437,
          0.13845673296370986,
          -1.3944170014998925,
          6.290253856823513,
          0.5118312624359467,
          3.4549003123365285,
          0.4489193246402179,
          -1.226784897007005,
          -7.574693237227359,
          -1.096075056899637,
          -1.4367753188585852,
          3.1264530002499846,
          0.4854485554966814,
          -1.851866316848494,
          -0.49573164320313445,
          2.9900411443778863,
          -5.7614832907142315,
          1.5771740772712706,
          6.843266531735215,
          -2.5302513551199945,
          -3.869888086265838,
          1.7819147769627675,
          -0.34276354040430057,
          1.5887100516659869,
          0.32639095587072564,
          1.277428795716462,
          -3.974100053652607,
          -1.0342961203517964
         ],
         "yaxis": "y",
         "type": "scatter"
        },
        {
         "hovertemplate": "<b>OLS trendline</b><br>y = 0.203595 * x + 0.234783<br>R<sup>2</sup>=0.055431<br><br>x=%{x}<br>y=%{y} <b>(trend)</b><extra></extra>",
         "legendgroup": "",
         "marker": {
          "color": "#636efa",
          "symbol": "circle"
         },
         "mode": "lines",
         "name": "",
         "showlegend": false,
         "x": [
          -13.708648618216712,
          -5.692002006517827,
          -5.066110224207243,
          -4.761948868705234,
          -3.7383109674944626,
          -3.0469304933329555,
          -2.5000067884896726,
          -2.1258813703974533,
          -1.8023362116968533,
          -1.7848629734977917,
          -1.7676656230180332,
          -1.6129447620288895,
          -1.5402912805293822,
          -1.4016993135736344,
          -1.0801623719969733,
          -1.0502175080250309,
          -1.0138382420248226,
          -0.9836225793390385,
          -0.5235592141464518,
          -0.43961708522936016,
          -0.3518057102218086,
          -0.22876154499950063,
          -0.18628926235377818,
          -0.16678376711117826,
          0.08172879162675617,
          0.1725654665627907,
          0.17734787399008578,
          0.19972845693205787,
          0.3395555346912049,
          0.3781583114686571,
          0.45774390460786574,
          0.4888261585509257,
          0.5478233910327424,
          0.6089468674512322,
          0.6748583166599653,
          0.7118961759179809,
          0.7650602915412641,
          0.7850363099954016,
          0.9539058818822221,
          1.0374296882916356,
          1.05958384622713,
          1.0672413387102342,
          1.1206751748514154,
          1.2542978854755749,
          1.283051125514123,
          1.3072238778845335,
          1.5738911221639285,
          1.765042767200442,
          2.125008500672987,
          2.1673203442847955,
          2.7195195815609585,
          3.418824696312539,
          5.220677052228329,
          8.461529749713815,
          12.033208244849568,
          16.283212963374915
         ],
         "xaxis": "x",
         "y": [
          -2.5562359852226564,
          -0.9240831711071511,
          -0.796654448935562,
          -0.7347285793826586,
          -0.526320555177337,
          -0.3855586329940068,
          -0.2742074524812276,
          -0.19803721777482944,
          -0.13216489399096706,
          -0.12860742211030682,
          -0.1251061197153744,
          -0.09360565563139137,
          -0.07881373701149604,
          -0.05059704244614959,
          0.014866417458717711,
          0.020963055662625556,
          0.02836970887483611,
          0.03452148046608956,
          0.128188290610213,
          0.14527852653690845,
          0.16315652338172065,
          0.18820775617961044,
          0.1968549198878077,
          0.2008261500658309,
          0.2514221775239014,
          0.26991611168402585,
          0.2708897880999621,
          0.2754463730661721,
          0.3039145305774554,
          0.3117738804779544,
          0.3279771455209277,
          0.33430535115346555,
          0.3463169195416369,
          0.3587613815314388,
          0.37218065301977843,
          0.379721392825942,
          0.3905453651334995,
          0.3946123916988422,
          0.42899346901505253,
          0.44599853638047965,
          0.45050902224448286,
          0.45206805291038843,
          0.4629469390894979,
          0.4901519156512308,
          0.49600594463828496,
          0.5009274071546328,
          0.5552196460750665,
          0.5941372522115103,
          0.6674246394857585,
          0.6760391385358536,
          0.7884643934744305,
          0.9308397364640448,
          1.2976886866269328,
          1.957511566010885,
          2.684689074178014,
          3.54997071840348
         ],
         "yaxis": "y",
         "type": "scatter"
        }
       ],
       "layout": {
        "template": {
         "data": {
          "histogram2dcontour": [
           {
            "type": "histogram2dcontour",
            "colorbar": {
             "outlinewidth": 0,
             "ticks": ""
            },
            "colorscale": [
             [
              0.0,
              "#0d0887"
             ],
             [
              0.1111111111111111,
              "#46039f"
             ],
             [
              0.2222222222222222,
              "#7201a8"
             ],
             [
              0.3333333333333333,
              "#9c179e"
             ],
             [
              0.4444444444444444,
              "#bd3786"
             ],
             [
              0.5555555555555556,
              "#d8576b"
             ],
             [
              0.6666666666666666,
              "#ed7953"
             ],
             [
              0.7777777777777778,
              "#fb9f3a"
             ],
             [
              0.8888888888888888,
              "#fdca26"
             ],
             [
              1.0,
              "#f0f921"
             ]
            ]
           }
          ],
          "choropleth": [
           {
            "type": "choropleth",
            "colorbar": {
             "outlinewidth": 0,
             "ticks": ""
            }
           }
          ],
          "histogram2d": [
           {
            "type": "histogram2d",
            "colorbar": {
             "outlinewidth": 0,
             "ticks": ""
            },
            "colorscale": [
             [
              0.0,
              "#0d0887"
             ],
             [
              0.1111111111111111,
              "#46039f"
             ],
             [
              0.2222222222222222,
              "#7201a8"
             ],
             [
              0.3333333333333333,
              "#9c179e"
             ],
             [
              0.4444444444444444,
              "#bd3786"
             ],
             [
              0.5555555555555556,
              "#d8576b"
             ],
             [
              0.6666666666666666,
              "#ed7953"
             ],
             [
              0.7777777777777778,
              "#fb9f3a"
             ],
             [
              0.8888888888888888,
              "#fdca26"
             ],
             [
              1.0,
              "#f0f921"
             ]
            ]
           }
          ],
          "heatmap": [
           {
            "type": "heatmap",
            "colorbar": {
             "outlinewidth": 0,
             "ticks": ""
            },
            "colorscale": [
             [
              0.0,
              "#0d0887"
             ],
             [
              0.1111111111111111,
              "#46039f"
             ],
             [
              0.2222222222222222,
              "#7201a8"
             ],
             [
              0.3333333333333333,
              "#9c179e"
             ],
             [
              0.4444444444444444,
              "#bd3786"
             ],
             [
              0.5555555555555556,
              "#d8576b"
             ],
             [
              0.6666666666666666,
              "#ed7953"
             ],
             [
              0.7777777777777778,
              "#fb9f3a"
             ],
             [
              0.8888888888888888,
              "#fdca26"
             ],
             [
              1.0,
              "#f0f921"
             ]
            ]
           }
          ],
          "heatmapgl": [
           {
            "type": "heatmapgl",
            "colorbar": {
             "outlinewidth": 0,
             "ticks": ""
            },
            "colorscale": [
             [
              0.0,
              "#0d0887"
             ],
             [
              0.1111111111111111,
              "#46039f"
             ],
             [
              0.2222222222222222,
              "#7201a8"
             ],
             [
              0.3333333333333333,
              "#9c179e"
             ],
             [
              0.4444444444444444,
              "#bd3786"
             ],
             [
              0.5555555555555556,
              "#d8576b"
             ],
             [
              0.6666666666666666,
              "#ed7953"
             ],
             [
              0.7777777777777778,
              "#fb9f3a"
             ],
             [
              0.8888888888888888,
              "#fdca26"
             ],
             [
              1.0,
              "#f0f921"
             ]
            ]
           }
          ],
          "contourcarpet": [
           {
            "type": "contourcarpet",
            "colorbar": {
             "outlinewidth": 0,
             "ticks": ""
            }
           }
          ],
          "contour": [
           {
            "type": "contour",
            "colorbar": {
             "outlinewidth": 0,
             "ticks": ""
            },
            "colorscale": [
             [
              0.0,
              "#0d0887"
             ],
             [
              0.1111111111111111,
              "#46039f"
             ],
             [
              0.2222222222222222,
              "#7201a8"
             ],
             [
              0.3333333333333333,
              "#9c179e"
             ],
             [
              0.4444444444444444,
              "#bd3786"
             ],
             [
              0.5555555555555556,
              "#d8576b"
             ],
             [
              0.6666666666666666,
              "#ed7953"
             ],
             [
              0.7777777777777778,
              "#fb9f3a"
             ],
             [
              0.8888888888888888,
              "#fdca26"
             ],
             [
              1.0,
              "#f0f921"
             ]
            ]
           }
          ],
          "surface": [
           {
            "type": "surface",
            "colorbar": {
             "outlinewidth": 0,
             "ticks": ""
            },
            "colorscale": [
             [
              0.0,
              "#0d0887"
             ],
             [
              0.1111111111111111,
              "#46039f"
             ],
             [
              0.2222222222222222,
              "#7201a8"
             ],
             [
              0.3333333333333333,
              "#9c179e"
             ],
             [
              0.4444444444444444,
              "#bd3786"
             ],
             [
              0.5555555555555556,
              "#d8576b"
             ],
             [
              0.6666666666666666,
              "#ed7953"
             ],
             [
              0.7777777777777778,
              "#fb9f3a"
             ],
             [
              0.8888888888888888,
              "#fdca26"
             ],
             [
              1.0,
              "#f0f921"
             ]
            ]
           }
          ],
          "mesh3d": [
           {
            "type": "mesh3d",
            "colorbar": {
             "outlinewidth": 0,
             "ticks": ""
            }
           }
          ],
          "scatter": [
           {
            "fillpattern": {
             "fillmode": "overlay",
             "size": 10,
             "solidity": 0.2
            },
            "type": "scatter"
           }
          ],
          "parcoords": [
           {
            "type": "parcoords",
            "line": {
             "colorbar": {
              "outlinewidth": 0,
              "ticks": ""
             }
            }
           }
          ],
          "scatterpolargl": [
           {
            "type": "scatterpolargl",
            "marker": {
             "colorbar": {
              "outlinewidth": 0,
              "ticks": ""
             }
            }
           }
          ],
          "bar": [
           {
            "error_x": {
             "color": "#2a3f5f"
            },
            "error_y": {
             "color": "#2a3f5f"
            },
            "marker": {
             "line": {
              "color": "#E5ECF6",
              "width": 0.5
             },
             "pattern": {
              "fillmode": "overlay",
              "size": 10,
              "solidity": 0.2
             }
            },
            "type": "bar"
           }
          ],
          "scattergeo": [
           {
            "type": "scattergeo",
            "marker": {
             "colorbar": {
              "outlinewidth": 0,
              "ticks": ""
             }
            }
           }
          ],
          "scatterpolar": [
           {
            "type": "scatterpolar",
            "marker": {
             "colorbar": {
              "outlinewidth": 0,
              "ticks": ""
             }
            }
           }
          ],
          "histogram": [
           {
            "marker": {
             "pattern": {
              "fillmode": "overlay",
              "size": 10,
              "solidity": 0.2
             }
            },
            "type": "histogram"
           }
          ],
          "scattergl": [
           {
            "type": "scattergl",
            "marker": {
             "colorbar": {
              "outlinewidth": 0,
              "ticks": ""
             }
            }
           }
          ],
          "scatter3d": [
           {
            "type": "scatter3d",
            "line": {
             "colorbar": {
              "outlinewidth": 0,
              "ticks": ""
             }
            },
            "marker": {
             "colorbar": {
              "outlinewidth": 0,
              "ticks": ""
             }
            }
           }
          ],
          "scattermapbox": [
           {
            "type": "scattermapbox",
            "marker": {
             "colorbar": {
              "outlinewidth": 0,
              "ticks": ""
             }
            }
           }
          ],
          "scatterternary": [
           {
            "type": "scatterternary",
            "marker": {
             "colorbar": {
              "outlinewidth": 0,
              "ticks": ""
             }
            }
           }
          ],
          "scattercarpet": [
           {
            "type": "scattercarpet",
            "marker": {
             "colorbar": {
              "outlinewidth": 0,
              "ticks": ""
             }
            }
           }
          ],
          "carpet": [
           {
            "aaxis": {
             "endlinecolor": "#2a3f5f",
             "gridcolor": "white",
             "linecolor": "white",
             "minorgridcolor": "white",
             "startlinecolor": "#2a3f5f"
            },
            "baxis": {
             "endlinecolor": "#2a3f5f",
             "gridcolor": "white",
             "linecolor": "white",
             "minorgridcolor": "white",
             "startlinecolor": "#2a3f5f"
            },
            "type": "carpet"
           }
          ],
          "table": [
           {
            "cells": {
             "fill": {
              "color": "#EBF0F8"
             },
             "line": {
              "color": "white"
             }
            },
            "header": {
             "fill": {
              "color": "#C8D4E3"
             },
             "line": {
              "color": "white"
             }
            },
            "type": "table"
           }
          ],
          "barpolar": [
           {
            "marker": {
             "line": {
              "color": "#E5ECF6",
              "width": 0.5
             },
             "pattern": {
              "fillmode": "overlay",
              "size": 10,
              "solidity": 0.2
             }
            },
            "type": "barpolar"
           }
          ],
          "pie": [
           {
            "automargin": true,
            "type": "pie"
           }
          ]
         },
         "layout": {
          "autotypenumbers": "strict",
          "colorway": [
           "#636efa",
           "#EF553B",
           "#00cc96",
           "#ab63fa",
           "#FFA15A",
           "#19d3f3",
           "#FF6692",
           "#B6E880",
           "#FF97FF",
           "#FECB52"
          ],
          "font": {
           "color": "#2a3f5f"
          },
          "hovermode": "closest",
          "hoverlabel": {
           "align": "left"
          },
          "paper_bgcolor": "white",
          "plot_bgcolor": "#E5ECF6",
          "polar": {
           "bgcolor": "#E5ECF6",
           "angularaxis": {
            "gridcolor": "white",
            "linecolor": "white",
            "ticks": ""
           },
           "radialaxis": {
            "gridcolor": "white",
            "linecolor": "white",
            "ticks": ""
           }
          },
          "ternary": {
           "bgcolor": "#E5ECF6",
           "aaxis": {
            "gridcolor": "white",
            "linecolor": "white",
            "ticks": ""
           },
           "baxis": {
            "gridcolor": "white",
            "linecolor": "white",
            "ticks": ""
           },
           "caxis": {
            "gridcolor": "white",
            "linecolor": "white",
            "ticks": ""
           }
          },
          "coloraxis": {
           "colorbar": {
            "outlinewidth": 0,
            "ticks": ""
           }
          },
          "colorscale": {
           "sequential": [
            [
             0.0,
             "#0d0887"
            ],
            [
             0.1111111111111111,
             "#46039f"
            ],
            [
             0.2222222222222222,
             "#7201a8"
            ],
            [
             0.3333333333333333,
             "#9c179e"
            ],
            [
             0.4444444444444444,
             "#bd3786"
            ],
            [
             0.5555555555555556,
             "#d8576b"
            ],
            [
             0.6666666666666666,
             "#ed7953"
            ],
            [
             0.7777777777777778,
             "#fb9f3a"
            ],
            [
             0.8888888888888888,
             "#fdca26"
            ],
            [
             1.0,
             "#f0f921"
            ]
           ],
           "sequentialminus": [
            [
             0.0,
             "#0d0887"
            ],
            [
             0.1111111111111111,
             "#46039f"
            ],
            [
             0.2222222222222222,
             "#7201a8"
            ],
            [
             0.3333333333333333,
             "#9c179e"
            ],
            [
             0.4444444444444444,
             "#bd3786"
            ],
            [
             0.5555555555555556,
             "#d8576b"
            ],
            [
             0.6666666666666666,
             "#ed7953"
            ],
            [
             0.7777777777777778,
             "#fb9f3a"
            ],
            [
             0.8888888888888888,
             "#fdca26"
            ],
            [
             1.0,
             "#f0f921"
            ]
           ],
           "diverging": [
            [
             0,
             "#8e0152"
            ],
            [
             0.1,
             "#c51b7d"
            ],
            [
             0.2,
             "#de77ae"
            ],
            [
             0.3,
             "#f1b6da"
            ],
            [
             0.4,
             "#fde0ef"
            ],
            [
             0.5,
             "#f7f7f7"
            ],
            [
             0.6,
             "#e6f5d0"
            ],
            [
             0.7,
             "#b8e186"
            ],
            [
             0.8,
             "#7fbc41"
            ],
            [
             0.9,
             "#4d9221"
            ],
            [
             1,
             "#276419"
            ]
           ]
          },
          "xaxis": {
           "gridcolor": "white",
           "linecolor": "white",
           "ticks": "",
           "title": {
            "standoff": 15
           },
           "zerolinecolor": "white",
           "automargin": true,
           "zerolinewidth": 2
          },
          "yaxis": {
           "gridcolor": "white",
           "linecolor": "white",
           "ticks": "",
           "title": {
            "standoff": 15
           },
           "zerolinecolor": "white",
           "automargin": true,
           "zerolinewidth": 2
          },
          "scene": {
           "xaxis": {
            "backgroundcolor": "#E5ECF6",
            "gridcolor": "white",
            "linecolor": "white",
            "showbackground": true,
            "ticks": "",
            "zerolinecolor": "white",
            "gridwidth": 2
           },
           "yaxis": {
            "backgroundcolor": "#E5ECF6",
            "gridcolor": "white",
            "linecolor": "white",
            "showbackground": true,
            "ticks": "",
            "zerolinecolor": "white",
            "gridwidth": 2
           },
           "zaxis": {
            "backgroundcolor": "#E5ECF6",
            "gridcolor": "white",
            "linecolor": "white",
            "showbackground": true,
            "ticks": "",
            "zerolinecolor": "white",
            "gridwidth": 2
           }
          },
          "shapedefaults": {
           "line": {
            "color": "#2a3f5f"
           }
          },
          "annotationdefaults": {
           "arrowcolor": "#2a3f5f",
           "arrowhead": 0,
           "arrowwidth": 1
          },
          "geo": {
           "bgcolor": "white",
           "landcolor": "#E5ECF6",
           "subunitcolor": "white",
           "showland": true,
           "showlakes": true,
           "lakecolor": "white"
          },
          "title": {
           "x": 0.05
          },
          "mapbox": {
           "style": "light"
          }
         }
        },
        "xaxis": {
         "anchor": "y",
         "domain": [
          0.0,
          1.0
         ],
         "title": {
          "text": "Doji Returns"
         }
        },
        "yaxis": {
         "anchor": "x",
         "domain": [
          0.0,
          1.0
         ],
         "title": {
          "text": "Target"
         }
        },
        "legend": {
         "tracegroupgap": 0
        },
        "margin": {
         "t": 60
        },
        "title": {
         "font": {
          "color": "black"
         },
         "text": "Doji Star x Target Returns"
        },
        "font": {
         "color": "Black",
         "size": 15
        },
        "height": 600,
        "width": 700,
        "showlegend": true
       },
       "config": {
        "plotlyServerURL": "https://plot.ly"
       }
      },
      "text/html": "<div>                            <div id=\"4e93cd4e-ba65-48f0-8ca1-ad6172b563f9\" class=\"plotly-graph-div\" style=\"height:600px; width:700px;\"></div>            <script type=\"text/javascript\">                require([\"plotly\"], function(Plotly) {                    window.PLOTLYENV=window.PLOTLYENV || {};                                    if (document.getElementById(\"4e93cd4e-ba65-48f0-8ca1-ad6172b563f9\")) {                    Plotly.newPlot(                        \"4e93cd4e-ba65-48f0-8ca1-ad6172b563f9\",                        [{\"hovertemplate\":\"x=%{x}\\u003cbr\\u003ey=%{y}\\u003cextra\\u003e\\u003c\\u002fextra\\u003e\",\"legendgroup\":\"\",\"marker\":{\"color\":\"#636efa\",\"symbol\":\"circle\"},\"mode\":\"markers\",\"name\":\"\",\"orientation\":\"v\",\"showlegend\":false,\"x\":[0.7118961759179809,5.220677052228329,-0.16678376711117826,-1.8023362116968533,-3.0469304933329555,0.6748583166599653,1.2542978854755749,1.765042767200442,0.7850363099954016,-0.5235592141464518,-1.0138382420248226,-1.7848629734977917,-5.692002006517827,1.0672413387102342,2.7195195815609585,-2.1258813703974533,-1.6129447620288895,3.418824696312539,-2.5000067884896726,-4.761948868705234,-5.066110224207243,16.283212963374915,12.033208244849568,-1.5402912805293822,1.5738911221639285,0.3395555346912049,1.05958384622713,0.6089468674512322,1.3072238778845335,-1.0502175080250309,-13.708648618216712,0.5478233910327424,0.9539058818822221,1.283051125514123,-1.4016993135736344,0.45774390460786574,0.4888261585509257,8.461529749713815,-1.0801623719969733,-0.18628926235377818,-3.7383109674944626,0.1725654665627907,0.17734787399008578,0.19972845693205787,0.7650602915412641,1.1206751748514154,-0.9836225793390385,1.0374296882916356,0.3781583114686571,2.1673203442847955,-1.7676656230180332,-0.3518057102218086,2.125008500672987,-0.22876154499950063,-0.43961708522936016,0.08172879162675617],\"xaxis\":\"x\",\"y\":[-0.5405479886627429,0.0,-4.0645878838731715,-2.841903512530397,1.1942236558841968,-0.12189137521201321,2.3085771068828365,0.43359119542893954,-0.7789214934454947,2.8947460101931943,-2.4674106981484423,-1.530374508215071,-1.71596343775412,1.0559568270965602,-5.295018399433127,2.258915693289665,-1.7486338631014453,3.305755555517087,-5.413097280207591,8.809573070622578,-1.856132253716225,9.893411973160205,0.24690272505025757,0.6016583773566397,7.747276763154787,0.25380188897035083,3.0799455424029842,-1.412247839550429,3.5842122038942437,0.13845673296370986,-1.3944170014998925,6.290253856823513,0.5118312624359467,3.4549003123365285,0.4489193246402179,-1.226784897007005,-7.574693237227359,-1.096075056899637,-1.4367753188585852,3.1264530002499846,0.4854485554966814,-1.851866316848494,-0.49573164320313445,2.9900411443778863,-5.7614832907142315,1.5771740772712706,6.843266531735215,-2.5302513551199945,-3.869888086265838,1.7819147769627675,-0.34276354040430057,1.5887100516659869,0.32639095587072564,1.277428795716462,-3.974100053652607,-1.0342961203517964],\"yaxis\":\"y\",\"type\":\"scatter\"},{\"hovertemplate\":\"\\u003cb\\u003eOLS trendline\\u003c\\u002fb\\u003e\\u003cbr\\u003ey = 0.203595 * x + 0.234783\\u003cbr\\u003eR\\u003csup\\u003e2\\u003c\\u002fsup\\u003e=0.055431\\u003cbr\\u003e\\u003cbr\\u003ex=%{x}\\u003cbr\\u003ey=%{y} \\u003cb\\u003e(trend)\\u003c\\u002fb\\u003e\\u003cextra\\u003e\\u003c\\u002fextra\\u003e\",\"legendgroup\":\"\",\"marker\":{\"color\":\"#636efa\",\"symbol\":\"circle\"},\"mode\":\"lines\",\"name\":\"\",\"showlegend\":false,\"x\":[-13.708648618216712,-5.692002006517827,-5.066110224207243,-4.761948868705234,-3.7383109674944626,-3.0469304933329555,-2.5000067884896726,-2.1258813703974533,-1.8023362116968533,-1.7848629734977917,-1.7676656230180332,-1.6129447620288895,-1.5402912805293822,-1.4016993135736344,-1.0801623719969733,-1.0502175080250309,-1.0138382420248226,-0.9836225793390385,-0.5235592141464518,-0.43961708522936016,-0.3518057102218086,-0.22876154499950063,-0.18628926235377818,-0.16678376711117826,0.08172879162675617,0.1725654665627907,0.17734787399008578,0.19972845693205787,0.3395555346912049,0.3781583114686571,0.45774390460786574,0.4888261585509257,0.5478233910327424,0.6089468674512322,0.6748583166599653,0.7118961759179809,0.7650602915412641,0.7850363099954016,0.9539058818822221,1.0374296882916356,1.05958384622713,1.0672413387102342,1.1206751748514154,1.2542978854755749,1.283051125514123,1.3072238778845335,1.5738911221639285,1.765042767200442,2.125008500672987,2.1673203442847955,2.7195195815609585,3.418824696312539,5.220677052228329,8.461529749713815,12.033208244849568,16.283212963374915],\"xaxis\":\"x\",\"y\":[-2.5562359852226564,-0.9240831711071511,-0.796654448935562,-0.7347285793826586,-0.526320555177337,-0.3855586329940068,-0.2742074524812276,-0.19803721777482944,-0.13216489399096706,-0.12860742211030682,-0.1251061197153744,-0.09360565563139137,-0.07881373701149604,-0.05059704244614959,0.014866417458717711,0.020963055662625556,0.02836970887483611,0.03452148046608956,0.128188290610213,0.14527852653690845,0.16315652338172065,0.18820775617961044,0.1968549198878077,0.2008261500658309,0.2514221775239014,0.26991611168402585,0.2708897880999621,0.2754463730661721,0.3039145305774554,0.3117738804779544,0.3279771455209277,0.33430535115346555,0.3463169195416369,0.3587613815314388,0.37218065301977843,0.379721392825942,0.3905453651334995,0.3946123916988422,0.42899346901505253,0.44599853638047965,0.45050902224448286,0.45206805291038843,0.4629469390894979,0.4901519156512308,0.49600594463828496,0.5009274071546328,0.5552196460750665,0.5941372522115103,0.6674246394857585,0.6760391385358536,0.7884643934744305,0.9308397364640448,1.2976886866269328,1.957511566010885,2.684689074178014,3.54997071840348],\"yaxis\":\"y\",\"type\":\"scatter\"}],                        {\"template\":{\"data\":{\"histogram2dcontour\":[{\"type\":\"histogram2dcontour\",\"colorbar\":{\"outlinewidth\":0,\"ticks\":\"\"},\"colorscale\":[[0.0,\"#0d0887\"],[0.1111111111111111,\"#46039f\"],[0.2222222222222222,\"#7201a8\"],[0.3333333333333333,\"#9c179e\"],[0.4444444444444444,\"#bd3786\"],[0.5555555555555556,\"#d8576b\"],[0.6666666666666666,\"#ed7953\"],[0.7777777777777778,\"#fb9f3a\"],[0.8888888888888888,\"#fdca26\"],[1.0,\"#f0f921\"]]}],\"choropleth\":[{\"type\":\"choropleth\",\"colorbar\":{\"outlinewidth\":0,\"ticks\":\"\"}}],\"histogram2d\":[{\"type\":\"histogram2d\",\"colorbar\":{\"outlinewidth\":0,\"ticks\":\"\"},\"colorscale\":[[0.0,\"#0d0887\"],[0.1111111111111111,\"#46039f\"],[0.2222222222222222,\"#7201a8\"],[0.3333333333333333,\"#9c179e\"],[0.4444444444444444,\"#bd3786\"],[0.5555555555555556,\"#d8576b\"],[0.6666666666666666,\"#ed7953\"],[0.7777777777777778,\"#fb9f3a\"],[0.8888888888888888,\"#fdca26\"],[1.0,\"#f0f921\"]]}],\"heatmap\":[{\"type\":\"heatmap\",\"colorbar\":{\"outlinewidth\":0,\"ticks\":\"\"},\"colorscale\":[[0.0,\"#0d0887\"],[0.1111111111111111,\"#46039f\"],[0.2222222222222222,\"#7201a8\"],[0.3333333333333333,\"#9c179e\"],[0.4444444444444444,\"#bd3786\"],[0.5555555555555556,\"#d8576b\"],[0.6666666666666666,\"#ed7953\"],[0.7777777777777778,\"#fb9f3a\"],[0.8888888888888888,\"#fdca26\"],[1.0,\"#f0f921\"]]}],\"heatmapgl\":[{\"type\":\"heatmapgl\",\"colorbar\":{\"outlinewidth\":0,\"ticks\":\"\"},\"colorscale\":[[0.0,\"#0d0887\"],[0.1111111111111111,\"#46039f\"],[0.2222222222222222,\"#7201a8\"],[0.3333333333333333,\"#9c179e\"],[0.4444444444444444,\"#bd3786\"],[0.5555555555555556,\"#d8576b\"],[0.6666666666666666,\"#ed7953\"],[0.7777777777777778,\"#fb9f3a\"],[0.8888888888888888,\"#fdca26\"],[1.0,\"#f0f921\"]]}],\"contourcarpet\":[{\"type\":\"contourcarpet\",\"colorbar\":{\"outlinewidth\":0,\"ticks\":\"\"}}],\"contour\":[{\"type\":\"contour\",\"colorbar\":{\"outlinewidth\":0,\"ticks\":\"\"},\"colorscale\":[[0.0,\"#0d0887\"],[0.1111111111111111,\"#46039f\"],[0.2222222222222222,\"#7201a8\"],[0.3333333333333333,\"#9c179e\"],[0.4444444444444444,\"#bd3786\"],[0.5555555555555556,\"#d8576b\"],[0.6666666666666666,\"#ed7953\"],[0.7777777777777778,\"#fb9f3a\"],[0.8888888888888888,\"#fdca26\"],[1.0,\"#f0f921\"]]}],\"surface\":[{\"type\":\"surface\",\"colorbar\":{\"outlinewidth\":0,\"ticks\":\"\"},\"colorscale\":[[0.0,\"#0d0887\"],[0.1111111111111111,\"#46039f\"],[0.2222222222222222,\"#7201a8\"],[0.3333333333333333,\"#9c179e\"],[0.4444444444444444,\"#bd3786\"],[0.5555555555555556,\"#d8576b\"],[0.6666666666666666,\"#ed7953\"],[0.7777777777777778,\"#fb9f3a\"],[0.8888888888888888,\"#fdca26\"],[1.0,\"#f0f921\"]]}],\"mesh3d\":[{\"type\":\"mesh3d\",\"colorbar\":{\"outlinewidth\":0,\"ticks\":\"\"}}],\"scatter\":[{\"fillpattern\":{\"fillmode\":\"overlay\",\"size\":10,\"solidity\":0.2},\"type\":\"scatter\"}],\"parcoords\":[{\"type\":\"parcoords\",\"line\":{\"colorbar\":{\"outlinewidth\":0,\"ticks\":\"\"}}}],\"scatterpolargl\":[{\"type\":\"scatterpolargl\",\"marker\":{\"colorbar\":{\"outlinewidth\":0,\"ticks\":\"\"}}}],\"bar\":[{\"error_x\":{\"color\":\"#2a3f5f\"},\"error_y\":{\"color\":\"#2a3f5f\"},\"marker\":{\"line\":{\"color\":\"#E5ECF6\",\"width\":0.5},\"pattern\":{\"fillmode\":\"overlay\",\"size\":10,\"solidity\":0.2}},\"type\":\"bar\"}],\"scattergeo\":[{\"type\":\"scattergeo\",\"marker\":{\"colorbar\":{\"outlinewidth\":0,\"ticks\":\"\"}}}],\"scatterpolar\":[{\"type\":\"scatterpolar\",\"marker\":{\"colorbar\":{\"outlinewidth\":0,\"ticks\":\"\"}}}],\"histogram\":[{\"marker\":{\"pattern\":{\"fillmode\":\"overlay\",\"size\":10,\"solidity\":0.2}},\"type\":\"histogram\"}],\"scattergl\":[{\"type\":\"scattergl\",\"marker\":{\"colorbar\":{\"outlinewidth\":0,\"ticks\":\"\"}}}],\"scatter3d\":[{\"type\":\"scatter3d\",\"line\":{\"colorbar\":{\"outlinewidth\":0,\"ticks\":\"\"}},\"marker\":{\"colorbar\":{\"outlinewidth\":0,\"ticks\":\"\"}}}],\"scattermapbox\":[{\"type\":\"scattermapbox\",\"marker\":{\"colorbar\":{\"outlinewidth\":0,\"ticks\":\"\"}}}],\"scatterternary\":[{\"type\":\"scatterternary\",\"marker\":{\"colorbar\":{\"outlinewidth\":0,\"ticks\":\"\"}}}],\"scattercarpet\":[{\"type\":\"scattercarpet\",\"marker\":{\"colorbar\":{\"outlinewidth\":0,\"ticks\":\"\"}}}],\"carpet\":[{\"aaxis\":{\"endlinecolor\":\"#2a3f5f\",\"gridcolor\":\"white\",\"linecolor\":\"white\",\"minorgridcolor\":\"white\",\"startlinecolor\":\"#2a3f5f\"},\"baxis\":{\"endlinecolor\":\"#2a3f5f\",\"gridcolor\":\"white\",\"linecolor\":\"white\",\"minorgridcolor\":\"white\",\"startlinecolor\":\"#2a3f5f\"},\"type\":\"carpet\"}],\"table\":[{\"cells\":{\"fill\":{\"color\":\"#EBF0F8\"},\"line\":{\"color\":\"white\"}},\"header\":{\"fill\":{\"color\":\"#C8D4E3\"},\"line\":{\"color\":\"white\"}},\"type\":\"table\"}],\"barpolar\":[{\"marker\":{\"line\":{\"color\":\"#E5ECF6\",\"width\":0.5},\"pattern\":{\"fillmode\":\"overlay\",\"size\":10,\"solidity\":0.2}},\"type\":\"barpolar\"}],\"pie\":[{\"automargin\":true,\"type\":\"pie\"}]},\"layout\":{\"autotypenumbers\":\"strict\",\"colorway\":[\"#636efa\",\"#EF553B\",\"#00cc96\",\"#ab63fa\",\"#FFA15A\",\"#19d3f3\",\"#FF6692\",\"#B6E880\",\"#FF97FF\",\"#FECB52\"],\"font\":{\"color\":\"#2a3f5f\"},\"hovermode\":\"closest\",\"hoverlabel\":{\"align\":\"left\"},\"paper_bgcolor\":\"white\",\"plot_bgcolor\":\"#E5ECF6\",\"polar\":{\"bgcolor\":\"#E5ECF6\",\"angularaxis\":{\"gridcolor\":\"white\",\"linecolor\":\"white\",\"ticks\":\"\"},\"radialaxis\":{\"gridcolor\":\"white\",\"linecolor\":\"white\",\"ticks\":\"\"}},\"ternary\":{\"bgcolor\":\"#E5ECF6\",\"aaxis\":{\"gridcolor\":\"white\",\"linecolor\":\"white\",\"ticks\":\"\"},\"baxis\":{\"gridcolor\":\"white\",\"linecolor\":\"white\",\"ticks\":\"\"},\"caxis\":{\"gridcolor\":\"white\",\"linecolor\":\"white\",\"ticks\":\"\"}},\"coloraxis\":{\"colorbar\":{\"outlinewidth\":0,\"ticks\":\"\"}},\"colorscale\":{\"sequential\":[[0.0,\"#0d0887\"],[0.1111111111111111,\"#46039f\"],[0.2222222222222222,\"#7201a8\"],[0.3333333333333333,\"#9c179e\"],[0.4444444444444444,\"#bd3786\"],[0.5555555555555556,\"#d8576b\"],[0.6666666666666666,\"#ed7953\"],[0.7777777777777778,\"#fb9f3a\"],[0.8888888888888888,\"#fdca26\"],[1.0,\"#f0f921\"]],\"sequentialminus\":[[0.0,\"#0d0887\"],[0.1111111111111111,\"#46039f\"],[0.2222222222222222,\"#7201a8\"],[0.3333333333333333,\"#9c179e\"],[0.4444444444444444,\"#bd3786\"],[0.5555555555555556,\"#d8576b\"],[0.6666666666666666,\"#ed7953\"],[0.7777777777777778,\"#fb9f3a\"],[0.8888888888888888,\"#fdca26\"],[1.0,\"#f0f921\"]],\"diverging\":[[0,\"#8e0152\"],[0.1,\"#c51b7d\"],[0.2,\"#de77ae\"],[0.3,\"#f1b6da\"],[0.4,\"#fde0ef\"],[0.5,\"#f7f7f7\"],[0.6,\"#e6f5d0\"],[0.7,\"#b8e186\"],[0.8,\"#7fbc41\"],[0.9,\"#4d9221\"],[1,\"#276419\"]]},\"xaxis\":{\"gridcolor\":\"white\",\"linecolor\":\"white\",\"ticks\":\"\",\"title\":{\"standoff\":15},\"zerolinecolor\":\"white\",\"automargin\":true,\"zerolinewidth\":2},\"yaxis\":{\"gridcolor\":\"white\",\"linecolor\":\"white\",\"ticks\":\"\",\"title\":{\"standoff\":15},\"zerolinecolor\":\"white\",\"automargin\":true,\"zerolinewidth\":2},\"scene\":{\"xaxis\":{\"backgroundcolor\":\"#E5ECF6\",\"gridcolor\":\"white\",\"linecolor\":\"white\",\"showbackground\":true,\"ticks\":\"\",\"zerolinecolor\":\"white\",\"gridwidth\":2},\"yaxis\":{\"backgroundcolor\":\"#E5ECF6\",\"gridcolor\":\"white\",\"linecolor\":\"white\",\"showbackground\":true,\"ticks\":\"\",\"zerolinecolor\":\"white\",\"gridwidth\":2},\"zaxis\":{\"backgroundcolor\":\"#E5ECF6\",\"gridcolor\":\"white\",\"linecolor\":\"white\",\"showbackground\":true,\"ticks\":\"\",\"zerolinecolor\":\"white\",\"gridwidth\":2}},\"shapedefaults\":{\"line\":{\"color\":\"#2a3f5f\"}},\"annotationdefaults\":{\"arrowcolor\":\"#2a3f5f\",\"arrowhead\":0,\"arrowwidth\":1},\"geo\":{\"bgcolor\":\"white\",\"landcolor\":\"#E5ECF6\",\"subunitcolor\":\"white\",\"showland\":true,\"showlakes\":true,\"lakecolor\":\"white\"},\"title\":{\"x\":0.05},\"mapbox\":{\"style\":\"light\"}}},\"xaxis\":{\"anchor\":\"y\",\"domain\":[0.0,1.0],\"title\":{\"text\":\"Doji Returns\"}},\"yaxis\":{\"anchor\":\"x\",\"domain\":[0.0,1.0],\"title\":{\"text\":\"Target\"}},\"legend\":{\"tracegroupgap\":0},\"margin\":{\"t\":60},\"title\":{\"font\":{\"color\":\"black\"},\"text\":\"Doji Star x Target Returns\"},\"font\":{\"color\":\"Black\",\"size\":15},\"height\":600,\"width\":700,\"showlegend\":true},                        {\"responsive\": true}                    ).then(function(){\n                            \nvar gd = document.getElementById('4e93cd4e-ba65-48f0-8ca1-ad6172b563f9');\nvar x = new MutationObserver(function (mutations, observer) {{\n        var display = window.getComputedStyle(gd).display;\n        if (!display || display === 'none') {{\n            console.log([gd, 'removed!']);\n            Plotly.purge(gd);\n            observer.disconnect();\n        }}\n}});\n\n// Listen for the removal of the full notebook cells\nvar notebookContainer = gd.closest('#notebook-container');\nif (notebookContainer) {{\n    x.observe(notebookContainer, {childList: true});\n}}\n\n// Listen for the clearing of the current output cell\nvar outputEl = gd.closest('.output');\nif (outputEl) {{\n    x.observe(outputEl, {childList: true});\n}}\n\n                        })                };                });            </script>        </div>"
     },
     "metadata": {},
     "output_type": "display_data"
    }
   ],
   "source": [
    "fig = px.scatter(x = df[df[\"CDLDOJISTAR\"] != 0][\"Returns\"]*100\n",
    "                 , y = df[df[\"CDLDOJISTAR\"] != 0][\"Target\"]*100 , trendline = \"ols\")\n",
    "\n",
    "fig.update_layout(height = 600, width = 700\n",
    "                  , title_text = \"Doji Star x Target Returns\"\n",
    "                  , font_color = \"blue\"\n",
    "                  , title_font_color = \"black\"\n",
    "                  , xaxis_title = \"Doji Returns\"\n",
    "                  , yaxis_title = \"Target\"\n",
    "                  , font = dict(size = 15, color = \"Black\")\n",
    "                  , showlegend = True\n",
    "                 )\n",
    "\n",
    "fig.show()"
   ],
   "metadata": {
    "collapsed": false,
    "ExecuteTime": {
     "end_time": "2024-01-02T18:31:35.321523Z",
     "start_time": "2024-01-02T18:31:35.246152Z"
    }
   },
   "id": "463ee4bd828decfe"
  },
  {
   "cell_type": "code",
   "execution_count": 38,
   "outputs": [],
   "source": [
    "filtered_dfs = []\n",
    "\n",
    "for pattern in pattern_names:\n",
    "    filtered_df = df[df[pattern] != 0].dropna()\n",
    "    filtered_dfs.append(filtered_df)\n",
    "\n",
    "df_patterns = pd.concat(filtered_dfs).dropna()\n",
    "\n",
    "target = \"Target_cat\"\n",
    "columns_to_keep = [target, \"Target\"] + features\n",
    "df_patterns = df_patterns[columns_to_keep].sort_index()"
   ],
   "metadata": {
    "collapsed": false,
    "ExecuteTime": {
     "end_time": "2024-01-02T18:31:35.337452Z",
     "start_time": "2024-01-02T18:31:35.275109Z"
    }
   },
   "id": "fef707b6aee6d450"
  },
  {
   "cell_type": "code",
   "execution_count": 39,
   "outputs": [
    {
     "data": {
      "text/plain": "            Target_cat    Target  CDLDOJISTAR  CDLHARAMI  CDLCLOSINGMARUBOZU  \\\nDate                                                                           \n2012-02-07           0 -0.006641            0          0                   1   \n2012-02-10           0  0.000000            0          0                  -1   \n2012-02-10           0  0.000000            0          0                  -1   \n2012-02-14           0 -0.004739            0          0                   0   \n2012-02-16           1  0.007119            0          0                   1   \n\n            CDLENGULFING  CDLHAMMER       Vol  \nDate                                           \n2012-02-07             0          0  0.015522  \n2012-02-10            -1          0  0.024439  \n2012-02-10            -1          0  0.024439  \n2012-02-14            -1          0  0.023886  \n2012-02-16             0          0  0.024143  ",
      "text/html": "<div>\n<style scoped>\n    .dataframe tbody tr th:only-of-type {\n        vertical-align: middle;\n    }\n\n    .dataframe tbody tr th {\n        vertical-align: top;\n    }\n\n    .dataframe thead th {\n        text-align: right;\n    }\n</style>\n<table border=\"1\" class=\"dataframe\">\n  <thead>\n    <tr style=\"text-align: right;\">\n      <th></th>\n      <th>Target_cat</th>\n      <th>Target</th>\n      <th>CDLDOJISTAR</th>\n      <th>CDLHARAMI</th>\n      <th>CDLCLOSINGMARUBOZU</th>\n      <th>CDLENGULFING</th>\n      <th>CDLHAMMER</th>\n      <th>Vol</th>\n    </tr>\n    <tr>\n      <th>Date</th>\n      <th></th>\n      <th></th>\n      <th></th>\n      <th></th>\n      <th></th>\n      <th></th>\n      <th></th>\n      <th></th>\n    </tr>\n  </thead>\n  <tbody>\n    <tr>\n      <th>2012-02-07</th>\n      <td>0</td>\n      <td>-0.006641</td>\n      <td>0</td>\n      <td>0</td>\n      <td>1</td>\n      <td>0</td>\n      <td>0</td>\n      <td>0.015522</td>\n    </tr>\n    <tr>\n      <th>2012-02-10</th>\n      <td>0</td>\n      <td>0.000000</td>\n      <td>0</td>\n      <td>0</td>\n      <td>-1</td>\n      <td>-1</td>\n      <td>0</td>\n      <td>0.024439</td>\n    </tr>\n    <tr>\n      <th>2012-02-10</th>\n      <td>0</td>\n      <td>0.000000</td>\n      <td>0</td>\n      <td>0</td>\n      <td>-1</td>\n      <td>-1</td>\n      <td>0</td>\n      <td>0.024439</td>\n    </tr>\n    <tr>\n      <th>2012-02-14</th>\n      <td>0</td>\n      <td>-0.004739</td>\n      <td>0</td>\n      <td>0</td>\n      <td>0</td>\n      <td>-1</td>\n      <td>0</td>\n      <td>0.023886</td>\n    </tr>\n    <tr>\n      <th>2012-02-16</th>\n      <td>1</td>\n      <td>0.007119</td>\n      <td>0</td>\n      <td>0</td>\n      <td>1</td>\n      <td>0</td>\n      <td>0</td>\n      <td>0.024143</td>\n    </tr>\n  </tbody>\n</table>\n</div>"
     },
     "execution_count": 39,
     "metadata": {},
     "output_type": "execute_result"
    }
   ],
   "source": [
    "df_patterns.head()"
   ],
   "metadata": {
    "collapsed": false,
    "ExecuteTime": {
     "end_time": "2024-01-02T18:31:35.337759Z",
     "start_time": "2024-01-02T18:31:35.286381Z"
    }
   },
   "id": "35bf17227e03083b"
  },
  {
   "cell_type": "code",
   "execution_count": 40,
   "outputs": [],
   "source": [
    "# Filter data based on periods\n",
    "df_train = df_patterns.loc[start_train:end_train]\n",
    "df_test = df_patterns.loc[start_test:end_test]\n",
    "\n",
    "columns_to_drop = [target, \"Target\"]\n",
    "\n",
    "# Separate features (x) and target (y) for training and testing\n",
    "x_train, y_train = df_train.drop(columns_to_drop, axis=1), df_train[target]\n",
    "x_test, y_test = df_test.drop(columns_to_drop, axis=1), df_test[target]"
   ],
   "metadata": {
    "collapsed": false,
    "ExecuteTime": {
     "end_time": "2024-01-02T18:31:35.338094Z",
     "start_time": "2024-01-02T18:31:35.291272Z"
    }
   },
   "id": "a13fb8bdd04c9983"
  },
  {
   "cell_type": "code",
   "execution_count": 41,
   "outputs": [
    {
     "name": "stdout",
     "output_type": "stream",
     "text": [
      "(584, 6)\n",
      "(567, 6)\n"
     ]
    }
   ],
   "source": [
    "print(x_train.shape)\n",
    "print(x_test.shape)"
   ],
   "metadata": {
    "collapsed": false,
    "ExecuteTime": {
     "end_time": "2024-01-02T18:31:35.338148Z",
     "start_time": "2024-01-02T18:31:35.294486Z"
    }
   },
   "id": "7eb2f18b87ddb40a"
  },
  {
   "cell_type": "code",
   "execution_count": 42,
   "outputs": [
    {
     "data": {
      "text/plain": "0.5485008818342152"
     },
     "execution_count": 42,
     "metadata": {},
     "output_type": "execute_result"
    }
   ],
   "source": [
    "from sklearn.ensemble import GradientBoostingClassifier\n",
    "classifier = GradientBoostingClassifier(random_state=42, n_estimators=50, learning_rate=0.1, max_depth=1, loss=\"exponential\")\n",
    "\n",
    "model = classifier.fit(x_train, y_train)\n",
    "model.score(x_test, y_test)"
   ],
   "metadata": {
    "collapsed": false,
    "ExecuteTime": {
     "end_time": "2024-01-02T18:31:35.338865Z",
     "start_time": "2024-01-02T18:31:35.299011Z"
    }
   },
   "id": "8209147cce48a4e9"
  },
  {
   "cell_type": "code",
   "execution_count": 43,
   "outputs": [],
   "source": [
    "# Define operational cost\n",
    "op_cost = 0.0001 \n",
    "\n",
    "#0.1% - R$2 reais em R$20000, assumindo operação completa - C/V\n",
    "#Cada ponto de um mini contrato de índice: R$0.20 - Assumindo então o indice em média de 100k pontos\n",
    "\n",
    "# Make predictions on the entire dataset\n",
    "y_pred_all = model.predict(df_patterns.drop(columns_to_drop, axis=1))\n",
    "df_patterns[\"Predicted\"] = np.where(y_pred_all == 1, 1, -1)\n",
    "df_patterns[\"Signal\"] = np.sign(df_patterns[\"Predicted\"])\n",
    "df_patterns[\"Model_Returns\"] = df_patterns[\"Signal\"] * df_patterns[\"Target\"] - op_cost"
   ],
   "metadata": {
    "collapsed": false,
    "ExecuteTime": {
     "end_time": "2024-01-02T18:31:35.339656Z",
     "start_time": "2024-01-02T18:31:35.318665Z"
    }
   },
   "id": "39b3d0fd26f68719"
  },
  {
   "cell_type": "code",
   "execution_count": 44,
   "outputs": [],
   "source": [
    "df_patterns.index.name = \"Date\"\n",
    "df_patterns.reset_index(inplace=True)\n",
    "\n",
    "df_patterns[\"Date\"] = pd.to_datetime(df_patterns[\"Date\"])\n",
    "\n",
    "df_patterns[\"train_test\"] = np.where(df_patterns[\"Date\"] > end_train, \"Test\", \"Train\")"
   ],
   "metadata": {
    "collapsed": false,
    "ExecuteTime": {
     "end_time": "2024-01-02T18:31:35.353757Z",
     "start_time": "2024-01-02T18:31:35.324296Z"
    }
   },
   "id": "708e49c99169b99"
  },
  {
   "cell_type": "code",
   "execution_count": 45,
   "outputs": [
    {
     "data": {
      "text/plain": "        Date  Target_cat    Target  CDLDOJISTAR  CDLHARAMI  \\\n0 2012-02-07           0 -0.006641            0          0   \n1 2012-02-10           0  0.000000            0          0   \n2 2012-02-10           0  0.000000            0          0   \n3 2012-02-14           0 -0.004739            0          0   \n4 2012-02-16           1  0.007119            0          0   \n\n   CDLCLOSINGMARUBOZU  CDLENGULFING  CDLHAMMER       Vol  Predicted  Signal  \\\n0                   1             0          0  0.015522         -1      -1   \n1                  -1            -1          0  0.024439          1       1   \n2                  -1            -1          0  0.024439          1       1   \n3                   0            -1          0  0.023886          1       1   \n4                   1             0          0  0.024143          1       1   \n\n   Model_Returns train_test  \n0       0.006541      Train  \n1      -0.000100      Train  \n2      -0.000100      Train  \n3      -0.004839      Train  \n4       0.007019      Train  ",
      "text/html": "<div>\n<style scoped>\n    .dataframe tbody tr th:only-of-type {\n        vertical-align: middle;\n    }\n\n    .dataframe tbody tr th {\n        vertical-align: top;\n    }\n\n    .dataframe thead th {\n        text-align: right;\n    }\n</style>\n<table border=\"1\" class=\"dataframe\">\n  <thead>\n    <tr style=\"text-align: right;\">\n      <th></th>\n      <th>Date</th>\n      <th>Target_cat</th>\n      <th>Target</th>\n      <th>CDLDOJISTAR</th>\n      <th>CDLHARAMI</th>\n      <th>CDLCLOSINGMARUBOZU</th>\n      <th>CDLENGULFING</th>\n      <th>CDLHAMMER</th>\n      <th>Vol</th>\n      <th>Predicted</th>\n      <th>Signal</th>\n      <th>Model_Returns</th>\n      <th>train_test</th>\n    </tr>\n  </thead>\n  <tbody>\n    <tr>\n      <th>0</th>\n      <td>2012-02-07</td>\n      <td>0</td>\n      <td>-0.006641</td>\n      <td>0</td>\n      <td>0</td>\n      <td>1</td>\n      <td>0</td>\n      <td>0</td>\n      <td>0.015522</td>\n      <td>-1</td>\n      <td>-1</td>\n      <td>0.006541</td>\n      <td>Train</td>\n    </tr>\n    <tr>\n      <th>1</th>\n      <td>2012-02-10</td>\n      <td>0</td>\n      <td>0.000000</td>\n      <td>0</td>\n      <td>0</td>\n      <td>-1</td>\n      <td>-1</td>\n      <td>0</td>\n      <td>0.024439</td>\n      <td>1</td>\n      <td>1</td>\n      <td>-0.000100</td>\n      <td>Train</td>\n    </tr>\n    <tr>\n      <th>2</th>\n      <td>2012-02-10</td>\n      <td>0</td>\n      <td>0.000000</td>\n      <td>0</td>\n      <td>0</td>\n      <td>-1</td>\n      <td>-1</td>\n      <td>0</td>\n      <td>0.024439</td>\n      <td>1</td>\n      <td>1</td>\n      <td>-0.000100</td>\n      <td>Train</td>\n    </tr>\n    <tr>\n      <th>3</th>\n      <td>2012-02-14</td>\n      <td>0</td>\n      <td>-0.004739</td>\n      <td>0</td>\n      <td>0</td>\n      <td>0</td>\n      <td>-1</td>\n      <td>0</td>\n      <td>0.023886</td>\n      <td>1</td>\n      <td>1</td>\n      <td>-0.004839</td>\n      <td>Train</td>\n    </tr>\n    <tr>\n      <th>4</th>\n      <td>2012-02-16</td>\n      <td>1</td>\n      <td>0.007119</td>\n      <td>0</td>\n      <td>0</td>\n      <td>1</td>\n      <td>0</td>\n      <td>0</td>\n      <td>0.024143</td>\n      <td>1</td>\n      <td>1</td>\n      <td>0.007019</td>\n      <td>Train</td>\n    </tr>\n  </tbody>\n</table>\n</div>"
     },
     "execution_count": 45,
     "metadata": {},
     "output_type": "execute_result"
    }
   ],
   "source": [
    "df_patterns.head()"
   ],
   "metadata": {
    "collapsed": false,
    "ExecuteTime": {
     "end_time": "2024-01-02T18:31:35.369823Z",
     "start_time": "2024-01-02T18:31:35.330858Z"
    }
   },
   "id": "d68fb568e133f793"
  },
  {
   "cell_type": "code",
   "execution_count": 46,
   "outputs": [
    {
     "data": {
      "image/svg+xml": "<svg class=\"main-svg\" xmlns=\"http://www.w3.org/2000/svg\" xmlns:xlink=\"http://www.w3.org/1999/xlink\" width=\"700\" height=\"500\" style=\"\" viewBox=\"0 0 700 500\"><rect x=\"0\" y=\"0\" width=\"700\" height=\"500\" style=\"fill: rgb(255, 255, 255); fill-opacity: 1;\"/><defs id=\"defs-ff3383\"><g class=\"clips\"><clipPath id=\"clipff3383xyplot\" class=\"plotclip\"><rect width=\"522\" height=\"320\"/></clipPath><clipPath class=\"axesclip\" id=\"clipff3383x\"><rect x=\"80\" y=\"0\" width=\"522\" height=\"500\"/></clipPath><clipPath class=\"axesclip\" id=\"clipff3383y\"><rect x=\"0\" y=\"100\" width=\"700\" height=\"320\"/></clipPath><clipPath class=\"axesclip\" id=\"clipff3383xy\"><rect x=\"80\" y=\"100\" width=\"522\" height=\"320\"/></clipPath></g><g class=\"gradients\"/><g class=\"patterns\"/></defs><g class=\"bglayer\"><rect class=\"bg\" x=\"80\" y=\"100\" width=\"522\" height=\"320\" style=\"fill: rgb(229, 236, 246); fill-opacity: 1; stroke-width: 0;\"/></g><g class=\"layer-below\"><g class=\"imagelayer\"/><g class=\"shapelayer\"/></g><g class=\"cartesianlayer\"><g class=\"subplot xy\"><g class=\"layer-subplot\"><g class=\"shapelayer\"/><g class=\"imagelayer\"/></g><g class=\"minor-gridlayer\"><g class=\"x\"/><g class=\"y\"/></g><g class=\"gridlayer\"><g class=\"x\"><path class=\"xgrid crisp\" transform=\"translate(163.47,0)\" d=\"M0,100v320\" style=\"stroke: rgb(255, 255, 255); stroke-opacity: 1; stroke-width: 1px;\"/><path class=\"xgrid crisp\" transform=\"translate(251.27,0)\" d=\"M0,100v320\" style=\"stroke: rgb(255, 255, 255); stroke-opacity: 1; stroke-width: 1px;\"/><path class=\"xgrid crisp\" transform=\"translate(339.2,0)\" d=\"M0,100v320\" style=\"stroke: rgb(255, 255, 255); stroke-opacity: 1; stroke-width: 1px;\"/><path class=\"xgrid crisp\" transform=\"translate(427,0)\" d=\"M0,100v320\" style=\"stroke: rgb(255, 255, 255); stroke-opacity: 1; stroke-width: 1px;\"/><path class=\"xgrid crisp\" transform=\"translate(514.9200000000001,0)\" d=\"M0,100v320\" style=\"stroke: rgb(255, 255, 255); stroke-opacity: 1; stroke-width: 1px;\"/></g><g class=\"y\"><path class=\"ygrid crisp\" transform=\"translate(0,340.84000000000003)\" d=\"M80,0h522\" style=\"stroke: rgb(255, 255, 255); stroke-opacity: 1; stroke-width: 1px;\"/><path class=\"ygrid crisp\" transform=\"translate(0,295.64)\" d=\"M80,0h522\" style=\"stroke: rgb(255, 255, 255); stroke-opacity: 1; stroke-width: 1px;\"/><path class=\"ygrid crisp\" transform=\"translate(0,250.44)\" d=\"M80,0h522\" style=\"stroke: rgb(255, 255, 255); stroke-opacity: 1; stroke-width: 1px;\"/><path class=\"ygrid crisp\" transform=\"translate(0,205.24)\" d=\"M80,0h522\" style=\"stroke: rgb(255, 255, 255); stroke-opacity: 1; stroke-width: 1px;\"/><path class=\"ygrid crisp\" transform=\"translate(0,160.04)\" d=\"M80,0h522\" style=\"stroke: rgb(255, 255, 255); stroke-opacity: 1; stroke-width: 1px;\"/><path class=\"ygrid crisp\" transform=\"translate(0,114.84)\" d=\"M80,0h522\" style=\"stroke: rgb(255, 255, 255); stroke-opacity: 1; stroke-width: 1px;\"/></g></g><g class=\"zerolinelayer\"><path class=\"yzl zl crisp\" transform=\"translate(0,386.04)\" d=\"M80,0h522\" style=\"stroke: rgb(255, 255, 255); stroke-opacity: 1; stroke-width: 2px;\"/></g><path class=\"xlines-below\"/><path class=\"ylines-below\"/><g class=\"overlines-below\"/><g class=\"xaxislayer-below\"/><g class=\"yaxislayer-below\"/><g class=\"overaxes-below\"/><g class=\"plot\" transform=\"translate(80,100)\" clip-path=\"url(#clipff3383xyplot)\"/><g class=\"overplot\"/><path class=\"xlines-above crisp\" d=\"M0,0\" style=\"fill: none;\"/><path class=\"ylines-above crisp\" d=\"M0,0\" style=\"fill: none;\"/><g class=\"overlines-above\"/><g class=\"xaxislayer-above\"><g class=\"xtick\"><text text-anchor=\"middle\" x=\"0\" y=\"433\" transform=\"translate(163.47,0)\" style=\"font-family: 'Open Sans', verdana, arial, sans-serif; font-size: 12px; fill: rgb(42, 63, 95); fill-opacity: 1; white-space: pre; opacity: 1;\">2014</text></g><g class=\"xtick\"><text text-anchor=\"middle\" x=\"0\" y=\"433\" style=\"font-family: 'Open Sans', verdana, arial, sans-serif; font-size: 12px; fill: rgb(42, 63, 95); fill-opacity: 1; white-space: pre; opacity: 1;\" transform=\"translate(251.27,0)\">2016</text></g><g class=\"xtick\"><text text-anchor=\"middle\" x=\"0\" y=\"433\" style=\"font-family: 'Open Sans', verdana, arial, sans-serif; font-size: 12px; fill: rgb(42, 63, 95); fill-opacity: 1; white-space: pre; opacity: 1;\" transform=\"translate(339.2,0)\">2018</text></g><g class=\"xtick\"><text text-anchor=\"middle\" x=\"0\" y=\"433\" style=\"font-family: 'Open Sans', verdana, arial, sans-serif; font-size: 12px; fill: rgb(42, 63, 95); fill-opacity: 1; white-space: pre; opacity: 1;\" transform=\"translate(427,0)\">2020</text></g><g class=\"xtick\"><text text-anchor=\"middle\" x=\"0\" y=\"433\" style=\"font-family: 'Open Sans', verdana, arial, sans-serif; font-size: 12px; fill: rgb(42, 63, 95); fill-opacity: 1; white-space: pre; opacity: 1;\" transform=\"translate(514.9200000000001,0)\">2022</text></g></g><g class=\"yaxislayer-above\"><g class=\"ytick\"><text text-anchor=\"end\" x=\"79\" y=\"4.199999999999999\" transform=\"translate(0,386.04)\" style=\"font-family: 'Open Sans', verdana, arial, sans-serif; font-size: 12px; fill: rgb(42, 63, 95); fill-opacity: 1; white-space: pre; opacity: 1;\">0</text></g><g class=\"ytick\"><text text-anchor=\"end\" x=\"79\" y=\"4.199999999999999\" style=\"font-family: 'Open Sans', verdana, arial, sans-serif; font-size: 12px; fill: rgb(42, 63, 95); fill-opacity: 1; white-space: pre; opacity: 1;\" transform=\"translate(0,340.84000000000003)\">50</text></g><g class=\"ytick\"><text text-anchor=\"end\" x=\"79\" y=\"4.199999999999999\" style=\"font-family: 'Open Sans', verdana, arial, sans-serif; font-size: 12px; fill: rgb(42, 63, 95); fill-opacity: 1; white-space: pre; opacity: 1;\" transform=\"translate(0,295.64)\">100</text></g><g class=\"ytick\"><text text-anchor=\"end\" x=\"79\" y=\"4.199999999999999\" style=\"font-family: 'Open Sans', verdana, arial, sans-serif; font-size: 12px; fill: rgb(42, 63, 95); fill-opacity: 1; white-space: pre; opacity: 1;\" transform=\"translate(0,250.44)\">150</text></g><g class=\"ytick\"><text text-anchor=\"end\" x=\"79\" y=\"4.199999999999999\" style=\"font-family: 'Open Sans', verdana, arial, sans-serif; font-size: 12px; fill: rgb(42, 63, 95); fill-opacity: 1; white-space: pre; opacity: 1;\" transform=\"translate(0,205.24)\">200</text></g><g class=\"ytick\"><text text-anchor=\"end\" x=\"79\" y=\"4.199999999999999\" style=\"font-family: 'Open Sans', verdana, arial, sans-serif; font-size: 12px; fill: rgb(42, 63, 95); fill-opacity: 1; white-space: pre; opacity: 1;\" transform=\"translate(0,160.04)\">250</text></g><g class=\"ytick\"><text text-anchor=\"end\" x=\"79\" y=\"4.199999999999999\" style=\"font-family: 'Open Sans', verdana, arial, sans-serif; font-size: 12px; fill: rgb(42, 63, 95); fill-opacity: 1; white-space: pre; opacity: 1;\" transform=\"translate(0,114.84)\">300</text></g></g><g class=\"overaxes-above\"/></g></g><g class=\"polarlayer\"/><g class=\"smithlayer\"/><g class=\"ternarylayer\"/><g class=\"geolayer\"/><g class=\"funnelarealayer\"/><g class=\"pielayer\"/><g class=\"iciclelayer\"/><g class=\"treemaplayer\"/><g class=\"sunburstlayer\"/><g class=\"glimages\"><image xmlns=\"http://www.w3.org/2000/svg\" xlink:href=\"data:image/png;base64,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\" preserveAspectRatio=\"none\" x=\"0\" y=\"0\" width=\"700px\" height=\"500px\"/><image xmlns=\"http://www.w3.org/2000/svg\" xlink:href=\"data:image/png;base64,iVBORw0KGgoAAAANSUhEUgAABXgAAAPoCAYAAABkvZZOAAAgAElEQVR4XuzYQQ0AAAwCseHf9HRc0ikgHS92jgABAgQIECBAgAABAgQIECBAgAABAgSSAkumFpoAAQIECBAgQIAAAQIECBAgQIAAAQIEzsCrBAQIECBAgAABAgQIECBAgAABAgQIEIgKGHijjxObAAECBAgQIECAAAECBAgQIECAAAECBl4dIECAAAECBAgQIECAAAECBAgQIECAQFTAwBt9nNgECBAgQIAAAQIECBAgQIAAAQIECBAw8OoAAQIECBAgQIAAAQIECBAgQIAAAQIEogIG3ujjxCZAgAABAgQIECBAgAABAgQIECBAgICBVwcIECBAgAABAgQIECBAgAABAgQIECAQFTDwRh8nNgECBAgQIECAAAECBAgQIECAAAECBAy8OkCAAAECBAgQIECAAAECBAgQIECAAIGogIE3+jixCRAgQIAAAQIECBAgQIAAAQIECBAgYODVAQIECBAgQIAAAQIECBAgQIAAAQIECEQFDLzRx4lNgAABAgQIECBAgAABAgQIECBAgAABA68OECBAgAABAgQIECBAgAABAgQIECBAICpg4I0+TmwCBAgQIECAAAECBAgQIECAAAECBAgYeHWAAAECBAgQIECAAAECBAgQIECAAAECUQEDb/RxYhMgQIAAAQIECBAgQIAAAQIECBAgQMDAqwMECBAgQIAAAQIECBAgQIAAAQIECBCIChh4o48TmwABAgQIECBAgAABAgQIECBAgAABAgZeHSBAgAABAgQIECBAgAABAgQIECBAgEBUwMAbfZzYBAgQIECAAAECBAgQIECAAAECBAgQMPDqAAECBAgQIECAAAECBAgQIECAAAECBKICBt7o48QmQIAAAQIECBAgQIAAAQIECBAgQICAgVcHCBAgQIAAAQIECBAgQIAAAQIECBAgEBUw8EYfJzYBAgQIECBAgAABAgQIECBAgAABAgQMvDpAgAABAgQIECBAgAABAgQIECBAgACBqICBN/o4sQkQIECAAAECBAgQIECAAAECBAgQIGDg1QECBAgQIECAAAECBAgQIECAAAECBAhEBQy80ceJTYAAAQIECBAgQIAAAQIECBAgQIAAAQOvDhAgQIAAAQIECBAgQIAAAQIECBAgQCAqYOCNPk5sAgQIECBAgAABAgQIECBAgAABAgQIGHh1gAABAgQIECBAgAABAgQIECBAgAABAlEBA2/0cWITIECAAAECBAgQIECAAAECBAgQIEDAwKsDBAgQIECAAAECBAgQIECAAAECBAgQiAoYeKOPE5sAAQIECBAgQIAAAQIECBAgQIAAAQIGXh0gQIAAAQIECBAgQIAAAQIECBAgQIBAVMDAG32c2AQIECBAgAABAgQIECBAgAABAgQIEDDw6gABAgQIECBAgAABAgQIECBAgAABAgSiAgbe6OPEJkCAAAECBAgQIECAAAECBAgQIECAgIFXBwgQIECAAAECBAgQIECAAAECBAgQIBAVMPBGHyc2AQIECBAgQIAAAQIECBAgQIAAAQIEDLw6QIAAAQIECBAgQIAAAQIECBAgQIAAgaiAgTf6OLEJECBAgAABAgQIECBAgAABAgQIECBg4NUBAgQIECBAgAABAgQIECBAgAABAgQIRAUMvNHHiU2AAAECBAgQIECAAAECBAgQIECAAAEDrw4QIECAAAECBAgQIECAAAECBAgQIEAgKmDgjT5ObAIECBAgQIAAAQIECBAgQIAAAQIECBh4dYAAAQIECBAgQIAAAQIECBAgQIAAAQJRAQNv9HFiEyBAgAABAgQIECBAgAABAgQIECBAwMCrAwQIECBAgAABAgQIECBAgAABAgQIEIgKGHijjxObAAECBAgQIECAAAECBAgQIECAAAECBl4dIECAAAECBAgQIECAAAECBAgQIECAQFTAwBt9nNgECBAgQIAAAQIECBAgQIAAAQIECBAw8OoAAQIECBAgQIAAAQIECBAgQIAAAQIEogIG3ujjxCZAgAABAgQIECBAgAABAgQIECBAgICBVwcIECBAgAABAgQIECBAgAABAgQIECAQFTDwRh8nNgECBAgQIECAAAECBAgQIECAAAECBAy8OkCAAAECBAgQIECAAAECBAgQIECAAIGogIE3+jixCRAgQIAAAQIECBAgQIAAAQIECBAgYODVAQIECBAgQIAAAQIECBAgQIAAAQIECEQFDLzRx4lNgAABAgQIECBAgAABAgQIECBAgAABA68OECBAgAABAgQIECBAgAABAgQIECBAICpg4I0+TmwCBAgQIECAAAECBAgQIECAAAECBAgYeHWAAAECBAgQIECAAAECBAgQIECAAAECUQEDb/RxYhMgQIAAAQIECBAgQIAAAQIECBAgQMDAqwMECBAgQIAAAQIECBAgQIAAAQIECBCIChh4o48TmwABAgQIECBAgAABAgQIECBAgAABAgZeHSBAgAABAgQIECBAgAABAgQIECBAgEBUwMAbfZzYBAgQIECAAAECBAgQIECAAAECBAgQMPDqAAECBAgQIECAAAECBAgQIECAAAECBKICBt7o48QmQIAAAQIECBAgQIAAAQIECBAgQICAgVcHCBAgQIAAAQIECBAgQIAAAQIECBAgEBUw8EYfJzYBAgQIECBAgAABAgQIECBAgAABAgQMvDpAgAABAgQIECBAgAABAgQIECBAgACBqICBN/o4sQkQIECAAAECBAgQIECAAAECBAgQIGDg1QECBAgQIECAAAECBAgQIECAAAECBAhEBQy80ceJTYAAAQIECBAgQIAAAQIECBAgQIAAAQOvDhAgQIAAAQIECBAgQIAAAQIECBAgQCAqYOCNPk5sAgQIECBAgAABAgQIECBAgAABAgQIGHh1gAABAgQIECBAgAABAgQIECBAgAABAlEBA2/0cWITIECAAAECBAgQIECAAAECBAgQIEDAwKsDBAgQIECAAAECBAgQIECAAAECBAgQiAoYeKOPE5sAAQIECBAgQIAAAQIECBAgQIAAAQIGXh0gQIAAAQIECBAgQIAAAQIECBAgQIBAVMDAG32c2AQIECBAgAABAgQIECBAgAABAgQIEDDw6gABAgQIECBAgAABAgQIECBAgAABAgSiAgbe6OPEJkCAAAECBAgQIECAAAECBAgQIECAgIFXBwgQIECAAAECBAgQIECAAAECBAgQIBAVMPBGHyc2AQIECBAgQIAAAQIECBAgQIAAAQIEDLw6QIAAAQIECBAgQIAAAQIECBAgQIAAgaiAgTf6OLEJECBAgAABAgQIECBAgAABAgQIECBg4NUBAgQIECBAgAABAgQIECBAgAABAgQIRAUMvNHHiU2AAAECBAgQIECAAAECBAgQIECAAAEDrw4QIECAAAECBAgQIECAAAECBAgQIEAgKmDgjT5ObAIECBAgQIAAAQIECBAgQIAAAQIECBh4dYAAAQIECBAgQIAAAQIECBAgQIAAAQJRAQNv9HFiEyBAgAABAgQIECBAgAABAgQIECBAwMCrAwQIECBAgAABAgQIECBAgAABAgQIEIgKGHijjxObAAECBAgQIECAAAECBAgQIECAAAECBl4dIECAAAECBAgQIECAAAECBAgQIECAQFTAwBt9nNgECBAgQIAAAQIECBAgQIAAAQIECBAw8OoAAQIECBAgQIAAAQIECBAgQIAAAQIEogIG3ujjxCZAgAABAgQIECBAgAABAgQIECBAgICBVwcIECBAgAABAgQIECBAgAABAgQIECAQFTDwRh8nNgECBAgQIECAAAECBAgQIECAAAECBAy8OkCAAAECBAgQIECAAAECBAgQIECAAIGogIE3+jixCRAgQIAAAQIECBAgQIAAAQIECBAgYODVAQIECBAgQIAAAQIECBAgQIAAAQIECEQFDLzRx4lNgAABAgQIECBAgAABAgQIECBAgAABA68OECBAgAABAgQIECBAgAABAgQIECBAICpg4I0+TmwCBAgQIECAAAECBAgQIECAAAECBAgYeHWAAAECBAgQIECAAAECBAgQIECAAAECUQEDb/RxYhMgQIAAAQIECBAgQIAAAQIECBAgQMDAqwMECBAgQIAAAQIECBAgQIAAAQIECBCIChh4o48TmwABAgQIECBAgAABAgQIECBAgAABAgZeHSBAgAABAgQIECBAgAABAgQIECBAgEBUwMAbfZzYBAgQIECAAAECBAgQIECAAAECBAgQMPDqAAECBAgQIECAAAECBAgQIECAAAECBKICBt7o48QmQIAAAQIECBAgQIAAAQIECBAgQICAgVcHCBAgQIAAAQIECBAgQIAAAQIECBAgEBUw8EYfJzYBAgQIECBAgAABAgQIECBAgAABAgQMvDpAgAABAgQIECBAgAABAgQIECBAgACBqICBN/o4sQkQIECAAAECBAgQIECAAAECBAgQIGDg1QECBAgQIECAAAECBAgQIECAAAECBAhEBQy80ceJTYAAAQIECBAgQIAAAQIECBAgQIAAAQOvDhAgQIAAAQIECBAgQIAAAQIECBAgQCAqYOCNPk5sAgQIECBAgAABAgQIECBAgAABAgQIGHh1gAABAgQIECBAgAABAgQIECBAgAABAlEBA2/0cWITIECAAAECBAgQIECAAAECBAgQIEDAwKsDBAgQIECAAAECBAgQIECAAAECBAgQiAoYeKOPE5sAAQIECBAgQIAAAQIECBAgQIAAAQIGXh0gQIAAAQIECBAgQIAAAQIECBAgQIBAVMDAG32c2AQIECBAgAABAgQIECBAgAABAgQIEDDw6gABAgQIECBAgAABAgQIECBAgAABAgSiAgbe6OPEJkCAAAECBAgQIECAAAECBAgQIECAgIFXBwgQIECAAAECBAgQIECAAAECBAgQIBAVMPBGHyc2AQIECBAgQIAAAQIECBAgQIAAAQIEDLw6QIAAAQIECBAgQIAAAQIECBAgQIAAgaiAgTf6OLEJECBAgAABAgQIECBAgAABAgQIECBg4NUBAgQIECBAgAABAgQIECBAgAABAgQIRAUMvNHHiU2AAAECBAgQIECAAAECBAgQIECAAAEDrw4QIECAAAECBAgQIECAAAECBAgQIEAgKmDgjT5ObAIECBAgQIAAAQIECBAgQIAAAQIECBh4dYAAAQIECBAgQIAAAQIECBAgQIAAAQJRAQNv9HFiEyBAgAABAgQIECBAgAABAgQIECBAwMCrAwQIECBAgAABAgQIECBAgAABAgQIEIgKGHijjxObAAECBAgQIECAAAECBAgQIECAAAECBl4dIECAAAECBAgQIECAAAECBAgQIECAQFTAwBt9nNgECBAgQIAAAQIECBAgQIAAAQIECBAw8OoAAQIECBAgQIAAAQIECBAgQIAAAQIEogIG3ujjxCZAgAABAgQIECBAgAABAgQIECBAgICBVwcIECBAgAABAgQIECBAgAABAgQIECAQFTDwRh8nNgECBAgQIECAAAECBAgQIECAAAECBAy8OkCAAAECBAgQIECAAAECBAgQIECAAIGogIE3+jixCRAgQIAAAQIECBAgQIAAAQIECBAgYODVAQIECBAgQIAAAQIECBAgQIAAAQIECEQFDLzRx4lNgAABAgQIECBAgAABAgQIECBAgAABA68OECBAgAABAgQIECBAgAABAgQIECBAICpg4I0+TmwCBAgQIECAAAECBAgQIECAAAECBAgYeHWAAAECBAgQIECAAAECBAgQIECAAAECUQEDb/RxYhMgQIAAAQIECBAgQIAAAQIECBAgQMDAqwMECBAgQIAAAQIECBAgQIAAAQIECBCIChh4o48TmwABAgQIECBAgAABAgQIECBAgAABAgZeHSBAgAABAgQIECBAgAABAgQIECBAgEBUwMAbfZzYBAgQIECAAAECBAgQIECAAAECBAgQMPDqAAECBAgQIECAAAECBAgQIECAAAECBKICBt7o48QmQIAAAQIECBAgQIAAAQIECBAgQICAgVcHCBAgQIAAAQIECBAgQIAAAQIECBAgEBUw8EYfJzYBAgQIECBAgAABAgQIECBAgAABAgQMvDpAgAABAgQIECBAgAABAgQIECBAgACBqICBN/o4sQkQIECAAAECBAgQIECAAAECBAgQIGDg1QECBAgQIECAAAECBAgQIECAAAECBAhEBQy80ceJTYAAAQIECBAgQIAAAQIECBAgQIAAAQOvDhAgQIAAAQIECBAgQIAAAQIECBAgQCAqYOCNPk5sAgQIECBAgAABAgQIECBAgAABAgQIGHh1gAABAgQIECBAgAABAgQIECBAgAABAlEBA2/0cWITIECAAAECBAgQIECAAAECBAgQIEDAwKsDBAgQIECAAAECBAgQIECAAAECBAgQiAoYeKOPE5sAAQIECBAgQIAAAQIECBAgQIAAAQIGXh0gQIAAAQIECBAgQIAAAQIECBAgQIBAVMDAG32c2AQIECBAgAABAgQIECBAgAABAgQIEDDw6gABAgQIECBAgAABAgQIECBAgAABAgSiAgbe6OPEJkCAAAECBAgQIECAAAECBAgQIECAgIFXBwgQIECAAAECBAgQIECAAAECBAgQIBAVMPBGHyc2AQIECBAgQIAAAQIECBAgQIAAAQIEDLw6QIAAAQIECBAgQIAAAQIECBAgQIAAgaiAgTf6OLEJECBAgAABAgQIECBAgAABAgQIECBg4NUBAgQIECBAgAABAgQIECBAgAABAgQIRAUMvNHHiU2AAAECBAgQIECAAAECBAgQIECAAAEDrw4QIECAAAECBAgQIECAAAECBAgQIEAgKmDgjT5ObAIECBAgQIAAAQIECBAgQIAAAQIECBh4dYAAAQIECBAgQIAAAQIECBAgQIAAAQJRAQNv9HFiEyBAgAABAgQIECBAgAABAgQIECBAwMCrAwQIECBAgAABAgQIECBAgAABAgQIEIgKGHijjxObAAECBAgQIECAAAECBAgQIECAAAECBl4dIECAAAECBAgQIECAAAECBAgQIECAQFTAwBt9nNgECBAgQIAAAQIECBAgQIAAAQIECBAw8OoAAQIECBAgQIAAAQIECBAgQIAAAQIEogIG3ujjxCZAgAABAgQIECBAgAABAgQIECBAgICBVwcIECBAgAABAgQIECBAgAABAgQIECAQFTDwRh8nNgECBAgQIECAAAECBAgQIECAAAECBAy8OkCAAAECBAgQIECAAAECBAgQIECAAIGogIE3+jixCRAgQIAAAQIECBAgQIAAAQIECBAgYODVAQIECBAgQIAAAQIECBAgQIAAAQIECEQFDLzRx4lNgAABAgQIECBAgAABAgQIECBAgAABA68OECBAgAABAgQIECBAgAABAgQIECBAICpg4I0+TmwCBAgQIECAAAECBAgQIECAAAECBAgYeHWAAAECBAgQIECAAAECBAgQIECAAAECUQEDb/RxYhMgQIAAAQIECBAgQIAAAQIECBAgQMDAqwMECBAgQIAAAQIECBAgQIAAAQIECBCIChh4o48TmwABAgQIECBAgAABAgQIECBAgAABAgZeHSBAgAABAgQIECBAgAABAgQIECBAgEBUwMAbfZzYBAgQIECAAAECBAgQIECAAAECBAgQMPDqAAECBAgQIECAAAECBAgQIECAAAECBKICBt7o48QmQIAAAQIECBAgQIAAAQIECBAgQICAgVcHCBAgQIAAAQIECBAgQIAAAQIECBAgEBUw8EYfJzYBAgQIECBAgAABAgQIECBAgAABAgQMvDpAgAABAgQIECBAgAABAgQIECBAgACBqICBN/o4sQkQIECAAAECBAgQIECAAAECBAgQIGDg1QECBAgQIECAAAECBAgQIECAAAECBAhEBQy80ceJTYAAAQIECBAgQIAAAQIECBAgQIAAAQOvDhAgQIAAAQIECBAgQIAAAQIECBAgQCAqYOCNPk5sAgQIECBAgAABAgQIECBAgAABAgQIGHh1gAABAgQIECBAgAABAgQIECBAgAABAlEBA2/0cWITIECAAAECBAgQIECAAAECBAgQIEDAwKsDBAgQIECAAAECBAgQIECAAAECBAgQiAoYeKOPE5sAAQIECBAgQIAAAQIECBAgQIAAAQIGXh0gQIAAAQIECBAgQIAAAQIECBAgQIBAVMDAG32c2AQIECBAgAABAgQIECBAgAABAgQIEDDw6gABAgQIECBAgAABAgQIECBAgAABAgSiAgbe6OPEJkCAAAECBAgQIECAAAECBAgQIECAgIFXBwgQIECAAAECBAgQIECAAAECBAgQIBAVMPBGHyc2AQIECBAgQIAAAQIECBAgQIAAAQIEDLw6QIAAAQIECBAgQIAAAQIECBAgQIAAgaiAgTf6OLEJECBAgAABAgQIECBAgAABAgQIECBg4NUBAgQIECBAgAABAgQIECBAgAABAgQIRAUMvNHHiU2AAAECBAgQIECAAAECBAgQIECAAAEDrw4QIECAAAECBAgQIECAAAECBAgQIEAgKmDgjT5ObAIECBAgQIAAAQIECBAgQIAAAQIECBh4dYAAAQIECBAgQIAAAQIECBAgQIAAAQJRAQNv9HFiEyBAgAABAgQIECBAgAABAgQIECBAwMCrAwQIECBAgAABAgQIECBAgAABAgQIEIgKGHijjxObAAECBAgQIECAAAECBAgQIECAAAECBl4dIECAAAECBAgQIECAAAECBAgQIECAQFTAwBt9nNgECBAgQIAAAQIECBAgQIAAAQIECBAw8OoAAQIECBAgQIAAAQIECBAgQIAAAQIEogIG3ujjxCZAgAABAgQIECBAgAABAgQIECBAgICBVwcIECBAgAABAgQIECBAgAABAgQIECAQFTDwRh8nNgECBAgQIECAAAECBAgQIECAAAECBAy8OkCAAAECBAgQIECAAAECBAgQIECAAIGogIE3+jixCRAgQIAAAQIECBAgQIAAAQIECBAgYODVAQIECBAgQIAAAQIECBAgQIAAAQIECEQFDLzRx4lNgAABAgQIECBAgAABAgQIECBAgAABA68OECBAgAABAgQIECBAgAABAgQIECBAICpg4I0+TmwCBAgQIECAAAECBAgQIECAAAECBAgYeHWAAAECBAgQIECAAAECBAgQIECAAAECUQEDb/RxYhMgQIAAAQIECBAgQIAAAQIECBAgQMDAqwMECBAgQIAAAQIECBAgQIAAAQIECBCIChh4o48TmwABAgQIECBAgAABAgQIECBAgAABAgZeHSBAgAABAgQIECBAgAABAgQIECBAgEBUwMAbfZzYBAgQIECAAAECBAgQIECAAAECBAgQMPDqAAECBAgQIECAAAECBAgQIECAAAECBKICBt7o48QmQIAAAQIECBAgQIAAAQIECBAgQICAgVcHCBAgQIAAAQIECBAgQIAAAQIECBAgEBUw8EYfJzYBAgQIECBAgAABAgQIECBAgAABAgQMvDpAgAABAgQIECBAgAABAgQIECBAgACBqICBN/o4sQkQIECAAAECBAgQIECAAAECBAgQIGDg1QECBAgQIECAAAECBAgQIECAAAECBAhEBQy80ceJTYAAAQIECBAgQIAAAQIECBAgQIAAAQOvDhAgQIAAAQIECBAgQIAAAQIECBAgQCAqYOCNPk5sAgQIECBAgAABAgQIECBAgAABAgQIGHh1gAABAgQIECBAgAABAgQIECBAgAABAlEBA2/0cWITIECAAAECBAgQIECAAAECBAgQIEDAwKsDBAgQIECAAAECBAgQIECAAAECBAgQiAoYeKOPE5sAAQIECBAgQIAAAQIECBAgQIAAAQIGXh0gQIAAAQIECBAgQIAAAQIECBAgQIBAVMDAG32c2AQIECBAgAABAgQIECBAgAABAgQIEDDw6gABAgQIECBAgAABAgQIECBAgAABAgSiAgbe6OPEJkCAAAECBAgQIECAAAECBAgQIECAgIFXBwgQIECAAAECBAgQIECAAAECBAgQIBAVMPBGHyc2AQIECBAgQIAAAQIECBAgQIAAAQIEDLw6QIAAAQIECBAgQIAAAQIECBAgQIAAgaiAgTf6OLEJECBAgAABAgQIECBAgAABAgQIECBg4NUBAgQIECBAgAABAgQIECBAgAABAgQIRAUMvNHHiU2AAAECBAgQIECAAAECBAgQIECAAAEDrw4QIECAAAECBAgQIECAAAECBAgQIEAgKmDgjT5ObAIECBAgQIAAAQIECBAgQIAAAQIECBh4dYAAAQIECBAgQIAAAQIECBAgQIAAAQJRAQNv9HFiEyBAgAABAgQIECBAgAABAgQIECBAwMCrAwQIECBAgAABAgQIECBAgAABAgQIEIgKGHijjxObAAECBAgQIECAAAECBAgQIECAAAECBl4dIECAAAECBAgQIECAAAECBAgQIECAQFTAwBt9nNgECBAgQIAAAQIECBAgQIAAAQIECBAw8OoAAQIECBAgQIAAAQIECBAgQIAAAQIEogIG3ujjxCZAgAABAgQIECBAgAABAgQIECBAgICBVwcIECBAgAABAgQIECBAgAABAgQIECAQFTDwRh8nNgECBAgQIECAAAECBAgQIECAAAECBAy8OkCAAAECBAgQIECAAAECBAgQIECAAIGogIE3+jixCRAgQIAAAQIECBAgQIAAAQIECBAgYODVAQIECBAgQIAAAQIECBAgQIAAAQIECEQFDLzRx4lNgAABAgQIECBAgAABAgQIECBAgAABA68OECBAgAABAgQIECBAgAABAgQIECBAICpg4I0+TmwCBAgQIECAAAECBAgQIECAAAECBAgYeHWAAAECBAgQIECAAAECBAgQIECAAAECUQEDb/RxYhMgQIAAAQIECBAgQIAAAQIECBAgQMDAqwMECItpQoUAACAASURBVBAgQIAAAQIECBAgQIAAAQIECBCIChh4o48TmwABAgQIECBAgAABAgQIECBAgAABAgZeHSBAgAABAgQIECBAgAABAgQIECBAgEBUwMAbfZzYBAgQIECAAAECBAgQIECAAAECBAgQMPDqAAECBAgQIECAAAECBAgQIECAAAECBKICBt7o48QmQIAAAQIECBAgQIAAAQIECBAgQICAgVcHCBAgQIAAAQIECBAgQIAAAQIECBAgEBUw8EYfJzYBAgQIECBAgAABAgQIECBAgAABAgQMvDpAgAABAgQIECBAgAABAgQIECBAgACBqICBN/o4sQkQIECAAAECBAgQIECAAAECBAgQIGDg1QECBAgQIECAAAECBAgQIECAAAECBAhEBQy80ceJTYAAAQIECBAgQIAAAQIECBAgQIAAAQOvDhAgQIAAAQIECBAgQIAAAQIECBAgQCAqYOCNPk5sAgQIECBAgAABAgQIECBAgAABAgQIGHh1gAABAgQIECBAgAABAgQIECBAgAABAlEBA2/0cWITIECAAAECBAgQIECAAAECBAgQIEDAwKsDBAgQIECAAAECBAgQIECAAAECBAgQiAoYeKOPE5sAAQIECBAgQIAAAQIECBAgQIAAAQIGXh0gQIAAAQIECBAgQIAAAQIECBAgQIBAVMDAG32c2AQIECBAgAABAgQIECBAgAABAgQIEDDw6gABAgQIECBAgAABAgQIECBAgAABAgSiAgbe6OPEJkCAAAECBAgQIECAAAECBAgQIECAgIFXBwgQIECAAAECBAgQIECAAAECBAgQIBAVMPBGHyc2AQIECBAgQIAAAQIECBAgQIAAAQIEDLw6QIAAAQIECBAgQIAAAQIECBAgQIAAgaiAgTf6OLEJECBAgAABAgQIECBAgAABAgQIECBg4NUBAgQIECBAgAABAgQIECBAgAABAgQIRAUMvNHHiU2AAAECBAgQIECAAAECBAgQIECAAAEDrw4QIECAAAECBAgQIECAAAECBAgQIEAgKmDgjT5ObAIECBAgQIAAAQIECBAgQIAAAQIECBh4dYAAAQIECBAgQIAAAQIECBAgQIAAAQJRAQNv9HFiEyBAgAABAgQIECBAgAABAgQIECBAwMCrAwQIECBAgAABAgQIECBAgAABAgQIEIgKGHijjxObAAECBAgQIECAAAECBAgQIECAAAECBl4dIECAAAECBAgQIECAAAECBAgQIECAQFTAwBt9nNgECBAgQIAAAQIECBAgQIAAAQIECBAw8OoAAQIECBAgQIAAAQIECBAgQIAAAQIEogIG3ujjxCZAgAABAgQIECBAgAABAgQIECBAgICBVwcIECBAgAABAgQIECBAgAABAgQIECAQFTDwRh8nNgECBAgQIECAAAECBAgQIECAAAECBAy8OkCAAAECBAgQIECAAAECBAgQIECAAIGogIE3+jixCRAgQIAAAQIECBAgQIAAAQIECBAgYODVAQIECBAgQIAAAQIECBAgQIAAAQIECEQFDLzRx4lNgAABAgQIECBAgAABAgQIECBAgAABA68OECBAgAABAgQIECBAgAABAgQIECBAICpg4I0+TmwCBAgQIECAAAECBAgQIECAAAECBAgYeHWAAAECBAgQIECAAAECBAgQIECAAAECUQEDb/RxYhMgQIAAAQIECBAgQIAAAQIECBAgQMDAqwMECBAgQIAAAQIECBAgQIAAAQIECBCIChh4o48TmwABAgQIECBAgAABAgQIECBAgAABAgZeHSBAgAABAgQIECBAgAABAgQIECBAgEBUwMAbfZzYBAgQIECAAAECBAgQIECAAAECBAgQMPDqAAECBAgQIECAAAECBAgQIECAAAECBKICBt7o48QmQIAAAQIECBAgQIAAAQIECBAgQICAgVcHCBAgQIAAAQIECBAgQIAAAQIECBAgEBUw8EYfJzYBAgQIECBAgAABAgQIECBAgAABAgQMvDpAgAABAgQIECBAgAABAgQIECBAgACBqICBN/o4sQkQIECAAAECBAgQIECAAAECBAgQIGDg1QECBAgQIECAAAECBAgQIECAAAECBAhEBQy80ceJTYAAAQIECBAgQIAAAQIECBAgQIAAAQOvDhAgQIAAAQIECBAgQIAAAQIECBAgQCAqYOCNPk5sAgQIECBAgAABAgQIECBAgAABAgQIGHh1gAABAgQIECBAgAABAgQIECBAgAABAlEBA2/0cWITIECAAAECBAgQIECAAAECBAgQIEDAwKsDBAgQIECAAAECBAgQIECAAAECBAgQiAoYeKOPE5sAAQIECBAgQIAAAQIECBAgQIAAAQIGXh0gQIAAAQIECBAgQIAAAQIECBAgQIBAVMDAG32c2AQIECBAgAABAgQIECBAgAABAgQIEDDw6gABAgQIECBAgAABAgQIECBAgAABAgSiAgbe6OPEJkCAAAECBAgQIECAAAECBAgQIECAgIFXBwgQIECAAAECBAgQIECAAAECBAgQIBAVMPBGHyc2AQIECBAgQIAAAQIECBAgQIAAAQIEDLw6QIAAAQIECBAgQIAAAQIECBAgQIAAgaiAgTf6OLEJECBAgAABAgQIECBAgAABAgQIECBg4NUBAgQIECBAgAABAgQIECBAgAABAgQIRAUMvNHHiU2AAAECBAgQIECAAAECBAgQIECAAAEDrw4QIECAAAECBAgQIECAAAECBAgQIEAgKmDgjT5ObAIECBAgQIAAAQIECBAgQIAAAQIECBh4dYAAAQIECBAgQIAAAQIECBAgQIAAAQJRAQNv9HFiEyBAgAABAgQIECBAgAABAgQIECBAwMCrAwQIECBAgAABAgQIECBAgAABAgQIEIgKGHijjxObAAECBAgQIECAAAECBAgQIECAAAECBl4dIECAAAECBAgQIECAAAECBAgQIECAQFTAwBt9nNgECBAgQIAAAQIECBAgQIAAAQIECBAw8OoAAQIECBAgQIAAAQIECBAgQIAAAQIEogIG3ujjxCZAgAABAgQIECBAgAABAgQIECBAgICBVwcIECBAgAABAgQIECBAgAABAgQIECAQFTDwRh8nNgECBAgQIECAAAECBAgQIECAAAECBAy8OkCAAAECBAgQIECAAAECBAgQIECAAIGogIE3+jixCRAgQIAAAQIECBAgQIAAAQIECBAgYODVAQIECBAgQIAAAQIECBAgQIAAAQIECEQFDLzRx4lNgAABAgQIECBAgAABAgQIECBAgAABA68OECBAgAABAgQIECBAgAABAgQIECBAICpg4I0+TmwCBAgQIECAAAECBAgQIECAAAECBAgYeHWAAAECBAgQIECAAAECBAgQIECAAAECUQEDb/RxYhMgQIAAAQIECBAgQIAAAQIECBAgQMDAqwMECBAgQIAAAQIECBAgQIAAAQIECBCIChh4o48TmwABAgQIECBAgAABAgQIECBAgAABAgZeHSBAgAABAgQIECBAgAABAgQIECBAgEBUwMAbfZzYBAgQIECAAAECBAgQIECAAAECBAgQMPDqAAECBAgQIECAAAECBAgQIECAAAECBKICBt7o48QmQIAAAQIECBAgQIAAAQIECBAgQICAgVcHCBAgQIAAAQIECBAgQIAAAQIECBAgEBUw8EYfJzYBAgQIECBAgAABAgQIECBAgAABAgQMvDpAgAABAgQIECBAgAABAgQIECBAgACBqICBN/o4sQkQIECAAAECBAgQIECAAAECBAgQIGDg1QECBAgQIECAAAECBAgQIECAAAECBAhEBQy80ceJTYAAAQIECBAgQIAAAQIECBAgQIAAAQOvDhAgQIAAAQIECBAgQIAAAQIECBAgQCAqYOCNPk5sAgQIECBAgAABAgQIECBAgAABAgQIGHh1gAABAgQIECBAgAABAgQIECBAgAABAlEBA2/0cWITIECAAAECBAgQIECAAAECBAgQIEDAwKsDBAgQIECAAAECBAgQIECAAAECBAgQiAoYeKOPE5sAAQIECBAgQIAAAQIECBAgQIAAAQIGXh0gQIAAAQIECBAgQIAAAQIECBAgQIBAVMDAG32c2AQIECBAgAABAgQIECBAgAABAgQIEDDw6gABAgQIECBAgAABAgQIECBAgAABAgSiAgbe6OPEJkCAAAECBAgQIECAAAECBAgQIECAgIFXBwgQIECAAAECBAgQIECAAAECBAgQIBAVMPBGHyc2AQIECBAgQIAAAQIECBAgQIAAAQIEDLw6QIAAAQIECBAgQIAAAQIECBAgQIAAgaiAgTf6OLEJECBAgAABAgQIECBAgAABAgQIECBg4NUBAgQIECBAgAABAgQIECBAgAABAgQIRAUMvNHHiU2AAAECBAgQIECAAAECBAgQIECAAAEDrw4QIECAAAECBAgQIECAAAECBAgQIEAgKmDgjT5ObAIECBAgQIAAAQIECBAgQIAAAQIECBh4dYAAAQIECBAgQIAAAQIECBAgQIAAAQJRAQNv9HFiEyBAgAABAgQIECBAgAABAgQIECBAwMCrAwQIECBAgAABAgQIECBAgAABAgQIEIgKGHijjxObAAECBAgQIECAAAECBAgQIECAAAECBl4dIECAAAECBAgQIECAAAECBAgQIECAQFTAwBt9nNgECBAgQIAAAQIECBAgQIAAAQIECBAw8OoAAQIECBAgQIAAAQIECBAgQIAAAQIEogIG3ujjxCZAgAABAgQIECBAgAABAgQIECBAgICBVwcIECBAgAABAgQIECBAgAABAgQIECAQFTDwRh8nNgECBAgQIECAAAECBAgQIECAAAECBAy8OkCAAAECBAgQIECAAAECBAgQIECAAIGogIE3+jixCRAgQIAAAQIECBAgQIAAAQIECBAgYODVAQIECBAgQIAAAQIECBAgQIAAAQIECEQFDLzRx4lNgAABAgQIECBAgAABAgQIECBAgAABA68OECBAgAABAgQIECBAgAABAgQIECBAICpg4I0+TmwCBAgQIECAAAECBAgQIECAAAECBAgYeHWAAAECBAgQIECAAAECBAgQIECAAAECUQEDb/RxYhMgQIAAAQIECBAgQIAAAQIECBAgQMDAqwMECBAgQIAAAQIECBAgQIAAAQIECBCIChh4o48TmwABAgQIECBAgAABAgQIECBAgAABAgZeHSBAgAABAgQIECBAgAABAgQIECBAgEBUwMAbfZzYBAgQIECAAAECBAgQIECAAAECBAgQMPDqAAECBAgQIECAAAECBAgQIECAAAECBKICBt7o48QmQIAAAQIECBAgQIAAAQIECBAgQICAgVcHCBAgQIAAAQIECBAgQIAAAQIECBAgEBUw8EYfJzYBAgQIECBAgAABAgQIECBAgAABAgQMvDpAgAABAgQIECBAgAABAgQIECBAgACBqICBN/o4sQkQIECAAAECBAgQIECAAAECBAgQIGDg1QECBAgQIECAAAECBAgQIECAAAECBAhEBQy80ceJTYAAAQIECBAgQIAAAQIECBAgQIAAAQOvDhAgQIAAAQIECBAgQIAAAQIECBAgQCAqYOCNPk5sAgQIECBAgAABAgQIECBAgAABAgQIGHh1gAABAgQIECBAgAABAgQIECBAgAABAlEBA2/0cWITIECAAAECBAgQIECAAAECBAgQIEDAwKsDBAgQIECAAAECBAgQIECAAAECBAgQiAoYeKOPE5sAAQIECBAgQIAAAQIECBAgQIAAAQIGXh0gQIAAAQIECBAgQIAAAQIECBAgQIBAVMDAG32c2AQIECBAgAABAgQIECBAgAABAgQIEDDw6gABAgQIECBAgAABAgQIECBAgAABAgSiAgbe6OPEJkCAAAECBAgQIECAAAECBAgQIECAgIFXBwgQIECAAAECBAgQIECAAAECBAgQIBAVMPBGHyc2AQIECBAgQIAAAQIECBAgQIAAAQIEDLw6QIAAAQIECBAgQIAAAQIECBAgQIAAgaiAgTf6OLEJECBAgAABAgQIECBAgAABAgQIECBg4NUBAgQIECBAgAABAgQIECBAgAABAgQIRAUMvNHHiU2AAAECBAgQIECAAAECBAgQIECAAAEDrw4QIECAAAECBAgQIECAAAECBAgQIEAgKmDgjT5ObAIECBAgQIAAAQIECBAgQIAAAQIECBh4dYAAAQIECBAgQIAAAQIECBAgQIAAAQJRAQNv9HFiEyBAgAABAgQIECBAgAABAgQIECBAwMCrAwQIECBAgAABAgQIECBAgAABAgQIEIgKGHijjxObAAECBAgQIECAAAECBAgQIECAAAECBl4dIECAAAECBAgQIECAAAECBAgQIECAQFTAwBt9nNgECBAgQIAAAQIECBAgQIAAAQIECBAw8OoAAQIECBAgQIAAAQIECBAgQIAAAQIEogIG3ujjxCZAgAABAgQIECBAgAABAgQIECBAgICBVwcIECBAgAABAgQIECBAgAABAgQIECAQFTDwRh8nNgECBAgQIECAAAECBAgQIECAAAECBAy8OkCAAAECBAgQIECAAAECBAgQIECAAIGogIE3+jixCRAgQIAAAQIECBAgQIAAAQIECBAgYODVAQIECBAgQIAAAQIECBAgQIAAAQIECEQFDLzRx4lNgAABAgQIECBAgAABAgQIECBAgAABA68OECBAgAABAgQIECBAgAABAgQIECBAICpg4I0+TmwCBAgQIECAAAECBAgQIECAAAECBAgYeHWAAAECBAgQIECAAAECBAgQIECAAAECUQEDb/RxYhMgQIAAAQIECBAgQIAAAQIECBAgQMDAqwMECBAgQIAAAQIECBAgQIAAAQIECBCIChh4o48TmwABAgQIECBAgAABAgQIECBAgAABAgZeHSBAgAABAgQIECBAgAABAgQIECBAgEBUwMAbfZzYBAgQIECAAAECBAgQIECAAAECBAgQMPDqAAECBAgQIECAAAECBAgQIECAAAECBKICBt7o48QmQIAAAQIECBAgQIAAAQIECBAgQICAgVcHCBAgQIAAAQIECBAgQIAAAQIECBAgEBUw8EYfJzYBAgQIECBAgAABAgQIECBAgAABAgQMvDpAgAABAgQIECBAgAABAgQIECBAgACBqICBN/o4sQkQIECAAAECBAgQIECAAAECBAgQIGDg1QECBAgQIECAAAECBAgQIECAAAECBAhEBQy80ceJTYAAAQIECBAgQIAAAQIECBAgQIAAAQOvDhAgQIAAAQIECBAgQIAAAQIECBAgQCAqYOCNPk5sAgQIECBAgAABAgQIECBAgAABAgQIGHh1gAABAgQIECBAgAABAgQIECBAgAABAlEBA2/0cWITIECAAAECBAgQIECAAAECBAgQIEDAwKsDBAgQIECAAAECBAgQIECAAAECBAgQiAoYeKOPE5sAAQIECBAgQIAAAQIECBAgQIAAAQIGXh0gQIAAAQIECBAgQIAAAQIECBAgQIBAVMDAG32c2AQIECBAgAABAgQIECBAgAABAgQIEDDw6gABAgQIECBAgAABAgQIECBAgAABAgSiAgbe6OPEJkCAAAECBAgQIECAAAECBAgQIECAgIFXBwgQIECAAAECBAgQIECAAAECBAgQIBAVMPBGHyc2AQIECBAgQIAAAQIECBAgQIAAAQIEDLw6QIAAAQIECBAgQIAAAQIECBAgQIAAgaiAgTf6OLEJECBAgAABAgQIECBAgAABAgQIECBg4NUBAgQIECBAgAABAgQIECBAgAABAgQIRAUMvNHHiU2AAAECBAgQIECAAAECBAgQIECAAAEDrw4QIECAAAECBAgQIECAAAECBAgQIEAgKmDgjT5ObAIECBAgQIAAAQIECBAgQIAAAQIECBh4dYAAAQIECBAgQIAAAQIECBAgQIAAAQJRAQNv9HFiEyBAgAABAgQIECBAgAABAgQIECBAwMCrAwQIECBAgAABAgQIECBAgAABAgQIEIgKGHijjxObAAECBAgQIECAAAECBAgQIECAAAECBl4dIECAAAECBAgQIECAAAECBAgQIECAQFTAwBt9nNgECBAgQIAAAQIECBAgQIAAAQIECBAw8OoAAQIECBAgQIAAAQIECBAgQIAAAQIEogIG3ujjxCZAgAABAgQIECBAgAABAgQIECBAgICBVwcIECBAgAABAgQIECBAgAABAgQIECAQFTDwRh8nNgECBAgQIECAAAECBAgQIECAAAECBAy8OkCAAAECBAgQIECAAAECBAgQIECAAIGogIE3+jixCRAgQIAAAQIECBAgQIAAAQIECBAgYODVAQIECBAgQIAAAQIECBAgQIAAAQIECEQFDLzRx4lNgAABAgQIECBAgAABAgQIECBAgAABA68OECBAgAABAgQIECBAgAABAgQIECBAICpg4I0+TmwCBAgQIECAAAECBAgQIECAAAECBAgYeHWAAAECBAgQIECAAAECBAgQIECAAAECUQEDb/RxYhMgQIAAAQIECBAgQIAAAQIECBAgQMDAqwMECBAgQIAAAQIECBAgQIAAAQIECBCIChh4o48TmwABAgQIECBAgAABAgQIECBAgAABAgZeHSBAgAABAgQIECBAgAABAgQIECBAgEBUwMAbfZzYBAgQIECAAAECBAgQIECAAAECBAgQMPDqAAECBAgQIECAAAECBAgQIECAAAECBKICBt7o48QmQIAAAQIECBAgQIAAAQIECBAgQICAgVcHCBAgQIAAAQIECBAgQIAAAQIECBAgEBUw8EYfJzYBAgQIECBAgAABAgQIECBAgAABAgQMvDpAgAABAgQIECBAgAABAgQIECBAgACBqICBN/o4sQkQIECAAAECBAgQIECAAAECBAgQIGDg1QECBAgQIECAAAECBAgQIECAAAECBAhEBQy80ceJTYAAAQIECBAgQIAAAQIECBAgQIAAAQOvDhAgQIAAAQIECBAgQIAAAQIECBAgQCAqYOCNPk5sAgQIECBAgAABAgQIECBAgAABAgQIGHh1gAABAgQIECBAgAABAgQIECBAgAABAlEBA2/0cWITIECAAAECBAgQIECAAAECBAgQIEDAwKsDBAgQIECAAAECBAgQIECAAAECBAgQiAoYeKOPE5sAAQIECBAgQIAAAQIECBAgQIAAAQIGXh0gQIAAAQIECBAgQIAAAQIECBAgQIBAVMDAG32c2AQIECBAgAABAgQIECBAgAABAgQIEDDw6gABAgQIECBAgAABAgQIECBAgAABAgSiAgbe6OPEJkCAAAECBAgQIECAAAECBAgQIECAgIFXBwgQIECAAAECBAgQIECAAAECBAgQIBAVMPBGHyc2AQIECBAgQIAAAQIECBAgQIAAAQIEDLw6QIAAAQIECBAgQIAAAQIECBAgQIAAgaiAgTf6OLEJECBAgAABAgQIECBAgAABAgQIECBg4NUBAgQIECBAgAABAgQIECBAgAABAgQIRAUMvNHHiU2AAAECBAgQIECAAAECBAgQIECAAAEDrw4QIECAAAECBAgQIECAAAECBAgQIEAgKmDgjT5ObAIECBAgQIAAAQIECBAgQIAAAQIECBh4dYAAAQIECBAgQIAAAQIECBAgQIAAAQJRAQNv9HFiEyBAgAABAgQIECBAgAABAgQIECBAwMCrAwQIECBAgAABAgQIECBAgAABAgQIEIgKGHijjxObAAECBAgQIECAAAECBAgQIECAAAECBl4dIECAAAECBAgQIECAAAECBAgQIECAQFTAwBt9nNgECBAgQIAAAQIECBAgQIAAAQIECBAw8OoAAQIECBAgQIAAAQIECBAgQIAAAQIEogIG3ujjxCZAgAABAgQIECBAgAABAgQIECBAgICBVwcIECBAgAABAgQIECBAgAABAgQIECAQFTDwRh8nNgECBAgQIECAAAECBAgQIECAAAECBAy8OkCAAAECBAgQIECAAAECBAgQIECAAIGogIE3+jixCRAgQIAAAQIECBAgQIAAAQIECBAgYODVAQIECBAgQIAAAQIECBAgQIAAAQIECEQFDLzRx4lNgAABAgQIECBAgAABAgQIECBAgAABA68OECBAgAABAgQIECBAgAABAgQIECBAICpg4I0+TmwCBAgQIECAAAECBAgQIECAAAECBAgYeHWAAAECBAgQIECAAAECBAgQIECAAAECUQEDb/RxYhMgQIAAAQIECBAgQIAAAQIECBAgQMDAqwMECBAgQIAAAQIECBAgQIAAAQIECBCIChh4o48TmwABAgQIECBAgAABAgQIECBAgAABAgZeHSBAgAABAgQIECBAgAABAgQIECBAgEBUwMAbfZzYBAgQIECAAAECBAgQIECAAAECBAgQMPDqAAECBAgQIECAAAECBAgQIECAAAECBKICBt7o48QmQIAAAQIECBAgQIAAAQIECBAgQICAgVcHCBAgQIAAAQIECBAgQIAAAQIECBAgEBUw8EYfJzYBAgQIECBAgAABAgQIECBAgAABAgQMvDpAgAABAgQIECBAgAABAgQIECBAgACBqICBN/o4sQkQIECAAAECBAgQIECAAAECBAgQIGDg1QECBAgQIECAAAECBAgQIECAAAECBAhEBQy80ceJTYAAAQIECBAgQIAAAQIECBAgQIAAAQOvDhAgQIAAAQIECBAgQIAAAQIECBAgQCAqYOCNPk5sAgQIECBAgAABAgQIECBAgAABAgQIGHh1gAABAgQIECBAgAABAgQIECBAgAABAlEBA2/0cWITIECAAAECBAgQIECAAAECBAgQIEDAwKsDBAgQIECAAAECBAgQIECAAAECBAgQiAoYeKOPE5sAAQIECBAgQIAAAQIECBAgQIAAAQIGXh0gQIAAAQIECBAgQIAAAQIECBAgQIBAVMDAG32cEmx79AAAIABJREFU2AQIECBAgAABAgQIECBAgAABAgQIEDDw6gABAgQIECBAgAABAgQIECBAgAABAgSiAgbe6OPEJkCAAAECBAgQIECAAAECBAgQIECAgIFXBwgQIECAAAECBAgQIECAAAECBAgQIBAVMPBGHyc2AQIECBAgQIAAAQIECBAgQIAAAQIEDLw6QIAAAQIECBAgQIAAAQIECBAgQIAAgaiAgTf6OLEJECBAgAABAgQIECBAgAABAgQIECBg4NUBAgQIECBAgAABAgQIECBAgAABAgQIRAUMvNHHiU2AAAECBAgQIECAAAECBAgQIECAAAEDrw4QIECAAAECBAgQIECAAAECBAgQIEAgKmDgjT5ObAIECBAgQIAAAQIECBAgQIAAAQIECBh4dYAAAQIECBAgQIAAAQIECBAgQIAAAQJRAQNv9HFiEyBAgAABAgQIECBAgAABAgQIECBAwMCrAwQIECBAgAABAgQIECBAgAABAgQIEIgKGHijjxObAAECBAgQIECAAAECBAgQIECAAAECBl4dIECAAAECBAgQIECAAAECBAgQIECAQFTAwBt9nNgECBAgQIAAAQIECBAgQIAAAQIECBAw8OoAAQIECBAgQIAAAQIECBAgQIAAAQIEogIG3ujjxCZAgAABAgQIECBAgAABAgQIECBAgICBVwcIECBAgAABAgQIECBAgAABAgQIECAQFTDwRh8nNgECBAgQIECAAAECBAgQIECAAAECBAy8OkCAAAECBAgQIECAAAECBAgQIECAAIGogIE3+jixCRAgQIAAAQIECBAgQIAAAQIECBAgYODVAQIECBAgQIAAAQIECBAgQIAAAQIECEQFDLzRx4lNgAABAgQIECBAgAABAgQIECBAgAABA68OECBAgAABAgQIECBAgAABAgQIECBAICpg4I0+TmwCBAgQIECAAAECBAgQIECAAAECBAgYeHWAAAECBAgQIECAAAECBAgQIECAAAECUQEDb/RxYhMgQIAAAQIECBAgQIAAAQIECBAgQMDAqwMECBAgQIAAAQIECBAgQIAAAQIECBCIChh4o48TmwABAgQIECBAgAABAgQIECBAgAABAgZeHSBAgAABAgQIECBAgAABAgQIECBAgEBUwMAbfZzYBAgQIECAAAECBAgQIECAAAECBAgQMPDqAAECBAgQIECAAAECBAgQIECAAAECBKICBt7o48QmQIAAAQIECBAgQIAAAQIECBAgQICAgVcHCBAgQIAAAQIECBAgQIAAAQIECBAgEBUw8EYfJzYBAgQIECBAgAABAgQIECBAgAABAgQMvDpAgAABAgQIECBAgAABAgQIECBAgACBqICBN/o4sQkQIECAAAECBAgQIECAAAECBAgQIGDg1QECBAgQIECAAAECBAgQIECAAAECBAhEBQy80ceJTYAAAQIECBAgQIAAAQIECBAgQIAAAQOvDhAgQIAAAQIECBAgQIAAAQIECBAgQCAqYOCNPk5sAgQIECBAgAABAgQIECBAgAABAgQIGHh1gAABAgQIECBAgAABAgQIECBAgAABAlEBA2/0cWITIECAAAECBAgQIECAAAECBAgQIEDAwKsDBAgQIECAAAECBAgQIECAAAECBAgQiAoYeKOPE5sAAQIECBAgQIAAAQIECBAgQIAAAQIGXh0gQIAAAQIECBAgQIAAAQIECBAgQIBAVMDAG32c2AQIECBAgAABAgQIECBAgAABAgQIEDDw6gABAgQIECBAgAABAgQIECBAgAABAgSiAgbe6OPEJkCAAAECBAgQIECAAAECBAgQIECAgIFXBwgQIECAAAECBAgQIECAAAECBAgQIBAVMPBGHyc2AQIECBAgQIAAAQIECBAgQIAAAQIEDLw6QIAAAQIECBAgQIAAAQIECBAgQIAAgaiAgTf6OLEJECBAgAABAgQIECBAgAABAgQIECBg4NUBAgQIECBAgAABAgQIECBAgAABAgQIRAUMvNHHiU2AAAECBAgQIECAAAECBAgQIECAAAEDrw4QIECAAAECBAgQIECAAAECBAgQIEAgKmDgjT5ObAIECBAgQIAAAQIECBAgQIAAAQIECBh4dYAAAQIECBAgQIAAAQIECBAgQIAAAQJRAQNv9HFiEyBAgAABAgQIECBAgAABAgQIECBAwMCrAwQIECBAgAABAgQIECBAgAABAgQIEIgKGHijjxObAAECBAgQIECAAAECBAgQIECAAAECBl4dIECAAAECBAgQIECAAAECBAgQIECAQFTAwBt9nNgECBAgQIAAAQIECBAgQIAAAQIECBAw8OoAAQIECBAgQIAAAQIECBAgQIAAAQIEogIG3ujjxCZAgAABAgQIECBAgAABAgQIECBAgICBVwcIECBAgAABAgQIECBAgAABAgQIECAQFTDwRh8nNgECBAgQIECAAAECBAgQIECAAAECBAy8OkCAAAECBAgQIECAAAECBAgQIECAAIGogIE3+jixCRAgQIAAAQIECBAgQIAAAQIECBAgYODVAQIECBAgQIAAAQIECBAgQIAAAQIECEQFDLzRx4lNgAABAgQIECBAgAABAgQIECBAgAABA68OECBAgAABAgQIECBAgAABAgQIECBAICpg4I0+TmwCBAgQIECAAAECBAgQIECAAAECBAgYeHWAAAECBAgQIECAAAECBAgQIECAAAECUQEDb/RxYhMgQIAAAQIECBAgQIAAAQIECBAgQMDAqwMECBAgQIAAAQIECBAgQIAAAQIECBCIChh4o48TmwABAgQIECBAgAABAgQIECBAgAABAgZeHSBAgAABAgQIECBAgAABAgQIECBAgEBUwMAbfZzYBAgQIECAAAECBAgQIECAAAECBAgQMPDqAAECBAgQIECAAAECBAgQIECAAAECBKICBt7o48QmQIAAAQIECBAgQIAAAQIECBAgQICAgVcHCBAgQIAAAQIECBAgQIAAAQIECBAgEBUw8EYfJzYBAgQIECBAgAABAgQIECBAgAABAgQMvDpAgAABAgQIECBAgAABAgQIECBAgACBqICBN/o4sQkQIECAAAECBAgQIECAAAECBAgQIGDg1QECBAgQIECAAAECBAgQIECAAAECBAhEBQy80ceJTYAAAQIECBAgQIAAAQIECBAgQIAAAQOvDhAgQIAAAQIECBAgQIAAAQIECBAgQCAqYOCNPk5sAgQIECBAgAABAgQIECBAgAABAgQIGHh1gAABAgQIECBAgAABAgQIECBAgAABAlEBA2/0cWITIECAAAECBAgQIECAAAECBAgQIEDAwKsDBAgQIECAAAECBAgQIECAAAECBAgQiAoYeKOPE5sAAQIECBAgQIAAAQIECBAgQIAAAQIGXh0gQIAAAQIECBAgQIAAAQIECBAgQIBAVMDAG32c2AQIECBAgAABAgQIECBAgAABAgQIEDDw6gABAgQIECBAgAABAgQIECBAgAABAgSiAgbe6OPEJkCAAAECBAgQIECAAAECBAgQIECAgIFXBwgQIECAAAECBAgQIECAAAECBAgQIBAVMPBGHyc2AQIECBAgQIAAAQIECBAgQIAAAQIEDLw6QIAAAQIECBAgQIAAAQIECBAgQIAAgaiAgTf6OLEJECBAgAABAgQIECBAgAABAgQIECBg4NUBAgQIECBAgAABAgQIECBAgAABAgQIRAUMvNHHiU2AAAECBAgQIECAAAECBAgQIECAAAEDrw4QIECAAAECBAgQIECAAAECBAgQIEAgKmDgjT5ObAIECBAgQIAAAQIECBAgQIAAAQIECBh4dYAAAQIECBAgQIAAAQIECBAgQIAAAQJRAQNv9HFiEyBAgAABAgQIECBAgAABAgQIECBAwMCrAwQIECBAgAABAgQIECBAgAABAgQIEIgKGHijjxObAAECBAgQIECAAAECBAgQIECAAAECBl4dIECAAAECBAgQIECAAAECBAgQIECAQFTAwBt9nNgECBAgQIAAAQIECBAgQIAAAQIECBAw8OoAAQIECBAgQIAAAQIECBAgQIAAAQIEogIG3ujjxCZAgAABAgQIECBAgAABAgQIECBAgICBVwcIECBAgAABAgQIECBAgAABAgQIECAQFTDwRh8nNgECBAgQIECAAAECBAgQIECAAAECBAy8OkCAAAECBAgQIECAAAECBAgQIECAAIGogIE3+jixCRAgQIAAAQIECBAgQIAAAQIECBAgYODVAQIECBAgQIAAAQIECBAgQIAAAQIECEQFDLzRx4lNgAABAgQIECBAgAABAgQIECBAgAABA68OECBAgAABAgQIECBAgAABAgQIECBAICpg4I0+TmwCBAgQIECAAAECBAgQIECAAAECBAgYeHWAAAECBAgQIECAAAECBAgQIECAAAECUQEDb/RxYhMgQIAAAQIECBAgQIAAAQIECBAgQMDAqwMECBAgQIAAAQIECBAgQIAAAQIECBCIChh4o48TmwABAgQIECBAgAABAgQIECBAgAABAgZeHSBAgAABAgQIECBAgAABAgQIECBAgEBUwMAbfZzYBAgQIECAAAECBAgQIECAAAECBAgQMPDqAAECBAgQIECAAAECBAgQIECAAAECBKICBt7o48QmQIAAAQIECBAgQIAAAQIECBAgQICAgVcHCBAgQIAAAQIECHw7dkwDAACAMMy/6+lYUgekcEGAAAECBAgQIECAwFTAwTstTmwCBAgQIECAAAECBAgQIECAAAECBAg4eG2AAAECBAgQIECAAAECBAgQIECAAAECUwEH77Q4sQkQIECAAAECBAgQIECAAAECBAgQIODgtQECBAgQIECAAAECBAgQIECAAAECBAhMBRy80+LEJkCAAAECBAgQIECAAAECBAgQIECAgIPXBggQIECAAAECBAgQIECAAAECBAgQIDAVcPBOixObAAECBAgQIECAAAECBAgQIECAAAECDl4bIECAAAECBAgQIECAAAECBAgQIECAwFTAwTstTmwCBAgQIECAAAECBAgQIECAAAECBAg4eG2AAAECBAgQIECAAAECBAgQIECAAAECUwEH77Q4sQkQIECAAAECBAgQIECAAAECBAgQIODgtQECBAgQIECAAAECBAgQIECAAAECBAhMBRy80+LEJkCAAAECBAgQIECAAAECBAgQIECAgIPXBggQIECAAAECBAgQIECAAAECBAgQIDAVcPBOixObAAECBAgQIECAAAECBAgQIECAAAECDl4bIECAAAECBAgQIECAAAECBAgQIECAwFTAwTstTmwCBAgQIECAAAECBAgQIECAAAECBAg4eG2AAAECBAgQIECAAAECBAgQIECAAAECUwEH77Q4sQkQIECAAAECBAgQIECAAAECBAgQIODgtQECBAgQIECAAAECBAgQIECAAAECBAhMBRy80+LEJkCAAAECBAgQIECAAAECBAgQIECAgIPXBggQIECAAAECBAgQIECAAAECBAgQIDAVcPBOixObAAECBAgQIECAAAECBAgQIECAAAECDl4bIECAAAECBAgQIECAAAECBAgQIECAwFTAwTstTmwCBAgQIECAAAECBAgQIECAAAECBAg4eG2AAAECBAgQIECAAAECBAgQIECAAAECUwEH77Q4sQkQIECAAAECBAgQIECAAAECBAgQIODgtQECBAgQIECAAAECBAgQIECAAAECBAhMBRy80+LEJkCAAAECBAgQIECAAAECBAgQIECAgIPXBggQIECAAAECBAgQIECAAAECBAgQIDAVcPBOixObAAECBAgQIECAAAECBAgQIECAAAECDl4bIECAAAECBAgQIECAAAECBAgQIECAwFTAwTstTmwCBAgQIECAAAECBAgQIECAAAECBAg4eG2AAAECBAgQIECAAAECBAgQIECAAAECUwEH77Q4sQkQIECAAAECBAgQIECAAAECBAgQIODgtQECBAgQIECAAAECBAgQIECAAAECBAhMBRy80+LEJkCAAAECBAgQIECAAAECBAgQIECAgIPXBggQIECAAAECBAgQIECAAAECBAgQIDAVcPBOixObAAECBAgQIECAAAECBAgQIECAAAECDl4bIECAAAECBAgQIECAAAECBAgQIECAwFTAwTstTmwCBAgQIECAAAECBAgQIECAAAECBAg4eG2AAAECBAgQIECAAAECBAgQIECAAAECUwEH77Q4sQkQIECAAAECBAgQIECAAAECBAgQIODgtQECBAgQIECAAAECBAgQIECAAAECBAhMBRy80+LEJkCAAAECBAgQIECAAAECBAgQIECAgIPXBggQIECAAAECBAgQIECAAAECBAgQIDAVcPBOixObAAECBAgQIECAAAECBAgQIECAAAECDl4bIECAAAECBAgQIECAAAECBAgQIECAwFTAwTstTmwCBAgQIECAAAECBAgQIECAAAECBAg4eG2AAAECBAgQIECAAAECBAgQIECAAAECUwEH77Q4sQkQIECAAAECBAgQIECAAAECBAgQIODgtQECBAgQIECAAAECBAgQIECAAAECBAhMBRy80+LEJkCAAAECBAgQIECAAAECBAgQIECAgIPXBggQIECAAAECBAgQIECAAAECBAgQIDAVcPBOixObAAECBAgQIECAAAECBAgQIECAAAECDl4bIECAAAECBAgQIECAAAECBAgQIECAwFTAwTstTmwCBAgQIECAAAECBAgQIECAAAECBAg4eG2AAAECBAgQIECAAAECBAgQIECAAAECUwEH77Q4sQkQIECAAAECBAgQIECAAAECBAgQIODgtQECBAgQIECAAAECBAgQIECAAAECBAhMBRy80+LEJkCAAAECBAgQIECAAAECBAgQIECAgIPXBggQIECAAAECBAgQIECAAAECBAgQIDAVcPBOixObAAECBAgQIECAAAECBAgQIECAAAECDl4bIECAAAECBAgQIECAAAECBAgQIECAwFTAwTstTmwCBAgQIECAAAECBAgQIECAAAECBAg4eG2AAAECBAgQIECAAAECBAgQIECAAAECUwEH77Q4sQkQIECAAAECBAgQIECAAAECBAgQIODgtQECBAgQIECAAAECBAgQIECAAAECBAhMBRy80+LEJkCAAAECBAgQIECAAAECBAgQIECAgIPXBggQIECAAAECBAgQIECAAAECBAgQIDAVcPBOixObAAECBAgQIECAAAECBAgQIECAAAECDl4bIECAAAECBAgQIECAAAECBAgQIECAwFTAwTstTmwCBAgQIECAAAECBAgQIECAAAECBAg4eG2AAAECBAgQIECAAAECBAgQIECAAAECUwEH77Q4sQkQIECAAAECBAgQIECAAAECBAgQIODgtQECBAgQIECAAAECBAgQIECAAAECBAhMBRy80+LEJkCAAAECBAgQIECAAAECBAgQIECAgIPXBggQIECAAAECBAgQIECAAAECBAgQIDAVcPBOixObAAECBAgQIECAAAECBAgQIECAAAECDl4bIECAAAECBAgQIECAAAECBAgQIECAwFTAwTstTmwCBAgQIECAAAECBAgQIECAAAECBAg4eG2AAAECBAgQIECAAAECBAgQIECAAAECUwEH77Q4sQkQIECAAAECBAgQIECAAAECBAgQIODgtQECBAgQIECAAAECBAgQIECAAAECBAhMBRy80+LEJkCAAAECBAgQIECAAAECBAgQIECAgIPXBggQIECAAAECBAgQIECAAAECBAgQIDAVcPBOixObAAECBAgQIECAAAECBAgQIECAAAECDl4bIECAAAECBAgQIECAAAECBAgQIECAwFTAwTstTmwCBAgQIECAAAECBAgQIECAAAECBAg4eG2AAAECBAgQIECAAAECBAgQIECAAAECUwEH77Q4sQkQIECAAAECBAgQIECAAAECBAgQIODgtQECBAgQIECAAAECBAgQIECAAAECBAhMBRy80+LEJkCAAAECBAgQIECAAAECBAgQIECAgIPXBggQIECAAAECBAgQIECAAAECBAgQIDAVcPBOixObAAECBAgQIECAAAECBAgQIECAAAECDl4bIECAAAECBAgQIECAAAECBAgQIECAwFTAwTstTmwCBAgQIECAAAECBAgQIECAAAECBAg4eG2AAAECBAgQIECAAAECBAgQIECAAAECUwEH77Q4sQkQIECAAAECBAgQIECAAAECBAgQIODgtQECBAgQIECAAAECBAgQIECAAAECBAhMBRy80+LEJkCAAAECBAgQIECAAAECBAgQIECAgIPXBggQIECAAAECBAgQIECAAAECBAgQIDAVcPBOixObAAECBAgQIECAAAECBAgQIECAAAECDl4bIECAAAECBAgQIECAAAECBAgQIECAwFTAwTstTmwCBAgQIECAAAECBAgQIECAAAECBAg4eG2AAAECBAgQIECAAAECBAgQIECAAAECUwEH77Q4sQkQIECAAAECBAgQIECAAAECBAgQIODgtQECBAgQIECAAAECBAgQIECAAAECBAhMBRy80+LEJkCAAAECBAgQIECAAAECBAgQIECAgIPXBggQIECAAAECBAgQIECAAAECBAgQIDAVcPBOixObAAECBAgQIECAAAECBAgQIECAAAECDl4bIECAAAECBAgQIECAAAECBAgQIECAwFTAwTstTmwCBAgQIECAAAECBAgQIECAAAECBAg4eG2AAAECBAgQIECAAAECBAgQIECAAAECUwEH77Q4sQkQIECAAAECBAgQIECAAAECBAgQIODgtQECBAgQIECAAAECBAgQIECAAAECBAhMBRy80+LEJkCAAAECBAgQIECAAAECBAgQIECAgIPXBggQIECAAAECBAgQIECAAAECBAgQIDAVcPBOixObAAECBAgQIECAAAECBAgQIECAAAECDl4bIECAAAECBAgQIECAAAECBAgQIECAwFTAwTstTmwCBAgQIECAAAECBAgQIECAAAECBAg4eG2AAAECBAgQIECAAAECBAgQIECAAAECUwEH77Q4sQkQIECAAAECBAgQIECAAAECBAgQIODgtQECBAgQIECAAAECBAgQIECAAAECBAhMBRy80+LEJkCAAAECBAgQIECAAAECBAgQIECAgIPXBggQIECAAAECBAgQIECAAAECBAgQIDAVcPBOixObAAECBAgQIECAAAECBAgQIECAAAECDl4bIECAAAECBAgQIECAAAECBAgQIECAwFTAwTstTmwCBAgQIECAAAECBAgQIECAAAECBAg4eG2AAAECBAgQIECAAAECBAgQIECAAAECUwEH77Q4sQkQIECAAAECBAgQIECAAAECBAgQIODgtQECBAgQIECAAAECBAgQIECAAAECBAhMBRy80+LEJkCAAAECBAgQIECAAAECBAgQIECAgIPXBggQIECAAAECBAgQIECAAAECBAgQIDAVcPBOixObAAECBAgQIECAAAECBAgQIECAAAECDl4bIECAAAECBAgQIECAAAECBAgQIECAwFTAwTstTmwCBAgQIECAAAECBAgQIECAAAECBAg4eG2AAAECBAgQIECAAAECBAgQIECAAAECUwEH77Q4sQkQIECAAAECBAgQIECAAAECBAgQIODgtQECBAgQIECAAAECBAgQIECAAAECBAhMBRy80+LEJkCAAAECBAgQIECAAAECBAgQIECAgIPXBggQIECAAAECBAgQIECAAAECBAgQIDAVcPBOixObAAECBAgQIECAAAECBAgQIECAAAECDl4bIECAAAECBAgQIECAAAECBAgQIECAwFTAwTstTmwCBAgQIECAAAECBAgQIECAAAECBAg4eG2AAAECBAgQIECAAAECBAgQIECAAAECUwEH77Q4sQkQIECAAAECBAgQIECAAAECBAgQIODgtQECBAgQIECAAAECBAgQIECAAAECBAhMBRy80+LEJkCAAAECBAgQIECAAAECBAgQIECAgIPXBggQIECAAAECBAgQIECAAAECBAgQIDAVcPBOixObAAECBAgQIECAAAECBAgQIECAAAECDl4bIECAAAECBAgQIECAAAECBAgQIECAwFTAwTstTmwCBAgQIECAAAECBAgQIECAAAECBAg4eG2AAAECBAgQIECAAAECBAgQIECAAAECUwEH77Q4sQkQIECAAAECBAgQIECAAAECBAgQIODgtQECBAgQIECAAAECBAgQIECAAAECBAhMBRy80+LEJkCAAAECBAgQIECAAAECBAgQIECAgIPXBggQIECAAAECBAgQIECAAAECBAgQIDAVcPBOixObAAECBAgQIECAAAECBAgQIECAAAECDl4bIECAAAECBAgQIECAAAECBAgQIECAwFTAwTstTmwCBAgQIECAAAECBAgQIECAAAECBAg4eG2AAAECBAgQIECAAAECBAgQIECAAAECUwEH77Q4sQkQIECAAAECBAgQIECAAAECBAgQIODgtQECBAgQIECAAAECBAgQIECAAAECBAhMBRy80+LEJkCAAAECBAgQIECAAAECBAgQIECAgIPXBggQIECAAAECBAgQIECAAAECBAgQIDAVcPBOixObAAECBAgQIECAAAECBAgQIECAAAECDl4bIECAAAECBAgQIECAAAECBAgQIECAwFTAwTstTmwCBAgQIECAAAECBAgQIECAAAECBAg4eG2AAAECBAgQIECAAAECBAgQIECAAAECUwEH77Q4sQkQIECAAAECBAgQIECAAAECBAgQIODgtQECBAgQIECAAAECBAgQIECAAAECBAhMBRy80+LEJkCAAAECBAgQIECAAAECBAgQIECAgIPXBggQIECAAAECBAgQIECAAAECBAgQIDAVcPBOixObAAECBAgQIECAAAECBAgQIEAiXzwpAAAIW0lEQVSAAAECDl4bIECAAAECBAgQIECAAAECBAgQIECAwFTAwTstTmwCBAgQIECAAAECBAgQIECAAAECBAg4eG2AAAECBAgQIECAAAECBAgQIECAAAECUwEH77Q4sQkQIECAAAECBAgQIECAAAECBAgQIODgtQECBAgQIECAAAECBAgQIECAAAECBAhMBRy80+LEJkCAAAECBAgQIECAAAECBAgQIECAgIPXBggQIECAAAECBAgQIECAAAECBAgQIDAVcPBOixObAAECBAgQIECAAAECBAgQIECAAAECDl4bIECAAAECBAgQIECAAAECBAgQIECAwFTAwTstTmwCBAgQIECAAAECBAgQIECAAAECBAg4eG2AAAECBAgQIECAAAECBAgQIECAAAECUwEH77Q4sQkQIECAAAECBAgQIECAAAECBAgQIODgtQECBAgQIECAAAECBAgQIECAAAECBAhMBRy80+LEJkCAAAECBAgQIECAAAECBAgQIECAgIPXBggQIECAAAECBAgQIECAAAECBAgQIDAVcPBOixObAAECBAgQIECAAAECBAgQIECAAAECDl4bIECAAAECBAgQIECAAAECBAgQIECAwFTAwTstTmwCBAgQIECAAAECBAgQIECAAAECBAg4eG2AAAECBAgQIECAAAECBAgQIECAAAECUwEH77Q4sQkQIECAAAECBAgQIECAAAECBAgQIODgtQECBAgQIECAAAECBAgQIECAAAECBAhMBRy80+LEJkCAAAECBAgQIECAAAECBAgQIECAgIPXBggQIECAAAECBAgQIECAAAECBAgQIDAVcPBOixObAAECBAgQIECAAAECBAgQIECAAAECDl4bIECAAAECBAgQIECAAAECBAgQIECAwFTAwTstTmwCBAgQIECAAAECBAgQIECAAAECBAg4eG2AAAECBAgQIECAAAECBAgQIECAAAECUwEH77Q4sQkQIECAAAECBAgQIECAAAECBAgQIODgtQECBAgQIECAAAECBAgQIECAAAECBAhMBRy80+LEJkCAAAECBAgQIECAAAECBAgQIECAgIPXBggQIECAAAECBAgQIECAAAECBAgQIDAVcPBOixObAAECBAgQIECAAAECBAgQIECAAAECDl4bIECAAAECBAgQIECAAAECBAgQIECAwFTAwTstTmwCBAgQIECAAAECBAgQIECAAAECBAg4eG2AAAECBAgQIECAAAECBAgQIECAAAECUwEH77Q4sQkQIECAAAECBAgQIECAAAECBAgQIODgtQECBAgQIECAAAECBAgQIECAAAECBAhMBRy80+LEJkCAAAECBAgQIECAAAECBAgQIECAgIPXBggQIECAAAECBAgQIECAAAECBAgQIDAVcPBOixObAAECBAgQIECAAAECBAgQIECAAAECDl4bIECAAAECBAgQIECAAAECBAgQIECAwFTAwTstTmwCBAgQIECAAAECBAgQIECAAAECBAg4eG2AAAECBAgQIECAAAECBAgQIECAAAECUwEH77Q4sQkQIECAAAECBAgQIECAAAECBAgQIODgtQECBAgQIECAAAECBAgQIECAAAECBAhMBRy80+LEJkCAAAECBAgQIECAAAECBAgQIECAgIPXBggQIECAAAECBAgQIECAAAECBAgQIDAVcPBOixObAAECBAgQIECAAAECBAgQIECAAAECDl4bIECAAAECBAgQIECAAAECBAgQIECAwFTAwTstTmwCBAgQIECAAAECBAgQIECAAAECBAg4eG2AAAECBAgQIECAAAECBAgQIECAAAECUwEH77Q4sQkQIECAAAECBAgQIECAAAECBAgQIODgtQECBAgQIECAAAECBAgQIECAAAECBAhMBRy80+LEJkCAAAECBAgQIECAAAECBAgQIECAgIPXBggQIECAAAECBAgQIECAAAECBAgQIDAVcPBOixObAAECBAgQIECAAAECBAgQIECAAAECDl4bIECAAAECBAgQIECAAAECBAgQIECAwFTAwTstTmwCBAgQIECAAAECBAgQIECAAAECBAg4eG2AAAECBAgQIECAAAECBAgQIECAAAECUwEH77Q4sQkQIECAAAECBAgQIECAAAECBAgQIODgtQECBAgQIECAAAECBAgQIECAAAECBAhMBRy80+LEJkCAAAECBAgQIECAAAECBAgQIECAgIPXBggQIECAAAECBAgQIECAAAECBAgQIDAVcPBOixObAAECBAgQIECAAAECBAgQIECAAAECDl4bIECAAAECBAgQIECAAAECBAgQIECAwFTAwTstTmwCBAgQIECAAAECBAgQIECAAAECBAg4eG2AAAECBAgQIECAAAECBAgQIECAAAECUwEH77Q4sQkQIECAAAECBAgQIECAAAECBAgQIODgtQECBAgQIECAAAECBAgQIECAAAECBAhMBRy80+LEJkCAAAECBAgQIECAAAECBAgQIECAgIPXBggQIECAAAECBAgQIECAAAECBAgQIDAVcPBOixObAAECBAgQIECAAAECBAgQIECAAAECDl4bIECAAAECBAgQIECAAAECBAgQIECAwFTAwTstTmwCBAgQIECAAAECBAgQIECAAAECBAg4eG2AAAECBAgQIECAAAECBAgQIECAAAECUwEH77Q4sQkQIECAAAECBAgQIECAAAECBAgQIODgtQECBAgQIECAAAECBAgQIECAAAECBAhMBRy80+LEJkCAAAECBAgQIECAAAECBAgQIECAgIPXBggQIECAAAECBAgQIECAAAECBAgQIDAVcPBOixObAAECBAgQIECAAAECBAgQIECAAAECAT9mA+nAlSFsAAAAAElFTkSuQmCC\" preserveAspectRatio=\"none\" x=\"0\" y=\"0\" width=\"700px\" height=\"500px\"/></g><defs id=\"topdefs-ff3383\"><g class=\"clips\"/><clipPath id=\"legendff3383\"><rect width=\"76\" height=\"67\" x=\"0\" y=\"0\"/></clipPath></defs><g class=\"layer-above\"><g class=\"imagelayer\"/><g class=\"shapelayer\"/></g><g class=\"infolayer\"><g class=\"legend\" pointer-events=\"all\" transform=\"translate(612.44,100)\"><rect class=\"bg\" shape-rendering=\"crispEdges\" width=\"76\" height=\"67\" x=\"0\" y=\"0\" style=\"stroke: rgb(68, 68, 68); stroke-opacity: 1; fill: rgb(255, 255, 255); fill-opacity: 1; stroke-width: 0px;\"/><g class=\"scrollbox\" transform=\"\" clip-path=\"url(#legendff3383)\"><text class=\"legendtitletext\" text-anchor=\"start\" x=\"2\" y=\"18.2\" style=\"font-family: 'Open Sans', verdana, arial, sans-serif; font-size: 14px; fill: rgb(42, 63, 95); fill-opacity: 1; white-space: pre;\">train_test</text><g class=\"groups\" transform=\"\"><g class=\"traces\" transform=\"translate(0,32.7)\" style=\"opacity: 1;\"><text class=\"legendtext\" text-anchor=\"start\" x=\"40\" y=\"4.680000000000001\" style=\"font-family: 'Open Sans', verdana, arial, sans-serif; font-size: 12px; fill: rgb(42, 63, 95); fill-opacity: 1; white-space: pre;\">Train</text><g class=\"layers\" style=\"opacity: 1;\"><g class=\"legendfill\"/><g class=\"legendlines\"><path class=\"js-line\" d=\"M5,0h30\" style=\"fill: none; stroke: rgb(99, 110, 250); stroke-opacity: 1; stroke-width: 2px;\"/></g><g class=\"legendsymbols\"><g class=\"legendpoints\"/></g></g><rect class=\"legendtoggle\" x=\"0\" y=\"-9.5\" width=\"70.609375\" height=\"19\" style=\"fill: rgb(0, 0, 0); fill-opacity: 0;\"/></g></g><g class=\"groups\" transform=\"\"><g class=\"traces\" transform=\"translate(0,51.7)\" style=\"opacity: 1;\"><text class=\"legendtext\" text-anchor=\"start\" x=\"40\" y=\"4.680000000000001\" style=\"font-family: 'Open Sans', verdana, arial, sans-serif; font-size: 12px; fill: rgb(42, 63, 95); fill-opacity: 1; white-space: pre;\">Test</text><g class=\"layers\" style=\"opacity: 1;\"><g class=\"legendfill\"/><g class=\"legendlines\"><path class=\"js-line\" d=\"M5,0h30\" style=\"fill: none; stroke: rgb(239, 85, 59); stroke-opacity: 1; stroke-width: 2px;\"/></g><g class=\"legendsymbols\"><g class=\"legendpoints\"/></g></g><rect class=\"legendtoggle\" x=\"0\" y=\"-9.5\" width=\"70.609375\" height=\"19\" style=\"fill: rgb(0, 0, 0); fill-opacity: 0;\"/></g></g></g><rect class=\"scrollbar\" rx=\"20\" ry=\"3\" width=\"0\" height=\"0\" x=\"0\" y=\"0\" style=\"fill: rgb(128, 139, 164); fill-opacity: 1;\"/></g><g class=\"g-gtitle\"><text class=\"gtitle\" x=\"35\" y=\"50\" text-anchor=\"start\" dy=\"0em\" style=\"font-family: 'Open Sans', verdana, arial, sans-serif; font-size: 17px; fill: rgb(42, 63, 95); opacity: 1; font-weight: normal; white-space: pre;\">Candlestick Patterns - GradientBoostingClassifier - PETR4.SA</text></g><g class=\"g-xtitle\"><text class=\"xtitle\" x=\"341\" y=\"459.8\" text-anchor=\"middle\" style=\"font-family: 'Open Sans', verdana, arial, sans-serif; font-size: 14px; fill: rgb(42, 63, 95); opacity: 1; font-weight: normal; white-space: pre;\">Date</text></g><g class=\"g-ytitle\"><text class=\"ytitle\" transform=\"rotate(-90,31.809375000000003,260)\" x=\"31.809375000000003\" y=\"260\" text-anchor=\"middle\" style=\"font-family: 'Open Sans', verdana, arial, sans-serif; font-size: 14px; fill: rgb(42, 63, 95); opacity: 1; font-weight: normal; white-space: pre;\">Cumulative Returns (%)</text></g></g></svg>"
     },
     "metadata": {},
     "output_type": "display_data"
    }
   ],
   "source": [
    "fig = px.line(df_patterns, x=\"Date\", y=df_patterns[\"Model_Returns\"].cumsum()*100, color=\"train_test\",\n",
    "              labels={\"y\": \"Cumulative Returns (%)\"},\n",
    "              title=f\"Candlestick Patterns - {model.__class__.__name__} - {ticker}\",\n",
    "              line_shape=\"linear\")\n",
    "fig.show(\"svg\")"
   ],
   "metadata": {
    "collapsed": false,
    "ExecuteTime": {
     "end_time": "2024-01-02T18:31:36.008244Z",
     "start_time": "2024-01-02T18:31:35.337148Z"
    }
   },
   "id": "ef85af157117122f"
  }
 ],
 "metadata": {
  "kernelspec": {
   "display_name": "Python 3",
   "language": "python",
   "name": "python3"
  },
  "language_info": {
   "codemirror_mode": {
    "name": "ipython",
    "version": 2
   },
   "file_extension": ".py",
   "mimetype": "text/x-python",
   "name": "python",
   "nbconvert_exporter": "python",
   "pygments_lexer": "ipython2",
   "version": "2.7.6"
  }
 },
 "nbformat": 4,
 "nbformat_minor": 5
}
